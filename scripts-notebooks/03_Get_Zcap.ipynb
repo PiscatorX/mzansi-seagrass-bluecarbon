{
 "cells": [
  {
   "cell_type": "code",
   "execution_count": 1,
   "id": "d4e7eb25-dcd2-4dd5-9857-b99520425835",
   "metadata": {
    "editable": true,
    "slideshow": {
     "slide_type": ""
    },
    "tags": []
   },
   "outputs": [
    {
     "name": "stderr",
     "output_type": "stream",
     "text": [
      "── \u001b[1mAttaching core tidyverse packages\u001b[22m ───────────────────────────────────────────── tidyverse 2.0.0 ──\n",
      "\u001b[32m✔\u001b[39m \u001b[34mdplyr    \u001b[39m 1.1.4     \u001b[32m✔\u001b[39m \u001b[34mreadr    \u001b[39m 2.1.5\n",
      "\u001b[32m✔\u001b[39m \u001b[34mforcats  \u001b[39m 1.0.0     \u001b[32m✔\u001b[39m \u001b[34mstringr  \u001b[39m 1.5.1\n",
      "\u001b[32m✔\u001b[39m \u001b[34mggplot2  \u001b[39m 3.5.2     \u001b[32m✔\u001b[39m \u001b[34mtibble   \u001b[39m 3.3.0\n",
      "\u001b[32m✔\u001b[39m \u001b[34mlubridate\u001b[39m 1.9.4     \u001b[32m✔\u001b[39m \u001b[34mtidyr    \u001b[39m 1.3.1\n",
      "\u001b[32m✔\u001b[39m \u001b[34mpurrr    \u001b[39m 1.0.4     \n",
      "── \u001b[1mConflicts\u001b[22m ─────────────────────────────────────────────────────────────── tidyverse_conflicts() ──\n",
      "\u001b[31m✖\u001b[39m \u001b[34mdplyr\u001b[39m::\u001b[32mfilter()\u001b[39m masks \u001b[34mstats\u001b[39m::filter()\n",
      "\u001b[31m✖\u001b[39m \u001b[34mdplyr\u001b[39m::\u001b[32mlag()\u001b[39m    masks \u001b[34mstats\u001b[39m::lag()\n",
      "\u001b[36mℹ\u001b[39m Use the conflicted package (\u001b[3m\u001b[34m<http://conflicted.r-lib.org/>\u001b[39m\u001b[23m) to force all conflicts to become errors\n",
      "\n",
      "Attaching package: ‘tidylog’\n",
      "\n",
      "\n",
      "The following objects are masked from ‘package:dplyr’:\n",
      "\n",
      "    add_count, add_tally, anti_join, count, distinct, distinct_all,\n",
      "    distinct_at, distinct_if, filter, filter_all, filter_at, filter_if,\n",
      "    full_join, group_by, group_by_all, group_by_at, group_by_if,\n",
      "    inner_join, left_join, mutate, mutate_all, mutate_at, mutate_if,\n",
      "    relocate, rename, rename_all, rename_at, rename_if, rename_with,\n",
      "    right_join, sample_frac, sample_n, select, select_all, select_at,\n",
      "    select_if, semi_join, slice, slice_head, slice_max, slice_min,\n",
      "    slice_sample, slice_tail, summarise, summarise_all, summarise_at,\n",
      "    summarise_if, summarize, summarize_all, summarize_at, summarize_if,\n",
      "    tally, top_frac, top_n, transmute, transmute_all, transmute_at,\n",
      "    transmute_if, ungroup\n",
      "\n",
      "\n",
      "The following objects are masked from ‘package:tidyr’:\n",
      "\n",
      "    drop_na, fill, gather, pivot_longer, pivot_wider, replace_na,\n",
      "    separate_wider_delim, separate_wider_position,\n",
      "    separate_wider_regex, spread, uncount\n",
      "\n",
      "\n",
      "The following object is masked from ‘package:stats’:\n",
      "\n",
      "    filter\n",
      "\n",
      "\n"
     ]
    }
   ],
   "source": [
    "library(tidyverse)\n",
    "library(inspectdf)\n",
    "library(readxl)\n",
    "library(tidylog)"
   ]
  },
  {
   "cell_type": "code",
   "execution_count": 2,
   "id": "1f7f27e5-dc3c-4d25-9753-01d6767aa38e",
   "metadata": {},
   "outputs": [],
   "source": [
    "key_cols <- c(\"data_source\", \"study_id\", \"site_id\", \"core_id\", \"method_id\", \"depth_min\", \"depth_max\",\n",
    "              \"sample_id\", \"dry_bulk_density\", \"fraction_organic_matter\", \"year\", \"month\", \n",
    "              \"latitude\", \"longitude\", \"species_code\",\"code_type\")"
   ]
  },
  {
   "cell_type": "code",
   "execution_count": 3,
   "id": "e21d81f7-b140-4919-a3fc-a94c83c58836",
   "metadata": {},
   "outputs": [
    {
     "data": {
      "text/html": [
       "<style>\n",
       ".list-inline {list-style: none; margin:0; padding: 0}\n",
       ".list-inline>li {display: inline-block}\n",
       ".list-inline>li:not(:last-child)::after {content: \"\\00b7\"; padding: 0 .5ex}\n",
       "</style>\n",
       "<ol class=list-inline><li>'../data/ZAF/Bossert_et_al_2024'</li><li>'../data/ZAF/Bossert_et_al_2025'</li><li>'../data/ZAF/Machite_et_al'</li><li>'../data/ZAF/Ndhlovu_et_al'</li></ol>\n"
      ],
      "text/latex": [
       "\\begin{enumerate*}\n",
       "\\item '../data/ZAF/Bossert\\_et\\_al\\_2024'\n",
       "\\item '../data/ZAF/Bossert\\_et\\_al\\_2025'\n",
       "\\item '../data/ZAF/Machite\\_et\\_al'\n",
       "\\item '../data/ZAF/Ndhlovu\\_et\\_al'\n",
       "\\end{enumerate*}\n"
      ],
      "text/markdown": [
       "1. '../data/ZAF/Bossert_et_al_2024'\n",
       "2. '../data/ZAF/Bossert_et_al_2025'\n",
       "3. '../data/ZAF/Machite_et_al'\n",
       "4. '../data/ZAF/Ndhlovu_et_al'\n",
       "\n",
       "\n"
      ],
      "text/plain": [
       "[1] \"../data/ZAF/Bossert_et_al_2024\" \"../data/ZAF/Bossert_et_al_2025\"\n",
       "[3] \"../data/ZAF/Machite_et_al\"      \"../data/ZAF/Ndhlovu_et_al\"     "
      ]
     },
     "metadata": {},
     "output_type": "display_data"
    }
   ],
   "source": [
    "(dir_list <- list.dirs(\"../data/ZAF\", recursive = TRUE, full.names = TRUE)[-1])"
   ]
  },
  {
   "cell_type": "code",
   "execution_count": 4,
   "id": "de1c548d-d7d3-4a22-821b-281ea2a7e4f9",
   "metadata": {},
   "outputs": [],
   "source": [
    "read_file_smart <- function(file_path) {\n",
    "    \n",
    "  message(file_path)\n",
    "  suppressMessages(suppressWarnings(\n",
    "  if (str_detect(file_path, \"\\\\.csv$\")) {\n",
    "    return(read_csv(file_path))\n",
    "  } else if (str_detect(file_path, \"\\\\.xlsx?$\")) {\n",
    "    return(read_excel(file_path))\n",
    "  } else {\n",
    "    stop(\"Unsupported file type: \", file_path)\n",
    "  }))\n",
    "}"
   ]
  },
  {
   "cell_type": "code",
   "execution_count": 8,
   "id": "9da82cce-e778-4fe2-9d35-490559b39145",
   "metadata": {},
   "outputs": [],
   "source": [
    "extract_data <- function(search_path){\n",
    "\n",
    "                message(search_path)\n",
    "                (file_list <- list.files(search_path, full.names = TRUE))\n",
    "                depthseries <- read_file_smart(file_list[str_detect(file_list, \"depthseries\")])\n",
    "                print(dim(depthseries))\n",
    "                message(colnames(depthseries))\n",
    "                cores <- read_file_smart(file_list[str_detect(file_list, \"cores\")])\n",
    "                species <- read_file_smart(file_list[str_detect(file_list, \"species\")])\n",
    "                ccn_db <- depthseries |>\n",
    "                          dplyr::left_join(cores) |>\n",
    "                          dplyr::left_join(species) |>\n",
    "                          dplyr::mutate(data_source = basename(search_path),\n",
    "                                        fraction_organic_matter = if_else(data_source == \"Machite_et_al\", fraction_organic_matter * 100, fraction_organic_matter)) |>\n",
    "                          dplyr::relocate(data_source) |>\n",
    "                          dplyr::select(any_of(key_cols))\n",
    "    \n",
    "                print(dim(ccn_db))\n",
    "\n",
    "  return(ccn_db)\n",
    "}"
   ]
  },
  {
   "cell_type": "code",
   "execution_count": 9,
   "id": "fd5adeff-fd04-4112-9fbe-e3026990e16e",
   "metadata": {},
   "outputs": [
    {
     "data": {
      "text/html": [
       "<style>\n",
       ".list-inline {list-style: none; margin:0; padding: 0}\n",
       ".list-inline>li {display: inline-block}\n",
       ".list-inline>li:not(:last-child)::after {content: \"\\00b7\"; padding: 0 .5ex}\n",
       "</style>\n",
       "<ol class=list-inline><li>'../data/ZAF/Bossert_et_al_2024'</li><li>'../data/ZAF/Bossert_et_al_2025'</li><li>'../data/ZAF/Machite_et_al'</li><li>'../data/ZAF/Ndhlovu_et_al'</li></ol>\n"
      ],
      "text/latex": [
       "\\begin{enumerate*}\n",
       "\\item '../data/ZAF/Bossert\\_et\\_al\\_2024'\n",
       "\\item '../data/ZAF/Bossert\\_et\\_al\\_2025'\n",
       "\\item '../data/ZAF/Machite\\_et\\_al'\n",
       "\\item '../data/ZAF/Ndhlovu\\_et\\_al'\n",
       "\\end{enumerate*}\n"
      ],
      "text/markdown": [
       "1. '../data/ZAF/Bossert_et_al_2024'\n",
       "2. '../data/ZAF/Bossert_et_al_2025'\n",
       "3. '../data/ZAF/Machite_et_al'\n",
       "4. '../data/ZAF/Ndhlovu_et_al'\n",
       "\n",
       "\n"
      ],
      "text/plain": [
       "[1] \"../data/ZAF/Bossert_et_al_2024\" \"../data/ZAF/Bossert_et_al_2025\"\n",
       "[3] \"../data/ZAF/Machite_et_al\"      \"../data/ZAF/Ndhlovu_et_al\"     "
      ]
     },
     "metadata": {},
     "output_type": "display_data"
    }
   ],
   "source": [
    "dir_list"
   ]
  },
  {
   "cell_type": "code",
   "execution_count": 10,
   "id": "b962fe7d-8b3e-4566-a942-2c5777c6eca3",
   "metadata": {},
   "outputs": [
    {
     "name": "stderr",
     "output_type": "stream",
     "text": [
      "../data/ZAF/Bossert_et_al_2024\n",
      "\n",
      "../data/ZAF/Bossert_et_al_2024/Bossert_et_al_2024_depthseries.xlsx\n",
      "\n"
     ]
    },
    {
     "name": "stdout",
     "output_type": "stream",
     "text": [
      "[1] 180   9\n"
     ]
    },
    {
     "name": "stderr",
     "output_type": "stream",
     "text": [
      "study_idsite_idcore_idmethod_iddepth_mindepth_maxsample_iddry_bulk_densityfraction_organic_matter\n",
      "\n",
      "../data/ZAF/Bossert_et_al_2024/Bossert_et_al_2024_cores.xlsx\n",
      "\n",
      "../data/ZAF/Bossert_et_al_2024/Bossert_et_al_2024_species.xlsx\n",
      "\n",
      "\u001b[1m\u001b[22mJoining with `by = join_by(study_id, site_id, core_id)`\n",
      "\u001b[1m\u001b[22mJoining with `by = join_by(study_id, site_id, core_id, habitat)`\n"
     ]
    },
    {
     "name": "stdout",
     "output_type": "stream",
     "text": [
      "[1] 180  16\n"
     ]
    },
    {
     "name": "stderr",
     "output_type": "stream",
     "text": [
      "../data/ZAF/Bossert_et_al_2025\n",
      "\n",
      "../data/ZAF/Bossert_et_al_2025/Bossert_et_al_2025_depthseries_Langebaan.xlsx\n",
      "\n"
     ]
    },
    {
     "name": "stdout",
     "output_type": "stream",
     "text": [
      "[1] 355  10\n"
     ]
    },
    {
     "name": "stderr",
     "output_type": "stream",
     "text": [
      "study_idDatesite_idcore_idmethod_iddepth_mindepth_maxsample_iddry_bulk_densityfraction_organic_matter\n",
      "\n",
      "../data/ZAF/Bossert_et_al_2025/Bossert_et_al_2025_cores_Langebaan.xlsx\n",
      "\n",
      "../data/ZAF/Bossert_et_al_2025/Bossert_et_al_2025_species_Langebaan.xlsx\n",
      "\n",
      "\u001b[1m\u001b[22mJoining with `by = join_by(study_id, site_id, core_id)`\n",
      "\u001b[1m\u001b[22mJoining with `by = join_by(study_id, site_id, core_id, year, month, habitat)`\n"
     ]
    },
    {
     "name": "stdout",
     "output_type": "stream",
     "text": [
      "[1] 355  16\n"
     ]
    },
    {
     "name": "stderr",
     "output_type": "stream",
     "text": [
      "../data/ZAF/Machite_et_al\n",
      "\n",
      "../data/ZAF/Machite_et_al/Machite_et_al_2024_depthseries.csv\n",
      "\n"
     ]
    },
    {
     "name": "stdout",
     "output_type": "stream",
     "text": [
      "[1] 3426   12\n"
     ]
    },
    {
     "name": "stderr",
     "output_type": "stream",
     "text": [
      "study_idsite_idcore_iddepth_mindepth_maxdry_bulk_densityfraction_organic_matterredoxsandsiltclaymoisture\n",
      "\n",
      "../data/ZAF/Machite_et_al/Machite_et_al_2024_cores.csv\n",
      "\n",
      "../data/ZAF/Machite_et_al/Machite_et_al_2024_species.csv\n",
      "\n",
      "\u001b[1m\u001b[22mJoining with `by = join_by(study_id, site_id, core_id)`\n",
      "\u001b[1m\u001b[22mJoining with `by = join_by(study_id, site_id, core_id, habitat)`\n",
      "Warning message in dplyr::left_join(dplyr::left_join(depthseries, cores), species):\n",
      "“\u001b[1m\u001b[22mDetected an unexpected many-to-many relationship between `x` and `y`.\n",
      "\u001b[36mℹ\u001b[39m Row 1 of `x` matches multiple rows in `y`.\n",
      "\u001b[36mℹ\u001b[39m Row 1 of `y` matches multiple rows in `x`.\n",
      "\u001b[36mℹ\u001b[39m If a many-to-many relationship is expected, set `relationship = \"many-to-many\"` to silence this\n",
      "  warning.”\n"
     ]
    },
    {
     "name": "stdout",
     "output_type": "stream",
     "text": [
      "[1] 3480   13\n"
     ]
    },
    {
     "name": "stderr",
     "output_type": "stream",
     "text": [
      "../data/ZAF/Ndhlovu_et_al\n",
      "\n",
      "../data/ZAF/Ndhlovu_et_al/Ndhlovu_et_al_2025_depthseries.csv\n",
      "\n"
     ]
    },
    {
     "name": "stdout",
     "output_type": "stream",
     "text": [
      "[1] 226  10\n"
     ]
    },
    {
     "name": "stderr",
     "output_type": "stream",
     "text": [
      "study_idsite_idplot_idcore_idmethod_iddepth_mindepth_maxsample_iddry_bulk_densityfraction_organic_matter\n",
      "\n",
      "../data/ZAF/Ndhlovu_et_al/Ndhlovu_et_al_2025_cores.csv\n",
      "\n",
      "../data/ZAF/Ndhlovu_et_al/Ndhlovu_et_al_2025_species.csv\n",
      "\n",
      "\u001b[1m\u001b[22mJoining with `by = join_by(study_id, site_id, plot_id, core_id)`\n",
      "\u001b[1m\u001b[22mJoining with `by = join_by(study_id, site_id, plot_id, core_id, habitat)`\n"
     ]
    },
    {
     "name": "stdout",
     "output_type": "stream",
     "text": [
      "[1] 226  16\n"
     ]
    }
   ],
   "source": [
    "zaf_data_ls <- lapply(dir_list, extract_data)"
   ]
  },
  {
   "cell_type": "code",
   "execution_count": 11,
   "id": "f5f446e9-d560-4dfb-a2ea-457da4eb2685",
   "metadata": {},
   "outputs": [
    {
     "data": {
      "text/html": [
       "<style>\n",
       ".list-inline {list-style: none; margin:0; padding: 0}\n",
       ".list-inline>li {display: inline-block}\n",
       ".list-inline>li:not(:last-child)::after {content: \"\\00b7\"; padding: 0 .5ex}\n",
       "</style>\n",
       "<ol class=list-inline><li>'data_source'</li><li>'study_id'</li><li>'site_id'</li><li>'core_id'</li><li>'depth_min'</li><li>'depth_max'</li><li>'dry_bulk_density'</li><li>'fraction_organic_matter'</li><li>'year'</li><li>'latitude'</li><li>'longitude'</li><li>'species_code'</li><li>'code_type'</li></ol>\n"
      ],
      "text/latex": [
       "\\begin{enumerate*}\n",
       "\\item 'data\\_source'\n",
       "\\item 'study\\_id'\n",
       "\\item 'site\\_id'\n",
       "\\item 'core\\_id'\n",
       "\\item 'depth\\_min'\n",
       "\\item 'depth\\_max'\n",
       "\\item 'dry\\_bulk\\_density'\n",
       "\\item 'fraction\\_organic\\_matter'\n",
       "\\item 'year'\n",
       "\\item 'latitude'\n",
       "\\item 'longitude'\n",
       "\\item 'species\\_code'\n",
       "\\item 'code\\_type'\n",
       "\\end{enumerate*}\n"
      ],
      "text/markdown": [
       "1. 'data_source'\n",
       "2. 'study_id'\n",
       "3. 'site_id'\n",
       "4. 'core_id'\n",
       "5. 'depth_min'\n",
       "6. 'depth_max'\n",
       "7. 'dry_bulk_density'\n",
       "8. 'fraction_organic_matter'\n",
       "9. 'year'\n",
       "10. 'latitude'\n",
       "11. 'longitude'\n",
       "12. 'species_code'\n",
       "13. 'code_type'\n",
       "\n",
       "\n"
      ],
      "text/plain": [
       " [1] \"data_source\"             \"study_id\"               \n",
       " [3] \"site_id\"                 \"core_id\"                \n",
       " [5] \"depth_min\"               \"depth_max\"              \n",
       " [7] \"dry_bulk_density\"        \"fraction_organic_matter\"\n",
       " [9] \"year\"                    \"latitude\"               \n",
       "[11] \"longitude\"               \"species_code\"           \n",
       "[13] \"code_type\"              "
      ]
     },
     "metadata": {},
     "output_type": "display_data"
    }
   ],
   "source": [
    "(shared_cols <- Reduce(intersect, lapply(zaf_data_ls, names)))"
   ]
  },
  {
   "cell_type": "code",
   "execution_count": 12,
   "id": "8a3d73c3-cf98-43bb-bdaa-3395ee4cc709",
   "metadata": {},
   "outputs": [
    {
     "data": {
      "text/html": [
       "<style>\n",
       ".list-inline {list-style: none; margin:0; padding: 0}\n",
       ".list-inline>li {display: inline-block}\n",
       ".list-inline>li:not(:last-child)::after {content: \"\\00b7\"; padding: 0 .5ex}\n",
       "</style>\n",
       "<ol class=list-inline><li>4241</li><li>61</li></ol>\n"
      ],
      "text/latex": [
       "\\begin{enumerate*}\n",
       "\\item 4241\n",
       "\\item 61\n",
       "\\end{enumerate*}\n"
      ],
      "text/markdown": [
       "1. 4241\n",
       "2. 61\n",
       "\n",
       "\n"
      ],
      "text/plain": [
       "[1] 4241   61"
      ]
     },
     "metadata": {},
     "output_type": "display_data"
    }
   ],
   "source": [
    "(lapply(zaf_data_ls, dim)) |> data.frame() |> rowSums()"
   ]
  },
  {
   "cell_type": "code",
   "execution_count": 13,
   "id": "b09b4f74-d6fc-4c54-a9aa-cc0d87d6ffa2",
   "metadata": {},
   "outputs": [],
   "source": [
    "zaf_data_common <- lapply(zaf_data_ls, function(df) df[, shared_cols, drop = FALSE])\n",
    "zaf_data_df <- do.call(rbind, zaf_data_common)"
   ]
  },
  {
   "cell_type": "code",
   "execution_count": 14,
   "id": "238a75e7-4a68-4f64-b032-55d8771bf139",
   "metadata": {},
   "outputs": [
    {
     "data": {
      "text/html": [
       "<style>\n",
       ".list-inline {list-style: none; margin:0; padding: 0}\n",
       ".list-inline>li {display: inline-block}\n",
       ".list-inline>li:not(:last-child)::after {content: \"\\00b7\"; padding: 0 .5ex}\n",
       "</style>\n",
       "<ol class=list-inline><li>'Bossert_et_al_2024'</li><li>'Bossert_et_al_2025'</li><li>NA</li><li>'Adams_and_Human_2016'</li><li>'Bekker_2015'</li><li>'Bezuidenhout_et_al_2011'</li><li>'Brown_and_Rajkaran_2020'</li><li>'Els_2017'</li><li>'Els_2019'</li><li>'Geldenhyus_et_al_2016'</li><li>'Hoppe-Speer_et_al_2013'</li><li>'Human_et_al_2022'</li><li>'Johnson_et_al_2020'</li><li>'Lemley_2018'</li><li>'Matabane_2018'</li><li>'Mbense_et_al_2016'</li><li>'Mbense_2019'</li><li>'Naidoo_2014'</li><li>'Peer_et_al_2018'</li><li>'Rajkaran_and_Adams_2011'</li><li>'Rautenbach_2015'</li><li>'Raw_et_al_2019'</li><li>'Veldkornet_2016_PhD'</li><li>'Veldkornet_et_al_2016'</li><li>'Verle_2013'</li><li>'Vromans_2010'</li><li>'Wooldridge_et_al_2016'</li><li>'Ndhlovu_et_al_2024'</li></ol>\n"
      ],
      "text/latex": [
       "\\begin{enumerate*}\n",
       "\\item 'Bossert\\_et\\_al\\_2024'\n",
       "\\item 'Bossert\\_et\\_al\\_2025'\n",
       "\\item NA\n",
       "\\item 'Adams\\_and\\_Human\\_2016'\n",
       "\\item 'Bekker\\_2015'\n",
       "\\item 'Bezuidenhout\\_et\\_al\\_2011'\n",
       "\\item 'Brown\\_and\\_Rajkaran\\_2020'\n",
       "\\item 'Els\\_2017'\n",
       "\\item 'Els\\_2019'\n",
       "\\item 'Geldenhyus\\_et\\_al\\_2016'\n",
       "\\item 'Hoppe-Speer\\_et\\_al\\_2013'\n",
       "\\item 'Human\\_et\\_al\\_2022'\n",
       "\\item 'Johnson\\_et\\_al\\_2020'\n",
       "\\item 'Lemley\\_2018'\n",
       "\\item 'Matabane\\_2018'\n",
       "\\item 'Mbense\\_et\\_al\\_2016'\n",
       "\\item 'Mbense\\_2019'\n",
       "\\item 'Naidoo\\_2014'\n",
       "\\item 'Peer\\_et\\_al\\_2018'\n",
       "\\item 'Rajkaran\\_and\\_Adams\\_2011'\n",
       "\\item 'Rautenbach\\_2015'\n",
       "\\item 'Raw\\_et\\_al\\_2019'\n",
       "\\item 'Veldkornet\\_2016\\_PhD'\n",
       "\\item 'Veldkornet\\_et\\_al\\_2016'\n",
       "\\item 'Verle\\_2013'\n",
       "\\item 'Vromans\\_2010'\n",
       "\\item 'Wooldridge\\_et\\_al\\_2016'\n",
       "\\item 'Ndhlovu\\_et\\_al\\_2024'\n",
       "\\end{enumerate*}\n"
      ],
      "text/markdown": [
       "1. 'Bossert_et_al_2024'\n",
       "2. 'Bossert_et_al_2025'\n",
       "3. NA\n",
       "4. 'Adams_and_Human_2016'\n",
       "5. 'Bekker_2015'\n",
       "6. 'Bezuidenhout_et_al_2011'\n",
       "7. 'Brown_and_Rajkaran_2020'\n",
       "8. 'Els_2017'\n",
       "9. 'Els_2019'\n",
       "10. 'Geldenhyus_et_al_2016'\n",
       "11. 'Hoppe-Speer_et_al_2013'\n",
       "12. 'Human_et_al_2022'\n",
       "13. 'Johnson_et_al_2020'\n",
       "14. 'Lemley_2018'\n",
       "15. 'Matabane_2018'\n",
       "16. 'Mbense_et_al_2016'\n",
       "17. 'Mbense_2019'\n",
       "18. 'Naidoo_2014'\n",
       "19. 'Peer_et_al_2018'\n",
       "20. 'Rajkaran_and_Adams_2011'\n",
       "21. 'Rautenbach_2015'\n",
       "22. 'Raw_et_al_2019'\n",
       "23. 'Veldkornet_2016_PhD'\n",
       "24. 'Veldkornet_et_al_2016'\n",
       "25. 'Verle_2013'\n",
       "26. 'Vromans_2010'\n",
       "27. 'Wooldridge_et_al_2016'\n",
       "28. 'Ndhlovu_et_al_2024'\n",
       "\n",
       "\n"
      ],
      "text/plain": [
       " [1] \"Bossert_et_al_2024\"      \"Bossert_et_al_2025\"     \n",
       " [3] NA                        \"Adams_and_Human_2016\"   \n",
       " [5] \"Bekker_2015\"             \"Bezuidenhout_et_al_2011\"\n",
       " [7] \"Brown_and_Rajkaran_2020\" \"Els_2017\"               \n",
       " [9] \"Els_2019\"                \"Geldenhyus_et_al_2016\"  \n",
       "[11] \"Hoppe-Speer_et_al_2013\"  \"Human_et_al_2022\"       \n",
       "[13] \"Johnson_et_al_2020\"      \"Lemley_2018\"            \n",
       "[15] \"Matabane_2018\"           \"Mbense_et_al_2016\"      \n",
       "[17] \"Mbense_2019\"             \"Naidoo_2014\"            \n",
       "[19] \"Peer_et_al_2018\"         \"Rajkaran_and_Adams_2011\"\n",
       "[21] \"Rautenbach_2015\"         \"Raw_et_al_2019\"         \n",
       "[23] \"Veldkornet_2016_PhD\"     \"Veldkornet_et_al_2016\"  \n",
       "[25] \"Verle_2013\"              \"Vromans_2010\"           \n",
       "[27] \"Wooldridge_et_al_2016\"   \"Ndhlovu_et_al_2024\"     "
      ]
     },
     "metadata": {},
     "output_type": "display_data"
    }
   ],
   "source": [
    "unique(zaf_data_df$study_id)"
   ]
  },
  {
   "cell_type": "code",
   "execution_count": 15,
   "id": "a82ee0c6-de52-4dca-9825-0c1a66e8d001",
   "metadata": {},
   "outputs": [
    {
     "data": {
      "text/html": [
       "<style>\n",
       ".list-inline {list-style: none; margin:0; padding: 0}\n",
       ".list-inline>li {display: inline-block}\n",
       ".list-inline>li:not(:last-child)::after {content: \"\\00b7\"; padding: 0 .5ex}\n",
       "</style>\n",
       "<ol class=list-inline><li>'Bossert_et_al_2024'</li><li>'Bossert_et_al_2025'</li><li>'Machite_et_al'</li><li>'Ndhlovu_et_al'</li></ol>\n"
      ],
      "text/latex": [
       "\\begin{enumerate*}\n",
       "\\item 'Bossert\\_et\\_al\\_2024'\n",
       "\\item 'Bossert\\_et\\_al\\_2025'\n",
       "\\item 'Machite\\_et\\_al'\n",
       "\\item 'Ndhlovu\\_et\\_al'\n",
       "\\end{enumerate*}\n"
      ],
      "text/markdown": [
       "1. 'Bossert_et_al_2024'\n",
       "2. 'Bossert_et_al_2025'\n",
       "3. 'Machite_et_al'\n",
       "4. 'Ndhlovu_et_al'\n",
       "\n",
       "\n"
      ],
      "text/plain": [
       "[1] \"Bossert_et_al_2024\" \"Bossert_et_al_2025\" \"Machite_et_al\"     \n",
       "[4] \"Ndhlovu_et_al\"     "
      ]
     },
     "metadata": {},
     "output_type": "display_data"
    }
   ],
   "source": [
    "unique(zaf_data_df$data_source)"
   ]
  },
  {
   "cell_type": "code",
   "execution_count": 16,
   "id": "024d2304-bb64-42cf-954a-007ab601802c",
   "metadata": {},
   "outputs": [
    {
     "data": {
      "text/html": [
       "<style>\n",
       ".list-inline {list-style: none; margin:0; padding: 0}\n",
       ".list-inline>li {display: inline-block}\n",
       ".list-inline>li:not(:last-child)::after {content: \"\\00b7\"; padding: 0 .5ex}\n",
       "</style>\n",
       "<ol class=list-inline><li>573</li><li>13</li></ol>\n"
      ],
      "text/latex": [
       "\\begin{enumerate*}\n",
       "\\item 573\n",
       "\\item 13\n",
       "\\end{enumerate*}\n"
      ],
      "text/markdown": [
       "1. 573\n",
       "2. 13\n",
       "\n",
       "\n"
      ],
      "text/plain": [
       "[1] 573  13"
      ]
     },
     "metadata": {},
     "output_type": "display_data"
    }
   ],
   "source": [
    "(Zcapensis_zaf_raw <- zaf_data_df |>\n",
    "                      dplyr::filter(species_code == \"Zostera capensis\")) |> dim()"
   ]
  },
  {
   "cell_type": "code",
   "execution_count": null,
   "id": "56f23ff8-49bf-423b-acef-f25557ba65f8",
   "metadata": {},
   "outputs": [],
   "source": []
  },
  {
   "cell_type": "code",
   "execution_count": 17,
   "id": "60e7de82-3a73-4a43-b572-e527be8dae73",
   "metadata": {
    "scrolled": true
   },
   "outputs": [
    {
     "data": {
      "text/html": [
       "<style>\n",
       ".list-inline {list-style: none; margin:0; padding: 0}\n",
       ".list-inline>li {display: inline-block}\n",
       ".list-inline>li:not(:last-child)::after {content: \"\\00b7\"; padding: 0 .5ex}\n",
       "</style>\n",
       "<ol class=list-inline><li>573</li><li>13</li></ol>\n"
      ],
      "text/latex": [
       "\\begin{enumerate*}\n",
       "\\item 573\n",
       "\\item 13\n",
       "\\end{enumerate*}\n"
      ],
      "text/markdown": [
       "1. 573\n",
       "2. 13\n",
       "\n",
       "\n"
      ],
      "text/plain": [
       "[1] 573  13"
      ]
     },
     "metadata": {},
     "output_type": "display_data"
    }
   ],
   "source": [
    "dim(Zcapensis_zaf_raw)"
   ]
  },
  {
   "cell_type": "code",
   "execution_count": 18,
   "id": "e1934888-7ead-48a1-9aa8-8d8aa2b92087",
   "metadata": {},
   "outputs": [
    {
     "data": {
      "text/html": [
       "<style>\n",
       ".list-inline {list-style: none; margin:0; padding: 0}\n",
       ".list-inline>li {display: inline-block}\n",
       ".list-inline>li:not(:last-child)::after {content: \"\\00b7\"; padding: 0 .5ex}\n",
       "</style>\n",
       "<ol class=list-inline><li>167</li><li>13</li></ol>\n"
      ],
      "text/latex": [
       "\\begin{enumerate*}\n",
       "\\item 167\n",
       "\\item 13\n",
       "\\end{enumerate*}\n"
      ],
      "text/markdown": [
       "1. 167\n",
       "2. 13\n",
       "\n",
       "\n"
      ],
      "text/plain": [
       "[1] 167  13"
      ]
     },
     "metadata": {},
     "output_type": "display_data"
    }
   ],
   "source": [
    "dplyr::filter(Zcapensis_zaf_raw, is.na(dry_bulk_density)) |> dim()"
   ]
  },
  {
   "cell_type": "code",
   "execution_count": 19,
   "id": "f8c47533-8853-4523-bc08-cd6172b78752",
   "metadata": {},
   "outputs": [
    {
     "data": {
      "text/html": [
       "<style>\n",
       ".list-inline {list-style: none; margin:0; padding: 0}\n",
       ".list-inline>li {display: inline-block}\n",
       ".list-inline>li:not(:last-child)::after {content: \"\\00b7\"; padding: 0 .5ex}\n",
       "</style>\n",
       "<ol class=list-inline><li>19</li><li>13</li></ol>\n"
      ],
      "text/latex": [
       "\\begin{enumerate*}\n",
       "\\item 19\n",
       "\\item 13\n",
       "\\end{enumerate*}\n"
      ],
      "text/markdown": [
       "1. 19\n",
       "2. 13\n",
       "\n",
       "\n"
      ],
      "text/plain": [
       "[1] 19 13"
      ]
     },
     "metadata": {},
     "output_type": "display_data"
    }
   ],
   "source": [
    "dplyr::filter(Zcapensis_zaf_raw, is.na(fraction_organic_matter)) |> dim()"
   ]
  },
  {
   "cell_type": "code",
   "execution_count": 20,
   "id": "cd7a00d9-5284-440c-bc26-24d5ce4a4e8f",
   "metadata": {},
   "outputs": [
    {
     "data": {
      "text/html": [
       "<style>\n",
       ".list-inline {list-style: none; margin:0; padding: 0}\n",
       ".list-inline>li {display: inline-block}\n",
       ".list-inline>li:not(:last-child)::after {content: \"\\00b7\"; padding: 0 .5ex}\n",
       "</style>\n",
       "<ol class=list-inline><li>0</li><li>13</li></ol>\n"
      ],
      "text/latex": [
       "\\begin{enumerate*}\n",
       "\\item 0\n",
       "\\item 13\n",
       "\\end{enumerate*}\n"
      ],
      "text/markdown": [
       "1. 0\n",
       "2. 13\n",
       "\n",
       "\n"
      ],
      "text/plain": [
       "[1]  0 13"
      ]
     },
     "metadata": {},
     "output_type": "display_data"
    }
   ],
   "source": [
    "dplyr::filter(Zcapensis_zaf_raw, is.na(depth_min) | is.na(depth_max)) |> dim()"
   ]
  },
  {
   "cell_type": "code",
   "execution_count": 21,
   "id": "52796ab2-3ae0-4581-85c6-78300e1d5847",
   "metadata": {},
   "outputs": [
    {
     "data": {
      "text/html": [
       "<style>\n",
       ".list-inline {list-style: none; margin:0; padding: 0}\n",
       ".list-inline>li {display: inline-block}\n",
       ".list-inline>li:not(:last-child)::after {content: \"\\00b7\"; padding: 0 .5ex}\n",
       "</style>\n",
       "<ol class=list-inline><li>'data_source'</li><li>'study_id'</li><li>'site_id'</li><li>'core_id'</li><li>'depth_min'</li><li>'depth_max'</li><li>'dry_bulk_density'</li><li>'fraction_organic_matter'</li><li>'year'</li><li>'latitude'</li><li>'longitude'</li><li>'species_code'</li><li>'code_type'</li></ol>\n"
      ],
      "text/latex": [
       "\\begin{enumerate*}\n",
       "\\item 'data\\_source'\n",
       "\\item 'study\\_id'\n",
       "\\item 'site\\_id'\n",
       "\\item 'core\\_id'\n",
       "\\item 'depth\\_min'\n",
       "\\item 'depth\\_max'\n",
       "\\item 'dry\\_bulk\\_density'\n",
       "\\item 'fraction\\_organic\\_matter'\n",
       "\\item 'year'\n",
       "\\item 'latitude'\n",
       "\\item 'longitude'\n",
       "\\item 'species\\_code'\n",
       "\\item 'code\\_type'\n",
       "\\end{enumerate*}\n"
      ],
      "text/markdown": [
       "1. 'data_source'\n",
       "2. 'study_id'\n",
       "3. 'site_id'\n",
       "4. 'core_id'\n",
       "5. 'depth_min'\n",
       "6. 'depth_max'\n",
       "7. 'dry_bulk_density'\n",
       "8. 'fraction_organic_matter'\n",
       "9. 'year'\n",
       "10. 'latitude'\n",
       "11. 'longitude'\n",
       "12. 'species_code'\n",
       "13. 'code_type'\n",
       "\n",
       "\n"
      ],
      "text/plain": [
       " [1] \"data_source\"             \"study_id\"               \n",
       " [3] \"site_id\"                 \"core_id\"                \n",
       " [5] \"depth_min\"               \"depth_max\"              \n",
       " [7] \"dry_bulk_density\"        \"fraction_organic_matter\"\n",
       " [9] \"year\"                    \"latitude\"               \n",
       "[11] \"longitude\"               \"species_code\"           \n",
       "[13] \"code_type\"              "
      ]
     },
     "metadata": {},
     "output_type": "display_data"
    }
   ],
   "source": [
    "colnames(Zcapensis_zaf_raw)"
   ]
  },
  {
   "cell_type": "code",
   "execution_count": 22,
   "id": "2f5ed2ce-81db-407b-9809-d70556917997",
   "metadata": {},
   "outputs": [
    {
     "data": {
      "text/html": [
       "<style>\n",
       ".list-inline {list-style: none; margin:0; padding: 0}\n",
       ".list-inline>li {display: inline-block}\n",
       ".list-inline>li:not(:last-child)::after {content: \"\\00b7\"; padding: 0 .5ex}\n",
       "</style>\n",
       "<ol class=list-inline><li>573</li><li>13</li></ol>\n"
      ],
      "text/latex": [
       "\\begin{enumerate*}\n",
       "\\item 573\n",
       "\\item 13\n",
       "\\end{enumerate*}\n"
      ],
      "text/markdown": [
       "1. 573\n",
       "2. 13\n",
       "\n",
       "\n"
      ],
      "text/plain": [
       "[1] 573  13"
      ]
     },
     "metadata": {},
     "output_type": "display_data"
    }
   ],
   "source": [
    "(Zcapensis_zaf <- dplyr::filter(Zcapensis_zaf_raw, !is.na(depth_min) | !is.na(depth_max))) |> dim()"
   ]
  },
  {
   "cell_type": "code",
   "execution_count": 23,
   "id": "0949881a-8db7-4e66-b2e2-2058071ac489",
   "metadata": {},
   "outputs": [],
   "source": [
    "write_rds(Zcapensis_zaf, \"../data/zaf_data_df.rds\")"
   ]
  },
  {
   "cell_type": "code",
   "execution_count": 24,
   "id": "037b114d-f729-4818-95ce-f7579a666439",
   "metadata": {},
   "outputs": [
    {
     "data": {
      "text/plain": [
       "study_id\n",
       "            Bekker_2015 Bezuidenhout_et_al_2011      Bossert_et_al_2024 \n",
       "                      4                      24                     180 \n",
       "Brown_and_Rajkaran_2020                Els_2017                Els_2019 \n",
       "                      7                      56                      48 \n",
       "            Lemley_2018      Ndhlovu_et_al_2024 Rajkaran_and_Adams_2011 \n",
       "                      5                     226                      13 \n",
       "    Veldkornet_2016_PhD \n",
       "                     10 "
      ]
     },
     "metadata": {},
     "output_type": "display_data"
    }
   ],
   "source": [
    "xtabs(~study_id, data = Zcapensis_zaf)"
   ]
  },
  {
   "cell_type": "code",
   "execution_count": 25,
   "id": "496dde89-f20e-418e-8ad4-9d1189961fed",
   "metadata": {},
   "outputs": [
    {
     "name": "stderr",
     "output_type": "stream",
     "text": [
      "\u001b[1m\u001b[22m`summarise()` has grouped output by 'data_source', 'study_id', 'site_id'. You can override using the\n",
      "`.groups` argument.\n"
     ]
    },
    {
     "data": {
      "text/html": [
       "<style>\n",
       ".list-inline {list-style: none; margin:0; padding: 0}\n",
       ".list-inline>li {display: inline-block}\n",
       ".list-inline>li:not(:last-child)::after {content: \"\\00b7\"; padding: 0 .5ex}\n",
       "</style>\n",
       "<ol class=list-inline><li>137</li><li>6</li></ol>\n"
      ],
      "text/latex": [
       "\\begin{enumerate*}\n",
       "\\item 137\n",
       "\\item 6\n",
       "\\end{enumerate*}\n"
      ],
      "text/markdown": [
       "1. 137\n",
       "2. 6\n",
       "\n",
       "\n"
      ],
      "text/plain": [
       "[1] 137   6"
      ]
     },
     "metadata": {},
     "output_type": "display_data"
    }
   ],
   "source": [
    "(Zcapensis_cores <- Zcapensis_zaf |>\n",
    "                    dplyr::group_by(data_source, study_id, site_id, core_id) |>\n",
    "                    dplyr::summarise(N_samples = n(), max_depth = max(depth_max))) |> dim()"
   ]
  },
  {
   "cell_type": "code",
   "execution_count": 26,
   "id": "0b9de274-38d9-4b67-bd42-36716ac7e1c0",
   "metadata": {},
   "outputs": [
    {
     "data": {
      "text/html": [
       "<style>\n",
       ".list-inline {list-style: none; margin:0; padding: 0}\n",
       ".list-inline>li {display: inline-block}\n",
       ".list-inline>li:not(:last-child)::after {content: \"\\00b7\"; padding: 0 .5ex}\n",
       "</style>\n",
       "<ol class=list-inline><li>'data_source'</li><li>'study_id'</li><li>'site_id'</li><li>'core_id'</li><li>'depth_min'</li><li>'depth_max'</li><li>'dry_bulk_density'</li><li>'fraction_organic_matter'</li><li>'year'</li><li>'latitude'</li><li>'longitude'</li><li>'species_code'</li><li>'code_type'</li></ol>\n"
      ],
      "text/latex": [
       "\\begin{enumerate*}\n",
       "\\item 'data\\_source'\n",
       "\\item 'study\\_id'\n",
       "\\item 'site\\_id'\n",
       "\\item 'core\\_id'\n",
       "\\item 'depth\\_min'\n",
       "\\item 'depth\\_max'\n",
       "\\item 'dry\\_bulk\\_density'\n",
       "\\item 'fraction\\_organic\\_matter'\n",
       "\\item 'year'\n",
       "\\item 'latitude'\n",
       "\\item 'longitude'\n",
       "\\item 'species\\_code'\n",
       "\\item 'code\\_type'\n",
       "\\end{enumerate*}\n"
      ],
      "text/markdown": [
       "1. 'data_source'\n",
       "2. 'study_id'\n",
       "3. 'site_id'\n",
       "4. 'core_id'\n",
       "5. 'depth_min'\n",
       "6. 'depth_max'\n",
       "7. 'dry_bulk_density'\n",
       "8. 'fraction_organic_matter'\n",
       "9. 'year'\n",
       "10. 'latitude'\n",
       "11. 'longitude'\n",
       "12. 'species_code'\n",
       "13. 'code_type'\n",
       "\n",
       "\n"
      ],
      "text/plain": [
       " [1] \"data_source\"             \"study_id\"               \n",
       " [3] \"site_id\"                 \"core_id\"                \n",
       " [5] \"depth_min\"               \"depth_max\"              \n",
       " [7] \"dry_bulk_density\"        \"fraction_organic_matter\"\n",
       " [9] \"year\"                    \"latitude\"               \n",
       "[11] \"longitude\"               \"species_code\"           \n",
       "[13] \"code_type\"              "
      ]
     },
     "metadata": {},
     "output_type": "display_data"
    }
   ],
   "source": [
    "colnames(Zcapensis_zaf)"
   ]
  },
  {
   "cell_type": "code",
   "execution_count": 27,
   "id": "25d38ca6-c6c2-4ca9-bb3c-f86ef9d1260a",
   "metadata": {},
   "outputs": [
    {
     "data": {
      "text/plain": [
       "study_id\n",
       "            Bekker_2015 Bezuidenhout_et_al_2011      Bossert_et_al_2024 \n",
       "                      4                       8                      45 \n",
       "Brown_and_Rajkaran_2020                Els_2017                Els_2019 \n",
       "                      1                       4                      12 \n",
       "            Lemley_2018      Ndhlovu_et_al_2024 Rajkaran_and_Adams_2011 \n",
       "                      5                      47                       1 \n",
       "    Veldkornet_2016_PhD \n",
       "                     10 "
      ]
     },
     "metadata": {},
     "output_type": "display_data"
    }
   ],
   "source": [
    "xtabs(~study_id, data = Zcapensis_cores)"
   ]
  },
  {
   "cell_type": "code",
   "execution_count": 28,
   "id": "77fdb9c5-1a0a-4732-be84-be09aed8e07f",
   "metadata": {},
   "outputs": [
    {
     "name": "stderr",
     "output_type": "stream",
     "text": [
      "\u001b[1m\u001b[22m`summarise()` has grouped output by 'data_source', 'study_id', 'site_id'. You can override using the\n",
      "`.groups` argument.\n"
     ]
    },
    {
     "data": {
      "text/html": [
       "<table class=\"dataframe\">\n",
       "<caption>A tibble: 21 × 5</caption>\n",
       "<thead>\n",
       "\t<tr><th scope=col>data_source</th><th scope=col>study_id</th><th scope=col>site_id</th><th scope=col>max_depth</th><th scope=col>count</th></tr>\n",
       "\t<tr><th scope=col>&lt;chr&gt;</th><th scope=col>&lt;chr&gt;</th><th scope=col>&lt;chr&gt;</th><th scope=col>&lt;dbl&gt;</th><th scope=col>&lt;int&gt;</th></tr>\n",
       "</thead>\n",
       "<tbody>\n",
       "\t<tr><td>Machite_et_al     </td><td>Bekker_2015            </td><td>Knysna   </td><td>  5</td><td> 4</td></tr>\n",
       "\t<tr><td>Machite_et_al     </td><td>Bezuidenhout_et_al_2011</td><td>Kromme   </td><td>120</td><td> 8</td></tr>\n",
       "\t<tr><td>Bossert_et_al_2024</td><td>Bossert_et_al_2024     </td><td>Berg     </td><td> 15</td><td>30</td></tr>\n",
       "\t<tr><td>Bossert_et_al_2024</td><td>Bossert_et_al_2024     </td><td>Breede   </td><td> 15</td><td>15</td></tr>\n",
       "\t<tr><td>Machite_et_al     </td><td>Brown_and_Rajkaran_2020</td><td>Kobonqaba</td><td> 21</td><td> 1</td></tr>\n",
       "\t<tr><td>Machite_et_al     </td><td>Els_2017               </td><td>Knysna   </td><td>110</td><td> 4</td></tr>\n",
       "\t<tr><td>Machite_et_al     </td><td>Els_2019               </td><td>Swartkops</td><td>100</td><td>12</td></tr>\n",
       "\t<tr><td>Machite_et_al     </td><td>Lemley_2018            </td><td>Kariega  </td><td>  5</td><td> 5</td></tr>\n",
       "\t<tr><td>Ndhlovu_et_al     </td><td>Ndhlovu_et_al_2024     </td><td>Berg     </td><td> 50</td><td> 8</td></tr>\n",
       "\t<tr><td>Ndhlovu_et_al     </td><td>Ndhlovu_et_al_2024     </td><td>Breede   </td><td> 50</td><td> 4</td></tr>\n",
       "\t<tr><td>Ndhlovu_et_al     </td><td>Ndhlovu_et_al_2024     </td><td>Knysna   </td><td> 50</td><td> 8</td></tr>\n",
       "\t<tr><td>Ndhlovu_et_al     </td><td>Ndhlovu_et_al_2024     </td><td>Mngazana </td><td> 20</td><td> 1</td></tr>\n",
       "\t<tr><td>Ndhlovu_et_al     </td><td>Ndhlovu_et_al_2024     </td><td>Mngazana </td><td> 30</td><td> 7</td></tr>\n",
       "\t<tr><td>Ndhlovu_et_al     </td><td>Ndhlovu_et_al_2024     </td><td>Mngazana </td><td> 50</td><td> 3</td></tr>\n",
       "\t<tr><td>Ndhlovu_et_al     </td><td>Ndhlovu_et_al_2024     </td><td>Olifants </td><td> 50</td><td> 8</td></tr>\n",
       "\t<tr><td>Ndhlovu_et_al     </td><td>Ndhlovu_et_al_2024     </td><td>Swartkops</td><td> 50</td><td> 8</td></tr>\n",
       "\t<tr><td>Machite_et_al     </td><td>Rajkaran_and_Adams_2011</td><td>Mngazana </td><td> 39</td><td> 1</td></tr>\n",
       "\t<tr><td>Machite_et_al     </td><td>Veldkornet_2016_PhD    </td><td>Keurbooms</td><td>  5</td><td> 1</td></tr>\n",
       "\t<tr><td>Machite_et_al     </td><td>Veldkornet_2016_PhD    </td><td>Knysna   </td><td>  5</td><td> 2</td></tr>\n",
       "\t<tr><td>Machite_et_al     </td><td>Veldkornet_2016_PhD    </td><td>Kromme   </td><td>  5</td><td> 2</td></tr>\n",
       "\t<tr><td>Machite_et_al     </td><td>Veldkornet_2016_PhD    </td><td>Swartkops</td><td>  5</td><td> 5</td></tr>\n",
       "</tbody>\n",
       "</table>\n"
      ],
      "text/latex": [
       "A tibble: 21 × 5\n",
       "\\begin{tabular}{lllll}\n",
       " data\\_source & study\\_id & site\\_id & max\\_depth & count\\\\\n",
       " <chr> & <chr> & <chr> & <dbl> & <int>\\\\\n",
       "\\hline\n",
       "\t Machite\\_et\\_al      & Bekker\\_2015             & Knysna    &   5 &  4\\\\\n",
       "\t Machite\\_et\\_al      & Bezuidenhout\\_et\\_al\\_2011 & Kromme    & 120 &  8\\\\\n",
       "\t Bossert\\_et\\_al\\_2024 & Bossert\\_et\\_al\\_2024      & Berg      &  15 & 30\\\\\n",
       "\t Bossert\\_et\\_al\\_2024 & Bossert\\_et\\_al\\_2024      & Breede    &  15 & 15\\\\\n",
       "\t Machite\\_et\\_al      & Brown\\_and\\_Rajkaran\\_2020 & Kobonqaba &  21 &  1\\\\\n",
       "\t Machite\\_et\\_al      & Els\\_2017                & Knysna    & 110 &  4\\\\\n",
       "\t Machite\\_et\\_al      & Els\\_2019                & Swartkops & 100 & 12\\\\\n",
       "\t Machite\\_et\\_al      & Lemley\\_2018             & Kariega   &   5 &  5\\\\\n",
       "\t Ndhlovu\\_et\\_al      & Ndhlovu\\_et\\_al\\_2024      & Berg      &  50 &  8\\\\\n",
       "\t Ndhlovu\\_et\\_al      & Ndhlovu\\_et\\_al\\_2024      & Breede    &  50 &  4\\\\\n",
       "\t Ndhlovu\\_et\\_al      & Ndhlovu\\_et\\_al\\_2024      & Knysna    &  50 &  8\\\\\n",
       "\t Ndhlovu\\_et\\_al      & Ndhlovu\\_et\\_al\\_2024      & Mngazana  &  20 &  1\\\\\n",
       "\t Ndhlovu\\_et\\_al      & Ndhlovu\\_et\\_al\\_2024      & Mngazana  &  30 &  7\\\\\n",
       "\t Ndhlovu\\_et\\_al      & Ndhlovu\\_et\\_al\\_2024      & Mngazana  &  50 &  3\\\\\n",
       "\t Ndhlovu\\_et\\_al      & Ndhlovu\\_et\\_al\\_2024      & Olifants  &  50 &  8\\\\\n",
       "\t Ndhlovu\\_et\\_al      & Ndhlovu\\_et\\_al\\_2024      & Swartkops &  50 &  8\\\\\n",
       "\t Machite\\_et\\_al      & Rajkaran\\_and\\_Adams\\_2011 & Mngazana  &  39 &  1\\\\\n",
       "\t Machite\\_et\\_al      & Veldkornet\\_2016\\_PhD     & Keurbooms &   5 &  1\\\\\n",
       "\t Machite\\_et\\_al      & Veldkornet\\_2016\\_PhD     & Knysna    &   5 &  2\\\\\n",
       "\t Machite\\_et\\_al      & Veldkornet\\_2016\\_PhD     & Kromme    &   5 &  2\\\\\n",
       "\t Machite\\_et\\_al      & Veldkornet\\_2016\\_PhD     & Swartkops &   5 &  5\\\\\n",
       "\\end{tabular}\n"
      ],
      "text/markdown": [
       "\n",
       "A tibble: 21 × 5\n",
       "\n",
       "| data_source &lt;chr&gt; | study_id &lt;chr&gt; | site_id &lt;chr&gt; | max_depth &lt;dbl&gt; | count &lt;int&gt; |\n",
       "|---|---|---|---|---|\n",
       "| Machite_et_al      | Bekker_2015             | Knysna    |   5 |  4 |\n",
       "| Machite_et_al      | Bezuidenhout_et_al_2011 | Kromme    | 120 |  8 |\n",
       "| Bossert_et_al_2024 | Bossert_et_al_2024      | Berg      |  15 | 30 |\n",
       "| Bossert_et_al_2024 | Bossert_et_al_2024      | Breede    |  15 | 15 |\n",
       "| Machite_et_al      | Brown_and_Rajkaran_2020 | Kobonqaba |  21 |  1 |\n",
       "| Machite_et_al      | Els_2017                | Knysna    | 110 |  4 |\n",
       "| Machite_et_al      | Els_2019                | Swartkops | 100 | 12 |\n",
       "| Machite_et_al      | Lemley_2018             | Kariega   |   5 |  5 |\n",
       "| Ndhlovu_et_al      | Ndhlovu_et_al_2024      | Berg      |  50 |  8 |\n",
       "| Ndhlovu_et_al      | Ndhlovu_et_al_2024      | Breede    |  50 |  4 |\n",
       "| Ndhlovu_et_al      | Ndhlovu_et_al_2024      | Knysna    |  50 |  8 |\n",
       "| Ndhlovu_et_al      | Ndhlovu_et_al_2024      | Mngazana  |  20 |  1 |\n",
       "| Ndhlovu_et_al      | Ndhlovu_et_al_2024      | Mngazana  |  30 |  7 |\n",
       "| Ndhlovu_et_al      | Ndhlovu_et_al_2024      | Mngazana  |  50 |  3 |\n",
       "| Ndhlovu_et_al      | Ndhlovu_et_al_2024      | Olifants  |  50 |  8 |\n",
       "| Ndhlovu_et_al      | Ndhlovu_et_al_2024      | Swartkops |  50 |  8 |\n",
       "| Machite_et_al      | Rajkaran_and_Adams_2011 | Mngazana  |  39 |  1 |\n",
       "| Machite_et_al      | Veldkornet_2016_PhD     | Keurbooms |   5 |  1 |\n",
       "| Machite_et_al      | Veldkornet_2016_PhD     | Knysna    |   5 |  2 |\n",
       "| Machite_et_al      | Veldkornet_2016_PhD     | Kromme    |   5 |  2 |\n",
       "| Machite_et_al      | Veldkornet_2016_PhD     | Swartkops |   5 |  5 |\n",
       "\n"
      ],
      "text/plain": [
       "   data_source        study_id                site_id   max_depth count\n",
       "1  Machite_et_al      Bekker_2015             Knysna      5        4   \n",
       "2  Machite_et_al      Bezuidenhout_et_al_2011 Kromme    120        8   \n",
       "3  Bossert_et_al_2024 Bossert_et_al_2024      Berg       15       30   \n",
       "4  Bossert_et_al_2024 Bossert_et_al_2024      Breede     15       15   \n",
       "5  Machite_et_al      Brown_and_Rajkaran_2020 Kobonqaba  21        1   \n",
       "6  Machite_et_al      Els_2017                Knysna    110        4   \n",
       "7  Machite_et_al      Els_2019                Swartkops 100       12   \n",
       "8  Machite_et_al      Lemley_2018             Kariega     5        5   \n",
       "9  Ndhlovu_et_al      Ndhlovu_et_al_2024      Berg       50        8   \n",
       "10 Ndhlovu_et_al      Ndhlovu_et_al_2024      Breede     50        4   \n",
       "11 Ndhlovu_et_al      Ndhlovu_et_al_2024      Knysna     50        8   \n",
       "12 Ndhlovu_et_al      Ndhlovu_et_al_2024      Mngazana   20        1   \n",
       "13 Ndhlovu_et_al      Ndhlovu_et_al_2024      Mngazana   30        7   \n",
       "14 Ndhlovu_et_al      Ndhlovu_et_al_2024      Mngazana   50        3   \n",
       "15 Ndhlovu_et_al      Ndhlovu_et_al_2024      Olifants   50        8   \n",
       "16 Ndhlovu_et_al      Ndhlovu_et_al_2024      Swartkops  50        8   \n",
       "17 Machite_et_al      Rajkaran_and_Adams_2011 Mngazana   39        1   \n",
       "18 Machite_et_al      Veldkornet_2016_PhD     Keurbooms   5        1   \n",
       "19 Machite_et_al      Veldkornet_2016_PhD     Knysna      5        2   \n",
       "20 Machite_et_al      Veldkornet_2016_PhD     Kromme      5        2   \n",
       "21 Machite_et_al      Veldkornet_2016_PhD     Swartkops   5        5   "
      ]
     },
     "metadata": {},
     "output_type": "display_data"
    }
   ],
   "source": [
    "Zcapensis_cores |>\n",
    "dplyr::group_by(data_source, study_id,\tsite_id, max_depth) |>\n",
    "dplyr::summarise(count = n()) |>\n",
    "dplyr::ungroup() |>\n",
    "dplyr::arrange(study_id, site_id) "
   ]
  },
  {
   "cell_type": "code",
   "execution_count": 33,
   "id": "b05ee521-1ccf-400c-a54d-e1f317d3861b",
   "metadata": {},
   "outputs": [],
   "source": [
    "write.csv(Zcapensis_zaf, \"../data/Zcapensis_Cstocks.csv\", row.names = FALSE, quote = FALSE)"
   ]
  },
  {
   "cell_type": "code",
   "execution_count": null,
   "id": "0847a094-f57e-4ef1-a14e-3d1b9a022fc2",
   "metadata": {},
   "outputs": [],
   "source": []
  },
  {
   "cell_type": "code",
   "execution_count": null,
   "id": "b45f6b5a-e7d7-46ba-be69-5620652d55e5",
   "metadata": {},
   "outputs": [],
   "source": []
  }
 ],
 "metadata": {
  "kernelspec": {
   "display_name": "R",
   "language": "R",
   "name": "ir"
  },
  "language_info": {
   "codemirror_mode": "r",
   "file_extension": ".r",
   "mimetype": "text/x-r-source",
   "name": "R",
   "pygments_lexer": "r",
   "version": "4.3.3"
  }
 },
 "nbformat": 4,
 "nbformat_minor": 5
}
