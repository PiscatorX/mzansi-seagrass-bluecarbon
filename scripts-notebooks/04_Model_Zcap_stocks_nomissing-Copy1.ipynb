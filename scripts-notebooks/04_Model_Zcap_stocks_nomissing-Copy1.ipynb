{
 "cells": [
  {
   "cell_type": "code",
   "execution_count": 1,
   "id": "456edb47-7775-47a1-8317-8fa902e55774",
   "metadata": {},
   "outputs": [
    {
     "name": "stderr",
     "output_type": "stream",
     "text": [
      "── \u001b[1mAttaching core tidyverse packages\u001b[22m ──────────────────────────────────────────────────────────────────────────────────────────────────────────────────────────────── tidyverse 2.0.0 ──\n",
      "\u001b[32m✔\u001b[39m \u001b[34mdplyr    \u001b[39m 1.1.4     \u001b[32m✔\u001b[39m \u001b[34mreadr    \u001b[39m 2.1.5\n",
      "\u001b[32m✔\u001b[39m \u001b[34mforcats  \u001b[39m 1.0.0     \u001b[32m✔\u001b[39m \u001b[34mstringr  \u001b[39m 1.5.1\n",
      "\u001b[32m✔\u001b[39m \u001b[34mggplot2  \u001b[39m 3.5.2     \u001b[32m✔\u001b[39m \u001b[34mtibble   \u001b[39m 3.3.0\n",
      "\u001b[32m✔\u001b[39m \u001b[34mlubridate\u001b[39m 1.9.4     \u001b[32m✔\u001b[39m \u001b[34mtidyr    \u001b[39m 1.3.1\n",
      "\u001b[32m✔\u001b[39m \u001b[34mpurrr    \u001b[39m 1.0.4     \n",
      "── \u001b[1mConflicts\u001b[22m ────────────────────────────────────────────────────────────────────────────────────────────────────────────────────────────────────────────────── tidyverse_conflicts() ──\n",
      "\u001b[31m✖\u001b[39m \u001b[34mdplyr\u001b[39m::\u001b[32mfilter()\u001b[39m masks \u001b[34mstats\u001b[39m::filter()\n",
      "\u001b[31m✖\u001b[39m \u001b[34mdplyr\u001b[39m::\u001b[32mlag()\u001b[39m    masks \u001b[34mstats\u001b[39m::lag()\n",
      "\u001b[36mℹ\u001b[39m Use the conflicted package (\u001b[3m\u001b[34m<http://conflicted.r-lib.org/>\u001b[39m\u001b[23m) to force all conflicts to become errors\n"
     ]
    }
   ],
   "source": [
    "library(tidyverse)"
   ]
  },
  {
   "cell_type": "code",
   "execution_count": 2,
   "id": "77edb5bb-e16f-4857-8bb0-bae01c2aaa98",
   "metadata": {},
   "outputs": [
    {
     "name": "stdout",
     "output_type": "stream",
     "text": [
      "c(\"Article.ID\", \"Publication.year\", \"Study.site\", \"Country\", \n",
      "\"Latitude\", \"Longitude\", \"Coastal.typology\", \"Marine.ecoregion\", \n",
      "\"Seagrass.bioregion\", \"Seagrass.functionalmorphological.group\", \n",
      "\"Seagrass.species\", \"Seagrass.genus\", \"Additional.identification\", \n",
      "\"Above.ground.biomass\", \"Below.ground.biomass\", \"Total.biomass\", \n",
      "\"Sampling.depth\", \"Ctot.stock\", \"Ctot.content\", \"Corg.stock\", \n",
      "\"Corg.content\", \"Cinorg.stock\", \"Cinorg.content\", \"Ctot.stock.15cm\", \n",
      "\"Corg.stock.15cm\", \"Cinorg.stock.15cm\", \"Ctot.stock.30cm\", \"Corg.stock.30cm\", \n",
      "\"Cinorg.stock.30cm\", \"Ctot.stock.50cm\", \"Corg.stock.50cm\", \"Cinorg.stock.50cm\", \n",
      "\"Ctot.stock.100cm\", \"Corg.stock.100cm\", \"Cinorg.stock.100cm\", \n",
      "\"OM.content\", \"Porosity\", \"Dry.Bulk.Density\", \"Grain.size\", \"Fraction.mud\", \n",
      "\"Notes\")\n"
     ]
    }
   ],
   "source": [
    "Krause_stocks <- read.csv(\"../41467_2025_59204_MOESM4_ESM/Supplementary Software/stocks.csv\" , fileEncoding=\"latin1\") |>\n",
    "                 dplyr::rename(Article.ID = `ï..Article.ID`)\n",
    "Krause_stocks_cols <- dput(colnames(Krause_stocks))"
   ]
  },
  {
   "cell_type": "code",
   "execution_count": 3,
   "id": "7f97bbf8-abee-4afe-a34d-6f78b5165d85",
   "metadata": {},
   "outputs": [
    {
     "name": "stdout",
     "output_type": "stream",
     "text": [
      "c(\"ï..Article.ID\", \"Primary.reference\", \"Secondary.reference\", \n",
      "\"Publication.year\", \"Site.name\", \"Country\", \"Latitude\", \"Longitude\", \n",
      "\"Species\", \"Core.ID\", \"Top.of.section\", \"Bottom.of.section\", \n",
      "\"Depth.at.center.of.slice\", \"Thickness.sediment.slice\", \"Dry.Bulk.Density\", \n",
      "\"OM.content\", \"OM.density\", \"Corg\", \"Cinorg\", \"Cinorg.stock.increment\", \n",
      "\"Corg.stock.increment\", \"Ctot.stock.increment\", \"DBD.core\", \"OM.content.core\", \n",
      "\"Corg.core\", \"Cinorg.core\", \"Cinorg.stock.core\", \"Corg.stock.core\", \n",
      "\"Ctot.stock.core\", \"Depth.of.core\", \"X\", \"X.1\", \"X.2\")\n"
     ]
    }
   ],
   "source": [
    "Krause_data <- read.csv(\"../41467_2025_59204_MOESM4_ESM/Supplementary Software/Core_data.csv\" , fileEncoding=\"latin1\")\n",
    "Krause_data_cols <- dput(colnames(Krause_data))"
   ]
  },
  {
   "cell_type": "code",
   "execution_count": 4,
   "id": "7b65b941-448b-4638-afac-8ee02779ca73",
   "metadata": {},
   "outputs": [
    {
     "data": {
      "text/html": [
       "<style>\n",
       ".list-inline {list-style: none; margin:0; padding: 0}\n",
       ".list-inline>li {display: inline-block}\n",
       ".list-inline>li:not(:last-child)::after {content: \"\\00b7\"; padding: 0 .5ex}\n",
       "</style>\n",
       "<ol class=list-inline><li>2813</li><li>48</li></ol>\n"
      ],
      "text/latex": [
       "\\begin{enumerate*}\n",
       "\\item 2813\n",
       "\\item 48\n",
       "\\end{enumerate*}\n"
      ],
      "text/markdown": [
       "1. 2813\n",
       "2. 48\n",
       "\n",
       "\n"
      ],
      "text/plain": [
       "[1] 2813   48"
      ]
     },
     "metadata": {},
     "output_type": "display_data"
    }
   ],
   "source": [
    "Krause_database <- read_rds(\"../data/Krause_database.rds\") |>\n",
    "                   dplyr::mutate(data_source = \"Krause_et_al_2025\") |>\n",
    "                   dplyr::relocate(data_source)\n",
    "dim(Krause_database)"
   ]
  },
  {
   "cell_type": "code",
   "execution_count": 5,
   "id": "b9a4426b-9dd1-474b-98fd-6998a26335db",
   "metadata": {},
   "outputs": [
    {
     "data": {
      "text/html": [
       "<style>\n",
       ".list-inline {list-style: none; margin:0; padding: 0}\n",
       ".list-inline>li {display: inline-block}\n",
       ".list-inline>li:not(:last-child)::after {content: \"\\00b7\"; padding: 0 .5ex}\n",
       "</style>\n",
       "<ol class=list-inline><li>2813</li><li>48</li></ol>\n"
      ],
      "text/latex": [
       "\\begin{enumerate*}\n",
       "\\item 2813\n",
       "\\item 48\n",
       "\\end{enumerate*}\n"
      ],
      "text/markdown": [
       "1. 2813\n",
       "2. 48\n",
       "\n",
       "\n"
      ],
      "text/plain": [
       "[1] 2813   48"
      ]
     },
     "metadata": {},
     "output_type": "display_data"
    }
   ],
   "source": [
    "Krause_database |> select(where(~ !all(is.na(.)))) |> dim()"
   ]
  },
  {
   "cell_type": "code",
   "execution_count": 6,
   "id": "07bc1f7e-e685-4978-8f96-6a67e78551b5",
   "metadata": {},
   "outputs": [
    {
     "name": "stdout",
     "output_type": "stream",
     "text": [
      "Rows: 573\n",
      "Columns: 13\n",
      "$ data_source             \u001b[3m\u001b[90m<chr>\u001b[39m\u001b[23m \"Bossert_et_al_2024\"\u001b[90m, \u001b[39m\"Bossert_et_al_2024\"\u001b[90m, \u001b[39m\"B…\n",
      "$ study_id                \u001b[3m\u001b[90m<chr>\u001b[39m\u001b[23m \"Bossert_et_al_2024\"\u001b[90m, \u001b[39m\"Bossert_et_al_2024\"\u001b[90m, \u001b[39m\"B…\n",
      "$ site_id                 \u001b[3m\u001b[90m<chr>\u001b[39m\u001b[23m \"Berg\"\u001b[90m, \u001b[39m\"Berg\"\u001b[90m, \u001b[39m\"Berg\"\u001b[90m, \u001b[39m\"Berg\"\u001b[90m, \u001b[39m\"Berg\"\u001b[90m, \u001b[39m\"Berg\"…\n",
      "$ core_id                 \u001b[3m\u001b[90m<chr>\u001b[39m\u001b[23m \"LWR_SS1_R1\"\u001b[90m, \u001b[39m\"LWR_SS1_R1\"\u001b[90m, \u001b[39m\"LWR_SS1_R1\"\u001b[90m, \u001b[39m\"LWR…\n",
      "$ depth_min               \u001b[3m\u001b[90m<dbl>\u001b[39m\u001b[23m 0\u001b[90m, \u001b[39m3\u001b[90m, \u001b[39m6\u001b[90m, \u001b[39m10\u001b[90m, \u001b[39m0\u001b[90m, \u001b[39m3\u001b[90m, \u001b[39m6\u001b[90m, \u001b[39m10\u001b[90m, \u001b[39m0\u001b[90m, \u001b[39m3\u001b[90m, \u001b[39m6\u001b[90m, \u001b[39m10\u001b[90m, \u001b[39m0\u001b[90m, \u001b[39m3\u001b[90m, \u001b[39m6…\n",
      "$ depth_max               \u001b[3m\u001b[90m<dbl>\u001b[39m\u001b[23m 3\u001b[90m, \u001b[39m6\u001b[90m, \u001b[39m10\u001b[90m, \u001b[39m15\u001b[90m, \u001b[39m3\u001b[90m, \u001b[39m6\u001b[90m, \u001b[39m10\u001b[90m, \u001b[39m15\u001b[90m, \u001b[39m3\u001b[90m, \u001b[39m6\u001b[90m, \u001b[39m10\u001b[90m, \u001b[39m15\u001b[90m, \u001b[39m3\u001b[90m, \u001b[39m6…\n",
      "$ dry_bulk_density        \u001b[3m\u001b[90m<dbl>\u001b[39m\u001b[23m 1.0301527\u001b[90m, \u001b[39m1.0991792\u001b[90m, \u001b[39m0.8814128\u001b[90m, \u001b[39m1.1093583\u001b[90m, \u001b[39m0.…\n",
      "$ fraction_organic_matter \u001b[3m\u001b[90m<dbl>\u001b[39m\u001b[23m 0.40\u001b[90m, \u001b[39m0.25\u001b[90m, \u001b[39m0.97\u001b[90m, \u001b[39m0.45\u001b[90m, \u001b[39m0.34\u001b[90m, \u001b[39m0.69\u001b[90m, \u001b[39m0.30\u001b[90m, \u001b[39m0.34…\n",
      "$ year                    \u001b[3m\u001b[90m<dbl>\u001b[39m\u001b[23m 2022\u001b[90m, \u001b[39m2022\u001b[90m, \u001b[39m2022\u001b[90m, \u001b[39m2022\u001b[90m, \u001b[39m2022\u001b[90m, \u001b[39m2022\u001b[90m, \u001b[39m2022\u001b[90m, \u001b[39m2022…\n",
      "$ latitude                \u001b[3m\u001b[90m<dbl>\u001b[39m\u001b[23m -32.7716\u001b[90m, \u001b[39m-32.7716\u001b[90m, \u001b[39m-32.7716\u001b[90m, \u001b[39m-32.7716\u001b[90m, \u001b[39m-32.77…\n",
      "$ longitude               \u001b[3m\u001b[90m<dbl>\u001b[39m\u001b[23m 18.14287\u001b[90m, \u001b[39m18.14287\u001b[90m, \u001b[39m18.14287\u001b[90m, \u001b[39m18.14287\u001b[90m, \u001b[39m18.142…\n",
      "$ species_code            \u001b[3m\u001b[90m<chr>\u001b[39m\u001b[23m \"Zostera capensis\"\u001b[90m, \u001b[39m\"Zostera capensis\"\u001b[90m, \u001b[39m\"Zoste…\n",
      "$ code_type               \u001b[3m\u001b[90m<chr>\u001b[39m\u001b[23m \"Genus species\"\u001b[90m, \u001b[39m\"Genus species\"\u001b[90m, \u001b[39m\"Genus speci…\n"
     ]
    }
   ],
   "source": [
    "zaf_data_df <- read_rds(\"../data/zaf_data_df.rds\") \n",
    "glimpse(zaf_data_df)"
   ]
  },
  {
   "cell_type": "code",
   "execution_count": 7,
   "id": "f321bf16-535e-4e9c-a341-3ea426209a9e",
   "metadata": {},
   "outputs": [
    {
     "data": {
      "text/html": [
       "<style>\n",
       ".list-inline {list-style: none; margin:0; padding: 0}\n",
       ".list-inline>li {display: inline-block}\n",
       ".list-inline>li:not(:last-child)::after {content: \"\\00b7\"; padding: 0 .5ex}\n",
       "</style>\n",
       "<ol class=list-inline><li>573</li><li>13</li></ol>\n"
      ],
      "text/latex": [
       "\\begin{enumerate*}\n",
       "\\item 573\n",
       "\\item 13\n",
       "\\end{enumerate*}\n"
      ],
      "text/markdown": [
       "1. 573\n",
       "2. 13\n",
       "\n",
       "\n"
      ],
      "text/plain": [
       "[1] 573  13"
      ]
     },
     "metadata": {},
     "output_type": "display_data"
    }
   ],
   "source": [
    "dim(zaf_data_df)"
   ]
  },
  {
   "cell_type": "code",
   "execution_count": 8,
   "id": "6bc58b2c-6e67-450d-8a4b-7dc09b429ed0",
   "metadata": {},
   "outputs": [
    {
     "data": {
      "text/html": [
       "<style>\n",
       ".list-inline {list-style: none; margin:0; padding: 0}\n",
       ".list-inline>li {display: inline-block}\n",
       ".list-inline>li:not(:last-child)::after {content: \"\\00b7\"; padding: 0 .5ex}\n",
       "</style>\n",
       "<ol class=list-inline><li>573</li><li>13</li></ol>\n"
      ],
      "text/latex": [
       "\\begin{enumerate*}\n",
       "\\item 573\n",
       "\\item 13\n",
       "\\end{enumerate*}\n"
      ],
      "text/markdown": [
       "1. 573\n",
       "2. 13\n",
       "\n",
       "\n"
      ],
      "text/plain": [
       "[1] 573  13"
      ]
     },
     "metadata": {},
     "output_type": "display_data"
    }
   ],
   "source": [
    "dim(zaf_data_df)"
   ]
  },
  {
   "cell_type": "code",
   "execution_count": 9,
   "id": "f58091cb-0592-49c5-895f-4cfdcbde1e89",
   "metadata": {},
   "outputs": [
    {
     "data": {
      "text/html": [
       "<style>\n",
       ".list-inline {list-style: none; margin:0; padding: 0}\n",
       ".list-inline>li {display: inline-block}\n",
       ".list-inline>li:not(:last-child)::after {content: \"\\00b7\"; padding: 0 .5ex}\n",
       "</style>\n",
       "<ol class=list-inline><li>'Bossert_et_al_2024'</li><li>'Machite_et_al'</li><li>'Ndhlovu_et_al'</li></ol>\n"
      ],
      "text/latex": [
       "\\begin{enumerate*}\n",
       "\\item 'Bossert\\_et\\_al\\_2024'\n",
       "\\item 'Machite\\_et\\_al'\n",
       "\\item 'Ndhlovu\\_et\\_al'\n",
       "\\end{enumerate*}\n"
      ],
      "text/markdown": [
       "1. 'Bossert_et_al_2024'\n",
       "2. 'Machite_et_al'\n",
       "3. 'Ndhlovu_et_al'\n",
       "\n",
       "\n"
      ],
      "text/plain": [
       "[1] \"Bossert_et_al_2024\" \"Machite_et_al\"      \"Ndhlovu_et_al\"     "
      ]
     },
     "metadata": {},
     "output_type": "display_data"
    }
   ],
   "source": [
    "unique(zaf_data_df$data_source)"
   ]
  },
  {
   "cell_type": "code",
   "execution_count": 10,
   "id": "263c278f-0306-4669-9418-8c47f7d2be8f",
   "metadata": {
    "scrolled": true
   },
   "outputs": [],
   "source": [
    "#zaf_data_df"
   ]
  },
  {
   "cell_type": "code",
   "execution_count": 11,
   "id": "08664e7e-444b-40f4-b06c-ae82a21b8998",
   "metadata": {},
   "outputs": [
    {
     "data": {
      "text/html": [
       "<style>\n",
       ".list-inline {list-style: none; margin:0; padding: 0}\n",
       ".list-inline>li {display: inline-block}\n",
       ".list-inline>li:not(:last-child)::after {content: \"\\00b7\"; padding: 0 .5ex}\n",
       "</style>\n",
       "<ol class=list-inline><li>'data_source'</li><li>'study_id'</li><li>'site_id'</li><li>'core_id'</li><li>'depth_min'</li><li>'depth_max'</li><li>'dry_bulk_density'</li><li>'fraction_organic_matter'</li><li>'year'</li><li>'latitude'</li><li>'longitude'</li><li>'species_code'</li><li>'code_type'</li></ol>\n"
      ],
      "text/latex": [
       "\\begin{enumerate*}\n",
       "\\item 'data\\_source'\n",
       "\\item 'study\\_id'\n",
       "\\item 'site\\_id'\n",
       "\\item 'core\\_id'\n",
       "\\item 'depth\\_min'\n",
       "\\item 'depth\\_max'\n",
       "\\item 'dry\\_bulk\\_density'\n",
       "\\item 'fraction\\_organic\\_matter'\n",
       "\\item 'year'\n",
       "\\item 'latitude'\n",
       "\\item 'longitude'\n",
       "\\item 'species\\_code'\n",
       "\\item 'code\\_type'\n",
       "\\end{enumerate*}\n"
      ],
      "text/markdown": [
       "1. 'data_source'\n",
       "2. 'study_id'\n",
       "3. 'site_id'\n",
       "4. 'core_id'\n",
       "5. 'depth_min'\n",
       "6. 'depth_max'\n",
       "7. 'dry_bulk_density'\n",
       "8. 'fraction_organic_matter'\n",
       "9. 'year'\n",
       "10. 'latitude'\n",
       "11. 'longitude'\n",
       "12. 'species_code'\n",
       "13. 'code_type'\n",
       "\n",
       "\n"
      ],
      "text/plain": [
       " [1] \"data_source\"             \"study_id\"               \n",
       " [3] \"site_id\"                 \"core_id\"                \n",
       " [5] \"depth_min\"               \"depth_max\"              \n",
       " [7] \"dry_bulk_density\"        \"fraction_organic_matter\"\n",
       " [9] \"year\"                    \"latitude\"               \n",
       "[11] \"longitude\"               \"species_code\"           \n",
       "[13] \"code_type\"              "
      ]
     },
     "metadata": {},
     "output_type": "display_data"
    }
   ],
   "source": [
    "setdiff(names(zaf_data_df), names(Krause_stocks))"
   ]
  },
  {
   "cell_type": "code",
   "execution_count": 180,
   "id": "1ecaed86-1b81-4dcf-966c-29ba30a0497a",
   "metadata": {},
   "outputs": [
    {
     "data": {
      "text/html": [
       "<table class=\"dataframe\">\n",
       "<caption>A tibble: 5 × 7</caption>\n",
       "<thead>\n",
       "\t<tr><th scope=col>Latitude</th><th scope=col>Longitude</th><th scope=col>Dry.Bulk.Density</th><th scope=col>Top.of.section</th><th scope=col>Bottom.of.section</th><th scope=col>Corg</th><th scope=col>year</th></tr>\n",
       "\t<tr><th scope=col>&lt;dbl&gt;</th><th scope=col>&lt;dbl&gt;</th><th scope=col>&lt;dbl&gt;</th><th scope=col>&lt;dbl&gt;</th><th scope=col>&lt;dbl&gt;</th><th scope=col>&lt;dbl&gt;</th><th scope=col>&lt;dbl&gt;</th></tr>\n",
       "</thead>\n",
       "<tbody>\n",
       "\t<tr><td>-32.81825</td><td> 18.19599</td><td>1.2302677</td><td> 6</td><td>10</td><td>0.35000000</td><td>2022</td></tr>\n",
       "\t<tr><td> 29.42223</td><td>-31.69004</td><td>1.2542200</td><td>10</td><td>20</td><td>1.64500000</td><td>2021</td></tr>\n",
       "\t<tr><td> 22.99216</td><td>-34.03369</td><td>1.4718000</td><td>10</td><td>20</td><td>0.18100000</td><td>2021</td></tr>\n",
       "\t<tr><td>-32.81825</td><td> 18.19599</td><td>0.6661589</td><td> 0</td><td> 3</td><td>0.24000000</td><td>2022</td></tr>\n",
       "\t<tr><td>-33.86624</td><td> 25.63304</td><td>       NA</td><td>10</td><td>25</td><td>0.03112808</td><td>2018</td></tr>\n",
       "</tbody>\n",
       "</table>\n"
      ],
      "text/latex": [
       "A tibble: 5 × 7\n",
       "\\begin{tabular}{lllllll}\n",
       " Latitude & Longitude & Dry.Bulk.Density & Top.of.section & Bottom.of.section & Corg & year\\\\\n",
       " <dbl> & <dbl> & <dbl> & <dbl> & <dbl> & <dbl> & <dbl>\\\\\n",
       "\\hline\n",
       "\t -32.81825 &  18.19599 & 1.2302677 &  6 & 10 & 0.35000000 & 2022\\\\\n",
       "\t  29.42223 & -31.69004 & 1.2542200 & 10 & 20 & 1.64500000 & 2021\\\\\n",
       "\t  22.99216 & -34.03369 & 1.4718000 & 10 & 20 & 0.18100000 & 2021\\\\\n",
       "\t -32.81825 &  18.19599 & 0.6661589 &  0 &  3 & 0.24000000 & 2022\\\\\n",
       "\t -33.86624 &  25.63304 &        NA & 10 & 25 & 0.03112808 & 2018\\\\\n",
       "\\end{tabular}\n"
      ],
      "text/markdown": [
       "\n",
       "A tibble: 5 × 7\n",
       "\n",
       "| Latitude &lt;dbl&gt; | Longitude &lt;dbl&gt; | Dry.Bulk.Density &lt;dbl&gt; | Top.of.section &lt;dbl&gt; | Bottom.of.section &lt;dbl&gt; | Corg &lt;dbl&gt; | year &lt;dbl&gt; |\n",
       "|---|---|---|---|---|---|---|\n",
       "| -32.81825 |  18.19599 | 1.2302677 |  6 | 10 | 0.35000000 | 2022 |\n",
       "|  29.42223 | -31.69004 | 1.2542200 | 10 | 20 | 1.64500000 | 2021 |\n",
       "|  22.99216 | -34.03369 | 1.4718000 | 10 | 20 | 0.18100000 | 2021 |\n",
       "| -32.81825 |  18.19599 | 0.6661589 |  0 |  3 | 0.24000000 | 2022 |\n",
       "| -33.86624 |  25.63304 |        NA | 10 | 25 | 0.03112808 | 2018 |\n",
       "\n"
      ],
      "text/plain": [
       "  Latitude  Longitude Dry.Bulk.Density Top.of.section Bottom.of.section\n",
       "1 -32.81825  18.19599 1.2302677         6             10               \n",
       "2  29.42223 -31.69004 1.2542200        10             20               \n",
       "3  22.99216 -34.03369 1.4718000        10             20               \n",
       "4 -32.81825  18.19599 0.6661589         0              3               \n",
       "5 -33.86624  25.63304        NA        10             25               \n",
       "  Corg       year\n",
       "1 0.35000000 2022\n",
       "2 1.64500000 2021\n",
       "3 0.18100000 2021\n",
       "4 0.24000000 2022\n",
       "5 0.03112808 2018"
      ]
     },
     "metadata": {},
     "output_type": "display_data"
    }
   ],
   "source": [
    "(Zcapensis_depthseries <- dplyr::rename(rename(zaf_data_df, Article.ID = study_id),\n",
    "                                               Study.site = site_id,\n",
    "                                               Latitude = latitude,\n",
    "                                               Longitude = longitude,\n",
    "                                               Seagrass.species = species_code,\n",
    "                                               Core.ID = core_id,\n",
    "                                               Top.of.section = depth_min, \n",
    "                                               Bottom.of.section = depth_max,\n",
    "                                               Dry.Bulk.Density = dry_bulk_density,\n",
    "                                               Corg = fraction_organic_matter) |> \n",
    "                                 dplyr::mutate(Publication.year = str_split_fixed(Article.ID, \"_\", 4)[, 4],\n",
    "                                     Seagrass.genus = str_split_fixed(Seagrass.species, \" \", 2)[,2],\n",
    "                                     Country = \"South Africa\",\n",
    "                                     Marine.ecoregion = \"Temperate Southern Africa\",\n",
    "                                     Seagrass.bioregion = \"Temperate Southern Oceans\",\n",
    "                                     Coastal.typology = \"Type I: Small deltas\",\n",
    "                                     Seagrass.functionalmorphological.group = \"Group B: Intermediate (Halodule, Zostera, Heterozostera, Syringodium, Cymodocea sp.)\",\n",
    "                                     Coastal.typology = if_else(Study.site == \"Langebaan\", \"Type III: Lagoons\", Coastal.typology)) |>\n",
    "                         dplyr::relocate(any_of(Krause_stocks_cols), .before = everything())) |>\n",
    "                         dplyr::select(where(is.numeric)) |>\n",
    "                         dplyr::sample_n(5)"
   ]
  },
  {
   "cell_type": "code",
   "execution_count": 45,
   "id": "15678d06-7072-46bc-ba49-633ad695be59",
   "metadata": {
    "editable": true,
    "scrolled": true,
    "slideshow": {
     "slide_type": ""
    },
    "tags": []
   },
   "outputs": [
    {
     "name": "stdout",
     "output_type": "stream",
     "text": [
      "c(\"Article.ID\", \"Publication.year\", \"Study.site\", \"Country\", \n",
      "\"Latitude\", \"Longitude\", \"Coastal.typology\", \"Marine.ecoregion\", \n",
      "\"Seagrass.bioregion\", \"Seagrass.functionalmorphological.group\", \n",
      "\"Seagrass.species\", \"Seagrass.genus\", \"Dry.Bulk.Density\", \"data_source\", \n",
      "\"Core.ID\", \"Top.of.section\", \"Bottom.of.section\", \"Corg\", \"year\", \n",
      "\"code_type\")\n"
     ]
    }
   ],
   "source": [
    " dput(colnames(Zcapensis_depthseries))"
   ]
  },
  {
   "cell_type": "code",
   "execution_count": 111,
   "id": "7a7eb4d3-7026-436d-9970-5ae3de1c3944",
   "metadata": {},
   "outputs": [],
   "source": [
    "grouping_cols <- c(\"Article.ID\", \"Publication.year\", \"Study.site\", \"Country\", \n",
    "                  \"Latitude\", \"Longitude\", \"Coastal.typology\", \"Marine.ecoregion\", \n",
    "                  \"Seagrass.bioregion\", \"Seagrass.functionalmorphological.group\", \n",
    "                  \"Seagrass.species\", \"Seagrass.genus\", \"data_source\", \n",
    "                  \"Core.ID\", \"year\", \"code_type\")"
   ]
  },
  {
   "cell_type": "code",
   "execution_count": 112,
   "id": "66077b56-2fce-48c2-b892-64f30b118769",
   "metadata": {
    "scrolled": true
   },
   "outputs": [],
   "source": [
    "coredata_slices <-  Zcapensis_depthseries |>\n",
    "                    dplyr::mutate(Thickness.sediment.slice = Bottom.of.section - Top.of.section,\n",
    "                                  Depth.at.center.of.slice = Top.of.section + (Thickness.sediment.slice/2),\n",
    "                                  depth_interval = Top.of.section + Thickness.sediment.slice,\n",
    "                                  Corg_DBD = Dry.Bulk.Density * (Corg/100), \n",
    "                                  Carbon_density = Corg_DBD * Thickness.sediment.slice,\n",
    "                                  Corg_DBD = Dry.Bulk.Density * (Corg/100), Corg_DBD_interval = Corg_DBD * Thickness.sediment.slice) |>\n",
    "                    dplyr::group_by(across(all_of(grouping_cols))) |>\n",
    "                    dplyr::mutate(cumsum_Corg_DBD = cumsum(Corg_DBD_interval),\n",
    "                                  carbon_stock_MgC_ha = cumsum_Corg_DBD * (1/1000000) * (100000000/1)) |>\n",
    "                        dplyr::ungroup() "
   ]
  },
  {
   "cell_type": "code",
   "execution_count": 113,
   "id": "d26e4e12-516e-4b03-93ae-f9e1c5ac3a62",
   "metadata": {},
   "outputs": [
    {
     "data": {
      "text/html": [
       "<style>\n",
       ".list-inline {list-style: none; margin:0; padding: 0}\n",
       ".list-inline>li {display: inline-block}\n",
       ".list-inline>li:not(:last-child)::after {content: \"\\00b7\"; padding: 0 .5ex}\n",
       "</style>\n",
       "<ol class=list-inline><li>573</li><li>28</li></ol>\n"
      ],
      "text/latex": [
       "\\begin{enumerate*}\n",
       "\\item 573\n",
       "\\item 28\n",
       "\\end{enumerate*}\n"
      ],
      "text/markdown": [
       "1. 573\n",
       "2. 28\n",
       "\n",
       "\n"
      ],
      "text/plain": [
       "[1] 573  28"
      ]
     },
     "metadata": {},
     "output_type": "display_data"
    },
    {
     "data": {
      "image/png": "[encoded data removed]",
      "text/plain": [
       "plot without title"
      ]
     },
     "metadata": {
      "image/png": {
       "height": 420,
       "width": 420
      }
     },
     "output_type": "display_data"
    }
   ],
   "source": [
    "dim(coredata_slices)\n",
    "inspectdf::inspect_cat(coredata_slices) |> inspectdf::show_plot()"
   ]
  },
  {
   "cell_type": "code",
   "execution_count": 114,
   "id": "5fd558c4-0070-45de-b243-6a6f548712fe",
   "metadata": {},
   "outputs": [
    {
     "name": "stdout",
     "output_type": "stream",
     "text": [
      "Rows: 573\n",
      "Columns: 28\n",
      "$ Article.ID                             \u001b[3m\u001b[90m<chr>\u001b[39m\u001b[23m \"Bossert_et_al_2024\"\u001b[90m, \u001b[39m\"Bossert_…\n",
      "$ Publication.year                       \u001b[3m\u001b[90m<chr>\u001b[39m\u001b[23m \"2024\"\u001b[90m, \u001b[39m\"2024\"\u001b[90m, \u001b[39m\"2024\"\u001b[90m, \u001b[39m\"2024\"\u001b[90m,\u001b[39m…\n",
      "$ Study.site                             \u001b[3m\u001b[90m<chr>\u001b[39m\u001b[23m \"Berg\"\u001b[90m, \u001b[39m\"Berg\"\u001b[90m, \u001b[39m\"Berg\"\u001b[90m, \u001b[39m\"Berg\"\u001b[90m,\u001b[39m…\n",
      "$ Country                                \u001b[3m\u001b[90m<chr>\u001b[39m\u001b[23m \"South Africa\"\u001b[90m, \u001b[39m\"South Africa\"\u001b[90m,\u001b[39m…\n",
      "$ Latitude                               \u001b[3m\u001b[90m<dbl>\u001b[39m\u001b[23m -32.7716\u001b[90m, \u001b[39m-32.7716\u001b[90m, \u001b[39m-32.7716\u001b[90m, \u001b[39m-…\n",
      "$ Longitude                              \u001b[3m\u001b[90m<dbl>\u001b[39m\u001b[23m 18.14287\u001b[90m, \u001b[39m18.14287\u001b[90m, \u001b[39m18.14287\u001b[90m, \u001b[39m1…\n",
      "$ Coastal.typology                       \u001b[3m\u001b[90m<chr>\u001b[39m\u001b[23m \"Type I: Small deltas\"\u001b[90m, \u001b[39m\"Type I…\n",
      "$ Marine.ecoregion                       \u001b[3m\u001b[90m<chr>\u001b[39m\u001b[23m \"Temperate Southern Africa\"\u001b[90m, \u001b[39m\"T…\n",
      "$ Seagrass.bioregion                     \u001b[3m\u001b[90m<chr>\u001b[39m\u001b[23m \"Temperate Southern Oceans\"\u001b[90m, \u001b[39m\"T…\n",
      "$ Seagrass.functionalmorphological.group \u001b[3m\u001b[90m<chr>\u001b[39m\u001b[23m \"Group B: Intermediate (Halodul…\n",
      "$ Seagrass.species                       \u001b[3m\u001b[90m<chr>\u001b[39m\u001b[23m \"Zostera capensis\"\u001b[90m, \u001b[39m\"Zostera ca…\n",
      "$ Seagrass.genus                         \u001b[3m\u001b[90m<chr>\u001b[39m\u001b[23m \"capensis\"\u001b[90m, \u001b[39m\"capensis\"\u001b[90m, \u001b[39m\"capens…\n",
      "$ Dry.Bulk.Density                       \u001b[3m\u001b[90m<dbl>\u001b[39m\u001b[23m 1.0301527\u001b[90m, \u001b[39m1.0991792\u001b[90m, \u001b[39m0.8814128…\n",
      "$ data_source                            \u001b[3m\u001b[90m<chr>\u001b[39m\u001b[23m \"Bossert_et_al_2024\"\u001b[90m, \u001b[39m\"Bossert_…\n",
      "$ Core.ID                                \u001b[3m\u001b[90m<chr>\u001b[39m\u001b[23m \"LWR_SS1_R1\"\u001b[90m, \u001b[39m\"LWR_SS1_R1\"\u001b[90m, \u001b[39m\"LW…\n",
      "$ Top.of.section                         \u001b[3m\u001b[90m<dbl>\u001b[39m\u001b[23m 0\u001b[90m, \u001b[39m3\u001b[90m, \u001b[39m6\u001b[90m, \u001b[39m10\u001b[90m, \u001b[39m0\u001b[90m, \u001b[39m3\u001b[90m, \u001b[39m6\u001b[90m, \u001b[39m10\u001b[90m, \u001b[39m0\u001b[90m, \u001b[39m3\u001b[90m,\u001b[39m…\n",
      "$ Bottom.of.section                      \u001b[3m\u001b[90m<dbl>\u001b[39m\u001b[23m 3\u001b[90m, \u001b[39m6\u001b[90m, \u001b[39m10\u001b[90m, \u001b[39m15\u001b[90m, \u001b[39m3\u001b[90m, \u001b[39m6\u001b[90m, \u001b[39m10\u001b[90m, \u001b[39m15\u001b[90m, \u001b[39m3\u001b[90m, \u001b[39m…\n",
      "$ Corg                                   \u001b[3m\u001b[90m<dbl>\u001b[39m\u001b[23m 0.40\u001b[90m, \u001b[39m0.25\u001b[90m, \u001b[39m0.97\u001b[90m, \u001b[39m0.45\u001b[90m, \u001b[39m0.34\u001b[90m, \u001b[39m0…\n",
      "$ year                                   \u001b[3m\u001b[90m<dbl>\u001b[39m\u001b[23m 2022\u001b[90m, \u001b[39m2022\u001b[90m, \u001b[39m2022\u001b[90m, \u001b[39m2022\u001b[90m, \u001b[39m2022\u001b[90m, \u001b[39m2…\n",
      "$ code_type                              \u001b[3m\u001b[90m<chr>\u001b[39m\u001b[23m \"Genus species\"\u001b[90m, \u001b[39m\"Genus species…\n",
      "$ Thickness.sediment.slice               \u001b[3m\u001b[90m<dbl>\u001b[39m\u001b[23m 3\u001b[90m, \u001b[39m3\u001b[90m, \u001b[39m4\u001b[90m, \u001b[39m5\u001b[90m, \u001b[39m3\u001b[90m, \u001b[39m3\u001b[90m, \u001b[39m4\u001b[90m, \u001b[39m5\u001b[90m, \u001b[39m3\u001b[90m, \u001b[39m3\u001b[90m, \u001b[39m4…\n",
      "$ Depth.at.center.of.slice               \u001b[3m\u001b[90m<dbl>\u001b[39m\u001b[23m 1.5\u001b[90m, \u001b[39m4.5\u001b[90m, \u001b[39m8.0\u001b[90m, \u001b[39m12.5\u001b[90m, \u001b[39m1.5\u001b[90m, \u001b[39m4.5\u001b[90m, \u001b[39m…\n",
      "$ depth_interval                         \u001b[3m\u001b[90m<dbl>\u001b[39m\u001b[23m 3\u001b[90m, \u001b[39m6\u001b[90m, \u001b[39m10\u001b[90m, \u001b[39m15\u001b[90m, \u001b[39m3\u001b[90m, \u001b[39m6\u001b[90m, \u001b[39m10\u001b[90m, \u001b[39m15\u001b[90m, \u001b[39m3\u001b[90m, \u001b[39m…\n",
      "$ Corg_DBD                               \u001b[3m\u001b[90m<dbl>\u001b[39m\u001b[23m 0.004120611\u001b[90m, \u001b[39m0.002747948\u001b[90m, \u001b[39m0.008…\n",
      "$ Carbon_density                         \u001b[3m\u001b[90m<dbl>\u001b[39m\u001b[23m 0.012361832\u001b[90m, \u001b[39m0.008243844\u001b[90m, \u001b[39m0.034…\n",
      "$ Corg_DBD_interval                      \u001b[3m\u001b[90m<dbl>\u001b[39m\u001b[23m 0.012361832\u001b[90m, \u001b[39m0.008243844\u001b[90m, \u001b[39m0.034…\n",
      "$ cumsum_Corg_DBD                        \u001b[3m\u001b[90m<dbl>\u001b[39m\u001b[23m 0.012361832\u001b[90m, \u001b[39m0.020605676\u001b[90m, \u001b[39m0.054…\n",
      "$ carbon_stock_MgC_ha                    \u001b[3m\u001b[90m<dbl>\u001b[39m\u001b[23m 1.2361832\u001b[90m, \u001b[39m2.0605676\u001b[90m, \u001b[39m5.4804493…\n"
     ]
    }
   ],
   "source": [
    "glimpse(coredata_slices)"
   ]
  },
  {
   "cell_type": "code",
   "execution_count": 115,
   "id": "936e41bf-a362-4543-b4bc-c4a1d7ce52d0",
   "metadata": {},
   "outputs": [
    {
     "data": {
      "text/plain": [
       "Study.site\n",
       "     Berg    Breede   Kariega Keurbooms    Knysna Kobonqaba    Kromme  Mngazana \n",
       "      160        80         5         1       102         7        26        59 \n",
       " Olifants Swartkops \n",
       "       40        93 "
      ]
     },
     "metadata": {},
     "output_type": "display_data"
    }
   ],
   "source": [
    "xtabs(~ Study.site, data = coredata_slices)"
   ]
  },
  {
   "cell_type": "code",
   "execution_count": 216,
   "id": "000cd8b2-9723-4117-938c-fd2ce8383043",
   "metadata": {},
   "outputs": [],
   "source": [
    "interpolate_slice <- function(data, x_val) {\n",
    "    \n",
    "  # Return NA if x_val is NA\n",
    "  if (is.na(x_val)) return(NA_real_)\n",
    "\n",
    "  # Rename columns to standard names (assumes only two columns: x and y)\n",
    "  clean_data <- data %>%\n",
    "    setNames(c(\"x\", \"y\")) %>%\n",
    "    filter(!is.na(x) & !is.na(y))\n",
    "\n",
    "  if (nrow(clean_data) == 0) return(NA_real_)\n",
    "\n",
    "  if (x_val > max(clean_data$x, na.rm = TRUE)) {\n",
    "    return(NA_real_)\n",
    "  }\n",
    "\n",
    "  model <- lm(y ~ x, data = clean_data)\n",
    "\n",
    "  predict(model, newdata = data.frame(x = x_val))\n",
    "}"
   ]
  },
  {
   "cell_type": "code",
   "execution_count": 217,
   "id": "1e2db5a1-a22b-4f85-be8c-6cb7dc2bd725",
   "metadata": {},
   "outputs": [
    {
     "data": {
      "text/html": [
       "<style>\n",
       ".list-inline {list-style: none; margin:0; padding: 0}\n",
       ".list-inline>li {display: inline-block}\n",
       ".list-inline>li:not(:last-child)::after {content: \"\\00b7\"; padding: 0 .5ex}\n",
       "</style>\n",
       "<ol class=list-inline><li>'Article.ID'</li><li>'Publication.year'</li><li>'Study.site'</li><li>'Country'</li><li>'Latitude'</li><li>'Longitude'</li><li>'Coastal.typology'</li><li>'Marine.ecoregion'</li><li>'Seagrass.bioregion'</li><li>'Seagrass.functionalmorphological.group'</li><li>'Seagrass.species'</li><li>'Seagrass.genus'</li><li>'Dry.Bulk.Density'</li><li>'data_source'</li><li>'Core.ID'</li><li>'Top.of.section'</li><li>'Bottom.of.section'</li><li>'Corg'</li><li>'year'</li><li>'code_type'</li><li>'Thickness.sediment.slice'</li><li>'Depth.at.center.of.slice'</li><li>'depth_interval'</li><li>'Corg_DBD'</li><li>'Carbon_density'</li><li>'Corg_DBD_interval'</li><li>'cumsum_Corg_DBD'</li><li>'carbon_stock_MgC_ha'</li></ol>\n"
      ],
      "text/latex": [
       "\\begin{enumerate*}\n",
       "\\item 'Article.ID'\n",
       "\\item 'Publication.year'\n",
       "\\item 'Study.site'\n",
       "\\item 'Country'\n",
       "\\item 'Latitude'\n",
       "\\item 'Longitude'\n",
       "\\item 'Coastal.typology'\n",
       "\\item 'Marine.ecoregion'\n",
       "\\item 'Seagrass.bioregion'\n",
       "\\item 'Seagrass.functionalmorphological.group'\n",
       "\\item 'Seagrass.species'\n",
       "\\item 'Seagrass.genus'\n",
       "\\item 'Dry.Bulk.Density'\n",
       "\\item 'data\\_source'\n",
       "\\item 'Core.ID'\n",
       "\\item 'Top.of.section'\n",
       "\\item 'Bottom.of.section'\n",
       "\\item 'Corg'\n",
       "\\item 'year'\n",
       "\\item 'code\\_type'\n",
       "\\item 'Thickness.sediment.slice'\n",
       "\\item 'Depth.at.center.of.slice'\n",
       "\\item 'depth\\_interval'\n",
       "\\item 'Corg\\_DBD'\n",
       "\\item 'Carbon\\_density'\n",
       "\\item 'Corg\\_DBD\\_interval'\n",
       "\\item 'cumsum\\_Corg\\_DBD'\n",
       "\\item 'carbon\\_stock\\_MgC\\_ha'\n",
       "\\end{enumerate*}\n"
      ],
      "text/markdown": [
       "1. 'Article.ID'\n",
       "2. 'Publication.year'\n",
       "3. 'Study.site'\n",
       "4. 'Country'\n",
       "5. 'Latitude'\n",
       "6. 'Longitude'\n",
       "7. 'Coastal.typology'\n",
       "8. 'Marine.ecoregion'\n",
       "9. 'Seagrass.bioregion'\n",
       "10. 'Seagrass.functionalmorphological.group'\n",
       "11. 'Seagrass.species'\n",
       "12. 'Seagrass.genus'\n",
       "13. 'Dry.Bulk.Density'\n",
       "14. 'data_source'\n",
       "15. 'Core.ID'\n",
       "16. 'Top.of.section'\n",
       "17. 'Bottom.of.section'\n",
       "18. 'Corg'\n",
       "19. 'year'\n",
       "20. 'code_type'\n",
       "21. 'Thickness.sediment.slice'\n",
       "22. 'Depth.at.center.of.slice'\n",
       "23. 'depth_interval'\n",
       "24. 'Corg_DBD'\n",
       "25. 'Carbon_density'\n",
       "26. 'Corg_DBD_interval'\n",
       "27. 'cumsum_Corg_DBD'\n",
       "28. 'carbon_stock_MgC_ha'\n",
       "\n",
       "\n"
      ],
      "text/plain": [
       " [1] \"Article.ID\"                            \n",
       " [2] \"Publication.year\"                      \n",
       " [3] \"Study.site\"                            \n",
       " [4] \"Country\"                               \n",
       " [5] \"Latitude\"                              \n",
       " [6] \"Longitude\"                             \n",
       " [7] \"Coastal.typology\"                      \n",
       " [8] \"Marine.ecoregion\"                      \n",
       " [9] \"Seagrass.bioregion\"                    \n",
       "[10] \"Seagrass.functionalmorphological.group\"\n",
       "[11] \"Seagrass.species\"                      \n",
       "[12] \"Seagrass.genus\"                        \n",
       "[13] \"Dry.Bulk.Density\"                      \n",
       "[14] \"data_source\"                           \n",
       "[15] \"Core.ID\"                               \n",
       "[16] \"Top.of.section\"                        \n",
       "[17] \"Bottom.of.section\"                     \n",
       "[18] \"Corg\"                                  \n",
       "[19] \"year\"                                  \n",
       "[20] \"code_type\"                             \n",
       "[21] \"Thickness.sediment.slice\"              \n",
       "[22] \"Depth.at.center.of.slice\"              \n",
       "[23] \"depth_interval\"                        \n",
       "[24] \"Corg_DBD\"                              \n",
       "[25] \"Carbon_density\"                        \n",
       "[26] \"Corg_DBD_interval\"                     \n",
       "[27] \"cumsum_Corg_DBD\"                       \n",
       "[28] \"carbon_stock_MgC_ha\"                   "
      ]
     },
     "metadata": {},
     "output_type": "display_data"
    }
   ],
   "source": [
    "colnames(coredata_slices)"
   ]
  },
  {
   "cell_type": "code",
   "execution_count": 118,
   "id": "e1efe48f-a846-436c-be05-125230b3bc6b",
   "metadata": {},
   "outputs": [],
   "source": [
    "soc_vars <- c(\"Corg\", \"Dry.Bulk.Density\")\n",
    "soc_depths  <- c(15, 20, 30, 50, 100)         "
   ]
  },
  {
   "cell_type": "code",
   "execution_count": 119,
   "id": "c4251db3-c236-4ac6-ad90-9d89c1693879",
   "metadata": {},
   "outputs": [],
   "source": [
    "# get_slice_val <- function(data, x_col, y_col, x_val) {\n",
    "#   match_row <- data[data[[x_col]] == x_val, , drop = FALSE]\n",
    "#   if (nrow(match_row) == 0) return(NA_real_)\n",
    "#   return(match_row[[y_col]][1])\n",
    "# }"
   ]
  },
  {
   "cell_type": "code",
   "execution_count": 168,
   "id": "f495426a-3aca-4a9d-83d1-28d66f0bdc60",
   "metadata": {},
   "outputs": [],
   "source": [
    "get_slice_val <- function(data, x_val) {\n",
    "\n",
    "      # Ensure input is a data.frame and has at least 2 columns\n",
    "      if (!is.data.frame(data) || ncol(data) < 2) return(NA_real_)\n",
    "      \n",
    "      x_col <- names(data)[1]\n",
    "      y_col <- names(data)[2]\n",
    "      \n",
    "      # If either column is missing, return NA\n",
    "      if (is.null(x_col) || is.null(y_col)) return(NA_real_)\n",
    "      \n",
    "      # Defensive: ensure x_col has non-NA entries to check\n",
    "      if (!x_col %in% names(data) || !y_col %in% names(data)) return(NA_real_)\n",
    "      \n",
    "      # Filter for exact match\n",
    "      match_row <- data[data[[x_col]] == x_val, , drop = FALSE]\n",
    "      \n",
    "      # Return NA if no match\n",
    "      if (nrow(match_row) == 0) return(NA_real_)\n",
    "      \n",
    "      return(match_row[[y_col]][1])\n",
    "    \n",
    "}"
   ]
  },
  {
   "cell_type": "code",
   "execution_count": 169,
   "id": "d6aecafc-3eb8-433a-83b4-bdfc3074da4c",
   "metadata": {},
   "outputs": [],
   "source": [
    "slice_check <- function(data, x_val, xreal) {\n",
    "    \n",
    "  if (isTRUE(x_val == xreal)) {\n",
    "      return(get_slice_val(data, x_val))\n",
    "  } else {\n",
    "     return(NA_real_)\n",
    "  }\n",
    "}"
   ]
  },
  {
   "cell_type": "code",
   "execution_count": 253,
   "id": "d295f4b0-30c7-46c6-9f31-6c2ad83bd14f",
   "metadata": {},
   "outputs": [],
   "source": [
    "predict_val <- function(data, x_val) {\n",
    "\n",
    "  # Return NA if x_val is NA\n",
    "  if (is.na(x_val)) return(NA_real_)\n",
    "\n",
    "  # # Rename columns to standard names (assumes only two columns: x and y)\n",
    "  clean_data <- data |>\n",
    "                setNames(c(\"x\", \"y\")) |>\n",
    "                dplyr::filter(!is.na(x) & !is.na(y))\n",
    "\n",
    "  if (nrow(clean_data) == 0) return(NA_real_)\n",
    "\n",
    "  if (x_val > max(clean_data$x, na.rm = TRUE)) {\n",
    "    return(NA_real_)\n",
    "  }\n",
    "\n",
    "   model <- lm(y ~ x, data = clean_data)\n",
    "\n",
    "   predict(model, newdata = data.frame(x = x_val))\n",
    "}"
   ]
  },
  {
   "cell_type": "code",
   "execution_count": 256,
   "id": "63292073-34dc-4430-8a3a-fc0ad77e4220",
   "metadata": {
    "scrolled": true
   },
   "outputs": [],
   "source": [
    "impute_ls <- lapply(soc_depths, function(depthx) {\n",
    "\n",
    "    int_var_name <- paste0(\"impute_DBD\", \"_\", depthx)\n",
    "    N_sample_count <-  paste0(\"stat_N_impute_DBD\")\n",
    "    \n",
    "    df <- coredata_slices |>\n",
    "          dplyr::group_by(Study.site) |>\n",
    "          dplyr::summarise(N_sample_count = n(),\n",
    "                           max_depth = max(Bottom.of.section),\n",
    "                           !!int_var_name:= predict_val(pick(depth_interval, Dry.Bulk.Density), x_val = depthx)) |>\n",
    "          dplyr::ungroup()\n",
    "              \n",
    "    return(df)\n",
    "})"
   ]
  },
  {
   "cell_type": "code",
   "execution_count": 268,
   "id": "18247ddf-1c30-4e32-8f88-bdb4a09a72de",
   "metadata": {},
   "outputs": [],
   "source": [
    "#impute_ls"
   ]
  },
  {
   "cell_type": "code",
   "execution_count": null,
   "id": "25ae4ec5-7b8b-4d6f-83f3-b8c129baa72e",
   "metadata": {},
   "outputs": [],
   "source": [
    "df <- df[, !duplicated(names(df))]"
   ]
  },
  {
   "cell_type": "code",
   "execution_count": 260,
   "id": "fb1469aa-66c1-4ecc-a1e4-00b792c6e930",
   "metadata": {},
   "outputs": [
    {
     "data": {
      "text/html": [
       "<table class=\"dataframe\">\n",
       "<caption>A data.frame: 10 × 8</caption>\n",
       "<thead>\n",
       "\t<tr><th scope=col>Study.site</th><th scope=col>N_sample_count</th><th scope=col>max_depth</th><th scope=col>impute_DBD_15</th><th scope=col>impute_DBD_20</th><th scope=col>impute_DBD_30</th><th scope=col>impute_DBD_50</th><th scope=col>impute_DBD_100</th></tr>\n",
       "\t<tr><th scope=col>&lt;chr&gt;</th><th scope=col>&lt;int&gt;</th><th scope=col>&lt;dbl&gt;</th><th scope=col>&lt;dbl&gt;</th><th scope=col>&lt;dbl&gt;</th><th scope=col>&lt;dbl&gt;</th><th scope=col>&lt;dbl&gt;</th><th scope=col>&lt;dbl&gt;</th></tr>\n",
       "</thead>\n",
       "<tbody>\n",
       "\t<tr><td>Berg     </td><td>160</td><td> 50</td><td>1.144087</td><td>1.152971</td><td>1.170741</td><td>1.206280</td><td>NA</td></tr>\n",
       "\t<tr><td>Breede   </td><td> 80</td><td> 50</td><td>1.211539</td><td>1.257015</td><td>1.347965</td><td>1.529866</td><td>NA</td></tr>\n",
       "\t<tr><td>Kariega  </td><td>  5</td><td>  5</td><td>      NA</td><td>      NA</td><td>      NA</td><td>      NA</td><td>NA</td></tr>\n",
       "\t<tr><td>Keurbooms</td><td>  1</td><td>  5</td><td>      NA</td><td>      NA</td><td>      NA</td><td>      NA</td><td>NA</td></tr>\n",
       "\t<tr><td>Knysna   </td><td>102</td><td>110</td><td>1.400082</td><td>1.408951</td><td>1.426688</td><td>1.462163</td><td>NA</td></tr>\n",
       "\t<tr><td>Kobonqaba</td><td>  7</td><td> 21</td><td>      NA</td><td>      NA</td><td>      NA</td><td>      NA</td><td>NA</td></tr>\n",
       "\t<tr><td>Kromme   </td><td> 26</td><td>120</td><td>      NA</td><td>      NA</td><td>      NA</td><td>      NA</td><td>NA</td></tr>\n",
       "\t<tr><td>Mngazana </td><td> 59</td><td> 50</td><td>1.318547</td><td>1.331170</td><td>1.356418</td><td>1.406913</td><td>NA</td></tr>\n",
       "\t<tr><td>Olifants </td><td> 40</td><td> 50</td><td>1.192538</td><td>1.227303</td><td>1.296833</td><td>1.435892</td><td>NA</td></tr>\n",
       "\t<tr><td>Swartkops</td><td> 93</td><td>100</td><td>1.341115</td><td>1.366123</td><td>1.416139</td><td>1.516170</td><td>NA</td></tr>\n",
       "</tbody>\n",
       "</table>\n"
      ],
      "text/latex": [
       "A data.frame: 10 × 8\n",
       "\\begin{tabular}{llllllll}\n",
       " Study.site & N\\_sample\\_count & max\\_depth & impute\\_DBD\\_15 & impute\\_DBD\\_20 & impute\\_DBD\\_30 & impute\\_DBD\\_50 & impute\\_DBD\\_100\\\\\n",
       " <chr> & <int> & <dbl> & <dbl> & <dbl> & <dbl> & <dbl> & <dbl>\\\\\n",
       "\\hline\n",
       "\t Berg      & 160 &  50 & 1.144087 & 1.152971 & 1.170741 & 1.206280 & NA\\\\\n",
       "\t Breede    &  80 &  50 & 1.211539 & 1.257015 & 1.347965 & 1.529866 & NA\\\\\n",
       "\t Kariega   &   5 &   5 &       NA &       NA &       NA &       NA & NA\\\\\n",
       "\t Keurbooms &   1 &   5 &       NA &       NA &       NA &       NA & NA\\\\\n",
       "\t Knysna    & 102 & 110 & 1.400082 & 1.408951 & 1.426688 & 1.462163 & NA\\\\\n",
       "\t Kobonqaba &   7 &  21 &       NA &       NA &       NA &       NA & NA\\\\\n",
       "\t Kromme    &  26 & 120 &       NA &       NA &       NA &       NA & NA\\\\\n",
       "\t Mngazana  &  59 &  50 & 1.318547 & 1.331170 & 1.356418 & 1.406913 & NA\\\\\n",
       "\t Olifants  &  40 &  50 & 1.192538 & 1.227303 & 1.296833 & 1.435892 & NA\\\\\n",
       "\t Swartkops &  93 & 100 & 1.341115 & 1.366123 & 1.416139 & 1.516170 & NA\\\\\n",
       "\\end{tabular}\n"
      ],
      "text/markdown": [
       "\n",
       "A data.frame: 10 × 8\n",
       "\n",
       "| Study.site &lt;chr&gt; | N_sample_count &lt;int&gt; | max_depth &lt;dbl&gt; | impute_DBD_15 &lt;dbl&gt; | impute_DBD_20 &lt;dbl&gt; | impute_DBD_30 &lt;dbl&gt; | impute_DBD_50 &lt;dbl&gt; | impute_DBD_100 &lt;dbl&gt; |\n",
       "|---|---|---|---|---|---|---|---|\n",
       "| Berg      | 160 |  50 | 1.144087 | 1.152971 | 1.170741 | 1.206280 | NA |\n",
       "| Breede    |  80 |  50 | 1.211539 | 1.257015 | 1.347965 | 1.529866 | NA |\n",
       "| Kariega   |   5 |   5 |       NA |       NA |       NA |       NA | NA |\n",
       "| Keurbooms |   1 |   5 |       NA |       NA |       NA |       NA | NA |\n",
       "| Knysna    | 102 | 110 | 1.400082 | 1.408951 | 1.426688 | 1.462163 | NA |\n",
       "| Kobonqaba |   7 |  21 |       NA |       NA |       NA |       NA | NA |\n",
       "| Kromme    |  26 | 120 |       NA |       NA |       NA |       NA | NA |\n",
       "| Mngazana  |  59 |  50 | 1.318547 | 1.331170 | 1.356418 | 1.406913 | NA |\n",
       "| Olifants  |  40 |  50 | 1.192538 | 1.227303 | 1.296833 | 1.435892 | NA |\n",
       "| Swartkops |  93 | 100 | 1.341115 | 1.366123 | 1.416139 | 1.516170 | NA |\n",
       "\n"
      ],
      "text/plain": [
       "   Study.site N_sample_count max_depth impute_DBD_15 impute_DBD_20\n",
       "1  Berg       160             50       1.144087      1.152971     \n",
       "2  Breede      80             50       1.211539      1.257015     \n",
       "3  Kariega      5              5             NA            NA     \n",
       "4  Keurbooms    1              5             NA            NA     \n",
       "5  Knysna     102            110       1.400082      1.408951     \n",
       "6  Kobonqaba    7             21             NA            NA     \n",
       "7  Kromme      26            120             NA            NA     \n",
       "8  Mngazana    59             50       1.318547      1.331170     \n",
       "9  Olifants    40             50       1.192538      1.227303     \n",
       "10 Swartkops   93            100       1.341115      1.366123     \n",
       "   impute_DBD_30 impute_DBD_50 impute_DBD_100\n",
       "1  1.170741      1.206280      NA            \n",
       "2  1.347965      1.529866      NA            \n",
       "3        NA            NA      NA            \n",
       "4        NA            NA      NA            \n",
       "5  1.426688      1.462163      NA            \n",
       "6        NA            NA      NA            \n",
       "7        NA            NA      NA            \n",
       "8  1.356418      1.406913      NA            \n",
       "9  1.296833      1.435892      NA            \n",
       "10 1.416139      1.516170      NA            "
      ]
     },
     "metadata": {},
     "output_type": "display_data"
    }
   ],
   "source": [
    "impute_df <- do.call(cbind, impute_ls) \n",
    "(impute_df <- impute_df[, !duplicated(names(impute_df))])"
   ]
  },
  {
   "cell_type": "code",
   "execution_count": 261,
   "id": "95bae1d2-38df-431b-98e3-c6244f176293",
   "metadata": {
    "scrolled": true
   },
   "outputs": [],
   "source": [
    "na_report_list <- list()\n",
    "\n",
    "core_varx_depthx_list <- lapply(soc_vars, function(varx) {\n",
    "  \n",
    "    lapply(soc_depths, function(depthx) {\n",
    "\n",
    "    var_name <- paste0(varx, \"_\", depthx)\n",
    "    int_var_name <- paste0(\"int_\", varx, \"_\", depthx)\n",
    "    N_sample_count <-  paste0(\"stat_N_sample_\", varx)\n",
    "    n_count <-  paste0(\"stat_n_sample_\", varx)\n",
    "\n",
    "    df <- coredata_slices |>\n",
    "          dplyr::group_by(across(all_of(grouping_cols))) |>\n",
    "          dplyr::summarise(!!N_sample_count := sum(!is.na(.data[[varx]])),\n",
    "                           !!n_count := n(),\n",
    "                           Depth.of.core = max(Bottom.of.section),\n",
    "                           !!var_name := get_slice_val(pick(depth_interval, all_of(varx)), x_val = depthx),\n",
    "                           !!int_var_name := interpolate_slice(pick(depth_interval, all_of(varx)), x_val = depthx),\n",
    "                           .groups = \"drop\") |>\n",
    "          dplyr::ungroup() \n",
    "\n",
    "    return(df)\n",
    "  })\n",
    "})"
   ]
  },
  {
   "cell_type": "code",
   "execution_count": 262,
   "id": "9c88fc6d-7512-4fb4-821f-9b24ad816fda",
   "metadata": {},
   "outputs": [],
   "source": [
    "core_varx_depthx_df <- Reduce(function(x, y)  merge(x, y), core_varx_depthx_list) |>  dplyr::select(-matches(\"\\\\.\\\\d+$\"))"
   ]
  },
  {
   "cell_type": "code",
   "execution_count": 263,
   "id": "c268ad44-8655-4d9e-96c6-8958eaca616d",
   "metadata": {},
   "outputs": [
    {
     "data": {
      "text/html": [
       "<style>\n",
       ".list-inline {list-style: none; margin:0; padding: 0}\n",
       ".list-inline>li {display: inline-block}\n",
       ".list-inline>li:not(:last-child)::after {content: \"\\00b7\"; padding: 0 .5ex}\n",
       "</style>\n",
       "<ol class=list-inline><li>137</li><li>41</li></ol>\n"
      ],
      "text/latex": [
       "\\begin{enumerate*}\n",
       "\\item 137\n",
       "\\item 41\n",
       "\\end{enumerate*}\n"
      ],
      "text/markdown": [
       "1. 137\n",
       "2. 41\n",
       "\n",
       "\n"
      ],
      "text/plain": [
       "[1] 137  41"
      ]
     },
     "metadata": {},
     "output_type": "display_data"
    },
    {
     "data": {
      "text/html": [
       "<style>\n",
       ".list-inline {list-style: none; margin:0; padding: 0}\n",
       ".list-inline>li {display: inline-block}\n",
       ".list-inline>li:not(:last-child)::after {content: \"\\00b7\"; padding: 0 .5ex}\n",
       "</style>\n",
       "<ol class=list-inline><li>'Article.ID'</li><li>'Publication.year'</li><li>'Study.site'</li><li>'Country'</li><li>'Latitude'</li><li>'Longitude'</li><li>'Coastal.typology'</li><li>'Marine.ecoregion'</li><li>'Seagrass.bioregion'</li><li>'Seagrass.functionalmorphological.group'</li><li>'Seagrass.species'</li><li>'Seagrass.genus'</li><li>'data_source'</li><li>'Core.ID'</li><li>'year'</li><li>'code_type'</li><li>'Depth.of.core'</li><li>'stat_N_sample_Corg'</li><li>'stat_n_sample_Corg'</li><li>'Corg_15'</li><li>'int_Corg_15'</li><li>'Corg_20'</li><li>'int_Corg_20'</li><li>'Corg_30'</li><li>'int_Corg_30'</li><li>'Corg_50'</li><li>'int_Corg_50'</li><li>'Corg_100'</li><li>'int_Corg_100'</li><li>'stat_N_sample_Dry.Bulk.Density'</li><li>'stat_n_sample_Dry.Bulk.Density'</li><li>'Dry.Bulk.Density_15'</li><li>'int_Dry.Bulk.Density_15'</li><li>'Dry.Bulk.Density_20'</li><li>'int_Dry.Bulk.Density_20'</li><li>'Dry.Bulk.Density_30'</li><li>'int_Dry.Bulk.Density_30'</li><li>'Dry.Bulk.Density_50'</li><li>'int_Dry.Bulk.Density_50'</li><li>'Dry.Bulk.Density_100'</li><li>'int_Dry.Bulk.Density_100'</li></ol>\n"
      ],
      "text/latex": [
       "\\begin{enumerate*}\n",
       "\\item 'Article.ID'\n",
       "\\item 'Publication.year'\n",
       "\\item 'Study.site'\n",
       "\\item 'Country'\n",
       "\\item 'Latitude'\n",
       "\\item 'Longitude'\n",
       "\\item 'Coastal.typology'\n",
       "\\item 'Marine.ecoregion'\n",
       "\\item 'Seagrass.bioregion'\n",
       "\\item 'Seagrass.functionalmorphological.group'\n",
       "\\item 'Seagrass.species'\n",
       "\\item 'Seagrass.genus'\n",
       "\\item 'data\\_source'\n",
       "\\item 'Core.ID'\n",
       "\\item 'year'\n",
       "\\item 'code\\_type'\n",
       "\\item 'Depth.of.core'\n",
       "\\item 'stat\\_N\\_sample\\_Corg'\n",
       "\\item 'stat\\_n\\_sample\\_Corg'\n",
       "\\item 'Corg\\_15'\n",
       "\\item 'int\\_Corg\\_15'\n",
       "\\item 'Corg\\_20'\n",
       "\\item 'int\\_Corg\\_20'\n",
       "\\item 'Corg\\_30'\n",
       "\\item 'int\\_Corg\\_30'\n",
       "\\item 'Corg\\_50'\n",
       "\\item 'int\\_Corg\\_50'\n",
       "\\item 'Corg\\_100'\n",
       "\\item 'int\\_Corg\\_100'\n",
       "\\item 'stat\\_N\\_sample\\_Dry.Bulk.Density'\n",
       "\\item 'stat\\_n\\_sample\\_Dry.Bulk.Density'\n",
       "\\item 'Dry.Bulk.Density\\_15'\n",
       "\\item 'int\\_Dry.Bulk.Density\\_15'\n",
       "\\item 'Dry.Bulk.Density\\_20'\n",
       "\\item 'int\\_Dry.Bulk.Density\\_20'\n",
       "\\item 'Dry.Bulk.Density\\_30'\n",
       "\\item 'int\\_Dry.Bulk.Density\\_30'\n",
       "\\item 'Dry.Bulk.Density\\_50'\n",
       "\\item 'int\\_Dry.Bulk.Density\\_50'\n",
       "\\item 'Dry.Bulk.Density\\_100'\n",
       "\\item 'int\\_Dry.Bulk.Density\\_100'\n",
       "\\end{enumerate*}\n"
      ],
      "text/markdown": [
       "1. 'Article.ID'\n",
       "2. 'Publication.year'\n",
       "3. 'Study.site'\n",
       "4. 'Country'\n",
       "5. 'Latitude'\n",
       "6. 'Longitude'\n",
       "7. 'Coastal.typology'\n",
       "8. 'Marine.ecoregion'\n",
       "9. 'Seagrass.bioregion'\n",
       "10. 'Seagrass.functionalmorphological.group'\n",
       "11. 'Seagrass.species'\n",
       "12. 'Seagrass.genus'\n",
       "13. 'data_source'\n",
       "14. 'Core.ID'\n",
       "15. 'year'\n",
       "16. 'code_type'\n",
       "17. 'Depth.of.core'\n",
       "18. 'stat_N_sample_Corg'\n",
       "19. 'stat_n_sample_Corg'\n",
       "20. 'Corg_15'\n",
       "21. 'int_Corg_15'\n",
       "22. 'Corg_20'\n",
       "23. 'int_Corg_20'\n",
       "24. 'Corg_30'\n",
       "25. 'int_Corg_30'\n",
       "26. 'Corg_50'\n",
       "27. 'int_Corg_50'\n",
       "28. 'Corg_100'\n",
       "29. 'int_Corg_100'\n",
       "30. 'stat_N_sample_Dry.Bulk.Density'\n",
       "31. 'stat_n_sample_Dry.Bulk.Density'\n",
       "32. 'Dry.Bulk.Density_15'\n",
       "33. 'int_Dry.Bulk.Density_15'\n",
       "34. 'Dry.Bulk.Density_20'\n",
       "35. 'int_Dry.Bulk.Density_20'\n",
       "36. 'Dry.Bulk.Density_30'\n",
       "37. 'int_Dry.Bulk.Density_30'\n",
       "38. 'Dry.Bulk.Density_50'\n",
       "39. 'int_Dry.Bulk.Density_50'\n",
       "40. 'Dry.Bulk.Density_100'\n",
       "41. 'int_Dry.Bulk.Density_100'\n",
       "\n",
       "\n"
      ],
      "text/plain": [
       " [1] \"Article.ID\"                            \n",
       " [2] \"Publication.year\"                      \n",
       " [3] \"Study.site\"                            \n",
       " [4] \"Country\"                               \n",
       " [5] \"Latitude\"                              \n",
       " [6] \"Longitude\"                             \n",
       " [7] \"Coastal.typology\"                      \n",
       " [8] \"Marine.ecoregion\"                      \n",
       " [9] \"Seagrass.bioregion\"                    \n",
       "[10] \"Seagrass.functionalmorphological.group\"\n",
       "[11] \"Seagrass.species\"                      \n",
       "[12] \"Seagrass.genus\"                        \n",
       "[13] \"data_source\"                           \n",
       "[14] \"Core.ID\"                               \n",
       "[15] \"year\"                                  \n",
       "[16] \"code_type\"                             \n",
       "[17] \"Depth.of.core\"                         \n",
       "[18] \"stat_N_sample_Corg\"                    \n",
       "[19] \"stat_n_sample_Corg\"                    \n",
       "[20] \"Corg_15\"                               \n",
       "[21] \"int_Corg_15\"                           \n",
       "[22] \"Corg_20\"                               \n",
       "[23] \"int_Corg_20\"                           \n",
       "[24] \"Corg_30\"                               \n",
       "[25] \"int_Corg_30\"                           \n",
       "[26] \"Corg_50\"                               \n",
       "[27] \"int_Corg_50\"                           \n",
       "[28] \"Corg_100\"                              \n",
       "[29] \"int_Corg_100\"                          \n",
       "[30] \"stat_N_sample_Dry.Bulk.Density\"        \n",
       "[31] \"stat_n_sample_Dry.Bulk.Density\"        \n",
       "[32] \"Dry.Bulk.Density_15\"                   \n",
       "[33] \"int_Dry.Bulk.Density_15\"               \n",
       "[34] \"Dry.Bulk.Density_20\"                   \n",
       "[35] \"int_Dry.Bulk.Density_20\"               \n",
       "[36] \"Dry.Bulk.Density_30\"                   \n",
       "[37] \"int_Dry.Bulk.Density_30\"               \n",
       "[38] \"Dry.Bulk.Density_50\"                   \n",
       "[39] \"int_Dry.Bulk.Density_50\"               \n",
       "[40] \"Dry.Bulk.Density_100\"                  \n",
       "[41] \"int_Dry.Bulk.Density_100\"              "
      ]
     },
     "metadata": {},
     "output_type": "display_data"
    }
   ],
   "source": [
    "dim(core_varx_depthx_df)\n",
    "colnames(core_varx_depthx_df)"
   ]
  },
  {
   "cell_type": "code",
   "execution_count": 277,
   "id": "81ba5d15-54b5-48ee-8c01-a2f8754a12f2",
   "metadata": {},
   "outputs": [],
   "source": [
    "core_varx_depthx_df <- merge(core_varx_depthx_df, impute_df) |>\n",
    "                       dplyr::mutate(int_Dry.Bulk.Density_15 = coalesce(int_Dry.Bulk.Density_15, impute_DBD_15),\n",
    "                                     int_Dry.Bulk.Density_20 = coalesce(int_Dry.Bulk.Density_20, impute_DBD_20),\n",
    "                                     int_Dry.Bulk.Density_30 = coalesce(int_Dry.Bulk.Density_30, impute_DBD_30),\n",
    "                                     int_Dry.Bulk.Density_50 = coalesce(int_Dry.Bulk.Density_50, impute_DBD_50),\n",
    "                                   int_Dry.Bulk.Density_100 = coalesce(int_Dry.Bulk.Density_100, impute_DBD_100))"
   ]
  },
  {
   "cell_type": "code",
   "execution_count": 278,
   "id": "86a96c83-7e4d-4025-bf8c-65eedea65582",
   "metadata": {},
   "outputs": [
    {
     "data": {
      "text/html": [
       "<style>\n",
       ".list-inline {list-style: none; margin:0; padding: 0}\n",
       ".list-inline>li {display: inline-block}\n",
       ".list-inline>li:not(:last-child)::after {content: \"\\00b7\"; padding: 0 .5ex}\n",
       "</style>\n",
       "<ol class=list-inline><li>573</li><li>28</li></ol>\n"
      ],
      "text/latex": [
       "\\begin{enumerate*}\n",
       "\\item 573\n",
       "\\item 28\n",
       "\\end{enumerate*}\n"
      ],
      "text/markdown": [
       "1. 573\n",
       "2. 28\n",
       "\n",
       "\n"
      ],
      "text/plain": [
       "[1] 573  28"
      ]
     },
     "metadata": {},
     "output_type": "display_data"
    },
    {
     "name": "stdout",
     "output_type": "stream",
     "text": [
      "c(\"Article.ID\", \"Publication.year\", \"Study.site\", \"Country\", \n",
      "\"Latitude\", \"Longitude\", \"Coastal.typology\", \"Marine.ecoregion\", \n",
      "\"Seagrass.bioregion\", \"Seagrass.functionalmorphological.group\", \n",
      "\"Seagrass.species\", \"Seagrass.genus\", \"Dry.Bulk.Density\", \"data_source\", \n",
      "\"Core.ID\", \"Top.of.section\", \"Bottom.of.section\", \"Corg\", \"year\", \n",
      "\"code_type\", \"Thickness.sediment.slice\", \"Depth.at.center.of.slice\", \n",
      "\"depth_interval\", \"Corg_DBD\", \"Carbon_density\", \"Corg_DBD_interval\", \n",
      "\"cumsum_Corg_DBD\", \"carbon_stock_MgC_ha\")\n"
     ]
    }
   ],
   "source": [
    "dim(coredata_slices)\n",
    "dput(colnames(coredata_slices))"
   ]
  },
  {
   "cell_type": "code",
   "execution_count": 279,
   "id": "3d4a11cd-02fe-4d3d-8ed7-5812b6a773ef",
   "metadata": {},
   "outputs": [],
   "source": [
    "get_nearest <- function (data, depth) {\n",
    "    \n",
    "    Bottom.of.section <- data[\"Bottom.of.section\"]  \n",
    "    if (depth > max(Bottom.of.section)) {\n",
    "        \n",
    "        nearest_depth = NA\n",
    "    }\n",
    "    else{ \n",
    "         return(max(Bottom.of.section[Bottom.of.section <=  depth], na.rm = TRUE))\n",
    "        }\n",
    "}"
   ]
  },
  {
   "cell_type": "code",
   "execution_count": 280,
   "id": "c53774dc-5005-43f8-95c1-5c7aaa9ef42b",
   "metadata": {},
   "outputs": [
    {
     "data": {
      "text/html": [
       "<style>\n",
       ".list-inline {list-style: none; margin:0; padding: 0}\n",
       ".list-inline>li {display: inline-block}\n",
       ".list-inline>li:not(:last-child)::after {content: \"\\00b7\"; padding: 0 .5ex}\n",
       "</style>\n",
       "<ol class=list-inline><li>'Article.ID'</li><li>'Publication.year'</li><li>'Study.site'</li><li>'Country'</li><li>'Latitude'</li><li>'Longitude'</li><li>'Coastal.typology'</li><li>'Marine.ecoregion'</li><li>'Seagrass.bioregion'</li><li>'Seagrass.functionalmorphological.group'</li><li>'Seagrass.species'</li><li>'Seagrass.genus'</li><li>'data_source'</li><li>'Core.ID'</li><li>'year'</li><li>'code_type'</li></ol>\n"
      ],
      "text/latex": [
       "\\begin{enumerate*}\n",
       "\\item 'Article.ID'\n",
       "\\item 'Publication.year'\n",
       "\\item 'Study.site'\n",
       "\\item 'Country'\n",
       "\\item 'Latitude'\n",
       "\\item 'Longitude'\n",
       "\\item 'Coastal.typology'\n",
       "\\item 'Marine.ecoregion'\n",
       "\\item 'Seagrass.bioregion'\n",
       "\\item 'Seagrass.functionalmorphological.group'\n",
       "\\item 'Seagrass.species'\n",
       "\\item 'Seagrass.genus'\n",
       "\\item 'data\\_source'\n",
       "\\item 'Core.ID'\n",
       "\\item 'year'\n",
       "\\item 'code\\_type'\n",
       "\\end{enumerate*}\n"
      ],
      "text/markdown": [
       "1. 'Article.ID'\n",
       "2. 'Publication.year'\n",
       "3. 'Study.site'\n",
       "4. 'Country'\n",
       "5. 'Latitude'\n",
       "6. 'Longitude'\n",
       "7. 'Coastal.typology'\n",
       "8. 'Marine.ecoregion'\n",
       "9. 'Seagrass.bioregion'\n",
       "10. 'Seagrass.functionalmorphological.group'\n",
       "11. 'Seagrass.species'\n",
       "12. 'Seagrass.genus'\n",
       "13. 'data_source'\n",
       "14. 'Core.ID'\n",
       "15. 'year'\n",
       "16. 'code_type'\n",
       "\n",
       "\n"
      ],
      "text/plain": [
       " [1] \"Article.ID\"                            \n",
       " [2] \"Publication.year\"                      \n",
       " [3] \"Study.site\"                            \n",
       " [4] \"Country\"                               \n",
       " [5] \"Latitude\"                              \n",
       " [6] \"Longitude\"                             \n",
       " [7] \"Coastal.typology\"                      \n",
       " [8] \"Marine.ecoregion\"                      \n",
       " [9] \"Seagrass.bioregion\"                    \n",
       "[10] \"Seagrass.functionalmorphological.group\"\n",
       "[11] \"Seagrass.species\"                      \n",
       "[12] \"Seagrass.genus\"                        \n",
       "[13] \"data_source\"                           \n",
       "[14] \"Core.ID\"                               \n",
       "[15] \"year\"                                  \n",
       "[16] \"code_type\"                             "
      ]
     },
     "metadata": {},
     "output_type": "display_data"
    }
   ],
   "source": [
    "grouping_cols"
   ]
  },
  {
   "cell_type": "code",
   "execution_count": 281,
   "id": "04f49fb3-0c01-431c-bdb8-c1edd052dfc4",
   "metadata": {},
   "outputs": [
    {
     "name": "stderr",
     "output_type": "stream",
     "text": [
      "\u001b[1m\u001b[22m`summarise()` has grouped output by 'Article.ID', 'Publication.year', 'Study.site', 'Country', 'Latitude', 'Longitude', 'Coastal.typology', 'Marine.ecoregion', 'Seagrass.bioregion',\n",
      "'Seagrass.functionalmorphological.group', 'Seagrass.species', 'Seagrass.genus', 'data_source', 'Core.ID', 'year'. You can override using the `.groups` argument.\n"
     ]
    }
   ],
   "source": [
    "coredata_cores <- coredata_slices |>\n",
    "                  dplyr::group_by(across(all_of(grouping_cols))) |>\n",
    "                  dplyr::summarise(d15 = get_nearest(cur_data(),  15), cumsum_Corg_DBD_n15 = get_slice_val(pick(Bottom.of.section, cumsum_Corg_DBD), x_val = d15),\n",
    "                                 d20 = get_nearest(cur_data(),  20), cumsum_Corg_DBD_n20 = get_slice_val(pick(Bottom.of.section, cumsum_Corg_DBD), x_val = d20),\n",
    "                                 d30 = get_nearest(cur_data(),  30), cumsum_Corg_DBD_n30 = get_slice_val(pick(Bottom.of.section, cumsum_Corg_DBD), x_val = d30),\n",
    "                                 d50 = get_nearest(cur_data(),  50), cumsum_Corg_DBD_n50 = get_slice_val(pick(Bottom.of.section, cumsum_Corg_DBD), x_val = d50),\n",
    "                                 d100 = get_nearest(cur_data(), 100), cumsum_Corg_DBD_n100 = get_slice_val(pick(Bottom.of.section, cumsum_Corg_DBD), x_val = d100),\n",
    "                                 Sampling.depth = max(Bottom.of.section),\n",
    "                                 Corg.stock = get_slice_val(pick(Bottom.of.section, carbon_stock_MgC_ha), x_val = Sampling.depth),\n",
    "                                 Corg.stock.15cm = get_slice_val(pick(Bottom.of.section, carbon_stock_MgC_ha), x_val = 15),\n",
    "                                 Corg.stock.20cm = get_slice_val(pick(Bottom.of.section, carbon_stock_MgC_ha), x_val = 20),\n",
    "                                 Corg.stock.30cm = get_slice_val(pick(Bottom.of.section, carbon_stock_MgC_ha), x_val = 30),\n",
    "                                 Corg.stock.50cm = get_slice_val(pick(Bottom.of.section, carbon_stock_MgC_ha), x_val = 50),\n",
    "                                 Corg.stock.100cm = get_slice_val(pick(Bottom.of.section, carbon_stock_MgC_ha), x_val = 100)) |>\n",
    "                 dplyr::ungroup()"
   ]
  },
  {
   "cell_type": "code",
   "execution_count": 282,
   "id": "01d8f640-cb7b-433b-a1e0-d968b7d6c1d3",
   "metadata": {},
   "outputs": [
    {
     "data": {
      "text/html": [
       "<table class=\"dataframe\">\n",
       "<caption>A tibble: 6 × 10</caption>\n",
       "<thead>\n",
       "\t<tr><th scope=col>Article.ID</th><th scope=col>Publication.year</th><th scope=col>Study.site</th><th scope=col>Sampling.depth</th><th scope=col>Corg.stock</th><th scope=col>Corg.stock.15cm</th><th scope=col>Corg.stock.20cm</th><th scope=col>Corg.stock.30cm</th><th scope=col>Corg.stock.50cm</th><th scope=col>Corg.stock.100cm</th></tr>\n",
       "\t<tr><th scope=col>&lt;chr&gt;</th><th scope=col>&lt;chr&gt;</th><th scope=col>&lt;chr&gt;</th><th scope=col>&lt;dbl&gt;</th><th scope=col>&lt;dbl&gt;</th><th scope=col>&lt;dbl&gt;</th><th scope=col>&lt;dbl&gt;</th><th scope=col>&lt;dbl&gt;</th><th scope=col>&lt;dbl&gt;</th><th scope=col>&lt;dbl&gt;</th></tr>\n",
       "</thead>\n",
       "<tbody>\n",
       "\t<tr><td>Bekker_2015</td><td></td><td>Knysna </td><td>5</td><td>NA</td><td>NA</td><td>NA</td><td>NA</td><td>NA</td><td>NA</td></tr>\n",
       "\t<tr><td>Bekker_2015</td><td></td><td>Knysna </td><td>5</td><td>NA</td><td>NA</td><td>NA</td><td>NA</td><td>NA</td><td>NA</td></tr>\n",
       "\t<tr><td>Bekker_2015</td><td></td><td>Knysna </td><td>5</td><td>NA</td><td>NA</td><td>NA</td><td>NA</td><td>NA</td><td>NA</td></tr>\n",
       "\t<tr><td>Bekker_2015</td><td></td><td>Knysna </td><td>5</td><td>NA</td><td>NA</td><td>NA</td><td>NA</td><td>NA</td><td>NA</td></tr>\n",
       "\t<tr><td>Lemley_2018</td><td></td><td>Kariega</td><td>5</td><td>NA</td><td>NA</td><td>NA</td><td>NA</td><td>NA</td><td>NA</td></tr>\n",
       "\t<tr><td>Lemley_2018</td><td></td><td>Kariega</td><td>5</td><td>NA</td><td>NA</td><td>NA</td><td>NA</td><td>NA</td><td>NA</td></tr>\n",
       "</tbody>\n",
       "</table>\n"
      ],
      "text/latex": [
       "A tibble: 6 × 10\n",
       "\\begin{tabular}{llllllllll}\n",
       " Article.ID & Publication.year & Study.site & Sampling.depth & Corg.stock & Corg.stock.15cm & Corg.stock.20cm & Corg.stock.30cm & Corg.stock.50cm & Corg.stock.100cm\\\\\n",
       " <chr> & <chr> & <chr> & <dbl> & <dbl> & <dbl> & <dbl> & <dbl> & <dbl> & <dbl>\\\\\n",
       "\\hline\n",
       "\t Bekker\\_2015 &  & Knysna  & 5 & NA & NA & NA & NA & NA & NA\\\\\n",
       "\t Bekker\\_2015 &  & Knysna  & 5 & NA & NA & NA & NA & NA & NA\\\\\n",
       "\t Bekker\\_2015 &  & Knysna  & 5 & NA & NA & NA & NA & NA & NA\\\\\n",
       "\t Bekker\\_2015 &  & Knysna  & 5 & NA & NA & NA & NA & NA & NA\\\\\n",
       "\t Lemley\\_2018 &  & Kariega & 5 & NA & NA & NA & NA & NA & NA\\\\\n",
       "\t Lemley\\_2018 &  & Kariega & 5 & NA & NA & NA & NA & NA & NA\\\\\n",
       "\\end{tabular}\n"
      ],
      "text/markdown": [
       "\n",
       "A tibble: 6 × 10\n",
       "\n",
       "| Article.ID &lt;chr&gt; | Publication.year &lt;chr&gt; | Study.site &lt;chr&gt; | Sampling.depth &lt;dbl&gt; | Corg.stock &lt;dbl&gt; | Corg.stock.15cm &lt;dbl&gt; | Corg.stock.20cm &lt;dbl&gt; | Corg.stock.30cm &lt;dbl&gt; | Corg.stock.50cm &lt;dbl&gt; | Corg.stock.100cm &lt;dbl&gt; |\n",
       "|---|---|---|---|---|---|---|---|---|---|\n",
       "| Bekker_2015 | <!----> | Knysna  | 5 | NA | NA | NA | NA | NA | NA |\n",
       "| Bekker_2015 | <!----> | Knysna  | 5 | NA | NA | NA | NA | NA | NA |\n",
       "| Bekker_2015 | <!----> | Knysna  | 5 | NA | NA | NA | NA | NA | NA |\n",
       "| Bekker_2015 | <!----> | Knysna  | 5 | NA | NA | NA | NA | NA | NA |\n",
       "| Lemley_2018 | <!----> | Kariega | 5 | NA | NA | NA | NA | NA | NA |\n",
       "| Lemley_2018 | <!----> | Kariega | 5 | NA | NA | NA | NA | NA | NA |\n",
       "\n"
      ],
      "text/plain": [
       "  Article.ID  Publication.year Study.site Sampling.depth Corg.stock\n",
       "1 Bekker_2015                  Knysna     5              NA        \n",
       "2 Bekker_2015                  Knysna     5              NA        \n",
       "3 Bekker_2015                  Knysna     5              NA        \n",
       "4 Bekker_2015                  Knysna     5              NA        \n",
       "5 Lemley_2018                  Kariega    5              NA        \n",
       "6 Lemley_2018                  Kariega    5              NA        \n",
       "  Corg.stock.15cm Corg.stock.20cm Corg.stock.30cm Corg.stock.50cm\n",
       "1 NA              NA              NA              NA             \n",
       "2 NA              NA              NA              NA             \n",
       "3 NA              NA              NA              NA             \n",
       "4 NA              NA              NA              NA             \n",
       "5 NA              NA              NA              NA             \n",
       "6 NA              NA              NA              NA             \n",
       "  Corg.stock.100cm\n",
       "1 NA              \n",
       "2 NA              \n",
       "3 NA              \n",
       "4 NA              \n",
       "5 NA              \n",
       "6 NA              "
      ]
     },
     "metadata": {},
     "output_type": "display_data"
    }
   ],
   "source": [
    "coredata_cores |>\n",
    "dplyr::filter(Sampling.depth == 5) |>\n",
    "dplyr::select(c(Article.ID, Publication.year, Study.site, Sampling.depth), matches(\"Corg.stock\")) |>\n",
    "head()"
   ]
  },
  {
   "cell_type": "code",
   "execution_count": 283,
   "id": "6f7e28d4-e394-4d7d-945b-5cdeff965890",
   "metadata": {},
   "outputs": [],
   "source": [
    "core_varx_Corg_raw <- merge(core_varx_depthx_df, coredata_cores) |>        \n",
    "                      dplyr::mutate(\n",
    "                        # Depth 15\n",
    "                        Corg_15 = coalesce(Corg_15, int_Corg_15),\n",
    "                        Dry.Bulk.Density_15 = coalesce(Dry.Bulk.Density_15, int_Dry.Bulk.Density_15),\n",
    "                        depth_diff15 = 15 - d15,\n",
    "                        Carbon_density_15 = if_else(\n",
    "                          depth_diff15 != 0,\n",
    "                          Dry.Bulk.Density_15 * (Corg_15 / 100) * depth_diff15,\n",
    "                          NA_real_\n",
    "                        ),\n",
    "                        Corg.stock.15cm = if_else(\n",
    "                          is.na(Corg.stock.15cm),\n",
    "                          (cumsum_Corg_DBD_n15 + Carbon_density_15) * 100,\n",
    "                          Corg.stock.15cm\n",
    "                        ),\n",
    "                    \n",
    "                        # Depth 20\n",
    "                        Corg_20 = coalesce(Corg_20, int_Corg_20),\n",
    "                        Dry.Bulk.Density_20 = coalesce(Dry.Bulk.Density_20, int_Dry.Bulk.Density_20),\n",
    "                        depth_diff20 = 20 - d20,\n",
    "                        Carbon_density_20 = if_else(\n",
    "                          depth_diff20 != 0,\n",
    "                          Dry.Bulk.Density_20 * (Corg_20 / 100) * depth_diff20,\n",
    "                          NA_real_\n",
    "                        ),\n",
    "                        Corg.stock.20cm = if_else(\n",
    "                          is.na(Corg.stock.20cm),\n",
    "                          (cumsum_Corg_DBD_n20 + Carbon_density_20) * 100,\n",
    "                          Corg.stock.20cm\n",
    "                        ),\n",
    "                \n",
    "                        # Depth 30\n",
    "                        Corg_30 = coalesce(Corg_30, int_Corg_30),\n",
    "                        Dry.Bulk.Density_30 = coalesce(Dry.Bulk.Density_30, int_Dry.Bulk.Density_30),\n",
    "                        depth_diff30 = 30 - d30,\n",
    "                        Carbon_density_30 = if_else(\n",
    "                          depth_diff30 != 0,\n",
    "                          Dry.Bulk.Density_30 * (Corg_30 / 100) * depth_diff30,\n",
    "                          NA_real_\n",
    "                        ),\n",
    "                        Corg.stock.30cm = if_else(\n",
    "                          is.na(Corg.stock.30cm),\n",
    "                          (cumsum_Corg_DBD_n30 + Carbon_density_30) * 100,\n",
    "                          Corg.stock.30cm\n",
    "                        ),\n",
    "                    \n",
    "                        # Depth 50\n",
    "                        Corg_50 = coalesce(Corg_50, int_Corg_50),\n",
    "                        Dry.Bulk.Density_50 = coalesce(Dry.Bulk.Density_50, int_Dry.Bulk.Density_50),\n",
    "                        depth_diff50 = 50 - d50,\n",
    "                        Carbon_density_50 = if_else(\n",
    "                          depth_diff50 != 0,\n",
    "                          Dry.Bulk.Density_50 * (Corg_50 / 100) * depth_diff50,\n",
    "                          NA_real_\n",
    "                        ),\n",
    "                        Corg.stock.50cm = if_else(\n",
    "                          is.na(Corg.stock.50cm),\n",
    "                          (cumsum_Corg_DBD_n50 + Carbon_density_50) * 100,\n",
    "                          Corg.stock.50cm\n",
    "                        ),\n",
    "                    \n",
    "                        # Depth 100\n",
    "                        Corg_100 = coalesce(Corg_100, int_Corg_100),\n",
    "                        Dry.Bulk.Density_100 = coalesce(Dry.Bulk.Density_100, int_Dry.Bulk.Density_100),\n",
    "                        depth_diff100 = 100 - d100,\n",
    "                        Carbon_density_100 = if_else(\n",
    "                          depth_diff100 != 0,\n",
    "                          Dry.Bulk.Density_100 * (Corg_100 / 100) * depth_diff100,\n",
    "                          NA_real_\n",
    "                        ),\n",
    "                        Corg.stock.100cm = if_else(\n",
    "                          is.na(Corg.stock.100cm),\n",
    "                          (cumsum_Corg_DBD_n100 + Carbon_density_100) * 100,\n",
    "                          Corg.stock.100cm\n",
    "                        )\n",
    "                      ) "
   ]
  },
  {
   "cell_type": "code",
   "execution_count": 284,
   "id": "e472e47f-b464-4426-a64d-1ad7967f6bc0",
   "metadata": {},
   "outputs": [
    {
     "data": {
      "text/html": [
       "<style>\n",
       ".list-inline {list-style: none; margin:0; padding: 0}\n",
       ".list-inline>li {display: inline-block}\n",
       ".list-inline>li:not(:last-child)::after {content: \"\\00b7\"; padding: 0 .5ex}\n",
       "</style>\n",
       "<ol class=list-inline><li>137</li><li>75</li></ol>\n"
      ],
      "text/latex": [
       "\\begin{enumerate*}\n",
       "\\item 137\n",
       "\\item 75\n",
       "\\end{enumerate*}\n"
      ],
      "text/markdown": [
       "1. 137\n",
       "2. 75\n",
       "\n",
       "\n"
      ],
      "text/plain": [
       "[1] 137  75"
      ]
     },
     "metadata": {},
     "output_type": "display_data"
    }
   ],
   "source": [
    "dim(core_varx_Corg_raw)"
   ]
  },
  {
   "cell_type": "code",
   "execution_count": 285,
   "id": "5c27932e-74b3-4663-a4f4-2f27ade19b5f",
   "metadata": {},
   "outputs": [],
   "source": [
    "missing_cols <- setdiff(Krause_stocks_cols, names(core_varx_Corg_raw))\n",
    "core_varx_Corg_raw[missing_cols] <- NA\n",
    "core_varx_Corg_raw <- dplyr::relocate(core_varx_Corg_raw, any_of(Krause_stocks_cols)) "
   ]
  },
  {
   "cell_type": "code",
   "execution_count": 286,
   "id": "989d0c5b-7bcb-49b7-8033-2543697587ad",
   "metadata": {},
   "outputs": [
    {
     "data": {
      "text/html": [
       "<style>\n",
       ".list-inline {list-style: none; margin:0; padding: 0}\n",
       ".list-inline>li {display: inline-block}\n",
       ".list-inline>li:not(:last-child)::after {content: \"\\00b7\"; padding: 0 .5ex}\n",
       "</style>\n",
       "<ol class=list-inline><li>137</li><li>98</li></ol>\n"
      ],
      "text/latex": [
       "\\begin{enumerate*}\n",
       "\\item 137\n",
       "\\item 98\n",
       "\\end{enumerate*}\n"
      ],
      "text/markdown": [
       "1. 137\n",
       "2. 98\n",
       "\n",
       "\n"
      ],
      "text/plain": [
       "[1] 137  98"
      ]
     },
     "metadata": {},
     "output_type": "display_data"
    }
   ],
   "source": [
    "dim(core_varx_Corg_raw)"
   ]
  },
  {
   "cell_type": "code",
   "execution_count": 287,
   "id": "795f0c7d-48a3-4822-b193-5f3ad4f86b4a",
   "metadata": {},
   "outputs": [
    {
     "data": {
      "text/html": [
       "<table class=\"dataframe\">\n",
       "<caption>A tibble: 44 × 3</caption>\n",
       "<thead>\n",
       "\t<tr><th scope=col>col_name</th><th scope=col>cnt</th><th scope=col>pcnt</th></tr>\n",
       "\t<tr><th scope=col>&lt;chr&gt;</th><th scope=col>&lt;int&gt;</th><th scope=col>&lt;dbl&gt;</th></tr>\n",
       "</thead>\n",
       "<tbody>\n",
       "\t<tr><td>Carbon_density_30      </td><td>121</td><td>88.32117</td></tr>\n",
       "\t<tr><td>Carbon_density_20      </td><td>120</td><td>87.59124</td></tr>\n",
       "\t<tr><td>Corg_100               </td><td>118</td><td>86.13139</td></tr>\n",
       "\t<tr><td>int_Corg_100           </td><td>118</td><td>86.13139</td></tr>\n",
       "\t<tr><td>d100                   </td><td>113</td><td>82.48175</td></tr>\n",
       "\t<tr><td>depth_diff100          </td><td>113</td><td>82.48175</td></tr>\n",
       "\t<tr><td>Corg.stock.50cm        </td><td> 98</td><td>71.53285</td></tr>\n",
       "\t<tr><td>cumsum_Corg_DBD_n50    </td><td> 98</td><td>71.53285</td></tr>\n",
       "\t<tr><td>Corg.stock.30cm        </td><td> 91</td><td>66.42336</td></tr>\n",
       "\t<tr><td>cumsum_Corg_DBD_n30    </td><td> 91</td><td>66.42336</td></tr>\n",
       "\t<tr><td>cumsum_Corg_DBD_n20    </td><td> 90</td><td>65.69343</td></tr>\n",
       "\t<tr><td>Corg.stock.20cm        </td><td> 90</td><td>65.69343</td></tr>\n",
       "\t<tr><td>Corg_50                </td><td> 77</td><td>56.20438</td></tr>\n",
       "\t<tr><td>int_Corg_50            </td><td> 77</td><td>56.20438</td></tr>\n",
       "\t<tr><td>d50                    </td><td> 74</td><td>54.01460</td></tr>\n",
       "\t<tr><td>Carbon_density_15      </td><td> 74</td><td>54.01460</td></tr>\n",
       "\t<tr><td>depth_diff50           </td><td> 74</td><td>54.01460</td></tr>\n",
       "\t<tr><td>Corg_30                </td><td> 69</td><td>50.36496</td></tr>\n",
       "\t<tr><td>int_Corg_30            </td><td> 69</td><td>50.36496</td></tr>\n",
       "\t<tr><td>Corg_20                </td><td> 67</td><td>48.90511</td></tr>\n",
       "\t<tr><td>int_Corg_20            </td><td> 67</td><td>48.90511</td></tr>\n",
       "\t<tr><td>d30                    </td><td> 66</td><td>48.17518</td></tr>\n",
       "\t<tr><td>depth_diff30           </td><td> 66</td><td>48.17518</td></tr>\n",
       "\t<tr><td>d20                    </td><td> 64</td><td>46.71533</td></tr>\n",
       "\t<tr><td>depth_diff20           </td><td> 64</td><td>46.71533</td></tr>\n",
       "\t<tr><td>Corg.stock             </td><td> 45</td><td>32.84672</td></tr>\n",
       "\t<tr><td>Corg.stock.15cm        </td><td> 45</td><td>32.84672</td></tr>\n",
       "\t<tr><td>cumsum_Corg_DBD_n15    </td><td> 45</td><td>32.84672</td></tr>\n",
       "\t<tr><td>Corg_15                </td><td> 21</td><td>15.32847</td></tr>\n",
       "\t<tr><td>int_Corg_15            </td><td> 21</td><td>15.32847</td></tr>\n",
       "\t<tr><td>d15                    </td><td> 19</td><td>13.86861</td></tr>\n",
       "\t<tr><td>depth_diff15           </td><td> 19</td><td>13.86861</td></tr>\n",
       "\t<tr><td>impute_DBD_15          </td><td> 17</td><td>12.40876</td></tr>\n",
       "\t<tr><td>impute_DBD_20          </td><td> 17</td><td>12.40876</td></tr>\n",
       "\t<tr><td>impute_DBD_30          </td><td> 17</td><td>12.40876</td></tr>\n",
       "\t<tr><td>impute_DBD_50          </td><td> 17</td><td>12.40876</td></tr>\n",
       "\t<tr><td>Dry.Bulk.Density_15    </td><td> 17</td><td>12.40876</td></tr>\n",
       "\t<tr><td>int_Dry.Bulk.Density_15</td><td> 17</td><td>12.40876</td></tr>\n",
       "\t<tr><td>Dry.Bulk.Density_20    </td><td> 17</td><td>12.40876</td></tr>\n",
       "\t<tr><td>int_Dry.Bulk.Density_20</td><td> 17</td><td>12.40876</td></tr>\n",
       "\t<tr><td>Dry.Bulk.Density_30    </td><td> 17</td><td>12.40876</td></tr>\n",
       "\t<tr><td>int_Dry.Bulk.Density_30</td><td> 17</td><td>12.40876</td></tr>\n",
       "\t<tr><td>Dry.Bulk.Density_50    </td><td> 17</td><td>12.40876</td></tr>\n",
       "\t<tr><td>int_Dry.Bulk.Density_50</td><td> 17</td><td>12.40876</td></tr>\n",
       "</tbody>\n",
       "</table>\n"
      ],
      "text/latex": [
       "A tibble: 44 × 3\n",
       "\\begin{tabular}{lll}\n",
       " col\\_name & cnt & pcnt\\\\\n",
       " <chr> & <int> & <dbl>\\\\\n",
       "\\hline\n",
       "\t Carbon\\_density\\_30       & 121 & 88.32117\\\\\n",
       "\t Carbon\\_density\\_20       & 120 & 87.59124\\\\\n",
       "\t Corg\\_100                & 118 & 86.13139\\\\\n",
       "\t int\\_Corg\\_100            & 118 & 86.13139\\\\\n",
       "\t d100                    & 113 & 82.48175\\\\\n",
       "\t depth\\_diff100           & 113 & 82.48175\\\\\n",
       "\t Corg.stock.50cm         &  98 & 71.53285\\\\\n",
       "\t cumsum\\_Corg\\_DBD\\_n50     &  98 & 71.53285\\\\\n",
       "\t Corg.stock.30cm         &  91 & 66.42336\\\\\n",
       "\t cumsum\\_Corg\\_DBD\\_n30     &  91 & 66.42336\\\\\n",
       "\t cumsum\\_Corg\\_DBD\\_n20     &  90 & 65.69343\\\\\n",
       "\t Corg.stock.20cm         &  90 & 65.69343\\\\\n",
       "\t Corg\\_50                 &  77 & 56.20438\\\\\n",
       "\t int\\_Corg\\_50             &  77 & 56.20438\\\\\n",
       "\t d50                     &  74 & 54.01460\\\\\n",
       "\t Carbon\\_density\\_15       &  74 & 54.01460\\\\\n",
       "\t depth\\_diff50            &  74 & 54.01460\\\\\n",
       "\t Corg\\_30                 &  69 & 50.36496\\\\\n",
       "\t int\\_Corg\\_30             &  69 & 50.36496\\\\\n",
       "\t Corg\\_20                 &  67 & 48.90511\\\\\n",
       "\t int\\_Corg\\_20             &  67 & 48.90511\\\\\n",
       "\t d30                     &  66 & 48.17518\\\\\n",
       "\t depth\\_diff30            &  66 & 48.17518\\\\\n",
       "\t d20                     &  64 & 46.71533\\\\\n",
       "\t depth\\_diff20            &  64 & 46.71533\\\\\n",
       "\t Corg.stock              &  45 & 32.84672\\\\\n",
       "\t Corg.stock.15cm         &  45 & 32.84672\\\\\n",
       "\t cumsum\\_Corg\\_DBD\\_n15     &  45 & 32.84672\\\\\n",
       "\t Corg\\_15                 &  21 & 15.32847\\\\\n",
       "\t int\\_Corg\\_15             &  21 & 15.32847\\\\\n",
       "\t d15                     &  19 & 13.86861\\\\\n",
       "\t depth\\_diff15            &  19 & 13.86861\\\\\n",
       "\t impute\\_DBD\\_15           &  17 & 12.40876\\\\\n",
       "\t impute\\_DBD\\_20           &  17 & 12.40876\\\\\n",
       "\t impute\\_DBD\\_30           &  17 & 12.40876\\\\\n",
       "\t impute\\_DBD\\_50           &  17 & 12.40876\\\\\n",
       "\t Dry.Bulk.Density\\_15     &  17 & 12.40876\\\\\n",
       "\t int\\_Dry.Bulk.Density\\_15 &  17 & 12.40876\\\\\n",
       "\t Dry.Bulk.Density\\_20     &  17 & 12.40876\\\\\n",
       "\t int\\_Dry.Bulk.Density\\_20 &  17 & 12.40876\\\\\n",
       "\t Dry.Bulk.Density\\_30     &  17 & 12.40876\\\\\n",
       "\t int\\_Dry.Bulk.Density\\_30 &  17 & 12.40876\\\\\n",
       "\t Dry.Bulk.Density\\_50     &  17 & 12.40876\\\\\n",
       "\t int\\_Dry.Bulk.Density\\_50 &  17 & 12.40876\\\\\n",
       "\\end{tabular}\n"
      ],
      "text/markdown": [
       "\n",
       "A tibble: 44 × 3\n",
       "\n",
       "| col_name &lt;chr&gt; | cnt &lt;int&gt; | pcnt &lt;dbl&gt; |\n",
       "|---|---|---|\n",
       "| Carbon_density_30       | 121 | 88.32117 |\n",
       "| Carbon_density_20       | 120 | 87.59124 |\n",
       "| Corg_100                | 118 | 86.13139 |\n",
       "| int_Corg_100            | 118 | 86.13139 |\n",
       "| d100                    | 113 | 82.48175 |\n",
       "| depth_diff100           | 113 | 82.48175 |\n",
       "| Corg.stock.50cm         |  98 | 71.53285 |\n",
       "| cumsum_Corg_DBD_n50     |  98 | 71.53285 |\n",
       "| Corg.stock.30cm         |  91 | 66.42336 |\n",
       "| cumsum_Corg_DBD_n30     |  91 | 66.42336 |\n",
       "| cumsum_Corg_DBD_n20     |  90 | 65.69343 |\n",
       "| Corg.stock.20cm         |  90 | 65.69343 |\n",
       "| Corg_50                 |  77 | 56.20438 |\n",
       "| int_Corg_50             |  77 | 56.20438 |\n",
       "| d50                     |  74 | 54.01460 |\n",
       "| Carbon_density_15       |  74 | 54.01460 |\n",
       "| depth_diff50            |  74 | 54.01460 |\n",
       "| Corg_30                 |  69 | 50.36496 |\n",
       "| int_Corg_30             |  69 | 50.36496 |\n",
       "| Corg_20                 |  67 | 48.90511 |\n",
       "| int_Corg_20             |  67 | 48.90511 |\n",
       "| d30                     |  66 | 48.17518 |\n",
       "| depth_diff30            |  66 | 48.17518 |\n",
       "| d20                     |  64 | 46.71533 |\n",
       "| depth_diff20            |  64 | 46.71533 |\n",
       "| Corg.stock              |  45 | 32.84672 |\n",
       "| Corg.stock.15cm         |  45 | 32.84672 |\n",
       "| cumsum_Corg_DBD_n15     |  45 | 32.84672 |\n",
       "| Corg_15                 |  21 | 15.32847 |\n",
       "| int_Corg_15             |  21 | 15.32847 |\n",
       "| d15                     |  19 | 13.86861 |\n",
       "| depth_diff15            |  19 | 13.86861 |\n",
       "| impute_DBD_15           |  17 | 12.40876 |\n",
       "| impute_DBD_20           |  17 | 12.40876 |\n",
       "| impute_DBD_30           |  17 | 12.40876 |\n",
       "| impute_DBD_50           |  17 | 12.40876 |\n",
       "| Dry.Bulk.Density_15     |  17 | 12.40876 |\n",
       "| int_Dry.Bulk.Density_15 |  17 | 12.40876 |\n",
       "| Dry.Bulk.Density_20     |  17 | 12.40876 |\n",
       "| int_Dry.Bulk.Density_20 |  17 | 12.40876 |\n",
       "| Dry.Bulk.Density_30     |  17 | 12.40876 |\n",
       "| int_Dry.Bulk.Density_30 |  17 | 12.40876 |\n",
       "| Dry.Bulk.Density_50     |  17 | 12.40876 |\n",
       "| int_Dry.Bulk.Density_50 |  17 | 12.40876 |\n",
       "\n"
      ],
      "text/plain": [
       "   col_name                cnt pcnt    \n",
       "1  Carbon_density_30       121 88.32117\n",
       "2  Carbon_density_20       120 87.59124\n",
       "3  Corg_100                118 86.13139\n",
       "4  int_Corg_100            118 86.13139\n",
       "5  d100                    113 82.48175\n",
       "6  depth_diff100           113 82.48175\n",
       "7  Corg.stock.50cm          98 71.53285\n",
       "8  cumsum_Corg_DBD_n50      98 71.53285\n",
       "9  Corg.stock.30cm          91 66.42336\n",
       "10 cumsum_Corg_DBD_n30      91 66.42336\n",
       "11 cumsum_Corg_DBD_n20      90 65.69343\n",
       "12 Corg.stock.20cm          90 65.69343\n",
       "13 Corg_50                  77 56.20438\n",
       "14 int_Corg_50              77 56.20438\n",
       "15 d50                      74 54.01460\n",
       "16 Carbon_density_15        74 54.01460\n",
       "17 depth_diff50             74 54.01460\n",
       "18 Corg_30                  69 50.36496\n",
       "19 int_Corg_30              69 50.36496\n",
       "20 Corg_20                  67 48.90511\n",
       "21 int_Corg_20              67 48.90511\n",
       "22 d30                      66 48.17518\n",
       "23 depth_diff30             66 48.17518\n",
       "24 d20                      64 46.71533\n",
       "25 depth_diff20             64 46.71533\n",
       "26 Corg.stock               45 32.84672\n",
       "27 Corg.stock.15cm          45 32.84672\n",
       "28 cumsum_Corg_DBD_n15      45 32.84672\n",
       "29 Corg_15                  21 15.32847\n",
       "30 int_Corg_15              21 15.32847\n",
       "31 d15                      19 13.86861\n",
       "32 depth_diff15             19 13.86861\n",
       "33 impute_DBD_15            17 12.40876\n",
       "34 impute_DBD_20            17 12.40876\n",
       "35 impute_DBD_30            17 12.40876\n",
       "36 impute_DBD_50            17 12.40876\n",
       "37 Dry.Bulk.Density_15      17 12.40876\n",
       "38 int_Dry.Bulk.Density_15  17 12.40876\n",
       "39 Dry.Bulk.Density_20      17 12.40876\n",
       "40 int_Dry.Bulk.Density_20  17 12.40876\n",
       "41 Dry.Bulk.Density_30      17 12.40876\n",
       "42 int_Dry.Bulk.Density_30  17 12.40876\n",
       "43 Dry.Bulk.Density_50      17 12.40876\n",
       "44 int_Dry.Bulk.Density_50  17 12.40876"
      ]
     },
     "metadata": {},
     "output_type": "display_data"
    }
   ],
   "source": [
    "inspectdf::inspect_na(core_varx_Corg_raw) |> filter(cnt > 0 & cnt != 137  )"
   ]
  },
  {
   "cell_type": "code",
   "execution_count": 288,
   "id": "c21e6219-4c71-4ab8-a60d-0df9d14b45fa",
   "metadata": {},
   "outputs": [
    {
     "data": {
      "text/html": [
       "<style>\n",
       ".list-inline {list-style: none; margin:0; padding: 0}\n",
       ".list-inline>li {display: inline-block}\n",
       ".list-inline>li:not(:last-child)::after {content: \"\\00b7\"; padding: 0 .5ex}\n",
       "</style>\n",
       "<ol class=list-inline><li>'Article.ID'</li><li>'Publication.year'</li><li>'Study.site'</li><li>'Country'</li><li>'Latitude'</li><li>'Longitude'</li><li>'Coastal.typology'</li><li>'Marine.ecoregion'</li><li>'Seagrass.bioregion'</li><li>'Seagrass.functionalmorphological.group'</li><li>'Seagrass.species'</li><li>'Seagrass.genus'</li><li>'Additional.identification'</li><li>'Above.ground.biomass'</li><li>'Below.ground.biomass'</li><li>'Total.biomass'</li><li>'Sampling.depth'</li><li>'Ctot.stock'</li><li>'Ctot.content'</li><li>'Corg.stock'</li><li>'Corg.content'</li><li>'Cinorg.stock'</li><li>'Cinorg.content'</li><li>'Ctot.stock.15cm'</li><li>'Corg.stock.15cm'</li><li>'Cinorg.stock.15cm'</li><li>'Ctot.stock.30cm'</li><li>'Corg.stock.30cm'</li><li>'Cinorg.stock.30cm'</li><li>'Ctot.stock.50cm'</li><li>'Corg.stock.50cm'</li><li>'Cinorg.stock.50cm'</li><li>'Ctot.stock.100cm'</li><li>'Corg.stock.100cm'</li><li>'Cinorg.stock.100cm'</li><li>'OM.content'</li><li>'Porosity'</li><li>'Dry.Bulk.Density'</li><li>'Grain.size'</li><li>'Fraction.mud'</li><li>'Notes'</li><li>'data_source'</li><li>'Core.ID'</li><li>'year'</li><li>'code_type'</li><li>'N_sample_count'</li><li>'max_depth'</li><li>'impute_DBD_15'</li><li>'impute_DBD_20'</li><li>'impute_DBD_30'</li><li>'impute_DBD_50'</li><li>'impute_DBD_100'</li><li>'Depth.of.core'</li><li>'stat_N_sample_Corg'</li><li>'stat_n_sample_Corg'</li><li>'Corg_15'</li><li>'int_Corg_15'</li><li>'Corg_20'</li><li>'int_Corg_20'</li><li>'Corg_30'</li><li>'int_Corg_30'</li><li>'Corg_50'</li><li>'int_Corg_50'</li><li>'Corg_100'</li><li>'int_Corg_100'</li><li>'stat_N_sample_Dry.Bulk.Density'</li><li>'stat_n_sample_Dry.Bulk.Density'</li><li>'Dry.Bulk.Density_15'</li><li>'int_Dry.Bulk.Density_15'</li><li>'Dry.Bulk.Density_20'</li><li>'int_Dry.Bulk.Density_20'</li><li>'Dry.Bulk.Density_30'</li><li>'int_Dry.Bulk.Density_30'</li><li>'Dry.Bulk.Density_50'</li><li>'int_Dry.Bulk.Density_50'</li><li>'Dry.Bulk.Density_100'</li><li>'int_Dry.Bulk.Density_100'</li><li>'d15'</li><li>'cumsum_Corg_DBD_n15'</li><li>'d20'</li><li>'cumsum_Corg_DBD_n20'</li><li>'d30'</li><li>'cumsum_Corg_DBD_n30'</li><li>'d50'</li><li>'cumsum_Corg_DBD_n50'</li><li>'d100'</li><li>'cumsum_Corg_DBD_n100'</li><li>'Corg.stock.20cm'</li><li>'depth_diff15'</li><li>'Carbon_density_15'</li><li>'depth_diff20'</li><li>'Carbon_density_20'</li><li>'depth_diff30'</li><li>'Carbon_density_30'</li><li>'depth_diff50'</li><li>'Carbon_density_50'</li><li>'depth_diff100'</li><li>'Carbon_density_100'</li></ol>\n"
      ],
      "text/latex": [
       "\\begin{enumerate*}\n",
       "\\item 'Article.ID'\n",
       "\\item 'Publication.year'\n",
       "\\item 'Study.site'\n",
       "\\item 'Country'\n",
       "\\item 'Latitude'\n",
       "\\item 'Longitude'\n",
       "\\item 'Coastal.typology'\n",
       "\\item 'Marine.ecoregion'\n",
       "\\item 'Seagrass.bioregion'\n",
       "\\item 'Seagrass.functionalmorphological.group'\n",
       "\\item 'Seagrass.species'\n",
       "\\item 'Seagrass.genus'\n",
       "\\item 'Additional.identification'\n",
       "\\item 'Above.ground.biomass'\n",
       "\\item 'Below.ground.biomass'\n",
       "\\item 'Total.biomass'\n",
       "\\item 'Sampling.depth'\n",
       "\\item 'Ctot.stock'\n",
       "\\item 'Ctot.content'\n",
       "\\item 'Corg.stock'\n",
       "\\item 'Corg.content'\n",
       "\\item 'Cinorg.stock'\n",
       "\\item 'Cinorg.content'\n",
       "\\item 'Ctot.stock.15cm'\n",
       "\\item 'Corg.stock.15cm'\n",
       "\\item 'Cinorg.stock.15cm'\n",
       "\\item 'Ctot.stock.30cm'\n",
       "\\item 'Corg.stock.30cm'\n",
       "\\item 'Cinorg.stock.30cm'\n",
       "\\item 'Ctot.stock.50cm'\n",
       "\\item 'Corg.stock.50cm'\n",
       "\\item 'Cinorg.stock.50cm'\n",
       "\\item 'Ctot.stock.100cm'\n",
       "\\item 'Corg.stock.100cm'\n",
       "\\item 'Cinorg.stock.100cm'\n",
       "\\item 'OM.content'\n",
       "\\item 'Porosity'\n",
       "\\item 'Dry.Bulk.Density'\n",
       "\\item 'Grain.size'\n",
       "\\item 'Fraction.mud'\n",
       "\\item 'Notes'\n",
       "\\item 'data\\_source'\n",
       "\\item 'Core.ID'\n",
       "\\item 'year'\n",
       "\\item 'code\\_type'\n",
       "\\item 'N\\_sample\\_count'\n",
       "\\item 'max\\_depth'\n",
       "\\item 'impute\\_DBD\\_15'\n",
       "\\item 'impute\\_DBD\\_20'\n",
       "\\item 'impute\\_DBD\\_30'\n",
       "\\item 'impute\\_DBD\\_50'\n",
       "\\item 'impute\\_DBD\\_100'\n",
       "\\item 'Depth.of.core'\n",
       "\\item 'stat\\_N\\_sample\\_Corg'\n",
       "\\item 'stat\\_n\\_sample\\_Corg'\n",
       "\\item 'Corg\\_15'\n",
       "\\item 'int\\_Corg\\_15'\n",
       "\\item 'Corg\\_20'\n",
       "\\item 'int\\_Corg\\_20'\n",
       "\\item 'Corg\\_30'\n",
       "\\item 'int\\_Corg\\_30'\n",
       "\\item 'Corg\\_50'\n",
       "\\item 'int\\_Corg\\_50'\n",
       "\\item 'Corg\\_100'\n",
       "\\item 'int\\_Corg\\_100'\n",
       "\\item 'stat\\_N\\_sample\\_Dry.Bulk.Density'\n",
       "\\item 'stat\\_n\\_sample\\_Dry.Bulk.Density'\n",
       "\\item 'Dry.Bulk.Density\\_15'\n",
       "\\item 'int\\_Dry.Bulk.Density\\_15'\n",
       "\\item 'Dry.Bulk.Density\\_20'\n",
       "\\item 'int\\_Dry.Bulk.Density\\_20'\n",
       "\\item 'Dry.Bulk.Density\\_30'\n",
       "\\item 'int\\_Dry.Bulk.Density\\_30'\n",
       "\\item 'Dry.Bulk.Density\\_50'\n",
       "\\item 'int\\_Dry.Bulk.Density\\_50'\n",
       "\\item 'Dry.Bulk.Density\\_100'\n",
       "\\item 'int\\_Dry.Bulk.Density\\_100'\n",
       "\\item 'd15'\n",
       "\\item 'cumsum\\_Corg\\_DBD\\_n15'\n",
       "\\item 'd20'\n",
       "\\item 'cumsum\\_Corg\\_DBD\\_n20'\n",
       "\\item 'd30'\n",
       "\\item 'cumsum\\_Corg\\_DBD\\_n30'\n",
       "\\item 'd50'\n",
       "\\item 'cumsum\\_Corg\\_DBD\\_n50'\n",
       "\\item 'd100'\n",
       "\\item 'cumsum\\_Corg\\_DBD\\_n100'\n",
       "\\item 'Corg.stock.20cm'\n",
       "\\item 'depth\\_diff15'\n",
       "\\item 'Carbon\\_density\\_15'\n",
       "\\item 'depth\\_diff20'\n",
       "\\item 'Carbon\\_density\\_20'\n",
       "\\item 'depth\\_diff30'\n",
       "\\item 'Carbon\\_density\\_30'\n",
       "\\item 'depth\\_diff50'\n",
       "\\item 'Carbon\\_density\\_50'\n",
       "\\item 'depth\\_diff100'\n",
       "\\item 'Carbon\\_density\\_100'\n",
       "\\end{enumerate*}\n"
      ],
      "text/markdown": [
       "1. 'Article.ID'\n",
       "2. 'Publication.year'\n",
       "3. 'Study.site'\n",
       "4. 'Country'\n",
       "5. 'Latitude'\n",
       "6. 'Longitude'\n",
       "7. 'Coastal.typology'\n",
       "8. 'Marine.ecoregion'\n",
       "9. 'Seagrass.bioregion'\n",
       "10. 'Seagrass.functionalmorphological.group'\n",
       "11. 'Seagrass.species'\n",
       "12. 'Seagrass.genus'\n",
       "13. 'Additional.identification'\n",
       "14. 'Above.ground.biomass'\n",
       "15. 'Below.ground.biomass'\n",
       "16. 'Total.biomass'\n",
       "17. 'Sampling.depth'\n",
       "18. 'Ctot.stock'\n",
       "19. 'Ctot.content'\n",
       "20. 'Corg.stock'\n",
       "21. 'Corg.content'\n",
       "22. 'Cinorg.stock'\n",
       "23. 'Cinorg.content'\n",
       "24. 'Ctot.stock.15cm'\n",
       "25. 'Corg.stock.15cm'\n",
       "26. 'Cinorg.stock.15cm'\n",
       "27. 'Ctot.stock.30cm'\n",
       "28. 'Corg.stock.30cm'\n",
       "29. 'Cinorg.stock.30cm'\n",
       "30. 'Ctot.stock.50cm'\n",
       "31. 'Corg.stock.50cm'\n",
       "32. 'Cinorg.stock.50cm'\n",
       "33. 'Ctot.stock.100cm'\n",
       "34. 'Corg.stock.100cm'\n",
       "35. 'Cinorg.stock.100cm'\n",
       "36. 'OM.content'\n",
       "37. 'Porosity'\n",
       "38. 'Dry.Bulk.Density'\n",
       "39. 'Grain.size'\n",
       "40. 'Fraction.mud'\n",
       "41. 'Notes'\n",
       "42. 'data_source'\n",
       "43. 'Core.ID'\n",
       "44. 'year'\n",
       "45. 'code_type'\n",
       "46. 'N_sample_count'\n",
       "47. 'max_depth'\n",
       "48. 'impute_DBD_15'\n",
       "49. 'impute_DBD_20'\n",
       "50. 'impute_DBD_30'\n",
       "51. 'impute_DBD_50'\n",
       "52. 'impute_DBD_100'\n",
       "53. 'Depth.of.core'\n",
       "54. 'stat_N_sample_Corg'\n",
       "55. 'stat_n_sample_Corg'\n",
       "56. 'Corg_15'\n",
       "57. 'int_Corg_15'\n",
       "58. 'Corg_20'\n",
       "59. 'int_Corg_20'\n",
       "60. 'Corg_30'\n",
       "61. 'int_Corg_30'\n",
       "62. 'Corg_50'\n",
       "63. 'int_Corg_50'\n",
       "64. 'Corg_100'\n",
       "65. 'int_Corg_100'\n",
       "66. 'stat_N_sample_Dry.Bulk.Density'\n",
       "67. 'stat_n_sample_Dry.Bulk.Density'\n",
       "68. 'Dry.Bulk.Density_15'\n",
       "69. 'int_Dry.Bulk.Density_15'\n",
       "70. 'Dry.Bulk.Density_20'\n",
       "71. 'int_Dry.Bulk.Density_20'\n",
       "72. 'Dry.Bulk.Density_30'\n",
       "73. 'int_Dry.Bulk.Density_30'\n",
       "74. 'Dry.Bulk.Density_50'\n",
       "75. 'int_Dry.Bulk.Density_50'\n",
       "76. 'Dry.Bulk.Density_100'\n",
       "77. 'int_Dry.Bulk.Density_100'\n",
       "78. 'd15'\n",
       "79. 'cumsum_Corg_DBD_n15'\n",
       "80. 'd20'\n",
       "81. 'cumsum_Corg_DBD_n20'\n",
       "82. 'd30'\n",
       "83. 'cumsum_Corg_DBD_n30'\n",
       "84. 'd50'\n",
       "85. 'cumsum_Corg_DBD_n50'\n",
       "86. 'd100'\n",
       "87. 'cumsum_Corg_DBD_n100'\n",
       "88. 'Corg.stock.20cm'\n",
       "89. 'depth_diff15'\n",
       "90. 'Carbon_density_15'\n",
       "91. 'depth_diff20'\n",
       "92. 'Carbon_density_20'\n",
       "93. 'depth_diff30'\n",
       "94. 'Carbon_density_30'\n",
       "95. 'depth_diff50'\n",
       "96. 'Carbon_density_50'\n",
       "97. 'depth_diff100'\n",
       "98. 'Carbon_density_100'\n",
       "\n",
       "\n"
      ],
      "text/plain": [
       " [1] \"Article.ID\"                            \n",
       " [2] \"Publication.year\"                      \n",
       " [3] \"Study.site\"                            \n",
       " [4] \"Country\"                               \n",
       " [5] \"Latitude\"                              \n",
       " [6] \"Longitude\"                             \n",
       " [7] \"Coastal.typology\"                      \n",
       " [8] \"Marine.ecoregion\"                      \n",
       " [9] \"Seagrass.bioregion\"                    \n",
       "[10] \"Seagrass.functionalmorphological.group\"\n",
       "[11] \"Seagrass.species\"                      \n",
       "[12] \"Seagrass.genus\"                        \n",
       "[13] \"Additional.identification\"             \n",
       "[14] \"Above.ground.biomass\"                  \n",
       "[15] \"Below.ground.biomass\"                  \n",
       "[16] \"Total.biomass\"                         \n",
       "[17] \"Sampling.depth\"                        \n",
       "[18] \"Ctot.stock\"                            \n",
       "[19] \"Ctot.content\"                          \n",
       "[20] \"Corg.stock\"                            \n",
       "[21] \"Corg.content\"                          \n",
       "[22] \"Cinorg.stock\"                          \n",
       "[23] \"Cinorg.content\"                        \n",
       "[24] \"Ctot.stock.15cm\"                       \n",
       "[25] \"Corg.stock.15cm\"                       \n",
       "[26] \"Cinorg.stock.15cm\"                     \n",
       "[27] \"Ctot.stock.30cm\"                       \n",
       "[28] \"Corg.stock.30cm\"                       \n",
       "[29] \"Cinorg.stock.30cm\"                     \n",
       "[30] \"Ctot.stock.50cm\"                       \n",
       "[31] \"Corg.stock.50cm\"                       \n",
       "[32] \"Cinorg.stock.50cm\"                     \n",
       "[33] \"Ctot.stock.100cm\"                      \n",
       "[34] \"Corg.stock.100cm\"                      \n",
       "[35] \"Cinorg.stock.100cm\"                    \n",
       "[36] \"OM.content\"                            \n",
       "[37] \"Porosity\"                              \n",
       "[38] \"Dry.Bulk.Density\"                      \n",
       "[39] \"Grain.size\"                            \n",
       "[40] \"Fraction.mud\"                          \n",
       "[41] \"Notes\"                                 \n",
       "[42] \"data_source\"                           \n",
       "[43] \"Core.ID\"                               \n",
       "[44] \"year\"                                  \n",
       "[45] \"code_type\"                             \n",
       "[46] \"N_sample_count\"                        \n",
       "[47] \"max_depth\"                             \n",
       "[48] \"impute_DBD_15\"                         \n",
       "[49] \"impute_DBD_20\"                         \n",
       "[50] \"impute_DBD_30\"                         \n",
       "[51] \"impute_DBD_50\"                         \n",
       "[52] \"impute_DBD_100\"                        \n",
       "[53] \"Depth.of.core\"                         \n",
       "[54] \"stat_N_sample_Corg\"                    \n",
       "[55] \"stat_n_sample_Corg\"                    \n",
       "[56] \"Corg_15\"                               \n",
       "[57] \"int_Corg_15\"                           \n",
       "[58] \"Corg_20\"                               \n",
       "[59] \"int_Corg_20\"                           \n",
       "[60] \"Corg_30\"                               \n",
       "[61] \"int_Corg_30\"                           \n",
       "[62] \"Corg_50\"                               \n",
       "[63] \"int_Corg_50\"                           \n",
       "[64] \"Corg_100\"                              \n",
       "[65] \"int_Corg_100\"                          \n",
       "[66] \"stat_N_sample_Dry.Bulk.Density\"        \n",
       "[67] \"stat_n_sample_Dry.Bulk.Density\"        \n",
       "[68] \"Dry.Bulk.Density_15\"                   \n",
       "[69] \"int_Dry.Bulk.Density_15\"               \n",
       "[70] \"Dry.Bulk.Density_20\"                   \n",
       "[71] \"int_Dry.Bulk.Density_20\"               \n",
       "[72] \"Dry.Bulk.Density_30\"                   \n",
       "[73] \"int_Dry.Bulk.Density_30\"               \n",
       "[74] \"Dry.Bulk.Density_50\"                   \n",
       "[75] \"int_Dry.Bulk.Density_50\"               \n",
       "[76] \"Dry.Bulk.Density_100\"                  \n",
       "[77] \"int_Dry.Bulk.Density_100\"              \n",
       "[78] \"d15\"                                   \n",
       "[79] \"cumsum_Corg_DBD_n15\"                   \n",
       "[80] \"d20\"                                   \n",
       "[81] \"cumsum_Corg_DBD_n20\"                   \n",
       "[82] \"d30\"                                   \n",
       "[83] \"cumsum_Corg_DBD_n30\"                   \n",
       "[84] \"d50\"                                   \n",
       "[85] \"cumsum_Corg_DBD_n50\"                   \n",
       "[86] \"d100\"                                  \n",
       "[87] \"cumsum_Corg_DBD_n100\"                  \n",
       "[88] \"Corg.stock.20cm\"                       \n",
       "[89] \"depth_diff15\"                          \n",
       "[90] \"Carbon_density_15\"                     \n",
       "[91] \"depth_diff20\"                          \n",
       "[92] \"Carbon_density_20\"                     \n",
       "[93] \"depth_diff30\"                          \n",
       "[94] \"Carbon_density_30\"                     \n",
       "[95] \"depth_diff50\"                          \n",
       "[96] \"Carbon_density_50\"                     \n",
       "[97] \"depth_diff100\"                         \n",
       "[98] \"Carbon_density_100\"                    "
      ]
     },
     "metadata": {},
     "output_type": "display_data"
    }
   ],
   "source": [
    "colnames(core_varx_Corg_raw)"
   ]
  },
  {
   "cell_type": "code",
   "execution_count": 289,
   "id": "64ff1a43-a024-4404-b2ec-3327d48d70bd",
   "metadata": {},
   "outputs": [],
   "source": [
    "core_varx_Corg_final <- dplyr::select(core_varx_Corg_raw, all_of(Krause_stocks_cols)) "
   ]
  },
  {
   "cell_type": "code",
   "execution_count": 290,
   "id": "20c927c6-2aa2-459e-9db9-48f39955d702",
   "metadata": {
    "editable": true,
    "slideshow": {
     "slide_type": ""
    },
    "tags": []
   },
   "outputs": [
    {
     "data": {
      "text/html": [
       "<table class=\"dataframe\">\n",
       "<caption>A data.frame: 137 × 9</caption>\n",
       "<thead>\n",
       "\t<tr><th scope=col>Article.ID</th><th scope=col>Publication.year</th><th scope=col>Study.site</th><th scope=col>Sampling.depth</th><th scope=col>Corg.stock</th><th scope=col>Corg.stock.15cm</th><th scope=col>Corg.stock.30cm</th><th scope=col>Corg.stock.50cm</th><th scope=col>Corg.stock.100cm</th></tr>\n",
       "\t<tr><th scope=col>&lt;chr&gt;</th><th scope=col>&lt;chr&gt;</th><th scope=col>&lt;chr&gt;</th><th scope=col>&lt;dbl&gt;</th><th scope=col>&lt;dbl&gt;</th><th scope=col>&lt;dbl&gt;</th><th scope=col>&lt;dbl&gt;</th><th scope=col>&lt;dbl&gt;</th><th scope=col>&lt;dbl&gt;</th></tr>\n",
       "</thead>\n",
       "<tbody>\n",
       "\t<tr><td>Bossert_et_al_2024</td><td>2024</td><td>Berg</td><td>15</td><td> 7.976506</td><td> 7.976506</td><td>NA</td><td>NA</td><td>NA</td></tr>\n",
       "\t<tr><td>Bossert_et_al_2024</td><td>2024</td><td>Berg</td><td>15</td><td> 7.129964</td><td> 7.129964</td><td>NA</td><td>NA</td><td>NA</td></tr>\n",
       "\t<tr><td>Bossert_et_al_2024</td><td>2024</td><td>Berg</td><td>15</td><td> 4.371732</td><td> 4.371732</td><td>NA</td><td>NA</td><td>NA</td></tr>\n",
       "\t<tr><td>Bossert_et_al_2024</td><td>2024</td><td>Berg</td><td>15</td><td>10.623662</td><td>10.623662</td><td>NA</td><td>NA</td><td>NA</td></tr>\n",
       "\t<tr><td>Bossert_et_al_2024</td><td>2024</td><td>Berg</td><td>15</td><td> 6.018857</td><td> 6.018857</td><td>NA</td><td>NA</td><td>NA</td></tr>\n",
       "\t<tr><td>Bossert_et_al_2024</td><td>2024</td><td>Berg</td><td>15</td><td> 7.873424</td><td> 7.873424</td><td>NA</td><td>NA</td><td>NA</td></tr>\n",
       "\t<tr><td>Bossert_et_al_2024</td><td>2024</td><td>Berg</td><td>15</td><td> 6.546315</td><td> 6.546315</td><td>NA</td><td>NA</td><td>NA</td></tr>\n",
       "\t<tr><td>Bossert_et_al_2024</td><td>2024</td><td>Berg</td><td>15</td><td> 6.112302</td><td> 6.112302</td><td>NA</td><td>NA</td><td>NA</td></tr>\n",
       "\t<tr><td>Bossert_et_al_2024</td><td>2024</td><td>Berg</td><td>15</td><td> 6.569739</td><td> 6.569739</td><td>NA</td><td>NA</td><td>NA</td></tr>\n",
       "\t<tr><td>Bossert_et_al_2024</td><td>2024</td><td>Berg</td><td>15</td><td>44.963846</td><td>44.963846</td><td>NA</td><td>NA</td><td>NA</td></tr>\n",
       "\t<tr><td>Bossert_et_al_2024</td><td>2024</td><td>Berg</td><td>15</td><td> 6.532590</td><td> 6.532590</td><td>NA</td><td>NA</td><td>NA</td></tr>\n",
       "\t<tr><td>Bossert_et_al_2024</td><td>2024</td><td>Berg</td><td>15</td><td>11.032218</td><td>11.032218</td><td>NA</td><td>NA</td><td>NA</td></tr>\n",
       "\t<tr><td>Bossert_et_al_2024</td><td>2024</td><td>Berg</td><td>15</td><td> 6.579419</td><td> 6.579419</td><td>NA</td><td>NA</td><td>NA</td></tr>\n",
       "\t<tr><td>Bossert_et_al_2024</td><td>2024</td><td>Berg</td><td>15</td><td> 6.088500</td><td> 6.088500</td><td>NA</td><td>NA</td><td>NA</td></tr>\n",
       "\t<tr><td>Bossert_et_al_2024</td><td>2024</td><td>Berg</td><td>15</td><td> 5.399294</td><td> 5.399294</td><td>NA</td><td>NA</td><td>NA</td></tr>\n",
       "\t<tr><td>Bossert_et_al_2024</td><td>2024</td><td>Berg</td><td>15</td><td> 2.934927</td><td> 2.934927</td><td>NA</td><td>NA</td><td>NA</td></tr>\n",
       "\t<tr><td>Bossert_et_al_2024</td><td>2024</td><td>Berg</td><td>15</td><td> 4.855078</td><td> 4.855078</td><td>NA</td><td>NA</td><td>NA</td></tr>\n",
       "\t<tr><td>Bossert_et_al_2024</td><td>2024</td><td>Berg</td><td>15</td><td> 2.892343</td><td> 2.892343</td><td>NA</td><td>NA</td><td>NA</td></tr>\n",
       "\t<tr><td>Bossert_et_al_2024</td><td>2024</td><td>Berg</td><td>15</td><td> 3.263845</td><td> 3.263845</td><td>NA</td><td>NA</td><td>NA</td></tr>\n",
       "\t<tr><td>Bossert_et_al_2024</td><td>2024</td><td>Berg</td><td>15</td><td> 4.100439</td><td> 4.100439</td><td>NA</td><td>NA</td><td>NA</td></tr>\n",
       "\t<tr><td>Bossert_et_al_2024</td><td>2024</td><td>Berg</td><td>15</td><td> 3.149160</td><td> 3.149160</td><td>NA</td><td>NA</td><td>NA</td></tr>\n",
       "\t<tr><td>Bossert_et_al_2024</td><td>2024</td><td>Berg</td><td>15</td><td> 3.662304</td><td> 3.662304</td><td>NA</td><td>NA</td><td>NA</td></tr>\n",
       "\t<tr><td>Bossert_et_al_2024</td><td>2024</td><td>Berg</td><td>15</td><td> 3.867420</td><td> 3.867420</td><td>NA</td><td>NA</td><td>NA</td></tr>\n",
       "\t<tr><td>Bossert_et_al_2024</td><td>2024</td><td>Berg</td><td>15</td><td> 4.123941</td><td> 4.123941</td><td>NA</td><td>NA</td><td>NA</td></tr>\n",
       "\t<tr><td>Bossert_et_al_2024</td><td>2024</td><td>Berg</td><td>15</td><td> 2.321473</td><td> 2.321473</td><td>NA</td><td>NA</td><td>NA</td></tr>\n",
       "\t<tr><td>Bossert_et_al_2024</td><td>2024</td><td>Berg</td><td>15</td><td> 1.418002</td><td> 1.418002</td><td>NA</td><td>NA</td><td>NA</td></tr>\n",
       "\t<tr><td>Bossert_et_al_2024</td><td>2024</td><td>Berg</td><td>15</td><td> 2.777157</td><td> 2.777157</td><td>NA</td><td>NA</td><td>NA</td></tr>\n",
       "\t<tr><td>Bossert_et_al_2024</td><td>2024</td><td>Berg</td><td>15</td><td> 1.962250</td><td> 1.962250</td><td>NA</td><td>NA</td><td>NA</td></tr>\n",
       "\t<tr><td>Bossert_et_al_2024</td><td>2024</td><td>Berg</td><td>15</td><td> 2.869023</td><td> 2.869023</td><td>NA</td><td>NA</td><td>NA</td></tr>\n",
       "\t<tr><td>Bossert_et_al_2024</td><td>2024</td><td>Berg</td><td>15</td><td> 2.837513</td><td> 2.837513</td><td>NA</td><td>NA</td><td>NA</td></tr>\n",
       "\t<tr><td>⋮</td><td>⋮</td><td>⋮</td><td>⋮</td><td>⋮</td><td>⋮</td><td>⋮</td><td>⋮</td><td>⋮</td></tr>\n",
       "\t<tr><td>Ndhlovu_et_al_2024 </td><td>2024</td><td>Olifants </td><td> 50</td><td>  6.793304</td><td> 0.9563853</td><td>  4.514785</td><td>  6.793304</td><td>NA</td></tr>\n",
       "\t<tr><td>Ndhlovu_et_al_2024 </td><td>2024</td><td>Olifants </td><td> 50</td><td> 13.180181</td><td> 5.0746846</td><td>  9.044001</td><td> 13.180181</td><td>NA</td></tr>\n",
       "\t<tr><td>Ndhlovu_et_al_2024 </td><td>2024</td><td>Olifants </td><td> 50</td><td> 13.464036</td><td> 3.6541014</td><td>  8.067764</td><td> 13.464036</td><td>NA</td></tr>\n",
       "\t<tr><td>Ndhlovu_et_al_2024 </td><td>2024</td><td>Olifants </td><td> 50</td><td> 13.195543</td><td> 4.3403013</td><td>  7.154275</td><td> 13.195543</td><td>NA</td></tr>\n",
       "\t<tr><td>Ndhlovu_et_al_2024 </td><td>2024</td><td>Olifants </td><td> 50</td><td> 10.217257</td><td> 2.4018785</td><td>  2.837025</td><td> 10.217257</td><td>NA</td></tr>\n",
       "\t<tr><td>Els_2019           </td><td>    </td><td>Swartkops</td><td>100</td><td>        NA</td><td>        NA</td><td>        NA</td><td>        NA</td><td>NA</td></tr>\n",
       "\t<tr><td>Els_2019           </td><td>    </td><td>Swartkops</td><td>100</td><td>        NA</td><td>        NA</td><td>        NA</td><td>        NA</td><td>NA</td></tr>\n",
       "\t<tr><td>Els_2019           </td><td>    </td><td>Swartkops</td><td>100</td><td>        NA</td><td>        NA</td><td>        NA</td><td>        NA</td><td>NA</td></tr>\n",
       "\t<tr><td>Els_2019           </td><td>    </td><td>Swartkops</td><td>100</td><td>        NA</td><td>        NA</td><td>        NA</td><td>        NA</td><td>NA</td></tr>\n",
       "\t<tr><td>Els_2019           </td><td>    </td><td>Swartkops</td><td>100</td><td>        NA</td><td>        NA</td><td>        NA</td><td>        NA</td><td>NA</td></tr>\n",
       "\t<tr><td>Els_2019           </td><td>    </td><td>Swartkops</td><td>100</td><td>        NA</td><td>        NA</td><td>        NA</td><td>        NA</td><td>NA</td></tr>\n",
       "\t<tr><td>Els_2019           </td><td>    </td><td>Swartkops</td><td>100</td><td>        NA</td><td>        NA</td><td>        NA</td><td>        NA</td><td>NA</td></tr>\n",
       "\t<tr><td>Els_2019           </td><td>    </td><td>Swartkops</td><td>100</td><td>        NA</td><td>        NA</td><td>        NA</td><td>        NA</td><td>NA</td></tr>\n",
       "\t<tr><td>Els_2019           </td><td>    </td><td>Swartkops</td><td>100</td><td>        NA</td><td>        NA</td><td>        NA</td><td>        NA</td><td>NA</td></tr>\n",
       "\t<tr><td>Els_2019           </td><td>    </td><td>Swartkops</td><td>100</td><td>        NA</td><td>        NA</td><td>        NA</td><td>        NA</td><td>NA</td></tr>\n",
       "\t<tr><td>Els_2019           </td><td>    </td><td>Swartkops</td><td>100</td><td>        NA</td><td>        NA</td><td>        NA</td><td>        NA</td><td>NA</td></tr>\n",
       "\t<tr><td>Els_2019           </td><td>    </td><td>Swartkops</td><td>100</td><td>        NA</td><td>        NA</td><td>        NA</td><td>        NA</td><td>NA</td></tr>\n",
       "\t<tr><td>Ndhlovu_et_al_2024 </td><td>2024</td><td>Swartkops</td><td> 50</td><td>  7.644040</td><td> 2.3638736</td><td>  4.498744</td><td>  7.644040</td><td>NA</td></tr>\n",
       "\t<tr><td>Ndhlovu_et_al_2024 </td><td>2024</td><td>Swartkops</td><td> 50</td><td> 10.084416</td><td> 1.1267394</td><td>  7.381205</td><td> 10.084416</td><td>NA</td></tr>\n",
       "\t<tr><td>Ndhlovu_et_al_2024 </td><td>2024</td><td>Swartkops</td><td> 50</td><td> 14.214481</td><td> 7.8083000</td><td> 10.449343</td><td> 14.214481</td><td>NA</td></tr>\n",
       "\t<tr><td>Ndhlovu_et_al_2024 </td><td>2024</td><td>Swartkops</td><td> 50</td><td>  8.281232</td><td> 1.7156682</td><td>  5.488459</td><td>  8.281232</td><td>NA</td></tr>\n",
       "\t<tr><td>Ndhlovu_et_al_2024 </td><td>2024</td><td>Swartkops</td><td> 50</td><td>177.451762</td><td>26.2634916</td><td> 82.978657</td><td>177.451762</td><td>NA</td></tr>\n",
       "\t<tr><td>Ndhlovu_et_al_2024 </td><td>2024</td><td>Swartkops</td><td> 50</td><td>193.368446</td><td>40.6545803</td><td>102.143083</td><td>193.368446</td><td>NA</td></tr>\n",
       "\t<tr><td>Ndhlovu_et_al_2024 </td><td>2024</td><td>Swartkops</td><td> 50</td><td>231.287147</td><td>47.6234410</td><td>131.035153</td><td>231.287147</td><td>NA</td></tr>\n",
       "\t<tr><td>Ndhlovu_et_al_2024 </td><td>2024</td><td>Swartkops</td><td> 50</td><td>195.939601</td><td>37.0526662</td><td> 93.287364</td><td>195.939601</td><td>NA</td></tr>\n",
       "\t<tr><td>Veldkornet_2016_PhD</td><td>    </td><td>Swartkops</td><td>  5</td><td>        NA</td><td>        NA</td><td>        NA</td><td>        NA</td><td>NA</td></tr>\n",
       "\t<tr><td>Veldkornet_2016_PhD</td><td>    </td><td>Swartkops</td><td>  5</td><td>        NA</td><td>        NA</td><td>        NA</td><td>        NA</td><td>NA</td></tr>\n",
       "\t<tr><td>Veldkornet_2016_PhD</td><td>    </td><td>Swartkops</td><td>  5</td><td>        NA</td><td>        NA</td><td>        NA</td><td>        NA</td><td>NA</td></tr>\n",
       "\t<tr><td>Veldkornet_2016_PhD</td><td>    </td><td>Swartkops</td><td>  5</td><td>        NA</td><td>        NA</td><td>        NA</td><td>        NA</td><td>NA</td></tr>\n",
       "\t<tr><td>Veldkornet_2016_PhD</td><td>    </td><td>Swartkops</td><td>  5</td><td>        NA</td><td>        NA</td><td>        NA</td><td>        NA</td><td>NA</td></tr>\n",
       "</tbody>\n",
       "</table>\n"
      ],
      "text/latex": [
       "A data.frame: 137 × 9\n",
       "\\begin{tabular}{lllllllll}\n",
       " Article.ID & Publication.year & Study.site & Sampling.depth & Corg.stock & Corg.stock.15cm & Corg.stock.30cm & Corg.stock.50cm & Corg.stock.100cm\\\\\n",
       " <chr> & <chr> & <chr> & <dbl> & <dbl> & <dbl> & <dbl> & <dbl> & <dbl>\\\\\n",
       "\\hline\n",
       "\t Bossert\\_et\\_al\\_2024 & 2024 & Berg & 15 &  7.976506 &  7.976506 & NA & NA & NA\\\\\n",
       "\t Bossert\\_et\\_al\\_2024 & 2024 & Berg & 15 &  7.129964 &  7.129964 & NA & NA & NA\\\\\n",
       "\t Bossert\\_et\\_al\\_2024 & 2024 & Berg & 15 &  4.371732 &  4.371732 & NA & NA & NA\\\\\n",
       "\t Bossert\\_et\\_al\\_2024 & 2024 & Berg & 15 & 10.623662 & 10.623662 & NA & NA & NA\\\\\n",
       "\t Bossert\\_et\\_al\\_2024 & 2024 & Berg & 15 &  6.018857 &  6.018857 & NA & NA & NA\\\\\n",
       "\t Bossert\\_et\\_al\\_2024 & 2024 & Berg & 15 &  7.873424 &  7.873424 & NA & NA & NA\\\\\n",
       "\t Bossert\\_et\\_al\\_2024 & 2024 & Berg & 15 &  6.546315 &  6.546315 & NA & NA & NA\\\\\n",
       "\t Bossert\\_et\\_al\\_2024 & 2024 & Berg & 15 &  6.112302 &  6.112302 & NA & NA & NA\\\\\n",
       "\t Bossert\\_et\\_al\\_2024 & 2024 & Berg & 15 &  6.569739 &  6.569739 & NA & NA & NA\\\\\n",
       "\t Bossert\\_et\\_al\\_2024 & 2024 & Berg & 15 & 44.963846 & 44.963846 & NA & NA & NA\\\\\n",
       "\t Bossert\\_et\\_al\\_2024 & 2024 & Berg & 15 &  6.532590 &  6.532590 & NA & NA & NA\\\\\n",
       "\t Bossert\\_et\\_al\\_2024 & 2024 & Berg & 15 & 11.032218 & 11.032218 & NA & NA & NA\\\\\n",
       "\t Bossert\\_et\\_al\\_2024 & 2024 & Berg & 15 &  6.579419 &  6.579419 & NA & NA & NA\\\\\n",
       "\t Bossert\\_et\\_al\\_2024 & 2024 & Berg & 15 &  6.088500 &  6.088500 & NA & NA & NA\\\\\n",
       "\t Bossert\\_et\\_al\\_2024 & 2024 & Berg & 15 &  5.399294 &  5.399294 & NA & NA & NA\\\\\n",
       "\t Bossert\\_et\\_al\\_2024 & 2024 & Berg & 15 &  2.934927 &  2.934927 & NA & NA & NA\\\\\n",
       "\t Bossert\\_et\\_al\\_2024 & 2024 & Berg & 15 &  4.855078 &  4.855078 & NA & NA & NA\\\\\n",
       "\t Bossert\\_et\\_al\\_2024 & 2024 & Berg & 15 &  2.892343 &  2.892343 & NA & NA & NA\\\\\n",
       "\t Bossert\\_et\\_al\\_2024 & 2024 & Berg & 15 &  3.263845 &  3.263845 & NA & NA & NA\\\\\n",
       "\t Bossert\\_et\\_al\\_2024 & 2024 & Berg & 15 &  4.100439 &  4.100439 & NA & NA & NA\\\\\n",
       "\t Bossert\\_et\\_al\\_2024 & 2024 & Berg & 15 &  3.149160 &  3.149160 & NA & NA & NA\\\\\n",
       "\t Bossert\\_et\\_al\\_2024 & 2024 & Berg & 15 &  3.662304 &  3.662304 & NA & NA & NA\\\\\n",
       "\t Bossert\\_et\\_al\\_2024 & 2024 & Berg & 15 &  3.867420 &  3.867420 & NA & NA & NA\\\\\n",
       "\t Bossert\\_et\\_al\\_2024 & 2024 & Berg & 15 &  4.123941 &  4.123941 & NA & NA & NA\\\\\n",
       "\t Bossert\\_et\\_al\\_2024 & 2024 & Berg & 15 &  2.321473 &  2.321473 & NA & NA & NA\\\\\n",
       "\t Bossert\\_et\\_al\\_2024 & 2024 & Berg & 15 &  1.418002 &  1.418002 & NA & NA & NA\\\\\n",
       "\t Bossert\\_et\\_al\\_2024 & 2024 & Berg & 15 &  2.777157 &  2.777157 & NA & NA & NA\\\\\n",
       "\t Bossert\\_et\\_al\\_2024 & 2024 & Berg & 15 &  1.962250 &  1.962250 & NA & NA & NA\\\\\n",
       "\t Bossert\\_et\\_al\\_2024 & 2024 & Berg & 15 &  2.869023 &  2.869023 & NA & NA & NA\\\\\n",
       "\t Bossert\\_et\\_al\\_2024 & 2024 & Berg & 15 &  2.837513 &  2.837513 & NA & NA & NA\\\\\n",
       "\t ⋮ & ⋮ & ⋮ & ⋮ & ⋮ & ⋮ & ⋮ & ⋮ & ⋮\\\\\n",
       "\t Ndhlovu\\_et\\_al\\_2024  & 2024 & Olifants  &  50 &   6.793304 &  0.9563853 &   4.514785 &   6.793304 & NA\\\\\n",
       "\t Ndhlovu\\_et\\_al\\_2024  & 2024 & Olifants  &  50 &  13.180181 &  5.0746846 &   9.044001 &  13.180181 & NA\\\\\n",
       "\t Ndhlovu\\_et\\_al\\_2024  & 2024 & Olifants  &  50 &  13.464036 &  3.6541014 &   8.067764 &  13.464036 & NA\\\\\n",
       "\t Ndhlovu\\_et\\_al\\_2024  & 2024 & Olifants  &  50 &  13.195543 &  4.3403013 &   7.154275 &  13.195543 & NA\\\\\n",
       "\t Ndhlovu\\_et\\_al\\_2024  & 2024 & Olifants  &  50 &  10.217257 &  2.4018785 &   2.837025 &  10.217257 & NA\\\\\n",
       "\t Els\\_2019            &      & Swartkops & 100 &         NA &         NA &         NA &         NA & NA\\\\\n",
       "\t Els\\_2019            &      & Swartkops & 100 &         NA &         NA &         NA &         NA & NA\\\\\n",
       "\t Els\\_2019            &      & Swartkops & 100 &         NA &         NA &         NA &         NA & NA\\\\\n",
       "\t Els\\_2019            &      & Swartkops & 100 &         NA &         NA &         NA &         NA & NA\\\\\n",
       "\t Els\\_2019            &      & Swartkops & 100 &         NA &         NA &         NA &         NA & NA\\\\\n",
       "\t Els\\_2019            &      & Swartkops & 100 &         NA &         NA &         NA &         NA & NA\\\\\n",
       "\t Els\\_2019            &      & Swartkops & 100 &         NA &         NA &         NA &         NA & NA\\\\\n",
       "\t Els\\_2019            &      & Swartkops & 100 &         NA &         NA &         NA &         NA & NA\\\\\n",
       "\t Els\\_2019            &      & Swartkops & 100 &         NA &         NA &         NA &         NA & NA\\\\\n",
       "\t Els\\_2019            &      & Swartkops & 100 &         NA &         NA &         NA &         NA & NA\\\\\n",
       "\t Els\\_2019            &      & Swartkops & 100 &         NA &         NA &         NA &         NA & NA\\\\\n",
       "\t Els\\_2019            &      & Swartkops & 100 &         NA &         NA &         NA &         NA & NA\\\\\n",
       "\t Ndhlovu\\_et\\_al\\_2024  & 2024 & Swartkops &  50 &   7.644040 &  2.3638736 &   4.498744 &   7.644040 & NA\\\\\n",
       "\t Ndhlovu\\_et\\_al\\_2024  & 2024 & Swartkops &  50 &  10.084416 &  1.1267394 &   7.381205 &  10.084416 & NA\\\\\n",
       "\t Ndhlovu\\_et\\_al\\_2024  & 2024 & Swartkops &  50 &  14.214481 &  7.8083000 &  10.449343 &  14.214481 & NA\\\\\n",
       "\t Ndhlovu\\_et\\_al\\_2024  & 2024 & Swartkops &  50 &   8.281232 &  1.7156682 &   5.488459 &   8.281232 & NA\\\\\n",
       "\t Ndhlovu\\_et\\_al\\_2024  & 2024 & Swartkops &  50 & 177.451762 & 26.2634916 &  82.978657 & 177.451762 & NA\\\\\n",
       "\t Ndhlovu\\_et\\_al\\_2024  & 2024 & Swartkops &  50 & 193.368446 & 40.6545803 & 102.143083 & 193.368446 & NA\\\\\n",
       "\t Ndhlovu\\_et\\_al\\_2024  & 2024 & Swartkops &  50 & 231.287147 & 47.6234410 & 131.035153 & 231.287147 & NA\\\\\n",
       "\t Ndhlovu\\_et\\_al\\_2024  & 2024 & Swartkops &  50 & 195.939601 & 37.0526662 &  93.287364 & 195.939601 & NA\\\\\n",
       "\t Veldkornet\\_2016\\_PhD &      & Swartkops &   5 &         NA &         NA &         NA &         NA & NA\\\\\n",
       "\t Veldkornet\\_2016\\_PhD &      & Swartkops &   5 &         NA &         NA &         NA &         NA & NA\\\\\n",
       "\t Veldkornet\\_2016\\_PhD &      & Swartkops &   5 &         NA &         NA &         NA &         NA & NA\\\\\n",
       "\t Veldkornet\\_2016\\_PhD &      & Swartkops &   5 &         NA &         NA &         NA &         NA & NA\\\\\n",
       "\t Veldkornet\\_2016\\_PhD &      & Swartkops &   5 &         NA &         NA &         NA &         NA & NA\\\\\n",
       "\\end{tabular}\n"
      ],
      "text/markdown": [
       "\n",
       "A data.frame: 137 × 9\n",
       "\n",
       "| Article.ID &lt;chr&gt; | Publication.year &lt;chr&gt; | Study.site &lt;chr&gt; | Sampling.depth &lt;dbl&gt; | Corg.stock &lt;dbl&gt; | Corg.stock.15cm &lt;dbl&gt; | Corg.stock.30cm &lt;dbl&gt; | Corg.stock.50cm &lt;dbl&gt; | Corg.stock.100cm &lt;dbl&gt; |\n",
       "|---|---|---|---|---|---|---|---|---|\n",
       "| Bossert_et_al_2024 | 2024 | Berg | 15 |  7.976506 |  7.976506 | NA | NA | NA |\n",
       "| Bossert_et_al_2024 | 2024 | Berg | 15 |  7.129964 |  7.129964 | NA | NA | NA |\n",
       "| Bossert_et_al_2024 | 2024 | Berg | 15 |  4.371732 |  4.371732 | NA | NA | NA |\n",
       "| Bossert_et_al_2024 | 2024 | Berg | 15 | 10.623662 | 10.623662 | NA | NA | NA |\n",
       "| Bossert_et_al_2024 | 2024 | Berg | 15 |  6.018857 |  6.018857 | NA | NA | NA |\n",
       "| Bossert_et_al_2024 | 2024 | Berg | 15 |  7.873424 |  7.873424 | NA | NA | NA |\n",
       "| Bossert_et_al_2024 | 2024 | Berg | 15 |  6.546315 |  6.546315 | NA | NA | NA |\n",
       "| Bossert_et_al_2024 | 2024 | Berg | 15 |  6.112302 |  6.112302 | NA | NA | NA |\n",
       "| Bossert_et_al_2024 | 2024 | Berg | 15 |  6.569739 |  6.569739 | NA | NA | NA |\n",
       "| Bossert_et_al_2024 | 2024 | Berg | 15 | 44.963846 | 44.963846 | NA | NA | NA |\n",
       "| Bossert_et_al_2024 | 2024 | Berg | 15 |  6.532590 |  6.532590 | NA | NA | NA |\n",
       "| Bossert_et_al_2024 | 2024 | Berg | 15 | 11.032218 | 11.032218 | NA | NA | NA |\n",
       "| Bossert_et_al_2024 | 2024 | Berg | 15 |  6.579419 |  6.579419 | NA | NA | NA |\n",
       "| Bossert_et_al_2024 | 2024 | Berg | 15 |  6.088500 |  6.088500 | NA | NA | NA |\n",
       "| Bossert_et_al_2024 | 2024 | Berg | 15 |  5.399294 |  5.399294 | NA | NA | NA |\n",
       "| Bossert_et_al_2024 | 2024 | Berg | 15 |  2.934927 |  2.934927 | NA | NA | NA |\n",
       "| Bossert_et_al_2024 | 2024 | Berg | 15 |  4.855078 |  4.855078 | NA | NA | NA |\n",
       "| Bossert_et_al_2024 | 2024 | Berg | 15 |  2.892343 |  2.892343 | NA | NA | NA |\n",
       "| Bossert_et_al_2024 | 2024 | Berg | 15 |  3.263845 |  3.263845 | NA | NA | NA |\n",
       "| Bossert_et_al_2024 | 2024 | Berg | 15 |  4.100439 |  4.100439 | NA | NA | NA |\n",
       "| Bossert_et_al_2024 | 2024 | Berg | 15 |  3.149160 |  3.149160 | NA | NA | NA |\n",
       "| Bossert_et_al_2024 | 2024 | Berg | 15 |  3.662304 |  3.662304 | NA | NA | NA |\n",
       "| Bossert_et_al_2024 | 2024 | Berg | 15 |  3.867420 |  3.867420 | NA | NA | NA |\n",
       "| Bossert_et_al_2024 | 2024 | Berg | 15 |  4.123941 |  4.123941 | NA | NA | NA |\n",
       "| Bossert_et_al_2024 | 2024 | Berg | 15 |  2.321473 |  2.321473 | NA | NA | NA |\n",
       "| Bossert_et_al_2024 | 2024 | Berg | 15 |  1.418002 |  1.418002 | NA | NA | NA |\n",
       "| Bossert_et_al_2024 | 2024 | Berg | 15 |  2.777157 |  2.777157 | NA | NA | NA |\n",
       "| Bossert_et_al_2024 | 2024 | Berg | 15 |  1.962250 |  1.962250 | NA | NA | NA |\n",
       "| Bossert_et_al_2024 | 2024 | Berg | 15 |  2.869023 |  2.869023 | NA | NA | NA |\n",
       "| Bossert_et_al_2024 | 2024 | Berg | 15 |  2.837513 |  2.837513 | NA | NA | NA |\n",
       "| ⋮ | ⋮ | ⋮ | ⋮ | ⋮ | ⋮ | ⋮ | ⋮ | ⋮ |\n",
       "| Ndhlovu_et_al_2024  | 2024 | Olifants  |  50 |   6.793304 |  0.9563853 |   4.514785 |   6.793304 | NA |\n",
       "| Ndhlovu_et_al_2024  | 2024 | Olifants  |  50 |  13.180181 |  5.0746846 |   9.044001 |  13.180181 | NA |\n",
       "| Ndhlovu_et_al_2024  | 2024 | Olifants  |  50 |  13.464036 |  3.6541014 |   8.067764 |  13.464036 | NA |\n",
       "| Ndhlovu_et_al_2024  | 2024 | Olifants  |  50 |  13.195543 |  4.3403013 |   7.154275 |  13.195543 | NA |\n",
       "| Ndhlovu_et_al_2024  | 2024 | Olifants  |  50 |  10.217257 |  2.4018785 |   2.837025 |  10.217257 | NA |\n",
       "| Els_2019            | <!----> | Swartkops | 100 |         NA |         NA |         NA |         NA | NA |\n",
       "| Els_2019            | <!----> | Swartkops | 100 |         NA |         NA |         NA |         NA | NA |\n",
       "| Els_2019            | <!----> | Swartkops | 100 |         NA |         NA |         NA |         NA | NA |\n",
       "| Els_2019            | <!----> | Swartkops | 100 |         NA |         NA |         NA |         NA | NA |\n",
       "| Els_2019            | <!----> | Swartkops | 100 |         NA |         NA |         NA |         NA | NA |\n",
       "| Els_2019            | <!----> | Swartkops | 100 |         NA |         NA |         NA |         NA | NA |\n",
       "| Els_2019            | <!----> | Swartkops | 100 |         NA |         NA |         NA |         NA | NA |\n",
       "| Els_2019            | <!----> | Swartkops | 100 |         NA |         NA |         NA |         NA | NA |\n",
       "| Els_2019            | <!----> | Swartkops | 100 |         NA |         NA |         NA |         NA | NA |\n",
       "| Els_2019            | <!----> | Swartkops | 100 |         NA |         NA |         NA |         NA | NA |\n",
       "| Els_2019            | <!----> | Swartkops | 100 |         NA |         NA |         NA |         NA | NA |\n",
       "| Els_2019            | <!----> | Swartkops | 100 |         NA |         NA |         NA |         NA | NA |\n",
       "| Ndhlovu_et_al_2024  | 2024 | Swartkops |  50 |   7.644040 |  2.3638736 |   4.498744 |   7.644040 | NA |\n",
       "| Ndhlovu_et_al_2024  | 2024 | Swartkops |  50 |  10.084416 |  1.1267394 |   7.381205 |  10.084416 | NA |\n",
       "| Ndhlovu_et_al_2024  | 2024 | Swartkops |  50 |  14.214481 |  7.8083000 |  10.449343 |  14.214481 | NA |\n",
       "| Ndhlovu_et_al_2024  | 2024 | Swartkops |  50 |   8.281232 |  1.7156682 |   5.488459 |   8.281232 | NA |\n",
       "| Ndhlovu_et_al_2024  | 2024 | Swartkops |  50 | 177.451762 | 26.2634916 |  82.978657 | 177.451762 | NA |\n",
       "| Ndhlovu_et_al_2024  | 2024 | Swartkops |  50 | 193.368446 | 40.6545803 | 102.143083 | 193.368446 | NA |\n",
       "| Ndhlovu_et_al_2024  | 2024 | Swartkops |  50 | 231.287147 | 47.6234410 | 131.035153 | 231.287147 | NA |\n",
       "| Ndhlovu_et_al_2024  | 2024 | Swartkops |  50 | 195.939601 | 37.0526662 |  93.287364 | 195.939601 | NA |\n",
       "| Veldkornet_2016_PhD | <!----> | Swartkops |   5 |         NA |         NA |         NA |         NA | NA |\n",
       "| Veldkornet_2016_PhD | <!----> | Swartkops |   5 |         NA |         NA |         NA |         NA | NA |\n",
       "| Veldkornet_2016_PhD | <!----> | Swartkops |   5 |         NA |         NA |         NA |         NA | NA |\n",
       "| Veldkornet_2016_PhD | <!----> | Swartkops |   5 |         NA |         NA |         NA |         NA | NA |\n",
       "| Veldkornet_2016_PhD | <!----> | Swartkops |   5 |         NA |         NA |         NA |         NA | NA |\n",
       "\n"
      ],
      "text/plain": [
       "    Article.ID          Publication.year Study.site Sampling.depth Corg.stock\n",
       "1   Bossert_et_al_2024  2024             Berg       15              7.976506 \n",
       "2   Bossert_et_al_2024  2024             Berg       15              7.129964 \n",
       "3   Bossert_et_al_2024  2024             Berg       15              4.371732 \n",
       "4   Bossert_et_al_2024  2024             Berg       15             10.623662 \n",
       "5   Bossert_et_al_2024  2024             Berg       15              6.018857 \n",
       "6   Bossert_et_al_2024  2024             Berg       15              7.873424 \n",
       "7   Bossert_et_al_2024  2024             Berg       15              6.546315 \n",
       "8   Bossert_et_al_2024  2024             Berg       15              6.112302 \n",
       "9   Bossert_et_al_2024  2024             Berg       15              6.569739 \n",
       "10  Bossert_et_al_2024  2024             Berg       15             44.963846 \n",
       "11  Bossert_et_al_2024  2024             Berg       15              6.532590 \n",
       "12  Bossert_et_al_2024  2024             Berg       15             11.032218 \n",
       "13  Bossert_et_al_2024  2024             Berg       15              6.579419 \n",
       "14  Bossert_et_al_2024  2024             Berg       15              6.088500 \n",
       "15  Bossert_et_al_2024  2024             Berg       15              5.399294 \n",
       "16  Bossert_et_al_2024  2024             Berg       15              2.934927 \n",
       "17  Bossert_et_al_2024  2024             Berg       15              4.855078 \n",
       "18  Bossert_et_al_2024  2024             Berg       15              2.892343 \n",
       "19  Bossert_et_al_2024  2024             Berg       15              3.263845 \n",
       "20  Bossert_et_al_2024  2024             Berg       15              4.100439 \n",
       "21  Bossert_et_al_2024  2024             Berg       15              3.149160 \n",
       "22  Bossert_et_al_2024  2024             Berg       15              3.662304 \n",
       "23  Bossert_et_al_2024  2024             Berg       15              3.867420 \n",
       "24  Bossert_et_al_2024  2024             Berg       15              4.123941 \n",
       "25  Bossert_et_al_2024  2024             Berg       15              2.321473 \n",
       "26  Bossert_et_al_2024  2024             Berg       15              1.418002 \n",
       "27  Bossert_et_al_2024  2024             Berg       15              2.777157 \n",
       "28  Bossert_et_al_2024  2024             Berg       15              1.962250 \n",
       "29  Bossert_et_al_2024  2024             Berg       15              2.869023 \n",
       "30  Bossert_et_al_2024  2024             Berg       15              2.837513 \n",
       "⋮   ⋮                   ⋮                ⋮          ⋮              ⋮         \n",
       "108 Ndhlovu_et_al_2024  2024             Olifants    50              6.793304\n",
       "109 Ndhlovu_et_al_2024  2024             Olifants    50             13.180181\n",
       "110 Ndhlovu_et_al_2024  2024             Olifants    50             13.464036\n",
       "111 Ndhlovu_et_al_2024  2024             Olifants    50             13.195543\n",
       "112 Ndhlovu_et_al_2024  2024             Olifants    50             10.217257\n",
       "113 Els_2019                             Swartkops  100                    NA\n",
       "114 Els_2019                             Swartkops  100                    NA\n",
       "115 Els_2019                             Swartkops  100                    NA\n",
       "116 Els_2019                             Swartkops  100                    NA\n",
       "117 Els_2019                             Swartkops  100                    NA\n",
       "118 Els_2019                             Swartkops  100                    NA\n",
       "119 Els_2019                             Swartkops  100                    NA\n",
       "120 Els_2019                             Swartkops  100                    NA\n",
       "121 Els_2019                             Swartkops  100                    NA\n",
       "122 Els_2019                             Swartkops  100                    NA\n",
       "123 Els_2019                             Swartkops  100                    NA\n",
       "124 Els_2019                             Swartkops  100                    NA\n",
       "125 Ndhlovu_et_al_2024  2024             Swartkops   50              7.644040\n",
       "126 Ndhlovu_et_al_2024  2024             Swartkops   50             10.084416\n",
       "127 Ndhlovu_et_al_2024  2024             Swartkops   50             14.214481\n",
       "128 Ndhlovu_et_al_2024  2024             Swartkops   50              8.281232\n",
       "129 Ndhlovu_et_al_2024  2024             Swartkops   50            177.451762\n",
       "130 Ndhlovu_et_al_2024  2024             Swartkops   50            193.368446\n",
       "131 Ndhlovu_et_al_2024  2024             Swartkops   50            231.287147\n",
       "132 Ndhlovu_et_al_2024  2024             Swartkops   50            195.939601\n",
       "133 Veldkornet_2016_PhD                  Swartkops    5                    NA\n",
       "134 Veldkornet_2016_PhD                  Swartkops    5                    NA\n",
       "135 Veldkornet_2016_PhD                  Swartkops    5                    NA\n",
       "136 Veldkornet_2016_PhD                  Swartkops    5                    NA\n",
       "137 Veldkornet_2016_PhD                  Swartkops    5                    NA\n",
       "    Corg.stock.15cm Corg.stock.30cm Corg.stock.50cm Corg.stock.100cm\n",
       "1    7.976506       NA              NA              NA              \n",
       "2    7.129964       NA              NA              NA              \n",
       "3    4.371732       NA              NA              NA              \n",
       "4   10.623662       NA              NA              NA              \n",
       "5    6.018857       NA              NA              NA              \n",
       "6    7.873424       NA              NA              NA              \n",
       "7    6.546315       NA              NA              NA              \n",
       "8    6.112302       NA              NA              NA              \n",
       "9    6.569739       NA              NA              NA              \n",
       "10  44.963846       NA              NA              NA              \n",
       "11   6.532590       NA              NA              NA              \n",
       "12  11.032218       NA              NA              NA              \n",
       "13   6.579419       NA              NA              NA              \n",
       "14   6.088500       NA              NA              NA              \n",
       "15   5.399294       NA              NA              NA              \n",
       "16   2.934927       NA              NA              NA              \n",
       "17   4.855078       NA              NA              NA              \n",
       "18   2.892343       NA              NA              NA              \n",
       "19   3.263845       NA              NA              NA              \n",
       "20   4.100439       NA              NA              NA              \n",
       "21   3.149160       NA              NA              NA              \n",
       "22   3.662304       NA              NA              NA              \n",
       "23   3.867420       NA              NA              NA              \n",
       "24   4.123941       NA              NA              NA              \n",
       "25   2.321473       NA              NA              NA              \n",
       "26   1.418002       NA              NA              NA              \n",
       "27   2.777157       NA              NA              NA              \n",
       "28   1.962250       NA              NA              NA              \n",
       "29   2.869023       NA              NA              NA              \n",
       "30   2.837513       NA              NA              NA              \n",
       "⋮   ⋮               ⋮               ⋮               ⋮               \n",
       "108  0.9563853        4.514785        6.793304      NA              \n",
       "109  5.0746846        9.044001       13.180181      NA              \n",
       "110  3.6541014        8.067764       13.464036      NA              \n",
       "111  4.3403013        7.154275       13.195543      NA              \n",
       "112  2.4018785        2.837025       10.217257      NA              \n",
       "113         NA              NA              NA      NA              \n",
       "114         NA              NA              NA      NA              \n",
       "115         NA              NA              NA      NA              \n",
       "116         NA              NA              NA      NA              \n",
       "117         NA              NA              NA      NA              \n",
       "118         NA              NA              NA      NA              \n",
       "119         NA              NA              NA      NA              \n",
       "120         NA              NA              NA      NA              \n",
       "121         NA              NA              NA      NA              \n",
       "122         NA              NA              NA      NA              \n",
       "123         NA              NA              NA      NA              \n",
       "124         NA              NA              NA      NA              \n",
       "125  2.3638736        4.498744        7.644040      NA              \n",
       "126  1.1267394        7.381205       10.084416      NA              \n",
       "127  7.8083000       10.449343       14.214481      NA              \n",
       "128  1.7156682        5.488459        8.281232      NA              \n",
       "129 26.2634916       82.978657      177.451762      NA              \n",
       "130 40.6545803      102.143083      193.368446      NA              \n",
       "131 47.6234410      131.035153      231.287147      NA              \n",
       "132 37.0526662       93.287364      195.939601      NA              \n",
       "133         NA              NA              NA      NA              \n",
       "134         NA              NA              NA      NA              \n",
       "135         NA              NA              NA      NA              \n",
       "136         NA              NA              NA      NA              \n",
       "137         NA              NA              NA      NA              "
      ]
     },
     "metadata": {},
     "output_type": "display_data"
    }
   ],
   "source": [
    "core_varx_Corg_final |>  dplyr::select(c(Article.ID, Publication.year, Study.site, Sampling.depth, C), matches(\"Corg.stock\"))"
   ]
  }
 ],
 "metadata": {
  "kernelspec": {
   "display_name": "R",
   "language": "R",
   "name": "ir"
  },
  "language_info": {
   "codemirror_mode": "r",
   "file_extension": ".r",
   "mimetype": "text/x-r-source",
   "name": "R",
   "pygments_lexer": "r",
   "version": "4.3.3"
  }
 },
 "nbformat": 4,
 "nbformat_minor": 5
}
