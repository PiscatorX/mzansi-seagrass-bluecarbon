{
 "cells": [
  {
   "cell_type": "code",
   "execution_count": 29,
   "id": "456edb47-7775-47a1-8317-8fa902e55774",
   "metadata": {
    "editable": true,
    "slideshow": {
     "slide_type": ""
    },
    "tags": []
   },
   "outputs": [],
   "source": [
    "library(tidyverse)"
   ]
  },
  {
   "cell_type": "code",
   "execution_count": 30,
   "id": "77edb5bb-e16f-4857-8bb0-bae01c2aaa98",
   "metadata": {},
   "outputs": [
    {
     "name": "stdout",
     "output_type": "stream",
     "text": [
      "c(\"Article.ID\", \"Publication.year\", \"Study.site\", \"Country\", \n",
      "\"Latitude\", \"Longitude\", \"Coastal.typology\", \"Marine.ecoregion\", \n",
      "\"Seagrass.bioregion\", \"Seagrass.functionalmorphological.group\", \n",
      "\"Seagrass.species\", \"Seagrass.genus\", \"Additional.identification\", \n",
      "\"Above.ground.biomass\", \"Below.ground.biomass\", \"Total.biomass\", \n",
      "\"Sampling.depth\", \"Ctot.stock\", \"Ctot.content\", \"Corg.stock\", \n",
      "\"Corg.content\", \"Cinorg.stock\", \"Cinorg.content\", \"Ctot.stock.15cm\", \n",
      "\"Corg.stock.15cm\", \"Cinorg.stock.15cm\", \"Ctot.stock.30cm\", \"Corg.stock.30cm\", \n",
      "\"Cinorg.stock.30cm\", \"Ctot.stock.50cm\", \"Corg.stock.50cm\", \"Cinorg.stock.50cm\", \n",
      "\"Ctot.stock.100cm\", \"Corg.stock.100cm\", \"Cinorg.stock.100cm\", \n",
      "\"OM.content\", \"Porosity\", \"Dry.Bulk.Density\", \"Grain.size\", \"Fraction.mud\", \n",
      "\"Notes\")\n"
     ]
    }
   ],
   "source": [
    "Krause_stocks <- read.csv(\"../41467_2025_59204_MOESM4_ESM/Supplementary Software/stocks.csv\" , fileEncoding=\"latin1\") |>\n",
    "                 dplyr::rename(Article.ID = `ï..Article.ID`)\n",
    "Krause_stocks_cols <- dput(colnames(Krause_stocks))"
   ]
  },
  {
   "cell_type": "code",
   "execution_count": 31,
   "id": "7f97bbf8-abee-4afe-a34d-6f78b5165d85",
   "metadata": {},
   "outputs": [
    {
     "name": "stdout",
     "output_type": "stream",
     "text": [
      "c(\"ï..Article.ID\", \"Primary.reference\", \"Secondary.reference\", \n",
      "\"Publication.year\", \"Site.name\", \"Country\", \"Latitude\", \"Longitude\", \n",
      "\"Species\", \"Core.ID\", \"Top.of.section\", \"Bottom.of.section\", \n",
      "\"Depth.at.center.of.slice\", \"Thickness.sediment.slice\", \"Dry.Bulk.Density\", \n",
      "\"OM.content\", \"OM.density\", \"Corg\", \"Cinorg\", \"Cinorg.stock.increment\", \n",
      "\"Corg.stock.increment\", \"Ctot.stock.increment\", \"DBD.core\", \"OM.content.core\", \n",
      "\"Corg.core\", \"Cinorg.core\", \"Cinorg.stock.core\", \"Corg.stock.core\", \n",
      "\"Ctot.stock.core\", \"Depth.of.core\", \"X\", \"X.1\", \"X.2\")\n"
     ]
    }
   ],
   "source": [
    "Krause_data <- read.csv(\"../41467_2025_59204_MOESM4_ESM/Supplementary Software/Core_data.csv\" , fileEncoding=\"latin1\")\n",
    "Krause_data_cols <- dput(colnames(Krause_data))"
   ]
  },
  {
   "cell_type": "code",
   "execution_count": 32,
   "id": "7b65b941-448b-4638-afac-8ee02779ca73",
   "metadata": {},
   "outputs": [
    {
     "data": {
      "text/html": [
       "<style>\n",
       ".list-inline {list-style: none; margin:0; padding: 0}\n",
       ".list-inline>li {display: inline-block}\n",
       ".list-inline>li:not(:last-child)::after {content: \"\\00b7\"; padding: 0 .5ex}\n",
       "</style>\n",
       "<ol class=list-inline><li>2813</li><li>48</li></ol>\n"
      ],
      "text/latex": [
       "\\begin{enumerate*}\n",
       "\\item 2813\n",
       "\\item 48\n",
       "\\end{enumerate*}\n"
      ],
      "text/markdown": [
       "1. 2813\n",
       "2. 48\n",
       "\n",
       "\n"
      ],
      "text/plain": [
       "[1] 2813   48"
      ]
     },
     "metadata": {},
     "output_type": "display_data"
    }
   ],
   "source": [
    "Krause_database <- read_rds(\"../data/Krause_database.rds\") |>\n",
    "                   dplyr::mutate(data_source = \"Krause_et_al_2025\") |>\n",
    "                   dplyr::relocate(data_source)\n",
    "dim(Krause_database)"
   ]
  },
  {
   "cell_type": "code",
   "execution_count": 33,
   "id": "b9a4426b-9dd1-474b-98fd-6998a26335db",
   "metadata": {},
   "outputs": [
    {
     "data": {
      "text/html": [
       "<style>\n",
       ".list-inline {list-style: none; margin:0; padding: 0}\n",
       ".list-inline>li {display: inline-block}\n",
       ".list-inline>li:not(:last-child)::after {content: \"\\00b7\"; padding: 0 .5ex}\n",
       "</style>\n",
       "<ol class=list-inline><li>2813</li><li>48</li></ol>\n"
      ],
      "text/latex": [
       "\\begin{enumerate*}\n",
       "\\item 2813\n",
       "\\item 48\n",
       "\\end{enumerate*}\n"
      ],
      "text/markdown": [
       "1. 2813\n",
       "2. 48\n",
       "\n",
       "\n"
      ],
      "text/plain": [
       "[1] 2813   48"
      ]
     },
     "metadata": {},
     "output_type": "display_data"
    }
   ],
   "source": [
    "Krause_database |> select(where(~ !all(is.na(.)))) |> dim()"
   ]
  },
  {
   "cell_type": "code",
   "execution_count": 152,
   "id": "07bc1f7e-e685-4978-8f96-6a67e78551b5",
   "metadata": {},
   "outputs": [
    {
     "name": "stdout",
     "output_type": "stream",
     "text": [
      "Rows: 573\n",
      "Columns: 13\n",
      "$ data_source             \u001b[3m\u001b[90m<chr>\u001b[39m\u001b[23m \"Bossert_et_al_2024\"\u001b[90m, \u001b[39m\"Bossert_et_al_2024\"\u001b[90m, \u001b[39m\"B…\n",
      "$ study_id                \u001b[3m\u001b[90m<chr>\u001b[39m\u001b[23m \"Bossert_et_al_2024\"\u001b[90m, \u001b[39m\"Bossert_et_al_2024\"\u001b[90m, \u001b[39m\"B…\n",
      "$ site_id                 \u001b[3m\u001b[90m<chr>\u001b[39m\u001b[23m \"Berg\"\u001b[90m, \u001b[39m\"Berg\"\u001b[90m, \u001b[39m\"Berg\"\u001b[90m, \u001b[39m\"Berg\"\u001b[90m, \u001b[39m\"Berg\"\u001b[90m, \u001b[39m\"Berg\"…\n",
      "$ core_id                 \u001b[3m\u001b[90m<chr>\u001b[39m\u001b[23m \"LWR_SS1_R1\"\u001b[90m, \u001b[39m\"LWR_SS1_R1\"\u001b[90m, \u001b[39m\"LWR_SS1_R1\"\u001b[90m, \u001b[39m\"LWR…\n",
      "$ depth_min               \u001b[3m\u001b[90m<dbl>\u001b[39m\u001b[23m 0\u001b[90m, \u001b[39m3\u001b[90m, \u001b[39m6\u001b[90m, \u001b[39m10\u001b[90m, \u001b[39m0\u001b[90m, \u001b[39m3\u001b[90m, \u001b[39m6\u001b[90m, \u001b[39m10\u001b[90m, \u001b[39m0\u001b[90m, \u001b[39m3\u001b[90m, \u001b[39m6\u001b[90m, \u001b[39m10\u001b[90m, \u001b[39m0\u001b[90m, \u001b[39m3\u001b[90m, \u001b[39m6…\n",
      "$ depth_max               \u001b[3m\u001b[90m<dbl>\u001b[39m\u001b[23m 3\u001b[90m, \u001b[39m6\u001b[90m, \u001b[39m10\u001b[90m, \u001b[39m15\u001b[90m, \u001b[39m3\u001b[90m, \u001b[39m6\u001b[90m, \u001b[39m10\u001b[90m, \u001b[39m15\u001b[90m, \u001b[39m3\u001b[90m, \u001b[39m6\u001b[90m, \u001b[39m10\u001b[90m, \u001b[39m15\u001b[90m, \u001b[39m3\u001b[90m, \u001b[39m6…\n",
      "$ dry_bulk_density        \u001b[3m\u001b[90m<dbl>\u001b[39m\u001b[23m 1.0301527\u001b[90m, \u001b[39m1.0991792\u001b[90m, \u001b[39m0.8814128\u001b[90m, \u001b[39m1.1093583\u001b[90m, \u001b[39m0.…\n",
      "$ fraction_organic_matter \u001b[3m\u001b[90m<dbl>\u001b[39m\u001b[23m 0.40\u001b[90m, \u001b[39m0.25\u001b[90m, \u001b[39m0.97\u001b[90m, \u001b[39m0.45\u001b[90m, \u001b[39m0.34\u001b[90m, \u001b[39m0.69\u001b[90m, \u001b[39m0.30\u001b[90m, \u001b[39m0.34…\n",
      "$ year                    \u001b[3m\u001b[90m<dbl>\u001b[39m\u001b[23m 2022\u001b[90m, \u001b[39m2022\u001b[90m, \u001b[39m2022\u001b[90m, \u001b[39m2022\u001b[90m, \u001b[39m2022\u001b[90m, \u001b[39m2022\u001b[90m, \u001b[39m2022\u001b[90m, \u001b[39m2022…\n",
      "$ latitude                \u001b[3m\u001b[90m<dbl>\u001b[39m\u001b[23m -32.7716\u001b[90m, \u001b[39m-32.7716\u001b[90m, \u001b[39m-32.7716\u001b[90m, \u001b[39m-32.7716\u001b[90m, \u001b[39m-32.77…\n",
      "$ longitude               \u001b[3m\u001b[90m<dbl>\u001b[39m\u001b[23m 18.14287\u001b[90m, \u001b[39m18.14287\u001b[90m, \u001b[39m18.14287\u001b[90m, \u001b[39m18.14287\u001b[90m, \u001b[39m18.142…\n",
      "$ species_code            \u001b[3m\u001b[90m<chr>\u001b[39m\u001b[23m \"Zostera capensis\"\u001b[90m, \u001b[39m\"Zostera capensis\"\u001b[90m, \u001b[39m\"Zoste…\n",
      "$ code_type               \u001b[3m\u001b[90m<chr>\u001b[39m\u001b[23m \"Genus species\"\u001b[90m, \u001b[39m\"Genus species\"\u001b[90m, \u001b[39m\"Genus speci…\n"
     ]
    }
   ],
   "source": [
    "zaf_data_df <- read_rds(\"../data/zaf_data_df.rds\") \n",
    "glimpse(zaf_data_df)"
   ]
  },
  {
   "cell_type": "code",
   "execution_count": 155,
   "id": "697fca67-f89d-42ae-a2ea-337dd98039f8",
   "metadata": {},
   "outputs": [],
   "source": [
    "zaf_data_df <- dplyr::filter(zaf_data_df, site_id == \"Knysna\")"
   ]
  },
  {
   "cell_type": "code",
   "execution_count": 156,
   "id": "f321bf16-535e-4e9c-a341-3ea426209a9e",
   "metadata": {},
   "outputs": [
    {
     "data": {
      "text/html": [
       "<style>\n",
       ".list-inline {list-style: none; margin:0; padding: 0}\n",
       ".list-inline>li {display: inline-block}\n",
       ".list-inline>li:not(:last-child)::after {content: \"\\00b7\"; padding: 0 .5ex}\n",
       "</style>\n",
       "<ol class=list-inline><li>102</li><li>13</li></ol>\n"
      ],
      "text/latex": [
       "\\begin{enumerate*}\n",
       "\\item 102\n",
       "\\item 13\n",
       "\\end{enumerate*}\n"
      ],
      "text/markdown": [
       "1. 102\n",
       "2. 13\n",
       "\n",
       "\n"
      ],
      "text/plain": [
       "[1] 102  13"
      ]
     },
     "metadata": {},
     "output_type": "display_data"
    }
   ],
   "source": [
    "dim(zaf_data_df)"
   ]
  },
  {
   "cell_type": "code",
   "execution_count": 157,
   "id": "69ee72db-ca80-490c-bc44-7746b2103fcf",
   "metadata": {},
   "outputs": [
    {
     "data": {
      "text/html": [
       "<table class=\"dataframe\">\n",
       "<caption>A tibble: 4 × 13</caption>\n",
       "<thead>\n",
       "\t<tr><th scope=col>data_source</th><th scope=col>study_id</th><th scope=col>site_id</th><th scope=col>core_id</th><th scope=col>depth_min</th><th scope=col>depth_max</th><th scope=col>dry_bulk_density</th><th scope=col>fraction_organic_matter</th><th scope=col>year</th><th scope=col>latitude</th><th scope=col>longitude</th><th scope=col>species_code</th><th scope=col>code_type</th></tr>\n",
       "\t<tr><th scope=col>&lt;chr&gt;</th><th scope=col>&lt;chr&gt;</th><th scope=col>&lt;chr&gt;</th><th scope=col>&lt;chr&gt;</th><th scope=col>&lt;dbl&gt;</th><th scope=col>&lt;dbl&gt;</th><th scope=col>&lt;dbl&gt;</th><th scope=col>&lt;dbl&gt;</th><th scope=col>&lt;dbl&gt;</th><th scope=col>&lt;dbl&gt;</th><th scope=col>&lt;dbl&gt;</th><th scope=col>&lt;chr&gt;</th><th scope=col>&lt;chr&gt;</th></tr>\n",
       "</thead>\n",
       "<tbody>\n",
       "\t<tr><td>Machite_et_al</td><td>Bekker_2015</td><td>Knysna</td><td>Knysna-Zostera capensis-Submerged-surface sample-1</td><td>0</td><td>5</td><td>NA</td><td>0.01573514</td><td>2015</td><td>-34.0827</td><td>23.06145</td><td>Zostera capensis</td><td>Genus species</td></tr>\n",
       "\t<tr><td>Machite_et_al</td><td>Bekker_2015</td><td>Knysna</td><td>Knysna-Zostera capensis-Submerged-surface sample-2</td><td>0</td><td>5</td><td>NA</td><td>0.02068844</td><td>2015</td><td>-34.0827</td><td>23.06145</td><td>Zostera capensis</td><td>Genus species</td></tr>\n",
       "\t<tr><td>Machite_et_al</td><td>Bekker_2015</td><td>Knysna</td><td>Knysna-Zostera capensis-Submerged-surface sample-3</td><td>0</td><td>5</td><td>NA</td><td>0.02365638</td><td>2015</td><td>-34.0827</td><td>23.06145</td><td>Zostera capensis</td><td>Genus species</td></tr>\n",
       "\t<tr><td>Machite_et_al</td><td>Bekker_2015</td><td>Knysna</td><td>Knysna-Zostera capensis-Submerged-surface sample-4</td><td>0</td><td>5</td><td>NA</td><td>0.02433743</td><td>2015</td><td>-34.0827</td><td>23.06145</td><td>Zostera capensis</td><td>Genus species</td></tr>\n",
       "</tbody>\n",
       "</table>\n"
      ],
      "text/latex": [
       "A tibble: 4 × 13\n",
       "\\begin{tabular}{lllllllllllll}\n",
       " data\\_source & study\\_id & site\\_id & core\\_id & depth\\_min & depth\\_max & dry\\_bulk\\_density & fraction\\_organic\\_matter & year & latitude & longitude & species\\_code & code\\_type\\\\\n",
       " <chr> & <chr> & <chr> & <chr> & <dbl> & <dbl> & <dbl> & <dbl> & <dbl> & <dbl> & <dbl> & <chr> & <chr>\\\\\n",
       "\\hline\n",
       "\t Machite\\_et\\_al & Bekker\\_2015 & Knysna & Knysna-Zostera capensis-Submerged-surface sample-1 & 0 & 5 & NA & 0.01573514 & 2015 & -34.0827 & 23.06145 & Zostera capensis & Genus species\\\\\n",
       "\t Machite\\_et\\_al & Bekker\\_2015 & Knysna & Knysna-Zostera capensis-Submerged-surface sample-2 & 0 & 5 & NA & 0.02068844 & 2015 & -34.0827 & 23.06145 & Zostera capensis & Genus species\\\\\n",
       "\t Machite\\_et\\_al & Bekker\\_2015 & Knysna & Knysna-Zostera capensis-Submerged-surface sample-3 & 0 & 5 & NA & 0.02365638 & 2015 & -34.0827 & 23.06145 & Zostera capensis & Genus species\\\\\n",
       "\t Machite\\_et\\_al & Bekker\\_2015 & Knysna & Knysna-Zostera capensis-Submerged-surface sample-4 & 0 & 5 & NA & 0.02433743 & 2015 & -34.0827 & 23.06145 & Zostera capensis & Genus species\\\\\n",
       "\\end{tabular}\n"
      ],
      "text/markdown": [
       "\n",
       "A tibble: 4 × 13\n",
       "\n",
       "| data_source &lt;chr&gt; | study_id &lt;chr&gt; | site_id &lt;chr&gt; | core_id &lt;chr&gt; | depth_min &lt;dbl&gt; | depth_max &lt;dbl&gt; | dry_bulk_density &lt;dbl&gt; | fraction_organic_matter &lt;dbl&gt; | year &lt;dbl&gt; | latitude &lt;dbl&gt; | longitude &lt;dbl&gt; | species_code &lt;chr&gt; | code_type &lt;chr&gt; |\n",
       "|---|---|---|---|---|---|---|---|---|---|---|---|---|\n",
       "| Machite_et_al | Bekker_2015 | Knysna | Knysna-Zostera capensis-Submerged-surface sample-1 | 0 | 5 | NA | 0.01573514 | 2015 | -34.0827 | 23.06145 | Zostera capensis | Genus species |\n",
       "| Machite_et_al | Bekker_2015 | Knysna | Knysna-Zostera capensis-Submerged-surface sample-2 | 0 | 5 | NA | 0.02068844 | 2015 | -34.0827 | 23.06145 | Zostera capensis | Genus species |\n",
       "| Machite_et_al | Bekker_2015 | Knysna | Knysna-Zostera capensis-Submerged-surface sample-3 | 0 | 5 | NA | 0.02365638 | 2015 | -34.0827 | 23.06145 | Zostera capensis | Genus species |\n",
       "| Machite_et_al | Bekker_2015 | Knysna | Knysna-Zostera capensis-Submerged-surface sample-4 | 0 | 5 | NA | 0.02433743 | 2015 | -34.0827 | 23.06145 | Zostera capensis | Genus species |\n",
       "\n"
      ],
      "text/plain": [
       "  data_source   study_id    site_id\n",
       "1 Machite_et_al Bekker_2015 Knysna \n",
       "2 Machite_et_al Bekker_2015 Knysna \n",
       "3 Machite_et_al Bekker_2015 Knysna \n",
       "4 Machite_et_al Bekker_2015 Knysna \n",
       "  core_id                                            depth_min depth_max\n",
       "1 Knysna-Zostera capensis-Submerged-surface sample-1 0         5        \n",
       "2 Knysna-Zostera capensis-Submerged-surface sample-2 0         5        \n",
       "3 Knysna-Zostera capensis-Submerged-surface sample-3 0         5        \n",
       "4 Knysna-Zostera capensis-Submerged-surface sample-4 0         5        \n",
       "  dry_bulk_density fraction_organic_matter year latitude longitude\n",
       "1 NA               0.01573514              2015 -34.0827 23.06145 \n",
       "2 NA               0.02068844              2015 -34.0827 23.06145 \n",
       "3 NA               0.02365638              2015 -34.0827 23.06145 \n",
       "4 NA               0.02433743              2015 -34.0827 23.06145 \n",
       "  species_code     code_type    \n",
       "1 Zostera capensis Genus species\n",
       "2 Zostera capensis Genus species\n",
       "3 Zostera capensis Genus species\n",
       "4 Zostera capensis Genus species"
      ]
     },
     "metadata": {},
     "output_type": "display_data"
    }
   ],
   "source": [
    "zaf_data_df |> dplyr::filter(study_id == \"Bekker_2015\")"
   ]
  },
  {
   "cell_type": "code",
   "execution_count": 158,
   "id": "f58091cb-0592-49c5-895f-4cfdcbde1e89",
   "metadata": {},
   "outputs": [
    {
     "data": {
      "text/html": [
       "<style>\n",
       ".list-inline {list-style: none; margin:0; padding: 0}\n",
       ".list-inline>li {display: inline-block}\n",
       ".list-inline>li:not(:last-child)::after {content: \"\\00b7\"; padding: 0 .5ex}\n",
       "</style>\n",
       "<ol class=list-inline><li>'Machite_et_al'</li><li>'Ndhlovu_et_al'</li></ol>\n"
      ],
      "text/latex": [
       "\\begin{enumerate*}\n",
       "\\item 'Machite\\_et\\_al'\n",
       "\\item 'Ndhlovu\\_et\\_al'\n",
       "\\end{enumerate*}\n"
      ],
      "text/markdown": [
       "1. 'Machite_et_al'\n",
       "2. 'Ndhlovu_et_al'\n",
       "\n",
       "\n"
      ],
      "text/plain": [
       "[1] \"Machite_et_al\" \"Ndhlovu_et_al\""
      ]
     },
     "metadata": {},
     "output_type": "display_data"
    }
   ],
   "source": [
    "unique(zaf_data_df$data_source)"
   ]
  },
  {
   "cell_type": "code",
   "execution_count": 159,
   "id": "263c278f-0306-4669-9418-8c47f7d2be8f",
   "metadata": {},
   "outputs": [],
   "source": [
    "#zaf_data_df |> filter(study_id != \"Bossert_et_al_2024\") |> filter(study_id != \"Ndhlovu_et_al_2024\")"
   ]
  },
  {
   "cell_type": "code",
   "execution_count": 160,
   "id": "08664e7e-444b-40f4-b06c-ae82a21b8998",
   "metadata": {},
   "outputs": [
    {
     "data": {
      "text/html": [
       "<style>\n",
       ".list-inline {list-style: none; margin:0; padding: 0}\n",
       ".list-inline>li {display: inline-block}\n",
       ".list-inline>li:not(:last-child)::after {content: \"\\00b7\"; padding: 0 .5ex}\n",
       "</style>\n",
       "<ol class=list-inline><li>'data_source'</li><li>'study_id'</li><li>'site_id'</li><li>'core_id'</li><li>'depth_min'</li><li>'depth_max'</li><li>'dry_bulk_density'</li><li>'fraction_organic_matter'</li><li>'year'</li><li>'latitude'</li><li>'longitude'</li><li>'species_code'</li><li>'code_type'</li></ol>\n"
      ],
      "text/latex": [
       "\\begin{enumerate*}\n",
       "\\item 'data\\_source'\n",
       "\\item 'study\\_id'\n",
       "\\item 'site\\_id'\n",
       "\\item 'core\\_id'\n",
       "\\item 'depth\\_min'\n",
       "\\item 'depth\\_max'\n",
       "\\item 'dry\\_bulk\\_density'\n",
       "\\item 'fraction\\_organic\\_matter'\n",
       "\\item 'year'\n",
       "\\item 'latitude'\n",
       "\\item 'longitude'\n",
       "\\item 'species\\_code'\n",
       "\\item 'code\\_type'\n",
       "\\end{enumerate*}\n"
      ],
      "text/markdown": [
       "1. 'data_source'\n",
       "2. 'study_id'\n",
       "3. 'site_id'\n",
       "4. 'core_id'\n",
       "5. 'depth_min'\n",
       "6. 'depth_max'\n",
       "7. 'dry_bulk_density'\n",
       "8. 'fraction_organic_matter'\n",
       "9. 'year'\n",
       "10. 'latitude'\n",
       "11. 'longitude'\n",
       "12. 'species_code'\n",
       "13. 'code_type'\n",
       "\n",
       "\n"
      ],
      "text/plain": [
       " [1] \"data_source\"             \"study_id\"               \n",
       " [3] \"site_id\"                 \"core_id\"                \n",
       " [5] \"depth_min\"               \"depth_max\"              \n",
       " [7] \"dry_bulk_density\"        \"fraction_organic_matter\"\n",
       " [9] \"year\"                    \"latitude\"               \n",
       "[11] \"longitude\"               \"species_code\"           \n",
       "[13] \"code_type\"              "
      ]
     },
     "metadata": {},
     "output_type": "display_data"
    }
   ],
   "source": [
    "setdiff(names(zaf_data_df), names(Krause_stocks))"
   ]
  },
  {
   "cell_type": "code",
   "execution_count": 161,
   "id": "1ecaed86-1b81-4dcf-966c-29ba30a0497a",
   "metadata": {},
   "outputs": [
    {
     "data": {
      "text/html": [
       "<table class=\"dataframe\">\n",
       "<caption>A tibble: 5 × 7</caption>\n",
       "<thead>\n",
       "\t<tr><th scope=col>Latitude</th><th scope=col>Longitude</th><th scope=col>Dry.Bulk.Density</th><th scope=col>Top.of.section</th><th scope=col>Bottom.of.section</th><th scope=col>Corg</th><th scope=col>year</th></tr>\n",
       "\t<tr><th scope=col>&lt;dbl&gt;</th><th scope=col>&lt;dbl&gt;</th><th scope=col>&lt;dbl&gt;</th><th scope=col>&lt;dbl&gt;</th><th scope=col>&lt;dbl&gt;</th><th scope=col>&lt;dbl&gt;</th><th scope=col>&lt;dbl&gt;</th></tr>\n",
       "</thead>\n",
       "<tbody>\n",
       "\t<tr><td>-34.08271</td><td> 23.06145</td><td>     NA</td><td> 49</td><td> 50</td><td>        NA</td><td>2017</td></tr>\n",
       "\t<tr><td>-34.08271</td><td> 23.06145</td><td>     NA</td><td>100</td><td>110</td><td>0.02169610</td><td>2017</td></tr>\n",
       "\t<tr><td> 22.99216</td><td>-34.03369</td><td>1.37845</td><td>  0</td><td>  5</td><td>0.20200000</td><td>2021</td></tr>\n",
       "\t<tr><td>-34.08271</td><td> 23.06145</td><td>     NA</td><td>  0</td><td> 10</td><td>0.03017043</td><td>2017</td></tr>\n",
       "\t<tr><td> 23.05105</td><td>-34.05871</td><td>1.42908</td><td> 30</td><td> 50</td><td>0.91200000</td><td>2021</td></tr>\n",
       "</tbody>\n",
       "</table>\n"
      ],
      "text/latex": [
       "A tibble: 5 × 7\n",
       "\\begin{tabular}{lllllll}\n",
       " Latitude & Longitude & Dry.Bulk.Density & Top.of.section & Bottom.of.section & Corg & year\\\\\n",
       " <dbl> & <dbl> & <dbl> & <dbl> & <dbl> & <dbl> & <dbl>\\\\\n",
       "\\hline\n",
       "\t -34.08271 &  23.06145 &      NA &  49 &  50 &         NA & 2017\\\\\n",
       "\t -34.08271 &  23.06145 &      NA & 100 & 110 & 0.02169610 & 2017\\\\\n",
       "\t  22.99216 & -34.03369 & 1.37845 &   0 &   5 & 0.20200000 & 2021\\\\\n",
       "\t -34.08271 &  23.06145 &      NA &   0 &  10 & 0.03017043 & 2017\\\\\n",
       "\t  23.05105 & -34.05871 & 1.42908 &  30 &  50 & 0.91200000 & 2021\\\\\n",
       "\\end{tabular}\n"
      ],
      "text/markdown": [
       "\n",
       "A tibble: 5 × 7\n",
       "\n",
       "| Latitude &lt;dbl&gt; | Longitude &lt;dbl&gt; | Dry.Bulk.Density &lt;dbl&gt; | Top.of.section &lt;dbl&gt; | Bottom.of.section &lt;dbl&gt; | Corg &lt;dbl&gt; | year &lt;dbl&gt; |\n",
       "|---|---|---|---|---|---|---|\n",
       "| -34.08271 |  23.06145 |      NA |  49 |  50 |         NA | 2017 |\n",
       "| -34.08271 |  23.06145 |      NA | 100 | 110 | 0.02169610 | 2017 |\n",
       "|  22.99216 | -34.03369 | 1.37845 |   0 |   5 | 0.20200000 | 2021 |\n",
       "| -34.08271 |  23.06145 |      NA |   0 |  10 | 0.03017043 | 2017 |\n",
       "|  23.05105 | -34.05871 | 1.42908 |  30 |  50 | 0.91200000 | 2021 |\n",
       "\n"
      ],
      "text/plain": [
       "  Latitude  Longitude Dry.Bulk.Density Top.of.section Bottom.of.section\n",
       "1 -34.08271  23.06145      NA           49             50              \n",
       "2 -34.08271  23.06145      NA          100            110              \n",
       "3  22.99216 -34.03369 1.37845            0              5              \n",
       "4 -34.08271  23.06145      NA            0             10              \n",
       "5  23.05105 -34.05871 1.42908           30             50              \n",
       "  Corg       year\n",
       "1         NA 2017\n",
       "2 0.02169610 2017\n",
       "3 0.20200000 2021\n",
       "4 0.03017043 2017\n",
       "5 0.91200000 2021"
      ]
     },
     "metadata": {},
     "output_type": "display_data"
    }
   ],
   "source": [
    "(Zcapensis_depthseries <- dplyr::rename(rename(zaf_data_df, Article.ID = study_id),\n",
    "                                               Study.site = site_id,\n",
    "                                               Latitude = latitude,\n",
    "                                               Longitude = longitude,\n",
    "                                               Seagrass.species = species_code,\n",
    "                                               Core.ID = core_id,\n",
    "                                               Top.of.section = depth_min, \n",
    "                                               Bottom.of.section = depth_max,\n",
    "                                               Dry.Bulk.Density = dry_bulk_density,\n",
    "                                               Corg = fraction_organic_matter) |> \n",
    "                          dplyr::mutate(Publication.year = str_split_fixed(Article.ID, \"_\", 4)[4],\n",
    "                                     Seagrass.genus = str_split_fixed(Seagrass.species, \" \", 2)[2],\n",
    "                                     Country = \"South Africa\",\n",
    "                                     Marine.ecoregion = \"Temperate Southern Africa\",\n",
    "                                     Seagrass.bioregion = \"Temperate Southern Oceans\",\n",
    "                                     Coastal.typology = \"Type I: Small deltas\",\n",
    "                                     Seagrass.functionalmorphological.group = \"Group B: Intermediate (Halodule, Zostera, Heterozostera, Syringodium, Cymodocea sp.)\",\n",
    "                                     Coastal.typology = if_else(Study.site == \"Langebaan\", \"Type III: Lagoons\", Coastal.typology)) |>\n",
    "                         dplyr::relocate(any_of(Krause_stocks_cols), .before = everything())) |>\n",
    "                         dplyr::select(where(is.numeric)) |>\n",
    "                         dplyr::sample_n(5)"
   ]
  },
  {
   "cell_type": "code",
   "execution_count": 162,
   "id": "15678d06-7072-46bc-ba49-633ad695be59",
   "metadata": {
    "scrolled": true
   },
   "outputs": [
    {
     "data": {
      "text/html": [
       "<style>\n",
       ".list-inline {list-style: none; margin:0; padding: 0}\n",
       ".list-inline>li {display: inline-block}\n",
       ".list-inline>li:not(:last-child)::after {content: \"\\00b7\"; padding: 0 .5ex}\n",
       "</style>\n",
       "<ol class=list-inline><li>'Article.ID'</li><li>'Publication.year'</li><li>'Study.site'</li><li>'Country'</li><li>'Latitude'</li><li>'Longitude'</li><li>'Coastal.typology'</li><li>'Marine.ecoregion'</li><li>'Seagrass.bioregion'</li><li>'Seagrass.functionalmorphological.group'</li><li>'Seagrass.species'</li><li>'Seagrass.genus'</li><li>'Dry.Bulk.Density'</li><li>'data_source'</li><li>'Core.ID'</li><li>'Top.of.section'</li><li>'Bottom.of.section'</li><li>'Corg'</li><li>'year'</li><li>'code_type'</li></ol>\n"
      ],
      "text/latex": [
       "\\begin{enumerate*}\n",
       "\\item 'Article.ID'\n",
       "\\item 'Publication.year'\n",
       "\\item 'Study.site'\n",
       "\\item 'Country'\n",
       "\\item 'Latitude'\n",
       "\\item 'Longitude'\n",
       "\\item 'Coastal.typology'\n",
       "\\item 'Marine.ecoregion'\n",
       "\\item 'Seagrass.bioregion'\n",
       "\\item 'Seagrass.functionalmorphological.group'\n",
       "\\item 'Seagrass.species'\n",
       "\\item 'Seagrass.genus'\n",
       "\\item 'Dry.Bulk.Density'\n",
       "\\item 'data\\_source'\n",
       "\\item 'Core.ID'\n",
       "\\item 'Top.of.section'\n",
       "\\item 'Bottom.of.section'\n",
       "\\item 'Corg'\n",
       "\\item 'year'\n",
       "\\item 'code\\_type'\n",
       "\\end{enumerate*}\n"
      ],
      "text/markdown": [
       "1. 'Article.ID'\n",
       "2. 'Publication.year'\n",
       "3. 'Study.site'\n",
       "4. 'Country'\n",
       "5. 'Latitude'\n",
       "6. 'Longitude'\n",
       "7. 'Coastal.typology'\n",
       "8. 'Marine.ecoregion'\n",
       "9. 'Seagrass.bioregion'\n",
       "10. 'Seagrass.functionalmorphological.group'\n",
       "11. 'Seagrass.species'\n",
       "12. 'Seagrass.genus'\n",
       "13. 'Dry.Bulk.Density'\n",
       "14. 'data_source'\n",
       "15. 'Core.ID'\n",
       "16. 'Top.of.section'\n",
       "17. 'Bottom.of.section'\n",
       "18. 'Corg'\n",
       "19. 'year'\n",
       "20. 'code_type'\n",
       "\n",
       "\n"
      ],
      "text/plain": [
       " [1] \"Article.ID\"                            \n",
       " [2] \"Publication.year\"                      \n",
       " [3] \"Study.site\"                            \n",
       " [4] \"Country\"                               \n",
       " [5] \"Latitude\"                              \n",
       " [6] \"Longitude\"                             \n",
       " [7] \"Coastal.typology\"                      \n",
       " [8] \"Marine.ecoregion\"                      \n",
       " [9] \"Seagrass.bioregion\"                    \n",
       "[10] \"Seagrass.functionalmorphological.group\"\n",
       "[11] \"Seagrass.species\"                      \n",
       "[12] \"Seagrass.genus\"                        \n",
       "[13] \"Dry.Bulk.Density\"                      \n",
       "[14] \"data_source\"                           \n",
       "[15] \"Core.ID\"                               \n",
       "[16] \"Top.of.section\"                        \n",
       "[17] \"Bottom.of.section\"                     \n",
       "[18] \"Corg\"                                  \n",
       "[19] \"year\"                                  \n",
       "[20] \"code_type\"                             "
      ]
     },
     "metadata": {},
     "output_type": "display_data"
    }
   ],
   "source": [
    "colnames(Zcapensis_depthseries)"
   ]
  },
  {
   "cell_type": "code",
   "execution_count": 163,
   "id": "66077b56-2fce-48c2-b892-64f30b118769",
   "metadata": {
    "scrolled": true
   },
   "outputs": [],
   "source": [
    "coredata_slices <-  Zcapensis_depthseries |>\n",
    "                    dplyr::mutate(Thickness.sediment.slice = Bottom.of.section - Top.of.section,\n",
    "                                  depth_interval = Top.of.section + Thickness.sediment.slice,\n",
    "                                  Depth.at.center.of.slice = Top.of.section + (Thickness.sediment.slice/2),\n",
    "                                  Corg_DBD = Dry.Bulk.Density * (Corg/100), \n",
    "                                  Carbon_density = Corg_DBD * Thickness.sediment.slice,\n",
    "                                  Corg_DBD = Dry.Bulk.Density * (Corg/100), Corg_DBD_interval = Corg_DBD * Thickness.sediment.slice) |>\n",
    "                    dplyr::group_by(across(all_of(c(\"Article.ID\", \"Study.site\", \"Country\", \"Latitude\", \"Longitude\", \"Seagrass.species\", \"Core.ID\")))) |>\n",
    "                    dplyr::mutate(cumsum_Corg_DBD = cumsum(Corg_DBD_interval),\n",
    "                                 carbon_stock_MgC_ha = cumsum_Corg_DBD * (1/1000000) * (100000000/1)) |>\n",
    "                    dplyr::ungroup() |>\n",
    "                    dplyr::select(all_of(c(\"Article.ID\", \"Publication.year\", \"Study.site\", \"Country\", \"Latitude\", \"Longitude\", \"Seagrass.species\", \"Core.ID\", \"Top.of.section\", \"Bottom.of.section\", \n",
    "                                            \"Depth.at.center.of.slice\", \"Thickness.sediment.slice\", \"Dry.Bulk.Density\", \"depth_interval\", \"Corg\",\"Corg_DBD\", \"Carbon_density\",\"cumsum_Corg_DBD\", \"carbon_stock_MgC_ha\")))"
   ]
  },
  {
   "cell_type": "code",
   "execution_count": 164,
   "id": "d26e4e12-516e-4b03-93ae-f9e1c5ac3a62",
   "metadata": {},
   "outputs": [
    {
     "data": {
      "text/html": [
       "<style>\n",
       ".list-inline {list-style: none; margin:0; padding: 0}\n",
       ".list-inline>li {display: inline-block}\n",
       ".list-inline>li:not(:last-child)::after {content: \"\\00b7\"; padding: 0 .5ex}\n",
       "</style>\n",
       "<ol class=list-inline><li>102</li><li>19</li></ol>\n"
      ],
      "text/latex": [
       "\\begin{enumerate*}\n",
       "\\item 102\n",
       "\\item 19\n",
       "\\end{enumerate*}\n"
      ],
      "text/markdown": [
       "1. 102\n",
       "2. 19\n",
       "\n",
       "\n"
      ],
      "text/plain": [
       "[1] 102  19"
      ]
     },
     "metadata": {},
     "output_type": "display_data"
    },
    {
     "data": {
      "image/png": "[encoded data removed]",
      "text/plain": [
       "plot without title"
      ]
     },
     "metadata": {
      "image/png": {
       "height": 420,
       "width": 420
      }
     },
     "output_type": "display_data"
    }
   ],
   "source": [
    "dim(coredata_slices)\n",
    "inspectdf::inspect_cat(coredata_slices) |> inspectdf::show_plot()"
   ]
  },
  {
   "cell_type": "code",
   "execution_count": 165,
   "id": "5fd558c4-0070-45de-b243-6a6f548712fe",
   "metadata": {},
   "outputs": [
    {
     "name": "stdout",
     "output_type": "stream",
     "text": [
      "Rows: 102\n",
      "Columns: 19\n",
      "$ Article.ID               \u001b[3m\u001b[90m<chr>\u001b[39m\u001b[23m \"Bekker_2015\"\u001b[90m, \u001b[39m\"Bekker_2015\"\u001b[90m, \u001b[39m\"Bekker_2015\"\u001b[90m, \u001b[39m…\n",
      "$ Publication.year         \u001b[3m\u001b[90m<chr>\u001b[39m\u001b[23m \"Bekker\"\u001b[90m, \u001b[39m\"Bekker\"\u001b[90m, \u001b[39m\"Bekker\"\u001b[90m, \u001b[39m\"Bekker\"\u001b[90m, \u001b[39m\"Bekk…\n",
      "$ Study.site               \u001b[3m\u001b[90m<chr>\u001b[39m\u001b[23m \"Knysna\"\u001b[90m, \u001b[39m\"Knysna\"\u001b[90m, \u001b[39m\"Knysna\"\u001b[90m, \u001b[39m\"Knysna\"\u001b[90m, \u001b[39m\"Knys…\n",
      "$ Country                  \u001b[3m\u001b[90m<chr>\u001b[39m\u001b[23m \"South Africa\"\u001b[90m, \u001b[39m\"South Africa\"\u001b[90m, \u001b[39m\"South Africa…\n",
      "$ Latitude                 \u001b[3m\u001b[90m<dbl>\u001b[39m\u001b[23m -34.08270\u001b[90m, \u001b[39m-34.08270\u001b[90m, \u001b[39m-34.08270\u001b[90m, \u001b[39m-34.08270\u001b[90m, \u001b[39m-…\n",
      "$ Longitude                \u001b[3m\u001b[90m<dbl>\u001b[39m\u001b[23m 23.06145\u001b[90m, \u001b[39m23.06145\u001b[90m, \u001b[39m23.06145\u001b[90m, \u001b[39m23.06145\u001b[90m, \u001b[39m23.06…\n",
      "$ Seagrass.species         \u001b[3m\u001b[90m<chr>\u001b[39m\u001b[23m \"Zostera capensis\"\u001b[90m, \u001b[39m\"Zostera capensis\"\u001b[90m, \u001b[39m\"Zost…\n",
      "$ Core.ID                  \u001b[3m\u001b[90m<chr>\u001b[39m\u001b[23m \"Knysna-Zostera capensis-Submerged-surface sa…\n",
      "$ Top.of.section           \u001b[3m\u001b[90m<dbl>\u001b[39m\u001b[23m 0\u001b[90m, \u001b[39m0\u001b[90m, \u001b[39m0\u001b[90m, \u001b[39m0\u001b[90m, \u001b[39m0\u001b[90m, \u001b[39m10\u001b[90m, \u001b[39m21\u001b[90m, \u001b[39m25\u001b[90m, \u001b[39m35\u001b[90m, \u001b[39m42\u001b[90m, \u001b[39m49\u001b[90m, \u001b[39m50\u001b[90m, \u001b[39m56…\n",
      "$ Bottom.of.section        \u001b[3m\u001b[90m<dbl>\u001b[39m\u001b[23m 5\u001b[90m, \u001b[39m5\u001b[90m, \u001b[39m5\u001b[90m, \u001b[39m5\u001b[90m, \u001b[39m10\u001b[90m, \u001b[39m21\u001b[90m, \u001b[39m25\u001b[90m, \u001b[39m35\u001b[90m, \u001b[39m42\u001b[90m, \u001b[39m49\u001b[90m, \u001b[39m50\u001b[90m, \u001b[39m56\u001b[90m, \u001b[39m6…\n",
      "$ Depth.at.center.of.slice \u001b[3m\u001b[90m<dbl>\u001b[39m\u001b[23m 2.5\u001b[90m, \u001b[39m2.5\u001b[90m, \u001b[39m2.5\u001b[90m, \u001b[39m2.5\u001b[90m, \u001b[39m5.0\u001b[90m, \u001b[39m15.5\u001b[90m, \u001b[39m23.0\u001b[90m, \u001b[39m30.0\u001b[90m, \u001b[39m38…\n",
      "$ Thickness.sediment.slice \u001b[3m\u001b[90m<dbl>\u001b[39m\u001b[23m 5\u001b[90m, \u001b[39m5\u001b[90m, \u001b[39m5\u001b[90m, \u001b[39m5\u001b[90m, \u001b[39m10\u001b[90m, \u001b[39m11\u001b[90m, \u001b[39m4\u001b[90m, \u001b[39m10\u001b[90m, \u001b[39m7\u001b[90m, \u001b[39m7\u001b[90m, \u001b[39m1\u001b[90m, \u001b[39m6\u001b[90m, \u001b[39m7\u001b[90m, \u001b[39m7\u001b[90m, \u001b[39m…\n",
      "$ Dry.Bulk.Density         \u001b[3m\u001b[90m<dbl>\u001b[39m\u001b[23m \u001b[31mNA\u001b[39m\u001b[90m, \u001b[39m\u001b[31mNA\u001b[39m\u001b[90m, \u001b[39m\u001b[31mNA\u001b[39m\u001b[90m, \u001b[39m\u001b[31mNA\u001b[39m\u001b[90m, \u001b[39m\u001b[31mNA\u001b[39m\u001b[90m, \u001b[39m\u001b[31mNA\u001b[39m\u001b[90m, \u001b[39m\u001b[31mNA\u001b[39m\u001b[90m, \u001b[39m\u001b[31mNA\u001b[39m\u001b[90m, \u001b[39m\u001b[31mNA\u001b[39m\u001b[90m, \u001b[39m\u001b[31mNA\u001b[39m\u001b[90m, \u001b[39m\u001b[31mNA\u001b[39m\u001b[90m, \u001b[39m\u001b[31mN\u001b[39m…\n",
      "$ depth_interval           \u001b[3m\u001b[90m<dbl>\u001b[39m\u001b[23m 5\u001b[90m, \u001b[39m5\u001b[90m, \u001b[39m5\u001b[90m, \u001b[39m5\u001b[90m, \u001b[39m10\u001b[90m, \u001b[39m21\u001b[90m, \u001b[39m25\u001b[90m, \u001b[39m35\u001b[90m, \u001b[39m42\u001b[90m, \u001b[39m49\u001b[90m, \u001b[39m50\u001b[90m, \u001b[39m56\u001b[90m, \u001b[39m6…\n",
      "$ Corg                     \u001b[3m\u001b[90m<dbl>\u001b[39m\u001b[23m 0.01573514\u001b[90m, \u001b[39m0.02068844\u001b[90m, \u001b[39m0.02365638\u001b[90m, \u001b[39m0.0243374…\n",
      "$ Corg_DBD                 \u001b[3m\u001b[90m<dbl>\u001b[39m\u001b[23m \u001b[31mNA\u001b[39m\u001b[90m, \u001b[39m\u001b[31mNA\u001b[39m\u001b[90m, \u001b[39m\u001b[31mNA\u001b[39m\u001b[90m, \u001b[39m\u001b[31mNA\u001b[39m\u001b[90m, \u001b[39m\u001b[31mNA\u001b[39m\u001b[90m, \u001b[39m\u001b[31mNA\u001b[39m\u001b[90m, \u001b[39m\u001b[31mNA\u001b[39m\u001b[90m, \u001b[39m\u001b[31mNA\u001b[39m\u001b[90m, \u001b[39m\u001b[31mNA\u001b[39m\u001b[90m, \u001b[39m\u001b[31mNA\u001b[39m\u001b[90m, \u001b[39m\u001b[31mNA\u001b[39m\u001b[90m, \u001b[39m\u001b[31mN\u001b[39m…\n",
      "$ Carbon_density           \u001b[3m\u001b[90m<dbl>\u001b[39m\u001b[23m \u001b[31mNA\u001b[39m\u001b[90m, \u001b[39m\u001b[31mNA\u001b[39m\u001b[90m, \u001b[39m\u001b[31mNA\u001b[39m\u001b[90m, \u001b[39m\u001b[31mNA\u001b[39m\u001b[90m, \u001b[39m\u001b[31mNA\u001b[39m\u001b[90m, \u001b[39m\u001b[31mNA\u001b[39m\u001b[90m, \u001b[39m\u001b[31mNA\u001b[39m\u001b[90m, \u001b[39m\u001b[31mNA\u001b[39m\u001b[90m, \u001b[39m\u001b[31mNA\u001b[39m\u001b[90m, \u001b[39m\u001b[31mNA\u001b[39m\u001b[90m, \u001b[39m\u001b[31mNA\u001b[39m\u001b[90m, \u001b[39m\u001b[31mN\u001b[39m…\n",
      "$ cumsum_Corg_DBD          \u001b[3m\u001b[90m<dbl>\u001b[39m\u001b[23m \u001b[31mNA\u001b[39m\u001b[90m, \u001b[39m\u001b[31mNA\u001b[39m\u001b[90m, \u001b[39m\u001b[31mNA\u001b[39m\u001b[90m, \u001b[39m\u001b[31mNA\u001b[39m\u001b[90m, \u001b[39m\u001b[31mNA\u001b[39m\u001b[90m, \u001b[39m\u001b[31mNA\u001b[39m\u001b[90m, \u001b[39m\u001b[31mNA\u001b[39m\u001b[90m, \u001b[39m\u001b[31mNA\u001b[39m\u001b[90m, \u001b[39m\u001b[31mNA\u001b[39m\u001b[90m, \u001b[39m\u001b[31mNA\u001b[39m\u001b[90m, \u001b[39m\u001b[31mNA\u001b[39m\u001b[90m, \u001b[39m\u001b[31mN\u001b[39m…\n",
      "$ carbon_stock_MgC_ha      \u001b[3m\u001b[90m<dbl>\u001b[39m\u001b[23m \u001b[31mNA\u001b[39m\u001b[90m, \u001b[39m\u001b[31mNA\u001b[39m\u001b[90m, \u001b[39m\u001b[31mNA\u001b[39m\u001b[90m, \u001b[39m\u001b[31mNA\u001b[39m\u001b[90m, \u001b[39m\u001b[31mNA\u001b[39m\u001b[90m, \u001b[39m\u001b[31mNA\u001b[39m\u001b[90m, \u001b[39m\u001b[31mNA\u001b[39m\u001b[90m, \u001b[39m\u001b[31mNA\u001b[39m\u001b[90m, \u001b[39m\u001b[31mNA\u001b[39m\u001b[90m, \u001b[39m\u001b[31mNA\u001b[39m\u001b[90m, \u001b[39m\u001b[31mNA\u001b[39m\u001b[90m, \u001b[39m\u001b[31mN\u001b[39m…\n"
     ]
    }
   ],
   "source": [
    "glimpse(coredata_slices)"
   ]
  },
  {
   "cell_type": "code",
   "execution_count": 166,
   "id": "936e41bf-a362-4543-b4bc-c4a1d7ce52d0",
   "metadata": {},
   "outputs": [
    {
     "data": {
      "text/plain": [
       "Study.site\n",
       "Knysna \n",
       "   102 "
      ]
     },
     "metadata": {},
     "output_type": "display_data"
    }
   ],
   "source": [
    "xtabs(~ Study.site, data = coredata_slices)"
   ]
  },
  {
   "cell_type": "code",
   "execution_count": 167,
   "id": "000cd8b2-9723-4117-938c-fd2ce8383043",
   "metadata": {},
   "outputs": [],
   "source": [
    "interpolate_slice <- function(data, x_val) {\n",
    "  # Return NA if x_val is NA\n",
    "  if (is.na(x_val)) return(NA_real_)\n",
    "\n",
    "  # Rename columns to standard names (assumes only two columns: x and y)\n",
    "  clean_data <- data %>%\n",
    "    setNames(c(\"x\", \"y\")) %>%\n",
    "    filter(!is.na(x) & !is.na(y))\n",
    "\n",
    "  if (nrow(clean_data) == 0) return(NA_real_)\n",
    "\n",
    "  if (x_val > max(clean_data$x, na.rm = TRUE)) {\n",
    "    return(NA_real_)\n",
    "  }\n",
    "\n",
    "  model <- lm(y ~ x, data = clean_data)\n",
    "\n",
    "  predict(model, newdata = data.frame(x = x_val))\n",
    "}"
   ]
  },
  {
   "cell_type": "code",
   "execution_count": 168,
   "id": "1e2db5a1-a22b-4f85-be8c-6cb7dc2bd725",
   "metadata": {},
   "outputs": [
    {
     "data": {
      "text/html": [
       "<style>\n",
       ".list-inline {list-style: none; margin:0; padding: 0}\n",
       ".list-inline>li {display: inline-block}\n",
       ".list-inline>li:not(:last-child)::after {content: \"\\00b7\"; padding: 0 .5ex}\n",
       "</style>\n",
       "<ol class=list-inline><li>'Article.ID'</li><li>'Publication.year'</li><li>'Study.site'</li><li>'Country'</li><li>'Latitude'</li><li>'Longitude'</li><li>'Seagrass.species'</li><li>'Core.ID'</li><li>'Top.of.section'</li><li>'Bottom.of.section'</li><li>'Depth.at.center.of.slice'</li><li>'Thickness.sediment.slice'</li><li>'Dry.Bulk.Density'</li><li>'depth_interval'</li><li>'Corg'</li><li>'Corg_DBD'</li><li>'Carbon_density'</li><li>'cumsum_Corg_DBD'</li><li>'carbon_stock_MgC_ha'</li></ol>\n"
      ],
      "text/latex": [
       "\\begin{enumerate*}\n",
       "\\item 'Article.ID'\n",
       "\\item 'Publication.year'\n",
       "\\item 'Study.site'\n",
       "\\item 'Country'\n",
       "\\item 'Latitude'\n",
       "\\item 'Longitude'\n",
       "\\item 'Seagrass.species'\n",
       "\\item 'Core.ID'\n",
       "\\item 'Top.of.section'\n",
       "\\item 'Bottom.of.section'\n",
       "\\item 'Depth.at.center.of.slice'\n",
       "\\item 'Thickness.sediment.slice'\n",
       "\\item 'Dry.Bulk.Density'\n",
       "\\item 'depth\\_interval'\n",
       "\\item 'Corg'\n",
       "\\item 'Corg\\_DBD'\n",
       "\\item 'Carbon\\_density'\n",
       "\\item 'cumsum\\_Corg\\_DBD'\n",
       "\\item 'carbon\\_stock\\_MgC\\_ha'\n",
       "\\end{enumerate*}\n"
      ],
      "text/markdown": [
       "1. 'Article.ID'\n",
       "2. 'Publication.year'\n",
       "3. 'Study.site'\n",
       "4. 'Country'\n",
       "5. 'Latitude'\n",
       "6. 'Longitude'\n",
       "7. 'Seagrass.species'\n",
       "8. 'Core.ID'\n",
       "9. 'Top.of.section'\n",
       "10. 'Bottom.of.section'\n",
       "11. 'Depth.at.center.of.slice'\n",
       "12. 'Thickness.sediment.slice'\n",
       "13. 'Dry.Bulk.Density'\n",
       "14. 'depth_interval'\n",
       "15. 'Corg'\n",
       "16. 'Corg_DBD'\n",
       "17. 'Carbon_density'\n",
       "18. 'cumsum_Corg_DBD'\n",
       "19. 'carbon_stock_MgC_ha'\n",
       "\n",
       "\n"
      ],
      "text/plain": [
       " [1] \"Article.ID\"               \"Publication.year\"        \n",
       " [3] \"Study.site\"               \"Country\"                 \n",
       " [5] \"Latitude\"                 \"Longitude\"               \n",
       " [7] \"Seagrass.species\"         \"Core.ID\"                 \n",
       " [9] \"Top.of.section\"           \"Bottom.of.section\"       \n",
       "[11] \"Depth.at.center.of.slice\" \"Thickness.sediment.slice\"\n",
       "[13] \"Dry.Bulk.Density\"         \"depth_interval\"          \n",
       "[15] \"Corg\"                     \"Corg_DBD\"                \n",
       "[17] \"Carbon_density\"           \"cumsum_Corg_DBD\"         \n",
       "[19] \"carbon_stock_MgC_ha\"     "
      ]
     },
     "metadata": {},
     "output_type": "display_data"
    }
   ],
   "source": [
    "colnames(coredata_slices)"
   ]
  },
  {
   "cell_type": "code",
   "execution_count": 169,
   "id": "e1efe48f-a846-436c-be05-125230b3bc6b",
   "metadata": {},
   "outputs": [],
   "source": [
    "soc_vars <- c(\"Corg\", \"Dry.Bulk.Density\")\n",
    "soc_depths  <- c(15, 20, 30, 50)         "
   ]
  },
  {
   "cell_type": "code",
   "execution_count": 170,
   "id": "c4251db3-c236-4ac6-ad90-9d89c1693879",
   "metadata": {},
   "outputs": [],
   "source": [
    "get_slice_val <- function(data, x_col, y_col, x_val) {\n",
    "  match_row <- data[data[[x_col]] == x_val, , drop = FALSE]\n",
    "  if (nrow(match_row) == 0) return(NA_real_)\n",
    "  return(match_row[[y_col]][1])\n",
    "}"
   ]
  },
  {
   "cell_type": "code",
   "execution_count": 171,
   "id": "f495426a-3aca-4a9d-83d1-28d66f0bdc60",
   "metadata": {},
   "outputs": [],
   "source": [
    "get_slice_val <- function(data, x_val) {\n",
    "  # Ensure input is a data.frame and has at least 2 columns\n",
    "  if (!is.data.frame(data) || ncol(data) < 2) return(NA_real_)\n",
    "  \n",
    "  x_col <- names(data)[1]\n",
    "  y_col <- names(data)[2]\n",
    "  \n",
    "  # If either column is missing, return NA\n",
    "  if (is.null(x_col) || is.null(y_col)) return(NA_real_)\n",
    "  \n",
    "  # Defensive: ensure x_col has non-NA entries to check\n",
    "  if (!x_col %in% names(data) || !y_col %in% names(data)) return(NA_real_)\n",
    "  \n",
    "  # Filter for exact match\n",
    "  match_row <- data[data[[x_col]] == x_val, , drop = FALSE]\n",
    "  \n",
    "  # Return NA if no match\n",
    "  if (nrow(match_row) == 0) return(NA_real_)\n",
    "  \n",
    "  return(match_row[[y_col]][1])\n",
    "}\n"
   ]
  },
  {
   "cell_type": "code",
   "execution_count": 172,
   "id": "d6aecafc-3eb8-433a-83b4-bdfc3074da4c",
   "metadata": {},
   "outputs": [],
   "source": [
    "slice_check <- function(data, x_val, xreal) {\n",
    "    \n",
    "  if (isTRUE(x_val == xreal)) {\n",
    "    return(NA_real_)\n",
    "  } else {\n",
    "    return(get_slice_val(data, x_val))\n",
    "  }\n",
    "}"
   ]
  },
  {
   "cell_type": "code",
   "execution_count": 173,
   "id": "7a7eb4d3-7026-436d-9970-5ae3de1c3944",
   "metadata": {},
   "outputs": [],
   "source": [
    "grouping_cols <- c(\"Article.ID\", \"Study.site\", \"Country\", \"Latitude\", \"Longitude\", \"Seagrass.species\", \"Core.ID\")"
   ]
  },
  {
   "cell_type": "code",
   "execution_count": 112,
   "id": "95bae1d2-38df-431b-98e3-c6244f176293",
   "metadata": {
    "scrolled": true
   },
   "outputs": [],
   "source": [
    "na_report_list <- list()\n",
    "\n",
    "core_varx_depthx_list <- lapply(soc_vars, function(varx) {\n",
    "  \n",
    "    lapply(soc_depths, function(depthx) {\n",
    "\n",
    "    var_name <- paste0(varx, \"_\", depthx)\n",
    "    int_var_name <- paste0(\"int_\", varx, \"_\", depthx)\n",
    "    N_sample_count <-  paste0(\"stat_N_sample_\", varx)\n",
    "    n_count <-  paste0(\"stat_n_sample_\", varx)\n",
    "\n",
    "    df <- coredata_slices |>\n",
    "          dplyr::group_by(across(all_of(grouping_cols))) |>\n",
    "          dplyr::summarise(!!N_sample_count := sum(!is.na(.data[[varx]])),\n",
    "                           !!n_count := n(),\n",
    "                           Depth.of.core = max(Bottom.of.section),\n",
    "                           !!var_name := get_slice_val(pick(depth_interval, all_of(varx)), x_val = depthx),\n",
    "                           !!int_var_name := interpolate_slice(pick(depth_interval, all_of(varx)), x_val = depthx),\n",
    "                           .groups = \"drop\") |>\n",
    "          dplyr::ungroup() \n",
    "\n",
    "    return(df)\n",
    "  })\n",
    "})\n"
   ]
  },
  {
   "cell_type": "code",
   "execution_count": 113,
   "id": "50f4fab6-9f1a-4de5-a704-9e9985eb8997",
   "metadata": {},
   "outputs": [],
   "source": [
    "core_varx_depthx_df <- Reduce(function(x, y) merge(x, y), core_varx_depthx_list)"
   ]
  },
  {
   "cell_type": "code",
   "execution_count": 114,
   "id": "59d051b9-440e-44a2-b465-2e0dc2bf6398",
   "metadata": {},
   "outputs": [
    {
     "data": {
      "text/html": [
       "<style>\n",
       ".list-inline {list-style: none; margin:0; padding: 0}\n",
       ".list-inline>li {display: inline-block}\n",
       ".list-inline>li:not(:last-child)::after {content: \"\\00b7\"; padding: 0 .5ex}\n",
       "</style>\n",
       "<ol class=list-inline><li>'Article.ID'</li><li>'Study.site'</li><li>'Country'</li><li>'Latitude'</li><li>'Longitude'</li><li>'Seagrass.species'</li><li>'Core.ID'</li><li>'Depth.of.core'</li><li>'Article.ID.1'</li><li>'Study.site.1'</li><li>'Country.1'</li><li>'Latitude.1'</li><li>'Longitude.1'</li><li>'Seagrass.species.1'</li><li>'Core.ID.1'</li><li>'Depth.of.core.1'</li><li>'Article.ID.2'</li><li>'Study.site.2'</li><li>'Country.2'</li><li>'Latitude.2'</li><li>'Longitude.2'</li><li>'Seagrass.species.2'</li><li>'Core.ID.2'</li><li>'Depth.of.core.2'</li><li>'Article.ID.3'</li><li>'Study.site.3'</li><li>'Country.3'</li><li>'Latitude.3'</li><li>'Longitude.3'</li><li>'Seagrass.species.3'</li><li>'Core.ID.3'</li><li>'Depth.of.core.3'</li><li>'stat_N_sample_Corg'</li><li>'stat_n_sample_Corg'</li><li>'Corg_15'</li><li>'int_Corg_15'</li><li>'stat_N_sample_Corg.1'</li><li>'stat_n_sample_Corg.1'</li><li>'Corg_20'</li><li>'int_Corg_20'</li><li>'stat_N_sample_Corg.2'</li><li>'stat_n_sample_Corg.2'</li><li>'Corg_30'</li><li>'int_Corg_30'</li><li>'stat_N_sample_Corg.3'</li><li>'stat_n_sample_Corg.3'</li><li>'Corg_50'</li><li>'int_Corg_50'</li><li>'stat_N_sample_Dry.Bulk.Density'</li><li>'stat_n_sample_Dry.Bulk.Density'</li><li>'Dry.Bulk.Density_15'</li><li>'int_Dry.Bulk.Density_15'</li><li>'stat_N_sample_Dry.Bulk.Density.1'</li><li>'stat_n_sample_Dry.Bulk.Density.1'</li><li>'Dry.Bulk.Density_20'</li><li>'int_Dry.Bulk.Density_20'</li><li>'stat_N_sample_Dry.Bulk.Density.2'</li><li>'stat_n_sample_Dry.Bulk.Density.2'</li><li>'Dry.Bulk.Density_30'</li><li>'int_Dry.Bulk.Density_30'</li><li>'stat_N_sample_Dry.Bulk.Density.3'</li><li>'stat_n_sample_Dry.Bulk.Density.3'</li><li>'Dry.Bulk.Density_50'</li><li>'int_Dry.Bulk.Density_50'</li></ol>\n"
      ],
      "text/latex": [
       "\\begin{enumerate*}\n",
       "\\item 'Article.ID'\n",
       "\\item 'Study.site'\n",
       "\\item 'Country'\n",
       "\\item 'Latitude'\n",
       "\\item 'Longitude'\n",
       "\\item 'Seagrass.species'\n",
       "\\item 'Core.ID'\n",
       "\\item 'Depth.of.core'\n",
       "\\item 'Article.ID.1'\n",
       "\\item 'Study.site.1'\n",
       "\\item 'Country.1'\n",
       "\\item 'Latitude.1'\n",
       "\\item 'Longitude.1'\n",
       "\\item 'Seagrass.species.1'\n",
       "\\item 'Core.ID.1'\n",
       "\\item 'Depth.of.core.1'\n",
       "\\item 'Article.ID.2'\n",
       "\\item 'Study.site.2'\n",
       "\\item 'Country.2'\n",
       "\\item 'Latitude.2'\n",
       "\\item 'Longitude.2'\n",
       "\\item 'Seagrass.species.2'\n",
       "\\item 'Core.ID.2'\n",
       "\\item 'Depth.of.core.2'\n",
       "\\item 'Article.ID.3'\n",
       "\\item 'Study.site.3'\n",
       "\\item 'Country.3'\n",
       "\\item 'Latitude.3'\n",
       "\\item 'Longitude.3'\n",
       "\\item 'Seagrass.species.3'\n",
       "\\item 'Core.ID.3'\n",
       "\\item 'Depth.of.core.3'\n",
       "\\item 'stat\\_N\\_sample\\_Corg'\n",
       "\\item 'stat\\_n\\_sample\\_Corg'\n",
       "\\item 'Corg\\_15'\n",
       "\\item 'int\\_Corg\\_15'\n",
       "\\item 'stat\\_N\\_sample\\_Corg.1'\n",
       "\\item 'stat\\_n\\_sample\\_Corg.1'\n",
       "\\item 'Corg\\_20'\n",
       "\\item 'int\\_Corg\\_20'\n",
       "\\item 'stat\\_N\\_sample\\_Corg.2'\n",
       "\\item 'stat\\_n\\_sample\\_Corg.2'\n",
       "\\item 'Corg\\_30'\n",
       "\\item 'int\\_Corg\\_30'\n",
       "\\item 'stat\\_N\\_sample\\_Corg.3'\n",
       "\\item 'stat\\_n\\_sample\\_Corg.3'\n",
       "\\item 'Corg\\_50'\n",
       "\\item 'int\\_Corg\\_50'\n",
       "\\item 'stat\\_N\\_sample\\_Dry.Bulk.Density'\n",
       "\\item 'stat\\_n\\_sample\\_Dry.Bulk.Density'\n",
       "\\item 'Dry.Bulk.Density\\_15'\n",
       "\\item 'int\\_Dry.Bulk.Density\\_15'\n",
       "\\item 'stat\\_N\\_sample\\_Dry.Bulk.Density.1'\n",
       "\\item 'stat\\_n\\_sample\\_Dry.Bulk.Density.1'\n",
       "\\item 'Dry.Bulk.Density\\_20'\n",
       "\\item 'int\\_Dry.Bulk.Density\\_20'\n",
       "\\item 'stat\\_N\\_sample\\_Dry.Bulk.Density.2'\n",
       "\\item 'stat\\_n\\_sample\\_Dry.Bulk.Density.2'\n",
       "\\item 'Dry.Bulk.Density\\_30'\n",
       "\\item 'int\\_Dry.Bulk.Density\\_30'\n",
       "\\item 'stat\\_N\\_sample\\_Dry.Bulk.Density.3'\n",
       "\\item 'stat\\_n\\_sample\\_Dry.Bulk.Density.3'\n",
       "\\item 'Dry.Bulk.Density\\_50'\n",
       "\\item 'int\\_Dry.Bulk.Density\\_50'\n",
       "\\end{enumerate*}\n"
      ],
      "text/markdown": [
       "1. 'Article.ID'\n",
       "2. 'Study.site'\n",
       "3. 'Country'\n",
       "4. 'Latitude'\n",
       "5. 'Longitude'\n",
       "6. 'Seagrass.species'\n",
       "7. 'Core.ID'\n",
       "8. 'Depth.of.core'\n",
       "9. 'Article.ID.1'\n",
       "10. 'Study.site.1'\n",
       "11. 'Country.1'\n",
       "12. 'Latitude.1'\n",
       "13. 'Longitude.1'\n",
       "14. 'Seagrass.species.1'\n",
       "15. 'Core.ID.1'\n",
       "16. 'Depth.of.core.1'\n",
       "17. 'Article.ID.2'\n",
       "18. 'Study.site.2'\n",
       "19. 'Country.2'\n",
       "20. 'Latitude.2'\n",
       "21. 'Longitude.2'\n",
       "22. 'Seagrass.species.2'\n",
       "23. 'Core.ID.2'\n",
       "24. 'Depth.of.core.2'\n",
       "25. 'Article.ID.3'\n",
       "26. 'Study.site.3'\n",
       "27. 'Country.3'\n",
       "28. 'Latitude.3'\n",
       "29. 'Longitude.3'\n",
       "30. 'Seagrass.species.3'\n",
       "31. 'Core.ID.3'\n",
       "32. 'Depth.of.core.3'\n",
       "33. 'stat_N_sample_Corg'\n",
       "34. 'stat_n_sample_Corg'\n",
       "35. 'Corg_15'\n",
       "36. 'int_Corg_15'\n",
       "37. 'stat_N_sample_Corg.1'\n",
       "38. 'stat_n_sample_Corg.1'\n",
       "39. 'Corg_20'\n",
       "40. 'int_Corg_20'\n",
       "41. 'stat_N_sample_Corg.2'\n",
       "42. 'stat_n_sample_Corg.2'\n",
       "43. 'Corg_30'\n",
       "44. 'int_Corg_30'\n",
       "45. 'stat_N_sample_Corg.3'\n",
       "46. 'stat_n_sample_Corg.3'\n",
       "47. 'Corg_50'\n",
       "48. 'int_Corg_50'\n",
       "49. 'stat_N_sample_Dry.Bulk.Density'\n",
       "50. 'stat_n_sample_Dry.Bulk.Density'\n",
       "51. 'Dry.Bulk.Density_15'\n",
       "52. 'int_Dry.Bulk.Density_15'\n",
       "53. 'stat_N_sample_Dry.Bulk.Density.1'\n",
       "54. 'stat_n_sample_Dry.Bulk.Density.1'\n",
       "55. 'Dry.Bulk.Density_20'\n",
       "56. 'int_Dry.Bulk.Density_20'\n",
       "57. 'stat_N_sample_Dry.Bulk.Density.2'\n",
       "58. 'stat_n_sample_Dry.Bulk.Density.2'\n",
       "59. 'Dry.Bulk.Density_30'\n",
       "60. 'int_Dry.Bulk.Density_30'\n",
       "61. 'stat_N_sample_Dry.Bulk.Density.3'\n",
       "62. 'stat_n_sample_Dry.Bulk.Density.3'\n",
       "63. 'Dry.Bulk.Density_50'\n",
       "64. 'int_Dry.Bulk.Density_50'\n",
       "\n",
       "\n"
      ],
      "text/plain": [
       " [1] \"Article.ID\"                       \"Study.site\"                      \n",
       " [3] \"Country\"                          \"Latitude\"                        \n",
       " [5] \"Longitude\"                        \"Seagrass.species\"                \n",
       " [7] \"Core.ID\"                          \"Depth.of.core\"                   \n",
       " [9] \"Article.ID.1\"                     \"Study.site.1\"                    \n",
       "[11] \"Country.1\"                        \"Latitude.1\"                      \n",
       "[13] \"Longitude.1\"                      \"Seagrass.species.1\"              \n",
       "[15] \"Core.ID.1\"                        \"Depth.of.core.1\"                 \n",
       "[17] \"Article.ID.2\"                     \"Study.site.2\"                    \n",
       "[19] \"Country.2\"                        \"Latitude.2\"                      \n",
       "[21] \"Longitude.2\"                      \"Seagrass.species.2\"              \n",
       "[23] \"Core.ID.2\"                        \"Depth.of.core.2\"                 \n",
       "[25] \"Article.ID.3\"                     \"Study.site.3\"                    \n",
       "[27] \"Country.3\"                        \"Latitude.3\"                      \n",
       "[29] \"Longitude.3\"                      \"Seagrass.species.3\"              \n",
       "[31] \"Core.ID.3\"                        \"Depth.of.core.3\"                 \n",
       "[33] \"stat_N_sample_Corg\"               \"stat_n_sample_Corg\"              \n",
       "[35] \"Corg_15\"                          \"int_Corg_15\"                     \n",
       "[37] \"stat_N_sample_Corg.1\"             \"stat_n_sample_Corg.1\"            \n",
       "[39] \"Corg_20\"                          \"int_Corg_20\"                     \n",
       "[41] \"stat_N_sample_Corg.2\"             \"stat_n_sample_Corg.2\"            \n",
       "[43] \"Corg_30\"                          \"int_Corg_30\"                     \n",
       "[45] \"stat_N_sample_Corg.3\"             \"stat_n_sample_Corg.3\"            \n",
       "[47] \"Corg_50\"                          \"int_Corg_50\"                     \n",
       "[49] \"stat_N_sample_Dry.Bulk.Density\"   \"stat_n_sample_Dry.Bulk.Density\"  \n",
       "[51] \"Dry.Bulk.Density_15\"              \"int_Dry.Bulk.Density_15\"         \n",
       "[53] \"stat_N_sample_Dry.Bulk.Density.1\" \"stat_n_sample_Dry.Bulk.Density.1\"\n",
       "[55] \"Dry.Bulk.Density_20\"              \"int_Dry.Bulk.Density_20\"         \n",
       "[57] \"stat_N_sample_Dry.Bulk.Density.2\" \"stat_n_sample_Dry.Bulk.Density.2\"\n",
       "[59] \"Dry.Bulk.Density_30\"              \"int_Dry.Bulk.Density_30\"         \n",
       "[61] \"stat_N_sample_Dry.Bulk.Density.3\" \"stat_n_sample_Dry.Bulk.Density.3\"\n",
       "[63] \"Dry.Bulk.Density_50\"              \"int_Dry.Bulk.Density_50\"         "
      ]
     },
     "metadata": {},
     "output_type": "display_data"
    }
   ],
   "source": [
    "colnames(core_varx_depthx_df)"
   ]
  },
  {
   "cell_type": "code",
   "execution_count": 115,
   "id": "9d1491b1-cd2d-4c87-9458-fd7f3d753f0d",
   "metadata": {},
   "outputs": [
    {
     "data": {
      "text/html": [
       "<style>\n",
       ".list-inline {list-style: none; margin:0; padding: 0}\n",
       ".list-inline>li {display: inline-block}\n",
       ".list-inline>li:not(:last-child)::after {content: \"\\00b7\"; padding: 0 .5ex}\n",
       "</style>\n",
       "<ol class=list-inline><li>137</li><li>64</li></ol>\n"
      ],
      "text/latex": [
       "\\begin{enumerate*}\n",
       "\\item 137\n",
       "\\item 64\n",
       "\\end{enumerate*}\n"
      ],
      "text/markdown": [
       "1. 137\n",
       "2. 64\n",
       "\n",
       "\n"
      ],
      "text/plain": [
       "[1] 137  64"
      ]
     },
     "metadata": {},
     "output_type": "display_data"
    }
   ],
   "source": [
    "dim(core_varx_depthx_df)"
   ]
  },
  {
   "cell_type": "code",
   "execution_count": 116,
   "id": "9c88fc6d-7512-4fb4-821f-9b24ad816fda",
   "metadata": {},
   "outputs": [],
   "source": [
    "core_varx_depthx_df <- Reduce(function(x, y)  merge(x, y), core_varx_depthx_list) |>  dplyr::select(-matches(\"\\\\.\\\\d+$\"))"
   ]
  },
  {
   "cell_type": "code",
   "execution_count": 117,
   "id": "8cccf885-6906-42e9-8b33-b6a62d6d8b6a",
   "metadata": {},
   "outputs": [
    {
     "name": "stderr",
     "output_type": "stream",
     "text": [
      "\u001b[1m\u001b[22m`summarise()` has grouped output by 'Article.ID', 'Study.site', 'Country', 'Latitude', 'Longitude', 'Seagrass.species'. You can override using the `.groups` argument.\n"
     ]
    }
   ],
   "source": [
    "core_Corg_DBD_slices <- coredata_slices |>\n",
    "                        dplyr::group_by(across(all_of(grouping_cols))) |>\n",
    "                        dplyr::summarise(Depth.of.core = max(Bottom.of.section),\n",
    "                                          near_15 = max(Bottom.of.section[Bottom.of.section <= 15], na.rm = TRUE),\n",
    "                                          cs_Corg_DBD_15 = slice_check(pick(Bottom.of.section, cumsum_Corg_DBD), x_val = near_15, xreal = 15),\n",
    "                                          Corg.stock_15 = slice_check(pick(Bottom.of.section, carbon_stock_MgC_ha), x_val = near_15, xreal = 15),\n",
    "                                          near_20 = max(Bottom.of.section[Bottom.of.section <= 20], na.rm = TRUE),\n",
    "                                          cs_Corg_DBD_20 = slice_check(pick(Bottom.of.section, cumsum_Corg_DBD), x_val = near_20, xreal = 20),\n",
    "                                          Corg.stock_20 = slice_check(pick(Bottom.of.section, carbon_stock_MgC_ha), x_val = near_20, xreal = 20),\n",
    "                                          near_30 = max(Bottom.of.section[Bottom.of.section <= 30], na.rm = TRUE),\n",
    "                                          cs_Corg_DBD_30 = slice_check(pick(Bottom.of.section, cumsum_Corg_DBD), x_val = near_30, xreal = 30),\n",
    "                                          Corg.stock_30 = slice_check(pick(Bottom.of.section, carbon_stock_MgC_ha), x_val = near_30, xreal = 30),\n",
    "                                          near_50 = max(Bottom.of.section[Bottom.of.section <= 50], na.rm = TRUE),\n",
    "                                          cs_Corg_DBD_50 = slice_check(pick(Bottom.of.section, cumsum_Corg_DBD), x_val = near_50, xreal = 50),\n",
    "                                          Corg.stock_50 = slice_check(pick(Bottom.of.section, carbon_stock_MgC_ha), x_val = near_50, xreal = 50),\n",
    "                                          totCorg.stock = slice_check(pick(Depth.of.core,  carbon_stock_MgC_ha), x_val = Depth.of.core, xreal = 50))"
   ]
  },
  {
   "cell_type": "code",
   "execution_count": 118,
   "id": "86a96c83-7e4d-4025-bf8c-65eedea65582",
   "metadata": {},
   "outputs": [
    {
     "data": {
      "text/html": [
       "<style>\n",
       ".list-inline {list-style: none; margin:0; padding: 0}\n",
       ".list-inline>li {display: inline-block}\n",
       ".list-inline>li:not(:last-child)::after {content: \"\\00b7\"; padding: 0 .5ex}\n",
       "</style>\n",
       "<ol class=list-inline><li>137</li><li>28</li></ol>\n"
      ],
      "text/latex": [
       "\\begin{enumerate*}\n",
       "\\item 137\n",
       "\\item 28\n",
       "\\end{enumerate*}\n"
      ],
      "text/markdown": [
       "1. 137\n",
       "2. 28\n",
       "\n",
       "\n"
      ],
      "text/plain": [
       "[1] 137  28"
      ]
     },
     "metadata": {},
     "output_type": "display_data"
    }
   ],
   "source": [
    "dim(core_varx_depthx_df)"
   ]
  },
  {
   "cell_type": "code",
   "execution_count": 126,
   "id": "4154d1ef-7636-48ca-bbe1-d547fd5d1044",
   "metadata": {},
   "outputs": [
    {
     "name": "stderr",
     "output_type": "stream",
     "text": [
      "\u001b[1m\u001b[22m`summarise()` has grouped output by 'Article.ID', 'Study.site', 'Country', 'Latitude', 'Longitude', 'Seagrass.species'. You can override using the `.groups` argument.\n"
     ]
    }
   ],
   "source": [
    "core_Corg_DBD_slices <- coredata_slices |>\n",
    "                        dplyr::group_by(across(all_of(grouping_cols))) |>\n",
    "                        dplyr::summarise(Depth.of.core = max(Bottom.of.section),\n",
    "                                          near_15 = max(Bottom.of.section[Bottom.of.section <= 15], na.rm = TRUE),\n",
    "                                          cs_Corg_DBD_15 = slice_check(pick(Bottom.of.section, cumsum_Corg_DBD), x_val = near_15, xreal = 15),\n",
    "                                          Corg.stock_15 = slice_check(pick(Bottom.of.section, carbon_stock_MgC_ha), x_val = near_15, xreal = 15),\n",
    "                                          near_20 = max(Bottom.of.section[Bottom.of.section <= 20], na.rm = TRUE),\n",
    "                                          cs_Corg_DBD_20 = slice_check(pick(Bottom.of.section, cumsum_Corg_DBD), x_val = near_20, xreal = 20),\n",
    "                                          Corg.stock_20 = slice_check(pick(Bottom.of.section, carbon_stock_MgC_ha), x_val = near_20, xreal = 20),\n",
    "                                          near_30 = max(Bottom.of.section[Bottom.of.section <= 30], na.rm = TRUE),\n",
    "                                          cs_Corg_DBD_30 = slice_check(pick(Bottom.of.section, cumsum_Corg_DBD), x_val = near_30, xreal = 30),\n",
    "                                          Corg.stock_30 = slice_check(pick(Bottom.of.section, carbon_stock_MgC_ha), x_val = near_30, xreal = 30),\n",
    "                                          near_50 = max(Bottom.of.section[Bottom.of.section <= 50], na.rm = TRUE),\n",
    "                                          cs_Corg_DBD_50 = slice_check(pick(Bottom.of.section, cumsum_Corg_DBD), x_val = near_50, xreal = 50),\n",
    "                                          Corg.stock_50 = slice_check(pick(Bottom.of.section, carbon_stock_MgC_ha), x_val = near_50, xreal = 50),\n",
    "                                          totCorg.stock = slice_check(pick(Depth.of.core,  carbon_stock_MgC_ha), x_val = Depth.of.core, xreal = 50))"
   ]
  },
  {
   "cell_type": "code",
   "execution_count": 127,
   "id": "5ea4f9f8-643b-4f4b-9070-808751cf14bb",
   "metadata": {},
   "outputs": [],
   "source": [
    "core_varx_Corg <- merge(core_varx_depthx_df, core_Corg_DBD_slices)"
   ]
  },
  {
   "cell_type": "code",
   "execution_count": 131,
   "id": "cc68031a-d383-4091-847a-f8c9887255bb",
   "metadata": {},
   "outputs": [
    {
     "name": "stdout",
     "output_type": "stream",
     "text": [
      "c(\"Article.ID\", \"Study.site\", \"Country\", \"Seagrass.species\", \n",
      "\"Core.ID\")\n"
     ]
    }
   ],
   "source": [
    "core_varx_Corg |>\n",
    "dplyr::select(where(is.character)) |> colnames() |> dput()"
   ]
  },
  {
   "cell_type": "code",
   "execution_count": 128,
   "id": "3970c9e8-ae27-437a-9508-6662c9d3e3ce",
   "metadata": {},
   "outputs": [
    {
     "name": "stdout",
     "output_type": "stream",
     "text": [
      "Rows: 137\n",
      "Columns: 41\n",
      "$ Article.ID                     \u001b[3m\u001b[90m<chr>\u001b[39m\u001b[23m \"Bekker_2015\"\u001b[90m, \u001b[39m\"Bekker_2015\"\u001b[90m, \u001b[39m\"Bekker_2…\n",
      "$ Study.site                     \u001b[3m\u001b[90m<chr>\u001b[39m\u001b[23m \"Knysna\"\u001b[90m, \u001b[39m\"Knysna\"\u001b[90m, \u001b[39m\"Knysna\"\u001b[90m, \u001b[39m\"Knysna\"\u001b[90m,\u001b[39m…\n",
      "$ Country                        \u001b[3m\u001b[90m<chr>\u001b[39m\u001b[23m \"South Africa\"\u001b[90m, \u001b[39m\"South Africa\"\u001b[90m, \u001b[39m\"South …\n",
      "$ Latitude                       \u001b[3m\u001b[90m<dbl>\u001b[39m\u001b[23m -34.08270\u001b[90m, \u001b[39m-34.08270\u001b[90m, \u001b[39m-34.08270\u001b[90m, \u001b[39m-34.08…\n",
      "$ Longitude                      \u001b[3m\u001b[90m<dbl>\u001b[39m\u001b[23m 23.06145\u001b[90m, \u001b[39m23.06145\u001b[90m, \u001b[39m23.06145\u001b[90m, \u001b[39m23.06145\u001b[90m,\u001b[39m…\n",
      "$ Seagrass.species               \u001b[3m\u001b[90m<chr>\u001b[39m\u001b[23m \"Zostera capensis\"\u001b[90m, \u001b[39m\"Zostera capensis\"\u001b[90m,\u001b[39m…\n",
      "$ Core.ID                        \u001b[3m\u001b[90m<chr>\u001b[39m\u001b[23m \"Knysna-Zostera capensis-Submerged-surf…\n",
      "$ Depth.of.core                  \u001b[3m\u001b[90m<dbl>\u001b[39m\u001b[23m 5\u001b[90m, \u001b[39m5\u001b[90m, \u001b[39m5\u001b[90m, \u001b[39m5\u001b[90m, \u001b[39m120\u001b[90m, \u001b[39m120\u001b[90m, \u001b[39m120\u001b[90m, \u001b[39m120\u001b[90m, \u001b[39m120\u001b[90m, \u001b[39m12…\n",
      "$ stat_N_sample_Corg             \u001b[3m\u001b[90m<int>\u001b[39m\u001b[23m 1\u001b[90m, \u001b[39m1\u001b[90m, \u001b[39m1\u001b[90m, \u001b[39m1\u001b[90m, \u001b[39m3\u001b[90m, \u001b[39m3\u001b[90m, \u001b[39m2\u001b[90m, \u001b[39m3\u001b[90m, \u001b[39m3\u001b[90m, \u001b[39m1\u001b[90m, \u001b[39m3\u001b[90m, \u001b[39m1\u001b[90m, \u001b[39m4\u001b[90m, \u001b[39m…\n",
      "$ stat_n_sample_Corg             \u001b[3m\u001b[90m<int>\u001b[39m\u001b[23m 1\u001b[90m, \u001b[39m1\u001b[90m, \u001b[39m1\u001b[90m, \u001b[39m1\u001b[90m, \u001b[39m3\u001b[90m, \u001b[39m3\u001b[90m, \u001b[39m3\u001b[90m, \u001b[39m3\u001b[90m, \u001b[39m3\u001b[90m, \u001b[39m3\u001b[90m, \u001b[39m3\u001b[90m, \u001b[39m3\u001b[90m, \u001b[39m4\u001b[90m, \u001b[39m…\n",
      "$ Corg_15                        \u001b[3m\u001b[90m<dbl>\u001b[39m\u001b[23m \u001b[31mNA\u001b[39m\u001b[90m, \u001b[39m\u001b[31mNA\u001b[39m\u001b[90m, \u001b[39m\u001b[31mNA\u001b[39m\u001b[90m, \u001b[39m\u001b[31mNA\u001b[39m\u001b[90m, \u001b[39m0.009248434\u001b[90m, \u001b[39m0.01566045…\n",
      "$ int_Corg_15                    \u001b[3m\u001b[90m<dbl>\u001b[39m\u001b[23m \u001b[31mNA\u001b[39m\u001b[90m, \u001b[39m\u001b[31mNA\u001b[39m\u001b[90m, \u001b[39m\u001b[31mNA\u001b[39m\u001b[90m, \u001b[39m\u001b[31mNA\u001b[39m\u001b[90m, \u001b[39m0.01917982\u001b[90m, \u001b[39m0.03033423\u001b[90m,\u001b[39m…\n",
      "$ Corg_20                        \u001b[3m\u001b[90m<dbl>\u001b[39m\u001b[23m \u001b[31mNA\u001b[39m\u001b[90m, \u001b[39m\u001b[31mNA\u001b[39m\u001b[90m, \u001b[39m\u001b[31mNA\u001b[39m\u001b[90m, \u001b[39m\u001b[31mNA\u001b[39m\u001b[90m, \u001b[39m\u001b[31mNA\u001b[39m\u001b[90m, \u001b[39m\u001b[31mNA\u001b[39m\u001b[90m, \u001b[39m\u001b[31mNA\u001b[39m\u001b[90m, \u001b[39m\u001b[31mNA\u001b[39m\u001b[90m, \u001b[39m\u001b[31mNA\u001b[39m\u001b[90m, \u001b[39m\u001b[31mNA\u001b[39m\u001b[90m,\u001b[39m…\n",
      "$ int_Corg_20                    \u001b[3m\u001b[90m<dbl>\u001b[39m\u001b[23m \u001b[31mNA\u001b[39m\u001b[90m, \u001b[39m\u001b[31mNA\u001b[39m\u001b[90m, \u001b[39m\u001b[31mNA\u001b[39m\u001b[90m, \u001b[39m\u001b[31mNA\u001b[39m\u001b[90m, \u001b[39m0.01847698\u001b[90m, \u001b[39m0.02919401\u001b[90m,\u001b[39m…\n",
      "$ Corg_30                        \u001b[3m\u001b[90m<dbl>\u001b[39m\u001b[23m \u001b[31mNA\u001b[39m\u001b[90m, \u001b[39m\u001b[31mNA\u001b[39m\u001b[90m, \u001b[39m\u001b[31mNA\u001b[39m\u001b[90m, \u001b[39m\u001b[31mNA\u001b[39m\u001b[90m, \u001b[39m\u001b[31mNA\u001b[39m\u001b[90m, \u001b[39m\u001b[31mNA\u001b[39m\u001b[90m, \u001b[39m\u001b[31mNA\u001b[39m\u001b[90m, \u001b[39m\u001b[31mNA\u001b[39m\u001b[90m, \u001b[39m\u001b[31mNA\u001b[39m\u001b[90m, \u001b[39m\u001b[31mNA\u001b[39m\u001b[90m,\u001b[39m…\n",
      "$ int_Corg_30                    \u001b[3m\u001b[90m<dbl>\u001b[39m\u001b[23m \u001b[31mNA\u001b[39m\u001b[90m, \u001b[39m\u001b[31mNA\u001b[39m\u001b[90m, \u001b[39m\u001b[31mNA\u001b[39m\u001b[90m, \u001b[39m\u001b[31mNA\u001b[39m\u001b[90m, \u001b[39m0.01707129\u001b[90m, \u001b[39m0.02691359\u001b[90m,\u001b[39m…\n",
      "$ Corg_50                        \u001b[3m\u001b[90m<dbl>\u001b[39m\u001b[23m \u001b[31mNA\u001b[39m\u001b[90m, \u001b[39m\u001b[31mNA\u001b[39m\u001b[90m, \u001b[39m\u001b[31mNA\u001b[39m\u001b[90m, \u001b[39m\u001b[31mNA\u001b[39m\u001b[90m, \u001b[39m\u001b[31mNA\u001b[39m\u001b[90m, \u001b[39m\u001b[31mNA\u001b[39m\u001b[90m, \u001b[39m\u001b[31mNA\u001b[39m\u001b[90m, \u001b[39m\u001b[31mNA\u001b[39m\u001b[90m, \u001b[39m\u001b[31mNA\u001b[39m\u001b[90m, \u001b[39m\u001b[31mNA\u001b[39m\u001b[90m,\u001b[39m…\n",
      "$ int_Corg_50                    \u001b[3m\u001b[90m<dbl>\u001b[39m\u001b[23m \u001b[31mNA\u001b[39m\u001b[90m, \u001b[39m\u001b[31mNA\u001b[39m\u001b[90m, \u001b[39m\u001b[31mNA\u001b[39m\u001b[90m, \u001b[39m\u001b[31mNA\u001b[39m\u001b[90m, \u001b[39m0.01425992\u001b[90m, \u001b[39m0.02235274\u001b[90m,\u001b[39m…\n",
      "$ stat_N_sample_Dry.Bulk.Density \u001b[3m\u001b[90m<int>\u001b[39m\u001b[23m 0\u001b[90m, \u001b[39m0\u001b[90m, \u001b[39m0\u001b[90m, \u001b[39m0\u001b[90m, \u001b[39m0\u001b[90m, \u001b[39m0\u001b[90m, \u001b[39m0\u001b[90m, \u001b[39m0\u001b[90m, \u001b[39m0\u001b[90m, \u001b[39m0\u001b[90m, \u001b[39m0\u001b[90m, \u001b[39m0\u001b[90m, \u001b[39m4\u001b[90m, \u001b[39m…\n",
      "$ stat_n_sample_Dry.Bulk.Density \u001b[3m\u001b[90m<int>\u001b[39m\u001b[23m 1\u001b[90m, \u001b[39m1\u001b[90m, \u001b[39m1\u001b[90m, \u001b[39m1\u001b[90m, \u001b[39m3\u001b[90m, \u001b[39m3\u001b[90m, \u001b[39m3\u001b[90m, \u001b[39m3\u001b[90m, \u001b[39m3\u001b[90m, \u001b[39m3\u001b[90m, \u001b[39m3\u001b[90m, \u001b[39m3\u001b[90m, \u001b[39m4\u001b[90m, \u001b[39m…\n",
      "$ Dry.Bulk.Density_15            \u001b[3m\u001b[90m<dbl>\u001b[39m\u001b[23m \u001b[31mNA\u001b[39m\u001b[90m, \u001b[39m\u001b[31mNA\u001b[39m\u001b[90m, \u001b[39m\u001b[31mNA\u001b[39m\u001b[90m, \u001b[39m\u001b[31mNA\u001b[39m\u001b[90m, \u001b[39m\u001b[31mNA\u001b[39m\u001b[90m, \u001b[39m\u001b[31mNA\u001b[39m\u001b[90m, \u001b[39m\u001b[31mNA\u001b[39m\u001b[90m, \u001b[39m\u001b[31mNA\u001b[39m\u001b[90m, \u001b[39m\u001b[31mNA\u001b[39m\u001b[90m, \u001b[39m\u001b[31mNA\u001b[39m\u001b[90m,\u001b[39m…\n",
      "$ int_Dry.Bulk.Density_15        \u001b[3m\u001b[90m<dbl>\u001b[39m\u001b[23m \u001b[31mNA\u001b[39m\u001b[90m, \u001b[39m\u001b[31mNA\u001b[39m\u001b[90m, \u001b[39m\u001b[31mNA\u001b[39m\u001b[90m, \u001b[39m\u001b[31mNA\u001b[39m\u001b[90m, \u001b[39m\u001b[31mNA\u001b[39m\u001b[90m, \u001b[39m\u001b[31mNA\u001b[39m\u001b[90m, \u001b[39m\u001b[31mNA\u001b[39m\u001b[90m, \u001b[39m\u001b[31mNA\u001b[39m\u001b[90m, \u001b[39m\u001b[31mNA\u001b[39m\u001b[90m, \u001b[39m\u001b[31mNA\u001b[39m\u001b[90m,\u001b[39m…\n",
      "$ Dry.Bulk.Density_20            \u001b[3m\u001b[90m<dbl>\u001b[39m\u001b[23m \u001b[31mNA\u001b[39m\u001b[90m, \u001b[39m\u001b[31mNA\u001b[39m\u001b[90m, \u001b[39m\u001b[31mNA\u001b[39m\u001b[90m, \u001b[39m\u001b[31mNA\u001b[39m\u001b[90m, \u001b[39m\u001b[31mNA\u001b[39m\u001b[90m, \u001b[39m\u001b[31mNA\u001b[39m\u001b[90m, \u001b[39m\u001b[31mNA\u001b[39m\u001b[90m, \u001b[39m\u001b[31mNA\u001b[39m\u001b[90m, \u001b[39m\u001b[31mNA\u001b[39m\u001b[90m, \u001b[39m\u001b[31mNA\u001b[39m\u001b[90m,\u001b[39m…\n",
      "$ int_Dry.Bulk.Density_20        \u001b[3m\u001b[90m<dbl>\u001b[39m\u001b[23m \u001b[31mNA\u001b[39m\u001b[90m, \u001b[39m\u001b[31mNA\u001b[39m\u001b[90m, \u001b[39m\u001b[31mNA\u001b[39m\u001b[90m, \u001b[39m\u001b[31mNA\u001b[39m\u001b[90m, \u001b[39m\u001b[31mNA\u001b[39m\u001b[90m, \u001b[39m\u001b[31mNA\u001b[39m\u001b[90m, \u001b[39m\u001b[31mNA\u001b[39m\u001b[90m, \u001b[39m\u001b[31mNA\u001b[39m\u001b[90m, \u001b[39m\u001b[31mNA\u001b[39m\u001b[90m, \u001b[39m\u001b[31mNA\u001b[39m\u001b[90m,\u001b[39m…\n",
      "$ Dry.Bulk.Density_30            \u001b[3m\u001b[90m<dbl>\u001b[39m\u001b[23m \u001b[31mNA\u001b[39m\u001b[90m, \u001b[39m\u001b[31mNA\u001b[39m\u001b[90m, \u001b[39m\u001b[31mNA\u001b[39m\u001b[90m, \u001b[39m\u001b[31mNA\u001b[39m\u001b[90m, \u001b[39m\u001b[31mNA\u001b[39m\u001b[90m, \u001b[39m\u001b[31mNA\u001b[39m\u001b[90m, \u001b[39m\u001b[31mNA\u001b[39m\u001b[90m, \u001b[39m\u001b[31mNA\u001b[39m\u001b[90m, \u001b[39m\u001b[31mNA\u001b[39m\u001b[90m, \u001b[39m\u001b[31mNA\u001b[39m\u001b[90m,\u001b[39m…\n",
      "$ int_Dry.Bulk.Density_30        \u001b[3m\u001b[90m<dbl>\u001b[39m\u001b[23m \u001b[31mNA\u001b[39m\u001b[90m, \u001b[39m\u001b[31mNA\u001b[39m\u001b[90m, \u001b[39m\u001b[31mNA\u001b[39m\u001b[90m, \u001b[39m\u001b[31mNA\u001b[39m\u001b[90m, \u001b[39m\u001b[31mNA\u001b[39m\u001b[90m, \u001b[39m\u001b[31mNA\u001b[39m\u001b[90m, \u001b[39m\u001b[31mNA\u001b[39m\u001b[90m, \u001b[39m\u001b[31mNA\u001b[39m\u001b[90m, \u001b[39m\u001b[31mNA\u001b[39m\u001b[90m, \u001b[39m\u001b[31mNA\u001b[39m\u001b[90m,\u001b[39m…\n",
      "$ Dry.Bulk.Density_50            \u001b[3m\u001b[90m<dbl>\u001b[39m\u001b[23m \u001b[31mNA\u001b[39m\u001b[90m, \u001b[39m\u001b[31mNA\u001b[39m\u001b[90m, \u001b[39m\u001b[31mNA\u001b[39m\u001b[90m, \u001b[39m\u001b[31mNA\u001b[39m\u001b[90m, \u001b[39m\u001b[31mNA\u001b[39m\u001b[90m, \u001b[39m\u001b[31mNA\u001b[39m\u001b[90m, \u001b[39m\u001b[31mNA\u001b[39m\u001b[90m, \u001b[39m\u001b[31mNA\u001b[39m\u001b[90m, \u001b[39m\u001b[31mNA\u001b[39m\u001b[90m, \u001b[39m\u001b[31mNA\u001b[39m\u001b[90m,\u001b[39m…\n",
      "$ int_Dry.Bulk.Density_50        \u001b[3m\u001b[90m<dbl>\u001b[39m\u001b[23m \u001b[31mNA\u001b[39m\u001b[90m, \u001b[39m\u001b[31mNA\u001b[39m\u001b[90m, \u001b[39m\u001b[31mNA\u001b[39m\u001b[90m, \u001b[39m\u001b[31mNA\u001b[39m\u001b[90m, \u001b[39m\u001b[31mNA\u001b[39m\u001b[90m, \u001b[39m\u001b[31mNA\u001b[39m\u001b[90m, \u001b[39m\u001b[31mNA\u001b[39m\u001b[90m, \u001b[39m\u001b[31mNA\u001b[39m\u001b[90m, \u001b[39m\u001b[31mNA\u001b[39m\u001b[90m, \u001b[39m\u001b[31mNA\u001b[39m\u001b[90m,\u001b[39m…\n",
      "$ near_15                        \u001b[3m\u001b[90m<dbl>\u001b[39m\u001b[23m 5\u001b[90m, \u001b[39m5\u001b[90m, \u001b[39m5\u001b[90m, \u001b[39m5\u001b[90m, \u001b[39m15\u001b[90m, \u001b[39m15\u001b[90m, \u001b[39m15\u001b[90m, \u001b[39m15\u001b[90m, \u001b[39m15\u001b[90m, \u001b[39m15\u001b[90m, \u001b[39m15\u001b[90m,\u001b[39m…\n",
      "$ cs_Corg_DBD_15                 \u001b[3m\u001b[90m<dbl>\u001b[39m\u001b[23m \u001b[31mNA\u001b[39m\u001b[90m, \u001b[39m\u001b[31mNA\u001b[39m\u001b[90m, \u001b[39m\u001b[31mNA\u001b[39m\u001b[90m, \u001b[39m\u001b[31mNA\u001b[39m\u001b[90m, \u001b[39m\u001b[31mNA\u001b[39m\u001b[90m, \u001b[39m\u001b[31mNA\u001b[39m\u001b[90m, \u001b[39m\u001b[31mNA\u001b[39m\u001b[90m, \u001b[39m\u001b[31mNA\u001b[39m\u001b[90m, \u001b[39m\u001b[31mNA\u001b[39m\u001b[90m, \u001b[39m\u001b[31mNA\u001b[39m\u001b[90m,\u001b[39m…\n",
      "$ Corg.stock_15                  \u001b[3m\u001b[90m<dbl>\u001b[39m\u001b[23m \u001b[31mNA\u001b[39m\u001b[90m, \u001b[39m\u001b[31mNA\u001b[39m\u001b[90m, \u001b[39m\u001b[31mNA\u001b[39m\u001b[90m, \u001b[39m\u001b[31mNA\u001b[39m\u001b[90m, \u001b[39m\u001b[31mNA\u001b[39m\u001b[90m, \u001b[39m\u001b[31mNA\u001b[39m\u001b[90m, \u001b[39m\u001b[31mNA\u001b[39m\u001b[90m, \u001b[39m\u001b[31mNA\u001b[39m\u001b[90m, \u001b[39m\u001b[31mNA\u001b[39m\u001b[90m, \u001b[39m\u001b[31mNA\u001b[39m\u001b[90m,\u001b[39m…\n",
      "$ near_20                        \u001b[3m\u001b[90m<dbl>\u001b[39m\u001b[23m 5\u001b[90m, \u001b[39m5\u001b[90m, \u001b[39m5\u001b[90m, \u001b[39m5\u001b[90m, \u001b[39m15\u001b[90m, \u001b[39m15\u001b[90m, \u001b[39m15\u001b[90m, \u001b[39m15\u001b[90m, \u001b[39m15\u001b[90m, \u001b[39m15\u001b[90m, \u001b[39m15\u001b[90m,\u001b[39m…\n",
      "$ cs_Corg_DBD_20                 \u001b[3m\u001b[90m<dbl>\u001b[39m\u001b[23m \u001b[31mNA\u001b[39m\u001b[90m, \u001b[39m\u001b[31mNA\u001b[39m\u001b[90m, \u001b[39m\u001b[31mNA\u001b[39m\u001b[90m, \u001b[39m\u001b[31mNA\u001b[39m\u001b[90m, \u001b[39m\u001b[31mNA\u001b[39m\u001b[90m, \u001b[39m\u001b[31mNA\u001b[39m\u001b[90m, \u001b[39m\u001b[31mNA\u001b[39m\u001b[90m, \u001b[39m\u001b[31mNA\u001b[39m\u001b[90m, \u001b[39m\u001b[31mNA\u001b[39m\u001b[90m, \u001b[39m\u001b[31mNA\u001b[39m\u001b[90m,\u001b[39m…\n",
      "$ Corg.stock_20                  \u001b[3m\u001b[90m<dbl>\u001b[39m\u001b[23m \u001b[31mNA\u001b[39m\u001b[90m, \u001b[39m\u001b[31mNA\u001b[39m\u001b[90m, \u001b[39m\u001b[31mNA\u001b[39m\u001b[90m, \u001b[39m\u001b[31mNA\u001b[39m\u001b[90m, \u001b[39m\u001b[31mNA\u001b[39m\u001b[90m, \u001b[39m\u001b[31mNA\u001b[39m\u001b[90m, \u001b[39m\u001b[31mNA\u001b[39m\u001b[90m, \u001b[39m\u001b[31mNA\u001b[39m\u001b[90m, \u001b[39m\u001b[31mNA\u001b[39m\u001b[90m, \u001b[39m\u001b[31mNA\u001b[39m\u001b[90m,\u001b[39m…\n",
      "$ near_30                        \u001b[3m\u001b[90m<dbl>\u001b[39m\u001b[23m 5\u001b[90m, \u001b[39m5\u001b[90m, \u001b[39m5\u001b[90m, \u001b[39m5\u001b[90m, \u001b[39m15\u001b[90m, \u001b[39m15\u001b[90m, \u001b[39m15\u001b[90m, \u001b[39m15\u001b[90m, \u001b[39m15\u001b[90m, \u001b[39m15\u001b[90m, \u001b[39m15\u001b[90m,\u001b[39m…\n",
      "$ cs_Corg_DBD_30                 \u001b[3m\u001b[90m<dbl>\u001b[39m\u001b[23m \u001b[31mNA\u001b[39m\u001b[90m, \u001b[39m\u001b[31mNA\u001b[39m\u001b[90m, \u001b[39m\u001b[31mNA\u001b[39m\u001b[90m, \u001b[39m\u001b[31mNA\u001b[39m\u001b[90m, \u001b[39m\u001b[31mNA\u001b[39m\u001b[90m, \u001b[39m\u001b[31mNA\u001b[39m\u001b[90m, \u001b[39m\u001b[31mNA\u001b[39m\u001b[90m, \u001b[39m\u001b[31mNA\u001b[39m\u001b[90m, \u001b[39m\u001b[31mNA\u001b[39m\u001b[90m, \u001b[39m\u001b[31mNA\u001b[39m\u001b[90m,\u001b[39m…\n",
      "$ Corg.stock_30                  \u001b[3m\u001b[90m<dbl>\u001b[39m\u001b[23m \u001b[31mNA\u001b[39m\u001b[90m, \u001b[39m\u001b[31mNA\u001b[39m\u001b[90m, \u001b[39m\u001b[31mNA\u001b[39m\u001b[90m, \u001b[39m\u001b[31mNA\u001b[39m\u001b[90m, \u001b[39m\u001b[31mNA\u001b[39m\u001b[90m, \u001b[39m\u001b[31mNA\u001b[39m\u001b[90m, \u001b[39m\u001b[31mNA\u001b[39m\u001b[90m, \u001b[39m\u001b[31mNA\u001b[39m\u001b[90m, \u001b[39m\u001b[31mNA\u001b[39m\u001b[90m, \u001b[39m\u001b[31mNA\u001b[39m\u001b[90m,\u001b[39m…\n",
      "$ near_50                        \u001b[3m\u001b[90m<dbl>\u001b[39m\u001b[23m 5\u001b[90m, \u001b[39m5\u001b[90m, \u001b[39m5\u001b[90m, \u001b[39m5\u001b[90m, \u001b[39m15\u001b[90m, \u001b[39m15\u001b[90m, \u001b[39m15\u001b[90m, \u001b[39m15\u001b[90m, \u001b[39m15\u001b[90m, \u001b[39m15\u001b[90m, \u001b[39m15\u001b[90m,\u001b[39m…\n",
      "$ cs_Corg_DBD_50                 \u001b[3m\u001b[90m<dbl>\u001b[39m\u001b[23m \u001b[31mNA\u001b[39m\u001b[90m, \u001b[39m\u001b[31mNA\u001b[39m\u001b[90m, \u001b[39m\u001b[31mNA\u001b[39m\u001b[90m, \u001b[39m\u001b[31mNA\u001b[39m\u001b[90m, \u001b[39m\u001b[31mNA\u001b[39m\u001b[90m, \u001b[39m\u001b[31mNA\u001b[39m\u001b[90m, \u001b[39m\u001b[31mNA\u001b[39m\u001b[90m, \u001b[39m\u001b[31mNA\u001b[39m\u001b[90m, \u001b[39m\u001b[31mNA\u001b[39m\u001b[90m, \u001b[39m\u001b[31mNA\u001b[39m\u001b[90m,\u001b[39m…\n",
      "$ Corg.stock_50                  \u001b[3m\u001b[90m<dbl>\u001b[39m\u001b[23m \u001b[31mNA\u001b[39m\u001b[90m, \u001b[39m\u001b[31mNA\u001b[39m\u001b[90m, \u001b[39m\u001b[31mNA\u001b[39m\u001b[90m, \u001b[39m\u001b[31mNA\u001b[39m\u001b[90m, \u001b[39m\u001b[31mNA\u001b[39m\u001b[90m, \u001b[39m\u001b[31mNA\u001b[39m\u001b[90m, \u001b[39m\u001b[31mNA\u001b[39m\u001b[90m, \u001b[39m\u001b[31mNA\u001b[39m\u001b[90m, \u001b[39m\u001b[31mNA\u001b[39m\u001b[90m, \u001b[39m\u001b[31mNA\u001b[39m\u001b[90m,\u001b[39m…\n",
      "$ totCorg.stock                  \u001b[3m\u001b[90m<dbl>\u001b[39m\u001b[23m \u001b[31mNA\u001b[39m\u001b[90m, \u001b[39m\u001b[31mNA\u001b[39m\u001b[90m, \u001b[39m\u001b[31mNA\u001b[39m\u001b[90m, \u001b[39m\u001b[31mNA\u001b[39m\u001b[90m, \u001b[39m\u001b[31mNA\u001b[39m\u001b[90m, \u001b[39m\u001b[31mNA\u001b[39m\u001b[90m, \u001b[39m\u001b[31mNA\u001b[39m\u001b[90m, \u001b[39m\u001b[31mNA\u001b[39m\u001b[90m, \u001b[39m\u001b[31mNA\u001b[39m\u001b[90m, \u001b[39m\u001b[31mNA\u001b[39m\u001b[90m,\u001b[39m…\n"
     ]
    }
   ],
   "source": [
    "glimpse(core_varx_Corg)"
   ]
  },
  {
   "cell_type": "code",
   "execution_count": 142,
   "id": "9b635a5a-edbd-4bd8-aaba-130121137bf5",
   "metadata": {},
   "outputs": [
    {
     "data": {
      "text/html": [
       "<table class=\"dataframe\">\n",
       "<caption>A tibble: 19 × 6</caption>\n",
       "<thead>\n",
       "\t<tr><th scope=col>Article.ID</th><th scope=col>Study.site</th><th scope=col>N_samples</th><th scope=col>na_count</th><th scope=col>total_count</th><th scope=col>na_proportion</th></tr>\n",
       "\t<tr><th scope=col>&lt;chr&gt;</th><th scope=col>&lt;chr&gt;</th><th scope=col>&lt;int&gt;</th><th scope=col>&lt;int&gt;</th><th scope=col>&lt;int&gt;</th><th scope=col>&lt;dbl&gt;</th></tr>\n",
       "</thead>\n",
       "<tbody>\n",
       "\t<tr><td>Bekker_2015            </td><td>Knysna   </td><td> 4</td><td> 4</td><td> 4</td><td>100</td></tr>\n",
       "\t<tr><td>Bezuidenhout_et_al_2011</td><td>Kromme   </td><td> 8</td><td> 8</td><td> 8</td><td>100</td></tr>\n",
       "\t<tr><td>Bossert_et_al_2024     </td><td>Berg     </td><td>30</td><td>30</td><td>30</td><td>100</td></tr>\n",
       "\t<tr><td>Bossert_et_al_2024     </td><td>Breede   </td><td>15</td><td>15</td><td>15</td><td>100</td></tr>\n",
       "\t<tr><td>Brown_and_Rajkaran_2020</td><td>Kobonqaba</td><td> 1</td><td> 1</td><td> 1</td><td>100</td></tr>\n",
       "\t<tr><td>Els_2017               </td><td>Knysna   </td><td> 4</td><td> 4</td><td> 4</td><td>100</td></tr>\n",
       "\t<tr><td>Els_2019               </td><td>Swartkops</td><td>12</td><td>12</td><td>12</td><td>100</td></tr>\n",
       "\t<tr><td>Lemley_2018            </td><td>Kariega  </td><td> 5</td><td> 5</td><td> 5</td><td>100</td></tr>\n",
       "\t<tr><td>Ndhlovu_et_al_2024     </td><td>Berg     </td><td> 8</td><td> 0</td><td> 8</td><td>  0</td></tr>\n",
       "\t<tr><td>Ndhlovu_et_al_2024     </td><td>Breede   </td><td> 4</td><td> 0</td><td> 4</td><td>  0</td></tr>\n",
       "\t<tr><td>Ndhlovu_et_al_2024     </td><td>Knysna   </td><td> 8</td><td> 0</td><td> 8</td><td>  0</td></tr>\n",
       "\t<tr><td>Ndhlovu_et_al_2024     </td><td>Mngazana </td><td>11</td><td> 0</td><td>11</td><td>  0</td></tr>\n",
       "\t<tr><td>Ndhlovu_et_al_2024     </td><td>Olifants </td><td> 8</td><td> 0</td><td> 8</td><td>  0</td></tr>\n",
       "\t<tr><td>Ndhlovu_et_al_2024     </td><td>Swartkops</td><td> 8</td><td> 0</td><td> 8</td><td>  0</td></tr>\n",
       "\t<tr><td>Rajkaran_and_Adams_2011</td><td>Mngazana </td><td> 1</td><td> 1</td><td> 1</td><td>100</td></tr>\n",
       "\t<tr><td>Veldkornet_2016_PhD    </td><td>Keurbooms</td><td> 1</td><td> 1</td><td> 1</td><td>100</td></tr>\n",
       "\t<tr><td>Veldkornet_2016_PhD    </td><td>Knysna   </td><td> 2</td><td> 2</td><td> 2</td><td>100</td></tr>\n",
       "\t<tr><td>Veldkornet_2016_PhD    </td><td>Kromme   </td><td> 2</td><td> 2</td><td> 2</td><td>100</td></tr>\n",
       "\t<tr><td>Veldkornet_2016_PhD    </td><td>Swartkops</td><td> 5</td><td> 5</td><td> 5</td><td>100</td></tr>\n",
       "</tbody>\n",
       "</table>\n"
      ],
      "text/latex": [
       "A tibble: 19 × 6\n",
       "\\begin{tabular}{llllll}\n",
       " Article.ID & Study.site & N\\_samples & na\\_count & total\\_count & na\\_proportion\\\\\n",
       " <chr> & <chr> & <int> & <int> & <int> & <dbl>\\\\\n",
       "\\hline\n",
       "\t Bekker\\_2015             & Knysna    &  4 &  4 &  4 & 100\\\\\n",
       "\t Bezuidenhout\\_et\\_al\\_2011 & Kromme    &  8 &  8 &  8 & 100\\\\\n",
       "\t Bossert\\_et\\_al\\_2024      & Berg      & 30 & 30 & 30 & 100\\\\\n",
       "\t Bossert\\_et\\_al\\_2024      & Breede    & 15 & 15 & 15 & 100\\\\\n",
       "\t Brown\\_and\\_Rajkaran\\_2020 & Kobonqaba &  1 &  1 &  1 & 100\\\\\n",
       "\t Els\\_2017                & Knysna    &  4 &  4 &  4 & 100\\\\\n",
       "\t Els\\_2019                & Swartkops & 12 & 12 & 12 & 100\\\\\n",
       "\t Lemley\\_2018             & Kariega   &  5 &  5 &  5 & 100\\\\\n",
       "\t Ndhlovu\\_et\\_al\\_2024      & Berg      &  8 &  0 &  8 &   0\\\\\n",
       "\t Ndhlovu\\_et\\_al\\_2024      & Breede    &  4 &  0 &  4 &   0\\\\\n",
       "\t Ndhlovu\\_et\\_al\\_2024      & Knysna    &  8 &  0 &  8 &   0\\\\\n",
       "\t Ndhlovu\\_et\\_al\\_2024      & Mngazana  & 11 &  0 & 11 &   0\\\\\n",
       "\t Ndhlovu\\_et\\_al\\_2024      & Olifants  &  8 &  0 &  8 &   0\\\\\n",
       "\t Ndhlovu\\_et\\_al\\_2024      & Swartkops &  8 &  0 &  8 &   0\\\\\n",
       "\t Rajkaran\\_and\\_Adams\\_2011 & Mngazana  &  1 &  1 &  1 & 100\\\\\n",
       "\t Veldkornet\\_2016\\_PhD     & Keurbooms &  1 &  1 &  1 & 100\\\\\n",
       "\t Veldkornet\\_2016\\_PhD     & Knysna    &  2 &  2 &  2 & 100\\\\\n",
       "\t Veldkornet\\_2016\\_PhD     & Kromme    &  2 &  2 &  2 & 100\\\\\n",
       "\t Veldkornet\\_2016\\_PhD     & Swartkops &  5 &  5 &  5 & 100\\\\\n",
       "\\end{tabular}\n"
      ],
      "text/markdown": [
       "\n",
       "A tibble: 19 × 6\n",
       "\n",
       "| Article.ID &lt;chr&gt; | Study.site &lt;chr&gt; | N_samples &lt;int&gt; | na_count &lt;int&gt; | total_count &lt;int&gt; | na_proportion &lt;dbl&gt; |\n",
       "|---|---|---|---|---|---|\n",
       "| Bekker_2015             | Knysna    |  4 |  4 |  4 | 100 |\n",
       "| Bezuidenhout_et_al_2011 | Kromme    |  8 |  8 |  8 | 100 |\n",
       "| Bossert_et_al_2024      | Berg      | 30 | 30 | 30 | 100 |\n",
       "| Bossert_et_al_2024      | Breede    | 15 | 15 | 15 | 100 |\n",
       "| Brown_and_Rajkaran_2020 | Kobonqaba |  1 |  1 |  1 | 100 |\n",
       "| Els_2017                | Knysna    |  4 |  4 |  4 | 100 |\n",
       "| Els_2019                | Swartkops | 12 | 12 | 12 | 100 |\n",
       "| Lemley_2018             | Kariega   |  5 |  5 |  5 | 100 |\n",
       "| Ndhlovu_et_al_2024      | Berg      |  8 |  0 |  8 |   0 |\n",
       "| Ndhlovu_et_al_2024      | Breede    |  4 |  0 |  4 |   0 |\n",
       "| Ndhlovu_et_al_2024      | Knysna    |  8 |  0 |  8 |   0 |\n",
       "| Ndhlovu_et_al_2024      | Mngazana  | 11 |  0 | 11 |   0 |\n",
       "| Ndhlovu_et_al_2024      | Olifants  |  8 |  0 |  8 |   0 |\n",
       "| Ndhlovu_et_al_2024      | Swartkops |  8 |  0 |  8 |   0 |\n",
       "| Rajkaran_and_Adams_2011 | Mngazana  |  1 |  1 |  1 | 100 |\n",
       "| Veldkornet_2016_PhD     | Keurbooms |  1 |  1 |  1 | 100 |\n",
       "| Veldkornet_2016_PhD     | Knysna    |  2 |  2 |  2 | 100 |\n",
       "| Veldkornet_2016_PhD     | Kromme    |  2 |  2 |  2 | 100 |\n",
       "| Veldkornet_2016_PhD     | Swartkops |  5 |  5 |  5 | 100 |\n",
       "\n"
      ],
      "text/plain": [
       "   Article.ID              Study.site N_samples na_count total_count\n",
       "1  Bekker_2015             Knysna      4         4        4         \n",
       "2  Bezuidenhout_et_al_2011 Kromme      8         8        8         \n",
       "3  Bossert_et_al_2024      Berg       30        30       30         \n",
       "4  Bossert_et_al_2024      Breede     15        15       15         \n",
       "5  Brown_and_Rajkaran_2020 Kobonqaba   1         1        1         \n",
       "6  Els_2017                Knysna      4         4        4         \n",
       "7  Els_2019                Swartkops  12        12       12         \n",
       "8  Lemley_2018             Kariega     5         5        5         \n",
       "9  Ndhlovu_et_al_2024      Berg        8         0        8         \n",
       "10 Ndhlovu_et_al_2024      Breede      4         0        4         \n",
       "11 Ndhlovu_et_al_2024      Knysna      8         0        8         \n",
       "12 Ndhlovu_et_al_2024      Mngazana   11         0       11         \n",
       "13 Ndhlovu_et_al_2024      Olifants    8         0        8         \n",
       "14 Ndhlovu_et_al_2024      Swartkops   8         0        8         \n",
       "15 Rajkaran_and_Adams_2011 Mngazana    1         1        1         \n",
       "16 Veldkornet_2016_PhD     Keurbooms   1         1        1         \n",
       "17 Veldkornet_2016_PhD     Knysna      2         2        2         \n",
       "18 Veldkornet_2016_PhD     Kromme      2         2        2         \n",
       "19 Veldkornet_2016_PhD     Swartkops   5         5        5         \n",
       "   na_proportion\n",
       "1  100          \n",
       "2  100          \n",
       "3  100          \n",
       "4  100          \n",
       "5  100          \n",
       "6  100          \n",
       "7  100          \n",
       "8  100          \n",
       "9    0          \n",
       "10   0          \n",
       "11   0          \n",
       "12   0          \n",
       "13   0          \n",
       "14   0          \n",
       "15 100          \n",
       "16 100          \n",
       "17 100          \n",
       "18 100          \n",
       "19 100          "
      ]
     },
     "metadata": {},
     "output_type": "display_data"
    }
   ],
   "source": [
    "core_varx_Corg |>\n",
    "          dplyr::group_by(Article.ID, Study.site) |>\n",
    "          dplyr::summarise(N_samples = dplyr::n(), \n",
    "                           na_count = sum(is.na(Corg.stock_15)),\n",
    "                           total_count = n(),\n",
    "                           na_proportion = 100*(na_count / total_count), .groups = \"drop\") |>\n",
    "          dplyr::ungroup() |>\n",
    "          dplyr::arrange(Article.ID, Study.site)"
   ]
  },
  {
   "cell_type": "code",
   "execution_count": null,
   "id": "e06a50df-153a-41cd-bb41-03ed3ff7f806",
   "metadata": {},
   "outputs": [],
   "source": []
  }
 ],
 "metadata": {
  "kernelspec": {
   "display_name": "R",
   "language": "R",
   "name": "ir"
  },
  "language_info": {
   "codemirror_mode": "r",
   "file_extension": ".r",
   "mimetype": "text/x-r-source",
   "name": "R",
   "pygments_lexer": "r",
   "version": "4.3.3"
  }
 },
 "nbformat": 4,
 "nbformat_minor": 5
}
