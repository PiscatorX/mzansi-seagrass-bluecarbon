{
 "cells": [
  {
   "cell_type": "code",
   "execution_count": 1,
   "id": "456edb47-7775-47a1-8317-8fa902e55774",
   "metadata": {},
   "outputs": [
    {
     "name": "stderr",
     "output_type": "stream",
     "text": [
      "── \u001b[1mAttaching core tidyverse packages\u001b[22m ──────────────────────────────────────────────────────────────────────────────────────────────────────────────────────────────── tidyverse 2.0.0 ──\n",
      "\u001b[32m✔\u001b[39m \u001b[34mdplyr    \u001b[39m 1.1.4     \u001b[32m✔\u001b[39m \u001b[34mreadr    \u001b[39m 2.1.5\n",
      "\u001b[32m✔\u001b[39m \u001b[34mforcats  \u001b[39m 1.0.0     \u001b[32m✔\u001b[39m \u001b[34mstringr  \u001b[39m 1.5.1\n",
      "\u001b[32m✔\u001b[39m \u001b[34mggplot2  \u001b[39m 3.5.2     \u001b[32m✔\u001b[39m \u001b[34mtibble   \u001b[39m 3.3.0\n",
      "\u001b[32m✔\u001b[39m \u001b[34mlubridate\u001b[39m 1.9.4     \u001b[32m✔\u001b[39m \u001b[34mtidyr    \u001b[39m 1.3.1\n",
      "\u001b[32m✔\u001b[39m \u001b[34mpurrr    \u001b[39m 1.0.4     \n",
      "── \u001b[1mConflicts\u001b[22m ────────────────────────────────────────────────────────────────────────────────────────────────────────────────────────────────────────────────── tidyverse_conflicts() ──\n",
      "\u001b[31m✖\u001b[39m \u001b[34mdplyr\u001b[39m::\u001b[32mfilter()\u001b[39m masks \u001b[34mstats\u001b[39m::filter()\n",
      "\u001b[31m✖\u001b[39m \u001b[34mdplyr\u001b[39m::\u001b[32mlag()\u001b[39m    masks \u001b[34mstats\u001b[39m::lag()\n",
      "\u001b[36mℹ\u001b[39m Use the conflicted package (\u001b[3m\u001b[34m<http://conflicted.r-lib.org/>\u001b[39m\u001b[23m) to force all conflicts to become errors\n"
     ]
    }
   ],
   "source": [
    "library(tidyverse)"
   ]
  },
  {
   "cell_type": "code",
   "execution_count": 2,
   "id": "77edb5bb-e16f-4857-8bb0-bae01c2aaa98",
   "metadata": {},
   "outputs": [
    {
     "name": "stdout",
     "output_type": "stream",
     "text": [
      "c(\"Article.ID\", \"Publication.year\", \"Study.site\", \"Country\", \n",
      "\"Latitude\", \"Longitude\", \"Coastal.typology\", \"Marine.ecoregion\", \n",
      "\"Seagrass.bioregion\", \"Seagrass.functionalmorphological.group\", \n",
      "\"Seagrass.species\", \"Seagrass.genus\", \"Additional.identification\", \n",
      "\"Above.ground.biomass\", \"Below.ground.biomass\", \"Total.biomass\", \n",
      "\"Sampling.depth\", \"Ctot.stock\", \"Ctot.content\", \"Corg.stock\", \n",
      "\"Corg.content\", \"Cinorg.stock\", \"Cinorg.content\", \"Ctot.stock.15cm\", \n",
      "\"Corg.stock.15cm\", \"Cinorg.stock.15cm\", \"Ctot.stock.30cm\", \"Corg.stock.30cm\", \n",
      "\"Cinorg.stock.30cm\", \"Ctot.stock.50cm\", \"Corg.stock.50cm\", \"Cinorg.stock.50cm\", \n",
      "\"Ctot.stock.100cm\", \"Corg.stock.100cm\", \"Cinorg.stock.100cm\", \n",
      "\"OM.content\", \"Porosity\", \"Dry.Bulk.Density\", \"Grain.size\", \"Fraction.mud\", \n",
      "\"Notes\")\n"
     ]
    }
   ],
   "source": [
    "Krause_stocks <- read.csv(\"../41467_2025_59204_MOESM4_ESM/Supplementary Software/stocks.csv\" , fileEncoding=\"latin1\") |>\n",
    "                 dplyr::rename(Article.ID = `ï..Article.ID`)\n",
    "Krause_stocks_cols <- dput(colnames(Krause_stocks))"
   ]
  },
  {
   "cell_type": "code",
   "execution_count": 3,
   "id": "7f97bbf8-abee-4afe-a34d-6f78b5165d85",
   "metadata": {},
   "outputs": [
    {
     "name": "stdout",
     "output_type": "stream",
     "text": [
      "c(\"ï..Article.ID\", \"Primary.reference\", \"Secondary.reference\", \n",
      "\"Publication.year\", \"Site.name\", \"Country\", \"Latitude\", \"Longitude\", \n",
      "\"Species\", \"Core.ID\", \"Top.of.section\", \"Bottom.of.section\", \n",
      "\"Depth.at.center.of.slice\", \"Thickness.sediment.slice\", \"Dry.Bulk.Density\", \n",
      "\"OM.content\", \"OM.density\", \"Corg\", \"Cinorg\", \"Cinorg.stock.increment\", \n",
      "\"Corg.stock.increment\", \"Ctot.stock.increment\", \"DBD.core\", \"OM.content.core\", \n",
      "\"Corg.core\", \"Cinorg.core\", \"Cinorg.stock.core\", \"Corg.stock.core\", \n",
      "\"Ctot.stock.core\", \"Depth.of.core\", \"X\", \"X.1\", \"X.2\")\n"
     ]
    }
   ],
   "source": [
    "Krause_data <- read.csv(\"../41467_2025_59204_MOESM4_ESM/Supplementary Software/Core_data.csv\" , fileEncoding=\"latin1\")\n",
    "Krause_data_cols <- dput(colnames(Krause_data))"
   ]
  },
  {
   "cell_type": "code",
   "execution_count": 4,
   "id": "7b65b941-448b-4638-afac-8ee02779ca73",
   "metadata": {},
   "outputs": [
    {
     "data": {
      "text/html": [
       "<style>\n",
       ".list-inline {list-style: none; margin:0; padding: 0}\n",
       ".list-inline>li {display: inline-block}\n",
       ".list-inline>li:not(:last-child)::after {content: \"\\00b7\"; padding: 0 .5ex}\n",
       "</style>\n",
       "<ol class=list-inline><li>2813</li><li>48</li></ol>\n"
      ],
      "text/latex": [
       "\\begin{enumerate*}\n",
       "\\item 2813\n",
       "\\item 48\n",
       "\\end{enumerate*}\n"
      ],
      "text/markdown": [
       "1. 2813\n",
       "2. 48\n",
       "\n",
       "\n"
      ],
      "text/plain": [
       "[1] 2813   48"
      ]
     },
     "metadata": {},
     "output_type": "display_data"
    }
   ],
   "source": [
    "Krause_database <- read_rds(\"../data/Krause_database.rds\") |>\n",
    "                   dplyr::mutate(data_source = \"Krause_et_al_2025\") |>\n",
    "                   dplyr::relocate(data_source)\n",
    "dim(Krause_database)"
   ]
  },
  {
   "cell_type": "code",
   "execution_count": 5,
   "id": "b9a4426b-9dd1-474b-98fd-6998a26335db",
   "metadata": {},
   "outputs": [
    {
     "data": {
      "text/html": [
       "<style>\n",
       ".list-inline {list-style: none; margin:0; padding: 0}\n",
       ".list-inline>li {display: inline-block}\n",
       ".list-inline>li:not(:last-child)::after {content: \"\\00b7\"; padding: 0 .5ex}\n",
       "</style>\n",
       "<ol class=list-inline><li>2813</li><li>48</li></ol>\n"
      ],
      "text/latex": [
       "\\begin{enumerate*}\n",
       "\\item 2813\n",
       "\\item 48\n",
       "\\end{enumerate*}\n"
      ],
      "text/markdown": [
       "1. 2813\n",
       "2. 48\n",
       "\n",
       "\n"
      ],
      "text/plain": [
       "[1] 2813   48"
      ]
     },
     "metadata": {},
     "output_type": "display_data"
    }
   ],
   "source": [
    "Krause_database |> select(where(~ !all(is.na(.)))) |> dim()"
   ]
  },
  {
   "cell_type": "code",
   "execution_count": 6,
   "id": "07bc1f7e-e685-4978-8f96-6a67e78551b5",
   "metadata": {},
   "outputs": [
    {
     "name": "stdout",
     "output_type": "stream",
     "text": [
      "Rows: 573\n",
      "Columns: 13\n",
      "$ data_source             \u001b[3m\u001b[90m<chr>\u001b[39m\u001b[23m \"Bossert_et_al_2024\"\u001b[90m, \u001b[39m\"Bossert_et_al_2024\"\u001b[90m, \u001b[39m\"B…\n",
      "$ study_id                \u001b[3m\u001b[90m<chr>\u001b[39m\u001b[23m \"Bossert_et_al_2024\"\u001b[90m, \u001b[39m\"Bossert_et_al_2024\"\u001b[90m, \u001b[39m\"B…\n",
      "$ site_id                 \u001b[3m\u001b[90m<chr>\u001b[39m\u001b[23m \"Berg\"\u001b[90m, \u001b[39m\"Berg\"\u001b[90m, \u001b[39m\"Berg\"\u001b[90m, \u001b[39m\"Berg\"\u001b[90m, \u001b[39m\"Berg\"\u001b[90m, \u001b[39m\"Berg\"…\n",
      "$ core_id                 \u001b[3m\u001b[90m<chr>\u001b[39m\u001b[23m \"LWR_SS1_R1\"\u001b[90m, \u001b[39m\"LWR_SS1_R1\"\u001b[90m, \u001b[39m\"LWR_SS1_R1\"\u001b[90m, \u001b[39m\"LWR…\n",
      "$ depth_min               \u001b[3m\u001b[90m<dbl>\u001b[39m\u001b[23m 0\u001b[90m, \u001b[39m3\u001b[90m, \u001b[39m6\u001b[90m, \u001b[39m10\u001b[90m, \u001b[39m0\u001b[90m, \u001b[39m3\u001b[90m, \u001b[39m6\u001b[90m, \u001b[39m10\u001b[90m, \u001b[39m0\u001b[90m, \u001b[39m3\u001b[90m, \u001b[39m6\u001b[90m, \u001b[39m10\u001b[90m, \u001b[39m0\u001b[90m, \u001b[39m3\u001b[90m, \u001b[39m6…\n",
      "$ depth_max               \u001b[3m\u001b[90m<dbl>\u001b[39m\u001b[23m 3\u001b[90m, \u001b[39m6\u001b[90m, \u001b[39m10\u001b[90m, \u001b[39m15\u001b[90m, \u001b[39m3\u001b[90m, \u001b[39m6\u001b[90m, \u001b[39m10\u001b[90m, \u001b[39m15\u001b[90m, \u001b[39m3\u001b[90m, \u001b[39m6\u001b[90m, \u001b[39m10\u001b[90m, \u001b[39m15\u001b[90m, \u001b[39m3\u001b[90m, \u001b[39m6…\n",
      "$ dry_bulk_density        \u001b[3m\u001b[90m<dbl>\u001b[39m\u001b[23m 1.0301527\u001b[90m, \u001b[39m1.0991792\u001b[90m, \u001b[39m0.8814128\u001b[90m, \u001b[39m1.1093583\u001b[90m, \u001b[39m0.…\n",
      "$ fraction_organic_matter \u001b[3m\u001b[90m<dbl>\u001b[39m\u001b[23m 0.40\u001b[90m, \u001b[39m0.25\u001b[90m, \u001b[39m0.97\u001b[90m, \u001b[39m0.45\u001b[90m, \u001b[39m0.34\u001b[90m, \u001b[39m0.69\u001b[90m, \u001b[39m0.30\u001b[90m, \u001b[39m0.34…\n",
      "$ year                    \u001b[3m\u001b[90m<dbl>\u001b[39m\u001b[23m 2022\u001b[90m, \u001b[39m2022\u001b[90m, \u001b[39m2022\u001b[90m, \u001b[39m2022\u001b[90m, \u001b[39m2022\u001b[90m, \u001b[39m2022\u001b[90m, \u001b[39m2022\u001b[90m, \u001b[39m2022…\n",
      "$ latitude                \u001b[3m\u001b[90m<dbl>\u001b[39m\u001b[23m -32.7716\u001b[90m, \u001b[39m-32.7716\u001b[90m, \u001b[39m-32.7716\u001b[90m, \u001b[39m-32.7716\u001b[90m, \u001b[39m-32.77…\n",
      "$ longitude               \u001b[3m\u001b[90m<dbl>\u001b[39m\u001b[23m 18.14287\u001b[90m, \u001b[39m18.14287\u001b[90m, \u001b[39m18.14287\u001b[90m, \u001b[39m18.14287\u001b[90m, \u001b[39m18.142…\n",
      "$ species_code            \u001b[3m\u001b[90m<chr>\u001b[39m\u001b[23m \"Zostera capensis\"\u001b[90m, \u001b[39m\"Zostera capensis\"\u001b[90m, \u001b[39m\"Zoste…\n",
      "$ code_type               \u001b[3m\u001b[90m<chr>\u001b[39m\u001b[23m \"Genus species\"\u001b[90m, \u001b[39m\"Genus species\"\u001b[90m, \u001b[39m\"Genus speci…\n"
     ]
    }
   ],
   "source": [
    "zaf_data_df <- read_rds(\"../data/zaf_data_df.rds\") \n",
    "glimpse(zaf_data_df)"
   ]
  },
  {
   "cell_type": "code",
   "execution_count": 7,
   "id": "f321bf16-535e-4e9c-a341-3ea426209a9e",
   "metadata": {},
   "outputs": [
    {
     "data": {
      "text/html": [
       "<style>\n",
       ".list-inline {list-style: none; margin:0; padding: 0}\n",
       ".list-inline>li {display: inline-block}\n",
       ".list-inline>li:not(:last-child)::after {content: \"\\00b7\"; padding: 0 .5ex}\n",
       "</style>\n",
       "<ol class=list-inline><li>573</li><li>13</li></ol>\n"
      ],
      "text/latex": [
       "\\begin{enumerate*}\n",
       "\\item 573\n",
       "\\item 13\n",
       "\\end{enumerate*}\n"
      ],
      "text/markdown": [
       "1. 573\n",
       "2. 13\n",
       "\n",
       "\n"
      ],
      "text/plain": [
       "[1] 573  13"
      ]
     },
     "metadata": {},
     "output_type": "display_data"
    }
   ],
   "source": [
    "dim(zaf_data_df)"
   ]
  },
  {
   "cell_type": "code",
   "execution_count": 8,
   "id": "697fca67-f89d-42ae-a2ea-337dd98039f8",
   "metadata": {},
   "outputs": [],
   "source": [
    "zaf_data_df <- dplyr::filter(zaf_data_df, !is.na(dry_bulk_density)) |>\n",
    "               dplyr::filter(!is.na(fraction_organic_matter))"
   ]
  },
  {
   "cell_type": "code",
   "execution_count": 9,
   "id": "6bc58b2c-6e67-450d-8a4b-7dc09b429ed0",
   "metadata": {},
   "outputs": [
    {
     "data": {
      "text/html": [
       "<style>\n",
       ".list-inline {list-style: none; margin:0; padding: 0}\n",
       ".list-inline>li {display: inline-block}\n",
       ".list-inline>li:not(:last-child)::after {content: \"\\00b7\"; padding: 0 .5ex}\n",
       "</style>\n",
       "<ol class=list-inline><li>406</li><li>13</li></ol>\n"
      ],
      "text/latex": [
       "\\begin{enumerate*}\n",
       "\\item 406\n",
       "\\item 13\n",
       "\\end{enumerate*}\n"
      ],
      "text/markdown": [
       "1. 406\n",
       "2. 13\n",
       "\n",
       "\n"
      ],
      "text/plain": [
       "[1] 406  13"
      ]
     },
     "metadata": {},
     "output_type": "display_data"
    }
   ],
   "source": [
    "dim(zaf_data_df)"
   ]
  },
  {
   "cell_type": "code",
   "execution_count": 10,
   "id": "f58091cb-0592-49c5-895f-4cfdcbde1e89",
   "metadata": {},
   "outputs": [
    {
     "data": {
      "text/html": [
       "<style>\n",
       ".list-inline {list-style: none; margin:0; padding: 0}\n",
       ".list-inline>li {display: inline-block}\n",
       ".list-inline>li:not(:last-child)::after {content: \"\\00b7\"; padding: 0 .5ex}\n",
       "</style>\n",
       "<ol class=list-inline><li>'Bossert_et_al_2024'</li><li>'Ndhlovu_et_al'</li></ol>\n"
      ],
      "text/latex": [
       "\\begin{enumerate*}\n",
       "\\item 'Bossert\\_et\\_al\\_2024'\n",
       "\\item 'Ndhlovu\\_et\\_al'\n",
       "\\end{enumerate*}\n"
      ],
      "text/markdown": [
       "1. 'Bossert_et_al_2024'\n",
       "2. 'Ndhlovu_et_al'\n",
       "\n",
       "\n"
      ],
      "text/plain": [
       "[1] \"Bossert_et_al_2024\" \"Ndhlovu_et_al\"     "
      ]
     },
     "metadata": {},
     "output_type": "display_data"
    }
   ],
   "source": [
    "unique(zaf_data_df$data_source)"
   ]
  },
  {
   "cell_type": "code",
   "execution_count": 11,
   "id": "263c278f-0306-4669-9418-8c47f7d2be8f",
   "metadata": {
    "scrolled": true
   },
   "outputs": [],
   "source": [
    "#zaf_data_df"
   ]
  },
  {
   "cell_type": "code",
   "execution_count": 12,
   "id": "08664e7e-444b-40f4-b06c-ae82a21b8998",
   "metadata": {},
   "outputs": [
    {
     "data": {
      "text/html": [
       "<style>\n",
       ".list-inline {list-style: none; margin:0; padding: 0}\n",
       ".list-inline>li {display: inline-block}\n",
       ".list-inline>li:not(:last-child)::after {content: \"\\00b7\"; padding: 0 .5ex}\n",
       "</style>\n",
       "<ol class=list-inline><li>'data_source'</li><li>'study_id'</li><li>'site_id'</li><li>'core_id'</li><li>'depth_min'</li><li>'depth_max'</li><li>'dry_bulk_density'</li><li>'fraction_organic_matter'</li><li>'year'</li><li>'latitude'</li><li>'longitude'</li><li>'species_code'</li><li>'code_type'</li></ol>\n"
      ],
      "text/latex": [
       "\\begin{enumerate*}\n",
       "\\item 'data\\_source'\n",
       "\\item 'study\\_id'\n",
       "\\item 'site\\_id'\n",
       "\\item 'core\\_id'\n",
       "\\item 'depth\\_min'\n",
       "\\item 'depth\\_max'\n",
       "\\item 'dry\\_bulk\\_density'\n",
       "\\item 'fraction\\_organic\\_matter'\n",
       "\\item 'year'\n",
       "\\item 'latitude'\n",
       "\\item 'longitude'\n",
       "\\item 'species\\_code'\n",
       "\\item 'code\\_type'\n",
       "\\end{enumerate*}\n"
      ],
      "text/markdown": [
       "1. 'data_source'\n",
       "2. 'study_id'\n",
       "3. 'site_id'\n",
       "4. 'core_id'\n",
       "5. 'depth_min'\n",
       "6. 'depth_max'\n",
       "7. 'dry_bulk_density'\n",
       "8. 'fraction_organic_matter'\n",
       "9. 'year'\n",
       "10. 'latitude'\n",
       "11. 'longitude'\n",
       "12. 'species_code'\n",
       "13. 'code_type'\n",
       "\n",
       "\n"
      ],
      "text/plain": [
       " [1] \"data_source\"             \"study_id\"               \n",
       " [3] \"site_id\"                 \"core_id\"                \n",
       " [5] \"depth_min\"               \"depth_max\"              \n",
       " [7] \"dry_bulk_density\"        \"fraction_organic_matter\"\n",
       " [9] \"year\"                    \"latitude\"               \n",
       "[11] \"longitude\"               \"species_code\"           \n",
       "[13] \"code_type\"              "
      ]
     },
     "metadata": {},
     "output_type": "display_data"
    }
   ],
   "source": [
    "setdiff(names(zaf_data_df), names(Krause_stocks))"
   ]
  },
  {
   "cell_type": "code",
   "execution_count": 13,
   "id": "1ecaed86-1b81-4dcf-966c-29ba30a0497a",
   "metadata": {},
   "outputs": [
    {
     "data": {
      "text/html": [
       "<table class=\"dataframe\">\n",
       "<caption>A tibble: 5 × 7</caption>\n",
       "<thead>\n",
       "\t<tr><th scope=col>Latitude</th><th scope=col>Longitude</th><th scope=col>Dry.Bulk.Density</th><th scope=col>Top.of.section</th><th scope=col>Bottom.of.section</th><th scope=col>Corg</th><th scope=col>year</th></tr>\n",
       "\t<tr><th scope=col>&lt;dbl&gt;</th><th scope=col>&lt;dbl&gt;</th><th scope=col>&lt;dbl&gt;</th><th scope=col>&lt;dbl&gt;</th><th scope=col>&lt;dbl&gt;</th><th scope=col>&lt;dbl&gt;</th><th scope=col>&lt;dbl&gt;</th></tr>\n",
       "</thead>\n",
       "<tbody>\n",
       "\t<tr><td>-32.81825</td><td> 18.19599</td><td>0.9543058</td><td> 6</td><td>10</td><td>0.290</td><td>2022</td></tr>\n",
       "\t<tr><td> 25.62139</td><td>-33.86114</td><td>1.5124200</td><td>20</td><td>30</td><td>2.603</td><td>2021</td></tr>\n",
       "\t<tr><td> 23.05105</td><td>-34.05871</td><td>1.5530600</td><td>30</td><td>50</td><td>1.078</td><td>2021</td></tr>\n",
       "\t<tr><td>-32.81825</td><td> 18.19599</td><td>0.9705039</td><td>10</td><td>15</td><td>0.320</td><td>2022</td></tr>\n",
       "\t<tr><td>-34.38955</td><td> 20.75021</td><td>1.1777466</td><td>10</td><td>15</td><td>0.580</td><td>2022</td></tr>\n",
       "</tbody>\n",
       "</table>\n"
      ],
      "text/latex": [
       "A tibble: 5 × 7\n",
       "\\begin{tabular}{lllllll}\n",
       " Latitude & Longitude & Dry.Bulk.Density & Top.of.section & Bottom.of.section & Corg & year\\\\\n",
       " <dbl> & <dbl> & <dbl> & <dbl> & <dbl> & <dbl> & <dbl>\\\\\n",
       "\\hline\n",
       "\t -32.81825 &  18.19599 & 0.9543058 &  6 & 10 & 0.290 & 2022\\\\\n",
       "\t  25.62139 & -33.86114 & 1.5124200 & 20 & 30 & 2.603 & 2021\\\\\n",
       "\t  23.05105 & -34.05871 & 1.5530600 & 30 & 50 & 1.078 & 2021\\\\\n",
       "\t -32.81825 &  18.19599 & 0.9705039 & 10 & 15 & 0.320 & 2022\\\\\n",
       "\t -34.38955 &  20.75021 & 1.1777466 & 10 & 15 & 0.580 & 2022\\\\\n",
       "\\end{tabular}\n"
      ],
      "text/markdown": [
       "\n",
       "A tibble: 5 × 7\n",
       "\n",
       "| Latitude &lt;dbl&gt; | Longitude &lt;dbl&gt; | Dry.Bulk.Density &lt;dbl&gt; | Top.of.section &lt;dbl&gt; | Bottom.of.section &lt;dbl&gt; | Corg &lt;dbl&gt; | year &lt;dbl&gt; |\n",
       "|---|---|---|---|---|---|---|\n",
       "| -32.81825 |  18.19599 | 0.9543058 |  6 | 10 | 0.290 | 2022 |\n",
       "|  25.62139 | -33.86114 | 1.5124200 | 20 | 30 | 2.603 | 2021 |\n",
       "|  23.05105 | -34.05871 | 1.5530600 | 30 | 50 | 1.078 | 2021 |\n",
       "| -32.81825 |  18.19599 | 0.9705039 | 10 | 15 | 0.320 | 2022 |\n",
       "| -34.38955 |  20.75021 | 1.1777466 | 10 | 15 | 0.580 | 2022 |\n",
       "\n"
      ],
      "text/plain": [
       "  Latitude  Longitude Dry.Bulk.Density Top.of.section Bottom.of.section Corg \n",
       "1 -32.81825  18.19599 0.9543058         6             10                0.290\n",
       "2  25.62139 -33.86114 1.5124200        20             30                2.603\n",
       "3  23.05105 -34.05871 1.5530600        30             50                1.078\n",
       "4 -32.81825  18.19599 0.9705039        10             15                0.320\n",
       "5 -34.38955  20.75021 1.1777466        10             15                0.580\n",
       "  year\n",
       "1 2022\n",
       "2 2021\n",
       "3 2021\n",
       "4 2022\n",
       "5 2022"
      ]
     },
     "metadata": {},
     "output_type": "display_data"
    }
   ],
   "source": [
    "(Zcapensis_depthseries <- dplyr::rename(rename(zaf_data_df, Article.ID = study_id),\n",
    "                                               Study.site = site_id,\n",
    "                                               Latitude = latitude,\n",
    "                                               Longitude = longitude,\n",
    "                                               Seagrass.species = species_code,\n",
    "                                               Core.ID = core_id,\n",
    "                                               Top.of.section = depth_min, \n",
    "                                               Bottom.of.section = depth_max,\n",
    "                                               Dry.Bulk.Density = dry_bulk_density,\n",
    "                                               Corg = fraction_organic_matter) |> \n",
    "                                 dplyr::mutate(Publication.year = str_split_fixed(Article.ID, \"_\", 4)[4],\n",
    "                                     Seagrass.genus = str_split_fixed(Seagrass.species, \" \", 2)[2],\n",
    "                                     Country = \"South Africa\",\n",
    "                                     Marine.ecoregion = \"Temperate Southern Africa\",\n",
    "                                     Seagrass.bioregion = \"Temperate Southern Oceans\",\n",
    "                                     Coastal.typology = \"Type I: Small deltas\",\n",
    "                                     Seagrass.functionalmorphological.group = \"Group B: Intermediate (Halodule, Zostera, Heterozostera, Syringodium, Cymodocea sp.)\",\n",
    "                                     Coastal.typology = if_else(Study.site == \"Langebaan\", \"Type III: Lagoons\", Coastal.typology)) |>\n",
    "                         dplyr::relocate(any_of(Krause_stocks_cols), .before = everything())) |>\n",
    "                         dplyr::select(where(is.numeric)) |>\n",
    "                         dplyr::sample_n(5)"
   ]
  },
  {
   "cell_type": "code",
   "execution_count": 14,
   "id": "15678d06-7072-46bc-ba49-633ad695be59",
   "metadata": {
    "editable": true,
    "scrolled": true,
    "slideshow": {
     "slide_type": ""
    },
    "tags": []
   },
   "outputs": [
    {
     "name": "stdout",
     "output_type": "stream",
     "text": [
      "c(\"Article.ID\", \"Publication.year\", \"Study.site\", \"Country\", \n",
      "\"Latitude\", \"Longitude\", \"Coastal.typology\", \"Marine.ecoregion\", \n",
      "\"Seagrass.bioregion\", \"Seagrass.functionalmorphological.group\", \n",
      "\"Seagrass.species\", \"Seagrass.genus\", \"Dry.Bulk.Density\", \"data_source\", \n",
      "\"Core.ID\", \"Top.of.section\", \"Bottom.of.section\", \"Corg\", \"year\", \n",
      "\"code_type\")\n"
     ]
    }
   ],
   "source": [
    "dput(colnames(Zcapensis_depthseries))"
   ]
  },
  {
   "cell_type": "code",
   "execution_count": 15,
   "id": "66077b56-2fce-48c2-b892-64f30b118769",
   "metadata": {
    "scrolled": true
   },
   "outputs": [],
   "source": [
    "coredata_slices <-  Zcapensis_depthseries |>\n",
    "                    dplyr::mutate(Thickness.sediment.slice = Bottom.of.section - Top.of.section,\n",
    "                                  Depth.at.center.of.slice = Top.of.section + (Thickness.sediment.slice/2),\n",
    "                                  depth_interval = Top.of.section + Thickness.sediment.slice,\n",
    "                                  Corg_DBD = Dry.Bulk.Density * (Corg/100), \n",
    "                                  Carbon_density = Corg_DBD * Thickness.sediment.slice,\n",
    "                                  Corg_DBD = Dry.Bulk.Density * (Corg/100), Corg_DBD_interval = Corg_DBD * Thickness.sediment.slice) |>\n",
    "                    dplyr::group_by(across(all_of(c(\"Article.ID\", \"Study.site\", \"Country\", \"Latitude\", \"Longitude\", \"Seagrass.species\", \"Core.ID\")))) |>\n",
    "                    dplyr::mutate(cumsum_Corg_DBD = cumsum(Corg_DBD_interval),\n",
    "                                  carbon_stock_MgC_ha = cumsum_Corg_DBD * (1/1000000) * (100000000/1)) |>\n",
    "                        dplyr::ungroup() "
   ]
  },
  {
   "cell_type": "code",
   "execution_count": 16,
   "id": "d26e4e12-516e-4b03-93ae-f9e1c5ac3a62",
   "metadata": {},
   "outputs": [
    {
     "data": {
      "text/html": [
       "<style>\n",
       ".list-inline {list-style: none; margin:0; padding: 0}\n",
       ".list-inline>li {display: inline-block}\n",
       ".list-inline>li:not(:last-child)::after {content: \"\\00b7\"; padding: 0 .5ex}\n",
       "</style>\n",
       "<ol class=list-inline><li>406</li><li>28</li></ol>\n"
      ],
      "text/latex": [
       "\\begin{enumerate*}\n",
       "\\item 406\n",
       "\\item 28\n",
       "\\end{enumerate*}\n"
      ],
      "text/markdown": [
       "1. 406\n",
       "2. 28\n",
       "\n",
       "\n"
      ],
      "text/plain": [
       "[1] 406  28"
      ]
     },
     "metadata": {},
     "output_type": "display_data"
    },
    {
     "data": {
      "image/png": "[encoded data removed]",
      "text/plain": [
       "plot without title"
      ]
     },
     "metadata": {
      "image/png": {
       "height": 420,
       "width": 420
      }
     },
     "output_type": "display_data"
    }
   ],
   "source": [
    "dim(coredata_slices)\n",
    "inspectdf::inspect_cat(coredata_slices) |> inspectdf::show_plot()"
   ]
  },
  {
   "cell_type": "code",
   "execution_count": 17,
   "id": "5fd558c4-0070-45de-b243-6a6f548712fe",
   "metadata": {},
   "outputs": [
    {
     "name": "stdout",
     "output_type": "stream",
     "text": [
      "Rows: 406\n",
      "Columns: 28\n",
      "$ Article.ID                             \u001b[3m\u001b[90m<chr>\u001b[39m\u001b[23m \"Bossert_et_al_2024\"\u001b[90m, \u001b[39m\"Bossert_…\n",
      "$ Publication.year                       \u001b[3m\u001b[90m<chr>\u001b[39m\u001b[23m \"Bossert\"\u001b[90m, \u001b[39m\"Bossert\"\u001b[90m, \u001b[39m\"Bossert\"…\n",
      "$ Study.site                             \u001b[3m\u001b[90m<chr>\u001b[39m\u001b[23m \"Berg\"\u001b[90m, \u001b[39m\"Berg\"\u001b[90m, \u001b[39m\"Berg\"\u001b[90m, \u001b[39m\"Berg\"\u001b[90m,\u001b[39m…\n",
      "$ Country                                \u001b[3m\u001b[90m<chr>\u001b[39m\u001b[23m \"South Africa\"\u001b[90m, \u001b[39m\"South Africa\"\u001b[90m,\u001b[39m…\n",
      "$ Latitude                               \u001b[3m\u001b[90m<dbl>\u001b[39m\u001b[23m -32.7716\u001b[90m, \u001b[39m-32.7716\u001b[90m, \u001b[39m-32.7716\u001b[90m, \u001b[39m-…\n",
      "$ Longitude                              \u001b[3m\u001b[90m<dbl>\u001b[39m\u001b[23m 18.14287\u001b[90m, \u001b[39m18.14287\u001b[90m, \u001b[39m18.14287\u001b[90m, \u001b[39m1…\n",
      "$ Coastal.typology                       \u001b[3m\u001b[90m<chr>\u001b[39m\u001b[23m \"Type I: Small deltas\"\u001b[90m, \u001b[39m\"Type I…\n",
      "$ Marine.ecoregion                       \u001b[3m\u001b[90m<chr>\u001b[39m\u001b[23m \"Temperate Southern Africa\"\u001b[90m, \u001b[39m\"T…\n",
      "$ Seagrass.bioregion                     \u001b[3m\u001b[90m<chr>\u001b[39m\u001b[23m \"Temperate Southern Oceans\"\u001b[90m, \u001b[39m\"T…\n",
      "$ Seagrass.functionalmorphological.group \u001b[3m\u001b[90m<chr>\u001b[39m\u001b[23m \"Group B: Intermediate (Halodul…\n",
      "$ Seagrass.species                       \u001b[3m\u001b[90m<chr>\u001b[39m\u001b[23m \"Zostera capensis\"\u001b[90m, \u001b[39m\"Zostera ca…\n",
      "$ Seagrass.genus                         \u001b[3m\u001b[90m<chr>\u001b[39m\u001b[23m \"Zostera\"\u001b[90m, \u001b[39m\"Zostera\"\u001b[90m, \u001b[39m\"Zostera\"…\n",
      "$ Dry.Bulk.Density                       \u001b[3m\u001b[90m<dbl>\u001b[39m\u001b[23m 1.0301527\u001b[90m, \u001b[39m1.0991792\u001b[90m, \u001b[39m0.8814128…\n",
      "$ data_source                            \u001b[3m\u001b[90m<chr>\u001b[39m\u001b[23m \"Bossert_et_al_2024\"\u001b[90m, \u001b[39m\"Bossert_…\n",
      "$ Core.ID                                \u001b[3m\u001b[90m<chr>\u001b[39m\u001b[23m \"LWR_SS1_R1\"\u001b[90m, \u001b[39m\"LWR_SS1_R1\"\u001b[90m, \u001b[39m\"LW…\n",
      "$ Top.of.section                         \u001b[3m\u001b[90m<dbl>\u001b[39m\u001b[23m 0\u001b[90m, \u001b[39m3\u001b[90m, \u001b[39m6\u001b[90m, \u001b[39m10\u001b[90m, \u001b[39m0\u001b[90m, \u001b[39m3\u001b[90m, \u001b[39m6\u001b[90m, \u001b[39m10\u001b[90m, \u001b[39m0\u001b[90m, \u001b[39m3\u001b[90m,\u001b[39m…\n",
      "$ Bottom.of.section                      \u001b[3m\u001b[90m<dbl>\u001b[39m\u001b[23m 3\u001b[90m, \u001b[39m6\u001b[90m, \u001b[39m10\u001b[90m, \u001b[39m15\u001b[90m, \u001b[39m3\u001b[90m, \u001b[39m6\u001b[90m, \u001b[39m10\u001b[90m, \u001b[39m15\u001b[90m, \u001b[39m3\u001b[90m, \u001b[39m…\n",
      "$ Corg                                   \u001b[3m\u001b[90m<dbl>\u001b[39m\u001b[23m 0.40\u001b[90m, \u001b[39m0.25\u001b[90m, \u001b[39m0.97\u001b[90m, \u001b[39m0.45\u001b[90m, \u001b[39m0.34\u001b[90m, \u001b[39m0…\n",
      "$ year                                   \u001b[3m\u001b[90m<dbl>\u001b[39m\u001b[23m 2022\u001b[90m, \u001b[39m2022\u001b[90m, \u001b[39m2022\u001b[90m, \u001b[39m2022\u001b[90m, \u001b[39m2022\u001b[90m, \u001b[39m2…\n",
      "$ code_type                              \u001b[3m\u001b[90m<chr>\u001b[39m\u001b[23m \"Genus species\"\u001b[90m, \u001b[39m\"Genus species…\n",
      "$ Thickness.sediment.slice               \u001b[3m\u001b[90m<dbl>\u001b[39m\u001b[23m 3\u001b[90m, \u001b[39m3\u001b[90m, \u001b[39m4\u001b[90m, \u001b[39m5\u001b[90m, \u001b[39m3\u001b[90m, \u001b[39m3\u001b[90m, \u001b[39m4\u001b[90m, \u001b[39m5\u001b[90m, \u001b[39m3\u001b[90m, \u001b[39m3\u001b[90m, \u001b[39m4…\n",
      "$ Depth.at.center.of.slice               \u001b[3m\u001b[90m<dbl>\u001b[39m\u001b[23m 1.5\u001b[90m, \u001b[39m4.5\u001b[90m, \u001b[39m8.0\u001b[90m, \u001b[39m12.5\u001b[90m, \u001b[39m1.5\u001b[90m, \u001b[39m4.5\u001b[90m, \u001b[39m…\n",
      "$ depth_interval                         \u001b[3m\u001b[90m<dbl>\u001b[39m\u001b[23m 3\u001b[90m, \u001b[39m6\u001b[90m, \u001b[39m10\u001b[90m, \u001b[39m15\u001b[90m, \u001b[39m3\u001b[90m, \u001b[39m6\u001b[90m, \u001b[39m10\u001b[90m, \u001b[39m15\u001b[90m, \u001b[39m3\u001b[90m, \u001b[39m…\n",
      "$ Corg_DBD                               \u001b[3m\u001b[90m<dbl>\u001b[39m\u001b[23m 0.004120611\u001b[90m, \u001b[39m0.002747948\u001b[90m, \u001b[39m0.008…\n",
      "$ Carbon_density                         \u001b[3m\u001b[90m<dbl>\u001b[39m\u001b[23m 0.012361832\u001b[90m, \u001b[39m0.008243844\u001b[90m, \u001b[39m0.034…\n",
      "$ Corg_DBD_interval                      \u001b[3m\u001b[90m<dbl>\u001b[39m\u001b[23m 0.012361832\u001b[90m, \u001b[39m0.008243844\u001b[90m, \u001b[39m0.034…\n",
      "$ cumsum_Corg_DBD                        \u001b[3m\u001b[90m<dbl>\u001b[39m\u001b[23m 0.012361832\u001b[90m, \u001b[39m0.020605676\u001b[90m, \u001b[39m0.054…\n",
      "$ carbon_stock_MgC_ha                    \u001b[3m\u001b[90m<dbl>\u001b[39m\u001b[23m 1.2361832\u001b[90m, \u001b[39m2.0605676\u001b[90m, \u001b[39m5.4804493…\n"
     ]
    }
   ],
   "source": [
    "glimpse(coredata_slices)"
   ]
  },
  {
   "cell_type": "code",
   "execution_count": 18,
   "id": "936e41bf-a362-4543-b4bc-c4a1d7ce52d0",
   "metadata": {},
   "outputs": [
    {
     "data": {
      "text/plain": [
       "Study.site\n",
       "     Berg    Breede    Knysna  Mngazana  Olifants Swartkops \n",
       "      160        80        40        46        40        40 "
      ]
     },
     "metadata": {},
     "output_type": "display_data"
    }
   ],
   "source": [
    "xtabs(~ Study.site, data = coredata_slices)"
   ]
  },
  {
   "cell_type": "code",
   "execution_count": 19,
   "id": "000cd8b2-9723-4117-938c-fd2ce8383043",
   "metadata": {},
   "outputs": [],
   "source": [
    "interpolate_slice <- function(data, x_val) {\n",
    "    \n",
    "  # Return NA if x_val is NA\n",
    "  if (is.na(x_val)) return(NA_real_)\n",
    "\n",
    "  # Rename columns to standard names (assumes only two columns: x and y)\n",
    "  clean_data <- data %>%\n",
    "    setNames(c(\"x\", \"y\")) %>%\n",
    "    filter(!is.na(x) & !is.na(y))\n",
    "\n",
    "  if (nrow(clean_data) == 0) return(NA_real_)\n",
    "\n",
    "  if (x_val > max(clean_data$x, na.rm = TRUE)) {\n",
    "    return(NA_real_)\n",
    "  }\n",
    "\n",
    "  model <- lm(y ~ x, data = clean_data)\n",
    "\n",
    "  predict(model, newdata = data.frame(x = x_val))\n",
    "}"
   ]
  },
  {
   "cell_type": "code",
   "execution_count": 20,
   "id": "1e2db5a1-a22b-4f85-be8c-6cb7dc2bd725",
   "metadata": {},
   "outputs": [
    {
     "data": {
      "text/html": [
       "<style>\n",
       ".list-inline {list-style: none; margin:0; padding: 0}\n",
       ".list-inline>li {display: inline-block}\n",
       ".list-inline>li:not(:last-child)::after {content: \"\\00b7\"; padding: 0 .5ex}\n",
       "</style>\n",
       "<ol class=list-inline><li>'Article.ID'</li><li>'Publication.year'</li><li>'Study.site'</li><li>'Country'</li><li>'Latitude'</li><li>'Longitude'</li><li>'Coastal.typology'</li><li>'Marine.ecoregion'</li><li>'Seagrass.bioregion'</li><li>'Seagrass.functionalmorphological.group'</li><li>'Seagrass.species'</li><li>'Seagrass.genus'</li><li>'Dry.Bulk.Density'</li><li>'data_source'</li><li>'Core.ID'</li><li>'Top.of.section'</li><li>'Bottom.of.section'</li><li>'Corg'</li><li>'year'</li><li>'code_type'</li><li>'Thickness.sediment.slice'</li><li>'Depth.at.center.of.slice'</li><li>'depth_interval'</li><li>'Corg_DBD'</li><li>'Carbon_density'</li><li>'Corg_DBD_interval'</li><li>'cumsum_Corg_DBD'</li><li>'carbon_stock_MgC_ha'</li></ol>\n"
      ],
      "text/latex": [
       "\\begin{enumerate*}\n",
       "\\item 'Article.ID'\n",
       "\\item 'Publication.year'\n",
       "\\item 'Study.site'\n",
       "\\item 'Country'\n",
       "\\item 'Latitude'\n",
       "\\item 'Longitude'\n",
       "\\item 'Coastal.typology'\n",
       "\\item 'Marine.ecoregion'\n",
       "\\item 'Seagrass.bioregion'\n",
       "\\item 'Seagrass.functionalmorphological.group'\n",
       "\\item 'Seagrass.species'\n",
       "\\item 'Seagrass.genus'\n",
       "\\item 'Dry.Bulk.Density'\n",
       "\\item 'data\\_source'\n",
       "\\item 'Core.ID'\n",
       "\\item 'Top.of.section'\n",
       "\\item 'Bottom.of.section'\n",
       "\\item 'Corg'\n",
       "\\item 'year'\n",
       "\\item 'code\\_type'\n",
       "\\item 'Thickness.sediment.slice'\n",
       "\\item 'Depth.at.center.of.slice'\n",
       "\\item 'depth\\_interval'\n",
       "\\item 'Corg\\_DBD'\n",
       "\\item 'Carbon\\_density'\n",
       "\\item 'Corg\\_DBD\\_interval'\n",
       "\\item 'cumsum\\_Corg\\_DBD'\n",
       "\\item 'carbon\\_stock\\_MgC\\_ha'\n",
       "\\end{enumerate*}\n"
      ],
      "text/markdown": [
       "1. 'Article.ID'\n",
       "2. 'Publication.year'\n",
       "3. 'Study.site'\n",
       "4. 'Country'\n",
       "5. 'Latitude'\n",
       "6. 'Longitude'\n",
       "7. 'Coastal.typology'\n",
       "8. 'Marine.ecoregion'\n",
       "9. 'Seagrass.bioregion'\n",
       "10. 'Seagrass.functionalmorphological.group'\n",
       "11. 'Seagrass.species'\n",
       "12. 'Seagrass.genus'\n",
       "13. 'Dry.Bulk.Density'\n",
       "14. 'data_source'\n",
       "15. 'Core.ID'\n",
       "16. 'Top.of.section'\n",
       "17. 'Bottom.of.section'\n",
       "18. 'Corg'\n",
       "19. 'year'\n",
       "20. 'code_type'\n",
       "21. 'Thickness.sediment.slice'\n",
       "22. 'Depth.at.center.of.slice'\n",
       "23. 'depth_interval'\n",
       "24. 'Corg_DBD'\n",
       "25. 'Carbon_density'\n",
       "26. 'Corg_DBD_interval'\n",
       "27. 'cumsum_Corg_DBD'\n",
       "28. 'carbon_stock_MgC_ha'\n",
       "\n",
       "\n"
      ],
      "text/plain": [
       " [1] \"Article.ID\"                            \n",
       " [2] \"Publication.year\"                      \n",
       " [3] \"Study.site\"                            \n",
       " [4] \"Country\"                               \n",
       " [5] \"Latitude\"                              \n",
       " [6] \"Longitude\"                             \n",
       " [7] \"Coastal.typology\"                      \n",
       " [8] \"Marine.ecoregion\"                      \n",
       " [9] \"Seagrass.bioregion\"                    \n",
       "[10] \"Seagrass.functionalmorphological.group\"\n",
       "[11] \"Seagrass.species\"                      \n",
       "[12] \"Seagrass.genus\"                        \n",
       "[13] \"Dry.Bulk.Density\"                      \n",
       "[14] \"data_source\"                           \n",
       "[15] \"Core.ID\"                               \n",
       "[16] \"Top.of.section\"                        \n",
       "[17] \"Bottom.of.section\"                     \n",
       "[18] \"Corg\"                                  \n",
       "[19] \"year\"                                  \n",
       "[20] \"code_type\"                             \n",
       "[21] \"Thickness.sediment.slice\"              \n",
       "[22] \"Depth.at.center.of.slice\"              \n",
       "[23] \"depth_interval\"                        \n",
       "[24] \"Corg_DBD\"                              \n",
       "[25] \"Carbon_density\"                        \n",
       "[26] \"Corg_DBD_interval\"                     \n",
       "[27] \"cumsum_Corg_DBD\"                       \n",
       "[28] \"carbon_stock_MgC_ha\"                   "
      ]
     },
     "metadata": {},
     "output_type": "display_data"
    }
   ],
   "source": [
    "colnames(coredata_slices)"
   ]
  },
  {
   "cell_type": "code",
   "execution_count": 21,
   "id": "e1efe48f-a846-436c-be05-125230b3bc6b",
   "metadata": {},
   "outputs": [],
   "source": [
    "soc_vars <- c(\"Corg\", \"Dry.Bulk.Density\")\n",
    "soc_depths  <- c(15, 20, 30, 50, 100)         "
   ]
  },
  {
   "cell_type": "code",
   "execution_count": 22,
   "id": "c4251db3-c236-4ac6-ad90-9d89c1693879",
   "metadata": {},
   "outputs": [],
   "source": [
    "# get_slice_val <- function(data, x_col, y_col, x_val) {\n",
    "#   match_row <- data[data[[x_col]] == x_val, , drop = FALSE]\n",
    "#   if (nrow(match_row) == 0) return(NA_real_)\n",
    "#   return(match_row[[y_col]][1])\n",
    "# }"
   ]
  },
  {
   "cell_type": "code",
   "execution_count": 23,
   "id": "f495426a-3aca-4a9d-83d1-28d66f0bdc60",
   "metadata": {},
   "outputs": [],
   "source": [
    "get_slice_val <- function(data, x_val) {\n",
    "    \n",
    "      # Ensure input is a data.frame and has at least 2 columns\n",
    "      if (!is.data.frame(data) || ncol(data) < 2) return(NA_real_)\n",
    "      \n",
    "      x_col <- names(data)[1]\n",
    "      y_col <- names(data)[2]\n",
    "      \n",
    "      # If either column is missing, return NA\n",
    "      if (is.null(x_col) || is.null(y_col)) return(NA_real_)\n",
    "      \n",
    "      # Defensive: ensure x_col has non-NA entries to check\n",
    "      if (!x_col %in% names(data) || !y_col %in% names(data)) return(NA_real_)\n",
    "      \n",
    "      # Filter for exact match\n",
    "      match_row <- data[data[[x_col]] == x_val, , drop = FALSE]\n",
    "      \n",
    "      # Return NA if no match\n",
    "      if (nrow(match_row) == 0) return(NA_real_)\n",
    "      \n",
    "      return(match_row[[y_col]][1])\n",
    "    \n",
    "}"
   ]
  },
  {
   "cell_type": "code",
   "execution_count": 24,
   "id": "d6aecafc-3eb8-433a-83b4-bdfc3074da4c",
   "metadata": {},
   "outputs": [],
   "source": [
    "slice_check <- function(data, x_val, xreal) {\n",
    "    \n",
    "  if (isTRUE(x_val == xreal)) {\n",
    "      return(get_slice_val(data, x_val))\n",
    "  } else {\n",
    "     return(NA_real_)\n",
    "  }\n",
    "}"
   ]
  },
  {
   "cell_type": "code",
   "execution_count": 25,
   "id": "7a7eb4d3-7026-436d-9970-5ae3de1c3944",
   "metadata": {},
   "outputs": [],
   "source": [
    "grouping_cols <- c(\"Article.ID\", \"Study.site\", \"Country\", \"Latitude\", \"Longitude\", \"Seagrass.species\", \"Core.ID\")"
   ]
  },
  {
   "cell_type": "code",
   "execution_count": 26,
   "id": "95bae1d2-38df-431b-98e3-c6244f176293",
   "metadata": {
    "scrolled": true
   },
   "outputs": [],
   "source": [
    "na_report_list <- list()\n",
    "\n",
    "core_varx_depthx_list <- lapply(soc_vars, function(varx) {\n",
    "  \n",
    "    lapply(soc_depths, function(depthx) {\n",
    "\n",
    "    var_name <- paste0(varx, \"_\", depthx)\n",
    "    int_var_name <- paste0(\"int_\", varx, \"_\", depthx)\n",
    "    N_sample_count <-  paste0(\"stat_N_sample_\", varx)\n",
    "    n_count <-  paste0(\"stat_n_sample_\", varx)\n",
    "\n",
    "    df <- coredata_slices |>\n",
    "          dplyr::group_by(across(all_of(grouping_cols))) |>\n",
    "          dplyr::summarise(!!N_sample_count := sum(!is.na(.data[[varx]])),\n",
    "                           !!n_count := n(),\n",
    "                           Depth.of.core = max(Bottom.of.section),\n",
    "                           !!var_name := get_slice_val(pick(depth_interval, all_of(varx)), x_val = depthx),\n",
    "                           !!int_var_name := interpolate_slice(pick(depth_interval, all_of(varx)), x_val = depthx),\n",
    "                           .groups = \"drop\") |>\n",
    "          dplyr::ungroup() \n",
    "\n",
    "    return(df)\n",
    "  })\n",
    "})"
   ]
  },
  {
   "cell_type": "code",
   "execution_count": 27,
   "id": "9c88fc6d-7512-4fb4-821f-9b24ad816fda",
   "metadata": {},
   "outputs": [],
   "source": [
    "core_varx_depthx_df <- Reduce(function(x, y)  merge(x, y), core_varx_depthx_list) |>  dplyr::select(-matches(\"\\\\.\\\\d+$\"))"
   ]
  },
  {
   "cell_type": "code",
   "execution_count": 28,
   "id": "c268ad44-8655-4d9e-96c6-8958eaca616d",
   "metadata": {},
   "outputs": [
    {
     "data": {
      "text/html": [
       "<style>\n",
       ".list-inline {list-style: none; margin:0; padding: 0}\n",
       ".list-inline>li {display: inline-block}\n",
       ".list-inline>li:not(:last-child)::after {content: \"\\00b7\"; padding: 0 .5ex}\n",
       "</style>\n",
       "<ol class=list-inline><li>92</li><li>32</li></ol>\n"
      ],
      "text/latex": [
       "\\begin{enumerate*}\n",
       "\\item 92\n",
       "\\item 32\n",
       "\\end{enumerate*}\n"
      ],
      "text/markdown": [
       "1. 92\n",
       "2. 32\n",
       "\n",
       "\n"
      ],
      "text/plain": [
       "[1] 92 32"
      ]
     },
     "metadata": {},
     "output_type": "display_data"
    },
    {
     "data": {
      "text/html": [
       "<style>\n",
       ".list-inline {list-style: none; margin:0; padding: 0}\n",
       ".list-inline>li {display: inline-block}\n",
       ".list-inline>li:not(:last-child)::after {content: \"\\00b7\"; padding: 0 .5ex}\n",
       "</style>\n",
       "<ol class=list-inline><li>'Article.ID'</li><li>'Study.site'</li><li>'Country'</li><li>'Latitude'</li><li>'Longitude'</li><li>'Seagrass.species'</li><li>'Core.ID'</li><li>'Depth.of.core'</li><li>'stat_N_sample_Corg'</li><li>'stat_n_sample_Corg'</li><li>'Corg_15'</li><li>'int_Corg_15'</li><li>'Corg_20'</li><li>'int_Corg_20'</li><li>'Corg_30'</li><li>'int_Corg_30'</li><li>'Corg_50'</li><li>'int_Corg_50'</li><li>'Corg_100'</li><li>'int_Corg_100'</li><li>'stat_N_sample_Dry.Bulk.Density'</li><li>'stat_n_sample_Dry.Bulk.Density'</li><li>'Dry.Bulk.Density_15'</li><li>'int_Dry.Bulk.Density_15'</li><li>'Dry.Bulk.Density_20'</li><li>'int_Dry.Bulk.Density_20'</li><li>'Dry.Bulk.Density_30'</li><li>'int_Dry.Bulk.Density_30'</li><li>'Dry.Bulk.Density_50'</li><li>'int_Dry.Bulk.Density_50'</li><li>'Dry.Bulk.Density_100'</li><li>'int_Dry.Bulk.Density_100'</li></ol>\n"
      ],
      "text/latex": [
       "\\begin{enumerate*}\n",
       "\\item 'Article.ID'\n",
       "\\item 'Study.site'\n",
       "\\item 'Country'\n",
       "\\item 'Latitude'\n",
       "\\item 'Longitude'\n",
       "\\item 'Seagrass.species'\n",
       "\\item 'Core.ID'\n",
       "\\item 'Depth.of.core'\n",
       "\\item 'stat\\_N\\_sample\\_Corg'\n",
       "\\item 'stat\\_n\\_sample\\_Corg'\n",
       "\\item 'Corg\\_15'\n",
       "\\item 'int\\_Corg\\_15'\n",
       "\\item 'Corg\\_20'\n",
       "\\item 'int\\_Corg\\_20'\n",
       "\\item 'Corg\\_30'\n",
       "\\item 'int\\_Corg\\_30'\n",
       "\\item 'Corg\\_50'\n",
       "\\item 'int\\_Corg\\_50'\n",
       "\\item 'Corg\\_100'\n",
       "\\item 'int\\_Corg\\_100'\n",
       "\\item 'stat\\_N\\_sample\\_Dry.Bulk.Density'\n",
       "\\item 'stat\\_n\\_sample\\_Dry.Bulk.Density'\n",
       "\\item 'Dry.Bulk.Density\\_15'\n",
       "\\item 'int\\_Dry.Bulk.Density\\_15'\n",
       "\\item 'Dry.Bulk.Density\\_20'\n",
       "\\item 'int\\_Dry.Bulk.Density\\_20'\n",
       "\\item 'Dry.Bulk.Density\\_30'\n",
       "\\item 'int\\_Dry.Bulk.Density\\_30'\n",
       "\\item 'Dry.Bulk.Density\\_50'\n",
       "\\item 'int\\_Dry.Bulk.Density\\_50'\n",
       "\\item 'Dry.Bulk.Density\\_100'\n",
       "\\item 'int\\_Dry.Bulk.Density\\_100'\n",
       "\\end{enumerate*}\n"
      ],
      "text/markdown": [
       "1. 'Article.ID'\n",
       "2. 'Study.site'\n",
       "3. 'Country'\n",
       "4. 'Latitude'\n",
       "5. 'Longitude'\n",
       "6. 'Seagrass.species'\n",
       "7. 'Core.ID'\n",
       "8. 'Depth.of.core'\n",
       "9. 'stat_N_sample_Corg'\n",
       "10. 'stat_n_sample_Corg'\n",
       "11. 'Corg_15'\n",
       "12. 'int_Corg_15'\n",
       "13. 'Corg_20'\n",
       "14. 'int_Corg_20'\n",
       "15. 'Corg_30'\n",
       "16. 'int_Corg_30'\n",
       "17. 'Corg_50'\n",
       "18. 'int_Corg_50'\n",
       "19. 'Corg_100'\n",
       "20. 'int_Corg_100'\n",
       "21. 'stat_N_sample_Dry.Bulk.Density'\n",
       "22. 'stat_n_sample_Dry.Bulk.Density'\n",
       "23. 'Dry.Bulk.Density_15'\n",
       "24. 'int_Dry.Bulk.Density_15'\n",
       "25. 'Dry.Bulk.Density_20'\n",
       "26. 'int_Dry.Bulk.Density_20'\n",
       "27. 'Dry.Bulk.Density_30'\n",
       "28. 'int_Dry.Bulk.Density_30'\n",
       "29. 'Dry.Bulk.Density_50'\n",
       "30. 'int_Dry.Bulk.Density_50'\n",
       "31. 'Dry.Bulk.Density_100'\n",
       "32. 'int_Dry.Bulk.Density_100'\n",
       "\n",
       "\n"
      ],
      "text/plain": [
       " [1] \"Article.ID\"                     \"Study.site\"                    \n",
       " [3] \"Country\"                        \"Latitude\"                      \n",
       " [5] \"Longitude\"                      \"Seagrass.species\"              \n",
       " [7] \"Core.ID\"                        \"Depth.of.core\"                 \n",
       " [9] \"stat_N_sample_Corg\"             \"stat_n_sample_Corg\"            \n",
       "[11] \"Corg_15\"                        \"int_Corg_15\"                   \n",
       "[13] \"Corg_20\"                        \"int_Corg_20\"                   \n",
       "[15] \"Corg_30\"                        \"int_Corg_30\"                   \n",
       "[17] \"Corg_50\"                        \"int_Corg_50\"                   \n",
       "[19] \"Corg_100\"                       \"int_Corg_100\"                  \n",
       "[21] \"stat_N_sample_Dry.Bulk.Density\" \"stat_n_sample_Dry.Bulk.Density\"\n",
       "[23] \"Dry.Bulk.Density_15\"            \"int_Dry.Bulk.Density_15\"       \n",
       "[25] \"Dry.Bulk.Density_20\"            \"int_Dry.Bulk.Density_20\"       \n",
       "[27] \"Dry.Bulk.Density_30\"            \"int_Dry.Bulk.Density_30\"       \n",
       "[29] \"Dry.Bulk.Density_50\"            \"int_Dry.Bulk.Density_50\"       \n",
       "[31] \"Dry.Bulk.Density_100\"           \"int_Dry.Bulk.Density_100\"      "
      ]
     },
     "metadata": {},
     "output_type": "display_data"
    }
   ],
   "source": [
    "dim(core_varx_depthx_df)\n",
    "colnames(core_varx_depthx_df)"
   ]
  },
  {
   "cell_type": "code",
   "execution_count": 29,
   "id": "86a96c83-7e4d-4025-bf8c-65eedea65582",
   "metadata": {},
   "outputs": [
    {
     "data": {
      "text/html": [
       "<style>\n",
       ".list-inline {list-style: none; margin:0; padding: 0}\n",
       ".list-inline>li {display: inline-block}\n",
       ".list-inline>li:not(:last-child)::after {content: \"\\00b7\"; padding: 0 .5ex}\n",
       "</style>\n",
       "<ol class=list-inline><li>406</li><li>28</li></ol>\n"
      ],
      "text/latex": [
       "\\begin{enumerate*}\n",
       "\\item 406\n",
       "\\item 28\n",
       "\\end{enumerate*}\n"
      ],
      "text/markdown": [
       "1. 406\n",
       "2. 28\n",
       "\n",
       "\n"
      ],
      "text/plain": [
       "[1] 406  28"
      ]
     },
     "metadata": {},
     "output_type": "display_data"
    },
    {
     "name": "stdout",
     "output_type": "stream",
     "text": [
      "c(\"Article.ID\", \"Publication.year\", \"Study.site\", \"Country\", \n",
      "\"Latitude\", \"Longitude\", \"Coastal.typology\", \"Marine.ecoregion\", \n",
      "\"Seagrass.bioregion\", \"Seagrass.functionalmorphological.group\", \n",
      "\"Seagrass.species\", \"Seagrass.genus\", \"Dry.Bulk.Density\", \"data_source\", \n",
      "\"Core.ID\", \"Top.of.section\", \"Bottom.of.section\", \"Corg\", \"year\", \n",
      "\"code_type\", \"Thickness.sediment.slice\", \"Depth.at.center.of.slice\", \n",
      "\"depth_interval\", \"Corg_DBD\", \"Carbon_density\", \"Corg_DBD_interval\", \n",
      "\"cumsum_Corg_DBD\", \"carbon_stock_MgC_ha\")\n"
     ]
    }
   ],
   "source": [
    "dim(coredata_slices)\n",
    "dput(colnames(coredata_slices))"
   ]
  },
  {
   "cell_type": "code",
   "execution_count": 30,
   "id": "3d4a11cd-02fe-4d3d-8ed7-5812b6a773ef",
   "metadata": {},
   "outputs": [],
   "source": [
    "get_nearest <- function (data, depth) {\n",
    "    \n",
    "    Bottom.of.section <- data[\"Bottom.of.section\"]  \n",
    "    if (depth > max(Bottom.of.section)) {\n",
    "        nearest_depth = NA\n",
    "    }\n",
    "    else{ \n",
    "         return(max(Bottom.of.section[Bottom.of.section <=  depth], na.rm = TRUE))\n",
    "        }\n",
    "}"
   ]
  },
  {
   "cell_type": "code",
   "execution_count": 38,
   "id": "04f49fb3-0c01-431c-bdb8-c1edd052dfc4",
   "metadata": {},
   "outputs": [
    {
     "name": "stderr",
     "output_type": "stream",
     "text": [
      "\u001b[1m\u001b[22m`summarise()` has grouped output by 'Article.ID', 'Study.site', 'Country', 'Latitude', 'Longitude', 'Seagrass.species'. You can override using the `.groups` argument.\n"
     ]
    }
   ],
   "source": [
    "coredata_cores <- coredata_slices |>\n",
    "                  dplyr::group_by(across(all_of(c(\"Article.ID\", \"Study.site\", \"Country\", \"Latitude\", \"Longitude\", \"Seagrass.species\", \"Core.ID\")))) |>\n",
    "                  dplyr::summarise(d15 = get_nearest(cur_data(),  15), cumsum_Corg_DBD_n15 = get_slice_val(pick(Bottom.of.section, cumsum_Corg_DBD), x_val = d15),\n",
    "                                 d20 = get_nearest(cur_data(),  20), cumsum_Corg_DBD_n20 = get_slice_val(pick(Bottom.of.section, cumsum_Corg_DBD), x_val = d20),\n",
    "                                 d30 = get_nearest(cur_data(),  30), cumsum_Corg_DBD_n30 = get_slice_val(pick(Bottom.of.section, cumsum_Corg_DBD), x_val = d30),\n",
    "                                 d50 = get_nearest(cur_data(),  50), cumsum_Corg_DBD_n50 = get_slice_val(pick(Bottom.of.section, cumsum_Corg_DBD), x_val = d50),\n",
    "                                 d100 = get_nearest(cur_data(), 100), cumsum_Corg_DBD_n100 = get_slice_val(pick(Bottom.of.section, cumsum_Corg_DBD), x_val = d100),\n",
    "                                 Corg.stock.15cm = get_slice_val(pick(Bottom.of.section, carbon_stock_MgC_ha), x_val = 15),\n",
    "                                 Corg.stock.20cm = get_slice_val(pick(Bottom.of.section, carbon_stock_MgC_ha), x_val = 20),\n",
    "                                 Corg.stock.30cm = get_slice_val(pick(Bottom.of.section, carbon_stock_MgC_ha), x_val = 30),\n",
    "                                 Corg.stock.50cm = get_slice_val(pick(Bottom.of.section, carbon_stock_MgC_ha), x_val = 50),\n",
    "                                 Corg.stock.100cm = get_slice_val(pick(Bottom.of.section, carbon_stock_MgC_ha), x_val = 100))"
   ]
  },
  {
   "cell_type": "code",
   "execution_count": 40,
   "id": "6f7e28d4-e394-4d7d-945b-5cdeff965890",
   "metadata": {},
   "outputs": [],
   "source": [
    "core_varx_Corg <- merge(core_varx_depthx_df, coredata_cores) |>        \n",
    "                  dplyr::mutate(\n",
    "                    # Depth 15\n",
    "                    Corg_15 = coalesce(Corg_15, int_Corg_15),\n",
    "                    Dry.Bulk.Density_15 = coalesce(Dry.Bulk.Density_15, int_Dry.Bulk.Density_15),\n",
    "                    depth_diff15 = 15 - d15,\n",
    "                    Carbon_density_15 = if_else(\n",
    "                      depth_diff15 != 0,\n",
    "                      Dry.Bulk.Density_15 * (Corg_15 / 100) * depth_diff15,\n",
    "                      NA_real_\n",
    "                    ),\n",
    "                    Corg.stock.15cm = if_else(\n",
    "                      is.na(Corg.stock.15cm),\n",
    "                      (cumsum_Corg_DBD_n15 + Carbon_density_15) * 100,\n",
    "                      Corg.stock.15cm\n",
    "                    ),\n",
    "                \n",
    "                    # Depth 20\n",
    "                    Corg_20 = coalesce(Corg_20, int_Corg_20),\n",
    "                    Dry.Bulk.Density_20 = coalesce(Dry.Bulk.Density_20, int_Dry.Bulk.Density_20),\n",
    "                    depth_diff20 = 20 - d20,\n",
    "                    Carbon_density_20 = if_else(\n",
    "                      depth_diff20 != 0,\n",
    "                      Dry.Bulk.Density_20 * (Corg_20 / 100) * depth_diff20,\n",
    "                      NA_real_\n",
    "                    ),\n",
    "                    Corg.stock.20cm = if_else(\n",
    "                      is.na(Corg.stock.20cm),\n",
    "                      (cumsum_Corg_DBD_n20 + Carbon_density_20) * 100,\n",
    "                      Corg.stock.20cm\n",
    "                    ),\n",
    "                \n",
    "                    # Depth 30\n",
    "                    Corg_30 = coalesce(Corg_30, int_Corg_30),\n",
    "                    Dry.Bulk.Density_30 = coalesce(Dry.Bulk.Density_30, int_Dry.Bulk.Density_30),\n",
    "                    depth_diff30 = 30 - d30,\n",
    "                    Carbon_density_30 = if_else(\n",
    "                      depth_diff30 != 0,\n",
    "                      Dry.Bulk.Density_30 * (Corg_30 / 100) * depth_diff30,\n",
    "                      NA_real_\n",
    "                    ),\n",
    "                    Corg.stock.30cm = if_else(\n",
    "                      is.na(Corg.stock.30cm),\n",
    "                      (cumsum_Corg_DBD_n30 + Carbon_density_30) * 100,\n",
    "                      Corg.stock.30cm\n",
    "                    ),\n",
    "                \n",
    "                    # Depth 50\n",
    "                    Corg_50 = coalesce(Corg_50, int_Corg_50),\n",
    "                    Dry.Bulk.Density_50 = coalesce(Dry.Bulk.Density_50, int_Dry.Bulk.Density_50),\n",
    "                    depth_diff50 = 50 - d50,\n",
    "                    Carbon_density_50 = if_else(\n",
    "                      depth_diff50 != 0,\n",
    "                      Dry.Bulk.Density_50 * (Corg_50 / 100) * depth_diff50,\n",
    "                      NA_real_\n",
    "                    ),\n",
    "                    Corg.stock.50cm = if_else(\n",
    "                      is.na(Corg.stock.50cm),\n",
    "                      (cumsum_Corg_DBD_n50 + Carbon_density_50) * 100,\n",
    "                      Corg.stock.50cm\n",
    "                    ),\n",
    "                \n",
    "                    # Depth 100\n",
    "                    Corg_100 = coalesce(Corg_100, int_Corg_100),\n",
    "                    Dry.Bulk.Density_100 = coalesce(Dry.Bulk.Density_100, int_Dry.Bulk.Density_100),\n",
    "                    depth_diff100 = 100 - d100,\n",
    "                    Carbon_density_100 = if_else(\n",
    "                      depth_diff100 != 0,\n",
    "                      Dry.Bulk.Density_100 * (Corg_100 / 100) * depth_diff100,\n",
    "                      NA_real_\n",
    "                    ),\n",
    "                    Corg.stock.100cm = if_else(\n",
    "                      is.na(Corg.stock.100cm),\n",
    "                      (cumsum_Corg_DBD_n100 + Carbon_density_100) * 100,\n",
    "                      Corg.stock.100cm\n",
    "                    )\n",
    "                  )\n"
   ]
  },
  {
   "cell_type": "code",
   "execution_count": 42,
   "id": "989d0c5b-7bcb-49b7-8033-2543697587ad",
   "metadata": {},
   "outputs": [
    {
     "data": {
      "text/html": [
       "<style>\n",
       ".list-inline {list-style: none; margin:0; padding: 0}\n",
       ".list-inline>li {display: inline-block}\n",
       ".list-inline>li:not(:last-child)::after {content: \"\\00b7\"; padding: 0 .5ex}\n",
       "</style>\n",
       "<ol class=list-inline><li>92</li><li>57</li></ol>\n"
      ],
      "text/latex": [
       "\\begin{enumerate*}\n",
       "\\item 92\n",
       "\\item 57\n",
       "\\end{enumerate*}\n"
      ],
      "text/markdown": [
       "1. 92\n",
       "2. 57\n",
       "\n",
       "\n"
      ],
      "text/plain": [
       "[1] 92 57"
      ]
     },
     "metadata": {},
     "output_type": "display_data"
    }
   ],
   "source": [
    "dim(core_varx_Corg)"
   ]
  },
  {
   "cell_type": "code",
   "execution_count": 43,
   "id": "c21e6219-4c71-4ab8-a60d-0df9d14b45fa",
   "metadata": {},
   "outputs": [
    {
     "data": {
      "text/html": [
       "<style>\n",
       ".list-inline {list-style: none; margin:0; padding: 0}\n",
       ".list-inline>li {display: inline-block}\n",
       ".list-inline>li:not(:last-child)::after {content: \"\\00b7\"; padding: 0 .5ex}\n",
       "</style>\n",
       "<ol class=list-inline><li>'Article.ID'</li><li>'Study.site'</li><li>'Country'</li><li>'Latitude'</li><li>'Longitude'</li><li>'Seagrass.species'</li><li>'Core.ID'</li><li>'Depth.of.core'</li><li>'stat_N_sample_Corg'</li><li>'stat_n_sample_Corg'</li><li>'Corg_15'</li><li>'int_Corg_15'</li><li>'Corg_20'</li><li>'int_Corg_20'</li><li>'Corg_30'</li><li>'int_Corg_30'</li><li>'Corg_50'</li><li>'int_Corg_50'</li><li>'Corg_100'</li><li>'int_Corg_100'</li><li>'stat_N_sample_Dry.Bulk.Density'</li><li>'stat_n_sample_Dry.Bulk.Density'</li><li>'Dry.Bulk.Density_15'</li><li>'int_Dry.Bulk.Density_15'</li><li>'Dry.Bulk.Density_20'</li><li>'int_Dry.Bulk.Density_20'</li><li>'Dry.Bulk.Density_30'</li><li>'int_Dry.Bulk.Density_30'</li><li>'Dry.Bulk.Density_50'</li><li>'int_Dry.Bulk.Density_50'</li><li>'Dry.Bulk.Density_100'</li><li>'int_Dry.Bulk.Density_100'</li><li>'d15'</li><li>'cumsum_Corg_DBD_n15'</li><li>'d20'</li><li>'cumsum_Corg_DBD_n20'</li><li>'d30'</li><li>'cumsum_Corg_DBD_n30'</li><li>'d50'</li><li>'cumsum_Corg_DBD_n50'</li><li>'d100'</li><li>'cumsum_Corg_DBD_n100'</li><li>'Corg.stock.15cm'</li><li>'Corg.stock.20cm'</li><li>'Corg.stock.30cm'</li><li>'Corg.stock.50cm'</li><li>'Corg.stock.100cm'</li><li>'depth_diff15'</li><li>'Carbon_density_15'</li><li>'depth_diff20'</li><li>'Carbon_density_20'</li><li>'depth_diff30'</li><li>'Carbon_density_30'</li><li>'depth_diff50'</li><li>'Carbon_density_50'</li><li>'depth_diff100'</li><li>'Carbon_density_100'</li></ol>\n"
      ],
      "text/latex": [
       "\\begin{enumerate*}\n",
       "\\item 'Article.ID'\n",
       "\\item 'Study.site'\n",
       "\\item 'Country'\n",
       "\\item 'Latitude'\n",
       "\\item 'Longitude'\n",
       "\\item 'Seagrass.species'\n",
       "\\item 'Core.ID'\n",
       "\\item 'Depth.of.core'\n",
       "\\item 'stat\\_N\\_sample\\_Corg'\n",
       "\\item 'stat\\_n\\_sample\\_Corg'\n",
       "\\item 'Corg\\_15'\n",
       "\\item 'int\\_Corg\\_15'\n",
       "\\item 'Corg\\_20'\n",
       "\\item 'int\\_Corg\\_20'\n",
       "\\item 'Corg\\_30'\n",
       "\\item 'int\\_Corg\\_30'\n",
       "\\item 'Corg\\_50'\n",
       "\\item 'int\\_Corg\\_50'\n",
       "\\item 'Corg\\_100'\n",
       "\\item 'int\\_Corg\\_100'\n",
       "\\item 'stat\\_N\\_sample\\_Dry.Bulk.Density'\n",
       "\\item 'stat\\_n\\_sample\\_Dry.Bulk.Density'\n",
       "\\item 'Dry.Bulk.Density\\_15'\n",
       "\\item 'int\\_Dry.Bulk.Density\\_15'\n",
       "\\item 'Dry.Bulk.Density\\_20'\n",
       "\\item 'int\\_Dry.Bulk.Density\\_20'\n",
       "\\item 'Dry.Bulk.Density\\_30'\n",
       "\\item 'int\\_Dry.Bulk.Density\\_30'\n",
       "\\item 'Dry.Bulk.Density\\_50'\n",
       "\\item 'int\\_Dry.Bulk.Density\\_50'\n",
       "\\item 'Dry.Bulk.Density\\_100'\n",
       "\\item 'int\\_Dry.Bulk.Density\\_100'\n",
       "\\item 'd15'\n",
       "\\item 'cumsum\\_Corg\\_DBD\\_n15'\n",
       "\\item 'd20'\n",
       "\\item 'cumsum\\_Corg\\_DBD\\_n20'\n",
       "\\item 'd30'\n",
       "\\item 'cumsum\\_Corg\\_DBD\\_n30'\n",
       "\\item 'd50'\n",
       "\\item 'cumsum\\_Corg\\_DBD\\_n50'\n",
       "\\item 'd100'\n",
       "\\item 'cumsum\\_Corg\\_DBD\\_n100'\n",
       "\\item 'Corg.stock.15cm'\n",
       "\\item 'Corg.stock.20cm'\n",
       "\\item 'Corg.stock.30cm'\n",
       "\\item 'Corg.stock.50cm'\n",
       "\\item 'Corg.stock.100cm'\n",
       "\\item 'depth\\_diff15'\n",
       "\\item 'Carbon\\_density\\_15'\n",
       "\\item 'depth\\_diff20'\n",
       "\\item 'Carbon\\_density\\_20'\n",
       "\\item 'depth\\_diff30'\n",
       "\\item 'Carbon\\_density\\_30'\n",
       "\\item 'depth\\_diff50'\n",
       "\\item 'Carbon\\_density\\_50'\n",
       "\\item 'depth\\_diff100'\n",
       "\\item 'Carbon\\_density\\_100'\n",
       "\\end{enumerate*}\n"
      ],
      "text/markdown": [
       "1. 'Article.ID'\n",
       "2. 'Study.site'\n",
       "3. 'Country'\n",
       "4. 'Latitude'\n",
       "5. 'Longitude'\n",
       "6. 'Seagrass.species'\n",
       "7. 'Core.ID'\n",
       "8. 'Depth.of.core'\n",
       "9. 'stat_N_sample_Corg'\n",
       "10. 'stat_n_sample_Corg'\n",
       "11. 'Corg_15'\n",
       "12. 'int_Corg_15'\n",
       "13. 'Corg_20'\n",
       "14. 'int_Corg_20'\n",
       "15. 'Corg_30'\n",
       "16. 'int_Corg_30'\n",
       "17. 'Corg_50'\n",
       "18. 'int_Corg_50'\n",
       "19. 'Corg_100'\n",
       "20. 'int_Corg_100'\n",
       "21. 'stat_N_sample_Dry.Bulk.Density'\n",
       "22. 'stat_n_sample_Dry.Bulk.Density'\n",
       "23. 'Dry.Bulk.Density_15'\n",
       "24. 'int_Dry.Bulk.Density_15'\n",
       "25. 'Dry.Bulk.Density_20'\n",
       "26. 'int_Dry.Bulk.Density_20'\n",
       "27. 'Dry.Bulk.Density_30'\n",
       "28. 'int_Dry.Bulk.Density_30'\n",
       "29. 'Dry.Bulk.Density_50'\n",
       "30. 'int_Dry.Bulk.Density_50'\n",
       "31. 'Dry.Bulk.Density_100'\n",
       "32. 'int_Dry.Bulk.Density_100'\n",
       "33. 'd15'\n",
       "34. 'cumsum_Corg_DBD_n15'\n",
       "35. 'd20'\n",
       "36. 'cumsum_Corg_DBD_n20'\n",
       "37. 'd30'\n",
       "38. 'cumsum_Corg_DBD_n30'\n",
       "39. 'd50'\n",
       "40. 'cumsum_Corg_DBD_n50'\n",
       "41. 'd100'\n",
       "42. 'cumsum_Corg_DBD_n100'\n",
       "43. 'Corg.stock.15cm'\n",
       "44. 'Corg.stock.20cm'\n",
       "45. 'Corg.stock.30cm'\n",
       "46. 'Corg.stock.50cm'\n",
       "47. 'Corg.stock.100cm'\n",
       "48. 'depth_diff15'\n",
       "49. 'Carbon_density_15'\n",
       "50. 'depth_diff20'\n",
       "51. 'Carbon_density_20'\n",
       "52. 'depth_diff30'\n",
       "53. 'Carbon_density_30'\n",
       "54. 'depth_diff50'\n",
       "55. 'Carbon_density_50'\n",
       "56. 'depth_diff100'\n",
       "57. 'Carbon_density_100'\n",
       "\n",
       "\n"
      ],
      "text/plain": [
       " [1] \"Article.ID\"                     \"Study.site\"                    \n",
       " [3] \"Country\"                        \"Latitude\"                      \n",
       " [5] \"Longitude\"                      \"Seagrass.species\"              \n",
       " [7] \"Core.ID\"                        \"Depth.of.core\"                 \n",
       " [9] \"stat_N_sample_Corg\"             \"stat_n_sample_Corg\"            \n",
       "[11] \"Corg_15\"                        \"int_Corg_15\"                   \n",
       "[13] \"Corg_20\"                        \"int_Corg_20\"                   \n",
       "[15] \"Corg_30\"                        \"int_Corg_30\"                   \n",
       "[17] \"Corg_50\"                        \"int_Corg_50\"                   \n",
       "[19] \"Corg_100\"                       \"int_Corg_100\"                  \n",
       "[21] \"stat_N_sample_Dry.Bulk.Density\" \"stat_n_sample_Dry.Bulk.Density\"\n",
       "[23] \"Dry.Bulk.Density_15\"            \"int_Dry.Bulk.Density_15\"       \n",
       "[25] \"Dry.Bulk.Density_20\"            \"int_Dry.Bulk.Density_20\"       \n",
       "[27] \"Dry.Bulk.Density_30\"            \"int_Dry.Bulk.Density_30\"       \n",
       "[29] \"Dry.Bulk.Density_50\"            \"int_Dry.Bulk.Density_50\"       \n",
       "[31] \"Dry.Bulk.Density_100\"           \"int_Dry.Bulk.Density_100\"      \n",
       "[33] \"d15\"                            \"cumsum_Corg_DBD_n15\"           \n",
       "[35] \"d20\"                            \"cumsum_Corg_DBD_n20\"           \n",
       "[37] \"d30\"                            \"cumsum_Corg_DBD_n30\"           \n",
       "[39] \"d50\"                            \"cumsum_Corg_DBD_n50\"           \n",
       "[41] \"d100\"                           \"cumsum_Corg_DBD_n100\"          \n",
       "[43] \"Corg.stock.15cm\"                \"Corg.stock.20cm\"               \n",
       "[45] \"Corg.stock.30cm\"                \"Corg.stock.50cm\"               \n",
       "[47] \"Corg.stock.100cm\"               \"depth_diff15\"                  \n",
       "[49] \"Carbon_density_15\"              \"depth_diff20\"                  \n",
       "[51] \"Carbon_density_20\"              \"depth_diff30\"                  \n",
       "[53] \"Carbon_density_30\"              \"depth_diff50\"                  \n",
       "[55] \"Carbon_density_50\"              \"depth_diff100\"                 \n",
       "[57] \"Carbon_density_100\"            "
      ]
     },
     "metadata": {},
     "output_type": "display_data"
    }
   ],
   "source": [
    "colnames(core_varx_Corg)"
   ]
  },
  {
   "cell_type": "code",
   "execution_count": null,
   "id": "20c927c6-2aa2-459e-9db9-48f39955d702",
   "metadata": {},
   "outputs": [],
   "source": [
    "core_varx_Corg |>\n",
    "dplyr::"
   ]
  }
 ],
 "metadata": {
  "kernelspec": {
   "display_name": "R",
   "language": "R",
   "name": "ir"
  },
  "language_info": {
   "codemirror_mode": "r",
   "file_extension": ".r",
   "mimetype": "text/x-r-source",
   "name": "R",
   "pygments_lexer": "r",
   "version": "4.3.3"
  }
 },
 "nbformat": 4,
 "nbformat_minor": 5
}
