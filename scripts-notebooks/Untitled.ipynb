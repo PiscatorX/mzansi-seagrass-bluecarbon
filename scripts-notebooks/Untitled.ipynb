{
 "cells": [
  {
   "cell_type": "code",
   "execution_count": 30,
   "id": "db271feb-8d93-4b1f-98aa-275b0980e5e8",
   "metadata": {},
   "outputs": [],
   "source": [
    "library(\"tidyverse\")\n",
    "`%nin%` <- Negate(`%in%`)"
   ]
  },
  {
   "cell_type": "code",
   "execution_count": 34,
   "id": "24a9d7bb-ce46-4593-86c2-fa1b892dcca3",
   "metadata": {},
   "outputs": [],
   "source": [
    "source(\"Corg_helper_functions.R\")"
   ]
  },
  {
   "cell_type": "code",
   "execution_count": 31,
   "id": "f004c8ab-dd51-412f-a99c-4e7a62757d05",
   "metadata": {},
   "outputs": [],
   "source": [
    "Berg_sample_data <- tibble::tribble(\n",
    "                  ~site_id,   ~core_id, ~depth_min, ~depth_max, ~dry_bulk_density, ~fraction_organic_matter,\n",
    "                    \"Berg\", \"Berg2_C1\",          5,         10,            1.2451,                    0.003,\n",
    "                    \"Berg\", \"Berg2_C2\",          5,         10,            1.9218,                    0.083,\n",
    "                    \"Berg\", \"Berg2_C3\",          5,         10,           1.92015,                    0.047,\n",
    "                    \"Berg\", \"Berg2_C4\",          5,         10,            1.2454,                    0.089,\n",
    "                    \"Berg\", \"Berg2_C1\",         10,         20,           1.28512,                    0.074,\n",
    "                    \"Berg\", \"Berg2_C2\",         10,         20,           1.42038,                    0.192,\n",
    "                    \"Berg\", \"Berg2_C3\",         10,         20,           1.35172,                    0.068,\n",
    "                    \"Berg\", \"Berg2_C4\",         10,         20,            1.2553,                    0.081,\n",
    "                    \"Berg\", \"Berg2_C1\",         20,         30,           1.31188,                    0.138,\n",
    "                    \"Berg\", \"Berg2_C2\",         20,         30,           1.30294,                    0.061,\n",
    "                    \"Berg\", \"Berg2_C3\",         20,         30,            1.3361,                    0.055,\n",
    "                    \"Berg\", \"Berg2_C4\",         20,         30,           1.32318,                    0.088,\n",
    "                    \"Berg\", \"Berg2_C1\",          0,          5,            1.0924,                    0.234,\n",
    "                    \"Berg\", \"Berg2_C2\",          0,          5,  1.80816666666667,                    0.095,\n",
    "                    \"Berg\", \"Berg2_C3\",          0,          5,  1.83173333333333,                    0.155,\n",
    "                    \"Berg\", \"Berg2_C4\",          0,          5,  1.10342857142857,                    0.035,\n",
    "                    \"Berg\", \"Berg2_C1\",         30,         50,           1.30858,                    0.202,\n",
    "                    \"Berg\", \"Berg2_C2\",         30,         50,           1.26856,                    0.222,\n",
    "                    \"Berg\", \"Berg2_C3\",         30,         50,           1.36132,                    0.011,\n",
    "                    \"Berg\", \"Berg2_C4\",         30,         50,           1.36486,                    0.113)"
   ]
  },
  {
   "cell_type": "code",
   "execution_count": 32,
   "id": "1ae8d060-e4fe-465c-8de0-af53aae4132b",
   "metadata": {},
   "outputs": [
    {
     "data": {
      "text/html": [
       "<table class=\"dataframe\">\n",
       "<caption>A tibble: 20 × 6</caption>\n",
       "<thead>\n",
       "\t<tr><th scope=col>site_id</th><th scope=col>core_id</th><th scope=col>depth_min</th><th scope=col>depth_max</th><th scope=col>dry_bulk_density</th><th scope=col>fraction_organic_matter</th></tr>\n",
       "\t<tr><th scope=col>&lt;chr&gt;</th><th scope=col>&lt;chr&gt;</th><th scope=col>&lt;dbl&gt;</th><th scope=col>&lt;dbl&gt;</th><th scope=col>&lt;dbl&gt;</th><th scope=col>&lt;dbl&gt;</th></tr>\n",
       "</thead>\n",
       "<tbody>\n",
       "\t<tr><td>Berg</td><td>Berg2_C1</td><td> 5</td><td>10</td><td>1.245100</td><td>0.003</td></tr>\n",
       "\t<tr><td>Berg</td><td>Berg2_C2</td><td> 5</td><td>10</td><td>1.921800</td><td>0.083</td></tr>\n",
       "\t<tr><td>Berg</td><td>Berg2_C3</td><td> 5</td><td>10</td><td>1.920150</td><td>0.047</td></tr>\n",
       "\t<tr><td>Berg</td><td>Berg2_C4</td><td> 5</td><td>10</td><td>1.245400</td><td>0.089</td></tr>\n",
       "\t<tr><td>Berg</td><td>Berg2_C1</td><td>10</td><td>20</td><td>1.285120</td><td>0.074</td></tr>\n",
       "\t<tr><td>Berg</td><td>Berg2_C2</td><td>10</td><td>20</td><td>1.420380</td><td>0.192</td></tr>\n",
       "\t<tr><td>Berg</td><td>Berg2_C3</td><td>10</td><td>20</td><td>1.351720</td><td>0.068</td></tr>\n",
       "\t<tr><td>Berg</td><td>Berg2_C4</td><td>10</td><td>20</td><td>1.255300</td><td>0.081</td></tr>\n",
       "\t<tr><td>Berg</td><td>Berg2_C1</td><td>20</td><td>30</td><td>1.311880</td><td>0.138</td></tr>\n",
       "\t<tr><td>Berg</td><td>Berg2_C2</td><td>20</td><td>30</td><td>1.302940</td><td>0.061</td></tr>\n",
       "\t<tr><td>Berg</td><td>Berg2_C3</td><td>20</td><td>30</td><td>1.336100</td><td>0.055</td></tr>\n",
       "\t<tr><td>Berg</td><td>Berg2_C4</td><td>20</td><td>30</td><td>1.323180</td><td>0.088</td></tr>\n",
       "\t<tr><td>Berg</td><td>Berg2_C1</td><td> 0</td><td> 5</td><td>1.092400</td><td>0.234</td></tr>\n",
       "\t<tr><td>Berg</td><td>Berg2_C2</td><td> 0</td><td> 5</td><td>1.808167</td><td>0.095</td></tr>\n",
       "\t<tr><td>Berg</td><td>Berg2_C3</td><td> 0</td><td> 5</td><td>1.831733</td><td>0.155</td></tr>\n",
       "\t<tr><td>Berg</td><td>Berg2_C4</td><td> 0</td><td> 5</td><td>1.103429</td><td>0.035</td></tr>\n",
       "\t<tr><td>Berg</td><td>Berg2_C1</td><td>30</td><td>50</td><td>1.308580</td><td>0.202</td></tr>\n",
       "\t<tr><td>Berg</td><td>Berg2_C2</td><td>30</td><td>50</td><td>1.268560</td><td>0.222</td></tr>\n",
       "\t<tr><td>Berg</td><td>Berg2_C3</td><td>30</td><td>50</td><td>1.361320</td><td>0.011</td></tr>\n",
       "\t<tr><td>Berg</td><td>Berg2_C4</td><td>30</td><td>50</td><td>1.364860</td><td>0.113</td></tr>\n",
       "</tbody>\n",
       "</table>\n"
      ],
      "text/latex": [
       "A tibble: 20 × 6\n",
       "\\begin{tabular}{llllll}\n",
       " site\\_id & core\\_id & depth\\_min & depth\\_max & dry\\_bulk\\_density & fraction\\_organic\\_matter\\\\\n",
       " <chr> & <chr> & <dbl> & <dbl> & <dbl> & <dbl>\\\\\n",
       "\\hline\n",
       "\t Berg & Berg2\\_C1 &  5 & 10 & 1.245100 & 0.003\\\\\n",
       "\t Berg & Berg2\\_C2 &  5 & 10 & 1.921800 & 0.083\\\\\n",
       "\t Berg & Berg2\\_C3 &  5 & 10 & 1.920150 & 0.047\\\\\n",
       "\t Berg & Berg2\\_C4 &  5 & 10 & 1.245400 & 0.089\\\\\n",
       "\t Berg & Berg2\\_C1 & 10 & 20 & 1.285120 & 0.074\\\\\n",
       "\t Berg & Berg2\\_C2 & 10 & 20 & 1.420380 & 0.192\\\\\n",
       "\t Berg & Berg2\\_C3 & 10 & 20 & 1.351720 & 0.068\\\\\n",
       "\t Berg & Berg2\\_C4 & 10 & 20 & 1.255300 & 0.081\\\\\n",
       "\t Berg & Berg2\\_C1 & 20 & 30 & 1.311880 & 0.138\\\\\n",
       "\t Berg & Berg2\\_C2 & 20 & 30 & 1.302940 & 0.061\\\\\n",
       "\t Berg & Berg2\\_C3 & 20 & 30 & 1.336100 & 0.055\\\\\n",
       "\t Berg & Berg2\\_C4 & 20 & 30 & 1.323180 & 0.088\\\\\n",
       "\t Berg & Berg2\\_C1 &  0 &  5 & 1.092400 & 0.234\\\\\n",
       "\t Berg & Berg2\\_C2 &  0 &  5 & 1.808167 & 0.095\\\\\n",
       "\t Berg & Berg2\\_C3 &  0 &  5 & 1.831733 & 0.155\\\\\n",
       "\t Berg & Berg2\\_C4 &  0 &  5 & 1.103429 & 0.035\\\\\n",
       "\t Berg & Berg2\\_C1 & 30 & 50 & 1.308580 & 0.202\\\\\n",
       "\t Berg & Berg2\\_C2 & 30 & 50 & 1.268560 & 0.222\\\\\n",
       "\t Berg & Berg2\\_C3 & 30 & 50 & 1.361320 & 0.011\\\\\n",
       "\t Berg & Berg2\\_C4 & 30 & 50 & 1.364860 & 0.113\\\\\n",
       "\\end{tabular}\n"
      ],
      "text/markdown": [
       "\n",
       "A tibble: 20 × 6\n",
       "\n",
       "| site_id &lt;chr&gt; | core_id &lt;chr&gt; | depth_min &lt;dbl&gt; | depth_max &lt;dbl&gt; | dry_bulk_density &lt;dbl&gt; | fraction_organic_matter &lt;dbl&gt; |\n",
       "|---|---|---|---|---|---|\n",
       "| Berg | Berg2_C1 |  5 | 10 | 1.245100 | 0.003 |\n",
       "| Berg | Berg2_C2 |  5 | 10 | 1.921800 | 0.083 |\n",
       "| Berg | Berg2_C3 |  5 | 10 | 1.920150 | 0.047 |\n",
       "| Berg | Berg2_C4 |  5 | 10 | 1.245400 | 0.089 |\n",
       "| Berg | Berg2_C1 | 10 | 20 | 1.285120 | 0.074 |\n",
       "| Berg | Berg2_C2 | 10 | 20 | 1.420380 | 0.192 |\n",
       "| Berg | Berg2_C3 | 10 | 20 | 1.351720 | 0.068 |\n",
       "| Berg | Berg2_C4 | 10 | 20 | 1.255300 | 0.081 |\n",
       "| Berg | Berg2_C1 | 20 | 30 | 1.311880 | 0.138 |\n",
       "| Berg | Berg2_C2 | 20 | 30 | 1.302940 | 0.061 |\n",
       "| Berg | Berg2_C3 | 20 | 30 | 1.336100 | 0.055 |\n",
       "| Berg | Berg2_C4 | 20 | 30 | 1.323180 | 0.088 |\n",
       "| Berg | Berg2_C1 |  0 |  5 | 1.092400 | 0.234 |\n",
       "| Berg | Berg2_C2 |  0 |  5 | 1.808167 | 0.095 |\n",
       "| Berg | Berg2_C3 |  0 |  5 | 1.831733 | 0.155 |\n",
       "| Berg | Berg2_C4 |  0 |  5 | 1.103429 | 0.035 |\n",
       "| Berg | Berg2_C1 | 30 | 50 | 1.308580 | 0.202 |\n",
       "| Berg | Berg2_C2 | 30 | 50 | 1.268560 | 0.222 |\n",
       "| Berg | Berg2_C3 | 30 | 50 | 1.361320 | 0.011 |\n",
       "| Berg | Berg2_C4 | 30 | 50 | 1.364860 | 0.113 |\n",
       "\n"
      ],
      "text/plain": [
       "   site_id core_id  depth_min depth_max dry_bulk_density\n",
       "1  Berg    Berg2_C1  5        10        1.245100        \n",
       "2  Berg    Berg2_C2  5        10        1.921800        \n",
       "3  Berg    Berg2_C3  5        10        1.920150        \n",
       "4  Berg    Berg2_C4  5        10        1.245400        \n",
       "5  Berg    Berg2_C1 10        20        1.285120        \n",
       "6  Berg    Berg2_C2 10        20        1.420380        \n",
       "7  Berg    Berg2_C3 10        20        1.351720        \n",
       "8  Berg    Berg2_C4 10        20        1.255300        \n",
       "9  Berg    Berg2_C1 20        30        1.311880        \n",
       "10 Berg    Berg2_C2 20        30        1.302940        \n",
       "11 Berg    Berg2_C3 20        30        1.336100        \n",
       "12 Berg    Berg2_C4 20        30        1.323180        \n",
       "13 Berg    Berg2_C1  0         5        1.092400        \n",
       "14 Berg    Berg2_C2  0         5        1.808167        \n",
       "15 Berg    Berg2_C3  0         5        1.831733        \n",
       "16 Berg    Berg2_C4  0         5        1.103429        \n",
       "17 Berg    Berg2_C1 30        50        1.308580        \n",
       "18 Berg    Berg2_C2 30        50        1.268560        \n",
       "19 Berg    Berg2_C3 30        50        1.361320        \n",
       "20 Berg    Berg2_C4 30        50        1.364860        \n",
       "   fraction_organic_matter\n",
       "1  0.003                  \n",
       "2  0.083                  \n",
       "3  0.047                  \n",
       "4  0.089                  \n",
       "5  0.074                  \n",
       "6  0.192                  \n",
       "7  0.068                  \n",
       "8  0.081                  \n",
       "9  0.138                  \n",
       "10 0.061                  \n",
       "11 0.055                  \n",
       "12 0.088                  \n",
       "13 0.234                  \n",
       "14 0.095                  \n",
       "15 0.155                  \n",
       "16 0.035                  \n",
       "17 0.202                  \n",
       "18 0.222                  \n",
       "19 0.011                  \n",
       "20 0.113                  "
      ]
     },
     "metadata": {},
     "output_type": "display_data"
    }
   ],
   "source": [
    "Berg_sample_data"
   ]
  },
  {
   "cell_type": "code",
   "execution_count": null,
   "id": "5759d0e4-46bb-42d6-9c22-877ee4c575d0",
   "metadata": {},
   "outputs": [],
   "source": []
  },
  {
   "cell_type": "code",
   "execution_count": null,
   "id": "091d3061-4646-478e-9ff1-e3c067dada3f",
   "metadata": {},
   "outputs": [],
   "source": []
  },
  {
   "cell_type": "code",
   "execution_count": null,
   "id": "9f431f1f-0069-4fd1-a726-f3921df14185",
   "metadata": {},
   "outputs": [],
   "source": []
  },
  {
   "cell_type": "code",
   "execution_count": null,
   "id": "ce6909c3-7f35-48c4-af9f-fc28a8bcfaf6",
   "metadata": {},
   "outputs": [],
   "source": []
  },
  {
   "cell_type": "code",
   "execution_count": null,
   "id": "7687a29e-a2bd-4fcc-bba4-7d638e51c573",
   "metadata": {},
   "outputs": [],
   "source": []
  },
  {
   "cell_type": "code",
   "execution_count": null,
   "id": "c9b05fe4-f6a1-4371-8667-8d7b29cafd2f",
   "metadata": {},
   "outputs": [],
   "source": []
  },
  {
   "cell_type": "code",
   "execution_count": null,
   "id": "76f6424d-7588-4f17-8c45-b98c5653be8f",
   "metadata": {},
   "outputs": [],
   "source": []
  },
  {
   "cell_type": "code",
   "execution_count": null,
   "id": "0112e121-0187-4e9b-a577-701d21032feb",
   "metadata": {},
   "outputs": [],
   "source": []
  },
  {
   "cell_type": "code",
   "execution_count": 26,
   "id": "0c8365c5-5905-4d7f-b742-ddcdd8639d57",
   "metadata": {},
   "outputs": [],
   "source": [
    "# zaf_data_df <- read_rds(\"../data/zaf_data_df.rds\") |>\n",
    "#                dplyr::filter(!is.na(fraction_organic_matter)) |>\n",
    "#                dplyr::filter(site_id %nin% c(\"Kariega\",\"Keurbooms\")) "
   ]
  },
  {
   "cell_type": "code",
   "execution_count": 27,
   "id": "5108f588-a70f-4985-9c1c-42652ddb69ae",
   "metadata": {},
   "outputs": [],
   "source": [
    "# berg_lower <-   zaf_data_df |>\n",
    "#                 dplyr::filter(study_id == \"Ndhlovu_et_al_2024\") |>\n",
    "#                 dplyr::filter(site_id == \"Berg\") |>\n",
    "#                 dplyr::filter(str_detect(core_id, \"Berg2\")) |>\n",
    "#                 dplyr::select(site_id, core_id, depth_min, depth_max, dry_bulk_density, fraction_organic_matter)"
   ]
  }
 ],
 "metadata": {
  "kernelspec": {
   "display_name": "R",
   "language": "R",
   "name": "ir"
  },
  "language_info": {
   "codemirror_mode": "r",
   "file_extension": ".r",
   "mimetype": "text/x-r-source",
   "name": "R",
   "pygments_lexer": "r",
   "version": "4.4.3"
  }
 },
 "nbformat": 4,
 "nbformat_minor": 5
}
