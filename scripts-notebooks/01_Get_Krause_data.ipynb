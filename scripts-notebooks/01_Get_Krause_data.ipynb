{
 "cells": [
  {
   "cell_type": "code",
   "execution_count": 2,
   "id": "99e633b5-5aa3-47b5-993c-6c43f938c84e",
   "metadata": {},
   "outputs": [
    {
     "name": "stderr",
     "output_type": "stream",
     "text": [
      "── \u001b[1mAttaching core tidyverse packages\u001b[22m ─────────────────────────────────────────────────────────────────────────────────────────────────────────────────────────────────────────────────────────────────────────────── tidyverse 2.0.0 ──\n",
      "\u001b[32m✔\u001b[39m \u001b[34mdplyr    \u001b[39m 1.1.4     \u001b[32m✔\u001b[39m \u001b[34mreadr    \u001b[39m 2.1.5\n",
      "\u001b[32m✔\u001b[39m \u001b[34mforcats  \u001b[39m 1.0.0     \u001b[32m✔\u001b[39m \u001b[34mstringr  \u001b[39m 1.5.1\n",
      "\u001b[32m✔\u001b[39m \u001b[34mggplot2  \u001b[39m 3.5.2     \u001b[32m✔\u001b[39m \u001b[34mtibble   \u001b[39m 3.3.0\n",
      "\u001b[32m✔\u001b[39m \u001b[34mlubridate\u001b[39m 1.9.4     \u001b[32m✔\u001b[39m \u001b[34mtidyr    \u001b[39m 1.3.1\n",
      "\u001b[32m✔\u001b[39m \u001b[34mpurrr    \u001b[39m 1.0.4     \n",
      "── \u001b[1mConflicts\u001b[22m ───────────────────────────────────────────────────────────────────────────────────────────────────────────────────────────────────────────────────────────────────────────────────────────────── tidyverse_conflicts() ──\n",
      "\u001b[31m✖\u001b[39m \u001b[34mdplyr\u001b[39m::\u001b[32mfilter()\u001b[39m masks \u001b[34mstats\u001b[39m::filter()\n",
      "\u001b[31m✖\u001b[39m \u001b[34mdplyr\u001b[39m::\u001b[32mlag()\u001b[39m    masks \u001b[34mstats\u001b[39m::lag()\n",
      "\u001b[36mℹ\u001b[39m Use the conflicted package (\u001b[3m\u001b[34m<http://conflicted.r-lib.org/>\u001b[39m\u001b[23m) to force all conflicts to become errors\n",
      "\n",
      "Attaching package: ‘reshape2’\n",
      "\n",
      "\n",
      "The following object is masked from ‘package:tidyr’:\n",
      "\n",
      "    smiths\n",
      "\n",
      "\n",
      "Loading required package: viridisLite\n",
      "\n",
      "Loading required package: carData\n",
      "\n",
      "\n",
      "Attaching package: ‘car’\n",
      "\n",
      "\n",
      "The following object is masked from ‘package:dplyr’:\n",
      "\n",
      "    recode\n",
      "\n",
      "\n",
      "The following object is masked from ‘package:purrr’:\n",
      "\n",
      "    some\n",
      "\n",
      "\n",
      "Loading required package: lattice\n",
      "\n",
      "\n",
      "Attaching package: ‘caret’\n",
      "\n",
      "\n",
      "The following object is masked from ‘package:purrr’:\n",
      "\n",
      "    lift\n",
      "\n",
      "\n",
      "\n",
      "Attaching package: ‘rstatix’\n",
      "\n",
      "\n",
      "The following object is masked from ‘package:stats’:\n",
      "\n",
      "    filter\n",
      "\n",
      "\n"
     ]
    }
   ],
   "source": [
    "library(tidyverse)\n",
    "library(reshape2)\n",
    "library(ggpubr)\n",
    "library(viridis)\n",
    "library(car)\n",
    "library(caret)\n",
    "library(rstatix)"
   ]
  },
  {
   "cell_type": "code",
   "execution_count": 7,
   "id": "fdd6d119-f657-45e2-8708-9c8a09466df3",
   "metadata": {},
   "outputs": [
    {
     "data": {
      "text/html": [
       "<style>\n",
       ".list-inline {list-style: none; margin:0; padding: 0}\n",
       ".list-inline>li {display: inline-block}\n",
       ".list-inline>li:not(:last-child)::after {content: \"\\00b7\"; padding: 0 .5ex}\n",
       "</style>\n",
       "<ol class=list-inline><li>3244</li><li>41</li></ol>\n"
      ],
      "text/latex": [
       "\\begin{enumerate*}\n",
       "\\item 3244\n",
       "\\item 41\n",
       "\\end{enumerate*}\n"
      ],
      "text/markdown": [
       "1. 3244\n",
       "2. 41\n",
       "\n",
       "\n"
      ],
      "text/plain": [
       "[1] 3244   41"
      ]
     },
     "metadata": {},
     "output_type": "display_data"
    }
   ],
   "source": [
    "data <- read.csv(\"../41467_2025_59204_MOESM4_ESM/Supplementary Software/stocks.csv\" , fileEncoding=\"latin1\")\n",
    "dim(data)"
   ]
  },
  {
   "cell_type": "code",
   "execution_count": 8,
   "id": "3c5c740c-51f5-4bee-97e0-8e329184d80c",
   "metadata": {},
   "outputs": [
    {
     "data": {
      "text/html": [
       "<style>\n",
       ".list-inline {list-style: none; margin:0; padding: 0}\n",
       ".list-inline>li {display: inline-block}\n",
       ".list-inline>li:not(:last-child)::after {content: \"\\00b7\"; padding: 0 .5ex}\n",
       "</style>\n",
       "<ol class=list-inline><li>3244</li><li>43</li></ol>\n"
      ],
      "text/latex": [
       "\\begin{enumerate*}\n",
       "\\item 3244\n",
       "\\item 43\n",
       "\\end{enumerate*}\n"
      ],
      "text/markdown": [
       "1. 3244\n",
       "2. 43\n",
       "\n",
       "\n"
      ],
      "text/plain": [
       "[1] 3244   43"
      ]
     },
     "metadata": {},
     "output_type": "display_data"
    }
   ],
   "source": [
    "data_pred <- data %>% \n",
    "             mutate(Pred.30cm.Corg = case_when(!is.na(Corg.stock.30cm)  ~ Corg.stock.30cm,\n",
    "                                               !is.na(Corg.stock.15cm)  ~ 1.9323329*Corg.stock.15cm-0.0010214*Corg.stock.15cm^2,\n",
    "                                               Sampling.depth > 4 & is.na(Corg.stock.15cm) ~ (Corg.stock*(15/Sampling.depth)*1.9323329-0.0010214*(Corg.stock*(15/Sampling.depth)^2)) ),\n",
    "                     Pred.1m.Corg = case_when(!is.na(Corg.stock.100cm)  ~ Corg.stock.100cm,\n",
    "                                              !is.na(Corg.stock.50cm)  ~ 1.91*Corg.stock.50cm-0.000499*Corg.stock.50cm^2,\n",
    "                                              !is.na(Corg.stock.30cm)  ~ 3.127*Corg.stock.30cm-0.00149*Corg.stock.30cm^2,\n",
    "                                              !is.na(Corg.stock.15cm)  ~ 6.058*Corg.stock.15cm-0.00521*Corg.stock.15cm^2))\n",
    "dim(data_pred)"
   ]
  },
  {
   "cell_type": "code",
   "execution_count": 278,
   "id": "def1973d-1a1a-418d-a1eb-c5f23150eb78",
   "metadata": {},
   "outputs": [],
   "source": [
    "# Create a flag to indicate which values were predicted vs measured\n",
    "data_pred <-  data_pred %>% \n",
    "              mutate(Pred.flag.30 = case_when(!is.na(Corg.stock.30cm)  ~ 'Measured 30cm', \n",
    "                                              !is.na(Corg.stock.15cm)  ~ 'Pred. from 15cm',\n",
    "                                              Sampling.depth > 4 & is.na(Corg.stock.15cm) ~ 'Pred. from 5-14cm'),\n",
    "                     Pred.flag.100 = case_when(!is.na(Corg.stock.100cm) ~ 'Measured 1m', \n",
    "                                              !is.na(Corg.stock.50cm)  ~ 'Pred. from 50cm',\n",
    "                                              !is.na(Corg.stock.30cm)  ~ 'Pred. from 30cm',\n",
    "                                              !is.na(Corg.stock.15cm)  ~ 'Pred. from 15cm')) |>\n",
    "               mutate(row_id = row_number())"
   ]
  },
  {
   "cell_type": "code",
   "execution_count": 220,
   "id": "c25a78b8-4788-4292-8870-e68d99216ef6",
   "metadata": {},
   "outputs": [
    {
     "data": {
      "text/html": [
       "<style>\n",
       ".list-inline {list-style: none; margin:0; padding: 0}\n",
       ".list-inline>li {display: inline-block}\n",
       ".list-inline>li:not(:last-child)::after {content: \"\\00b7\"; padding: 0 .5ex}\n",
       "</style>\n",
       "<ol class=list-inline><li>2813</li><li>46</li></ol>\n"
      ],
      "text/latex": [
       "\\begin{enumerate*}\n",
       "\\item 2813\n",
       "\\item 46\n",
       "\\end{enumerate*}\n"
      ],
      "text/markdown": [
       "1. 2813\n",
       "2. 46\n",
       "\n",
       "\n"
      ],
      "text/plain": [
       "[1] 2813   46"
      ]
     },
     "metadata": {},
     "output_type": "display_data"
    }
   ],
   "source": [
    "(pred_veg <- dplyr::filter(data_pred, Seagrass.functionalmorphological.group != 'Unvegetated')) |> dim()"
   ]
  },
  {
   "cell_type": "code",
   "execution_count": 235,
   "id": "e3c4c870-351d-4404-b9ec-df5a89317150",
   "metadata": {},
   "outputs": [
    {
     "data": {
      "text/html": [
       "<style>\n",
       ".list-inline {list-style: none; margin:0; padding: 0}\n",
       ".list-inline>li {display: inline-block}\n",
       ".list-inline>li:not(:last-child)::after {content: \"\\00b7\"; padding: 0 .5ex}\n",
       "</style>\n",
       "<ol class=list-inline><li>1022</li><li>47</li></ol>\n"
      ],
      "text/latex": [
       "\\begin{enumerate*}\n",
       "\\item 1022\n",
       "\\item 47\n",
       "\\end{enumerate*}\n"
      ],
      "text/markdown": [
       "1. 1022\n",
       "2. 47\n",
       "\n",
       "\n"
      ],
      "text/plain": [
       "[1] 1022   47"
      ]
     },
     "metadata": {},
     "output_type": "display_data"
    }
   ],
   "source": [
    "(Krause_measured_30cm <- dplyr::filter(pred_veg, Pred.flag.30 == \"Measured 30cm\") |>\n",
    "                         dplyr::mutate(data_type = \"Measured 30cm\")\n",
    ") |> dim()"
   ]
  },
  {
   "cell_type": "code",
   "execution_count": 192,
   "id": "f66f7d7a-ca73-4de9-a796-5a8247ff3f5e",
   "metadata": {},
   "outputs": [],
   "source": [
    "`%nin%` <- Negate(`%in%`)"
   ]
  },
  {
   "cell_type": "code",
   "execution_count": 227,
   "id": "12339b51-ba47-45c7-9247-7133d044ef38",
   "metadata": {},
   "outputs": [
    {
     "data": {
      "text/html": [
       "<style>\n",
       ".list-inline {list-style: none; margin:0; padding: 0}\n",
       ".list-inline>li {display: inline-block}\n",
       ".list-inline>li:not(:last-child)::after {content: \"\\00b7\"; padding: 0 .5ex}\n",
       "</style>\n",
       "<ol class=list-inline><li>1791</li><li>46</li></ol>\n"
      ],
      "text/latex": [
       "\\begin{enumerate*}\n",
       "\\item 1791\n",
       "\\item 46\n",
       "\\end{enumerate*}\n"
      ],
      "text/markdown": [
       "1. 1791\n",
       "2. 46\n",
       "\n",
       "\n"
      ],
      "text/plain": [
       "[1] 1791   46"
      ]
     },
     "metadata": {},
     "output_type": "display_data"
    }
   ],
   "source": [
    "(pred_veg_rem <- pred_veg |>\n",
    "                dplyr::filter(row_id %nin% Krause_measured_30cm$row_id)) |> dim()"
   ]
  },
  {
   "cell_type": "code",
   "execution_count": 289,
   "id": "5cb154bf-5af5-4769-86fb-7dcb10ea457e",
   "metadata": {
    "scrolled": true
   },
   "outputs": [
    {
     "data": {
      "text/html": [
       "<style>\n",
       ".list-inline {list-style: none; margin:0; padding: 0}\n",
       ".list-inline>li {display: inline-block}\n",
       ".list-inline>li:not(:last-child)::after {content: \"\\00b7\"; padding: 0 .5ex}\n",
       "</style>\n",
       "<ol class=list-inline><li>1153</li><li>47</li></ol>\n"
      ],
      "text/latex": [
       "\\begin{enumerate*}\n",
       "\\item 1153\n",
       "\\item 47\n",
       "\\end{enumerate*}\n"
      ],
      "text/markdown": [
       "1. 1153\n",
       "2. 47\n",
       "\n",
       "\n"
      ],
      "text/plain": [
       "[1] 1153   47"
      ]
     },
     "metadata": {},
     "output_type": "display_data"
    }
   ],
   "source": [
    "(Krause_pred5_29cm <- pred_veg_rem |> \n",
    "                      dplyr::filter(Pred.flag.30 ==  \"Pred. from 15cm\" | Pred.flag.30 ==  \"Pred. from 5-14cm\") |>\n",
    "                      dplyr::filter(Sampling.depth > 4) |>\n",
    "                      dplyr::mutate(data_type = \"Predicted from > 5 < 14 <= 15 cm\")) |> dim()"
   ]
  },
  {
   "cell_type": "code",
   "execution_count": 274,
   "id": "e95b5c8d-4ef9-4f6d-bfe9-2ea44e7c4432",
   "metadata": {},
   "outputs": [
    {
     "data": {
      "text/html": [
       "<style>\n",
       ".list-inline {list-style: none; margin:0; padding: 0}\n",
       ".list-inline>li {display: inline-block}\n",
       ".list-inline>li:not(:last-child)::after {content: \"\\00b7\"; padding: 0 .5ex}\n",
       "</style>\n",
       "<ol class=list-inline><li>638</li><li>46</li></ol>\n"
      ],
      "text/latex": [
       "\\begin{enumerate*}\n",
       "\\item 638\n",
       "\\item 46\n",
       "\\end{enumerate*}\n"
      ],
      "text/markdown": [
       "1. 638\n",
       "2. 46\n",
       "\n",
       "\n"
      ],
      "text/plain": [
       "[1] 638  46"
      ]
     },
     "metadata": {},
     "output_type": "display_data"
    }
   ],
   "source": [
    "(pred_veg_rem2 <- dplyr::filter(pred_veg_rem, row_id %nin% Krause_pred5_29cm$row_id)) |> dim()"
   ]
  },
  {
   "cell_type": "code",
   "execution_count": 281,
   "id": "a0aac665-4d8e-48c5-96e7-55dae0925bc3",
   "metadata": {
    "scrolled": true
   },
   "outputs": [
    {
     "data": {
      "text/html": [
       "<style>\n",
       ".list-inline {list-style: none; margin:0; padding: 0}\n",
       ".list-inline>li {display: inline-block}\n",
       ".list-inline>li:not(:last-child)::after {content: \"\\00b7\"; padding: 0 .5ex}\n",
       "</style>\n",
       "<ol class=list-inline><li>638</li><li>47</li></ol>\n"
      ],
      "text/latex": [
       "\\begin{enumerate*}\n",
       "\\item 638\n",
       "\\item 47\n",
       "\\end{enumerate*}\n"
      ],
      "text/markdown": [
       "1. 638\n",
       "2. 47\n",
       "\n",
       "\n"
      ],
      "text/plain": [
       "[1] 638  47"
      ]
     },
     "metadata": {},
     "output_type": "display_data"
    }
   ],
   "source": [
    "(Krause_less_4cm <- pred_veg_rem2 |>\n",
    "                    dplyr::filter(Sampling.depth <= 4 | is.na(Sampling.depth)) |>\n",
    "                    dplyr::mutate(data_type = \"Predicted from < 4 cm\")) |> dim()"
   ]
  },
  {
   "cell_type": "code",
   "execution_count": 293,
   "id": "00d8bca1-d590-4569-893d-05383175c850",
   "metadata": {},
   "outputs": [
    {
     "data": {
      "text/html": [
       "<style>\n",
       ".list-inline {list-style: none; margin:0; padding: 0}\n",
       ".list-inline>li {display: inline-block}\n",
       ".list-inline>li:not(:last-child)::after {content: \"\\00b7\"; padding: 0 .5ex}\n",
       "</style>\n",
       "<ol class=list-inline><li>2813</li><li>47</li></ol>\n"
      ],
      "text/latex": [
       "\\begin{enumerate*}\n",
       "\\item 2813\n",
       "\\item 47\n",
       "\\end{enumerate*}\n"
      ],
      "text/markdown": [
       "1. 2813\n",
       "2. 47\n",
       "\n",
       "\n"
      ],
      "text/plain": [
       "[1] 2813   47"
      ]
     },
     "metadata": {},
     "output_type": "display_data"
    }
   ],
   "source": [
    "Krause_database <- rbind(Krause_measured_30cm, Krause_pred5_29cm, Krause_less_4cm) \n",
    "dim(Krause_database)"
   ]
  },
  {
   "cell_type": "code",
   "execution_count": 297,
   "id": "a5be1d05-1618-4786-a4c0-700bc70c558d",
   "metadata": {},
   "outputs": [],
   "source": [
    "write_rds(Krause_database, \"../data/Krause_database.rds\")"
   ]
  }
 ],
 "metadata": {
  "kernelspec": {
   "display_name": "R",
   "language": "R",
   "name": "ir"
  },
  "language_info": {
   "codemirror_mode": "r",
   "file_extension": ".r",
   "mimetype": "text/x-r-source",
   "name": "R",
   "pygments_lexer": "r",
   "version": "4.3.3"
  }
 },
 "nbformat": 4,
 "nbformat_minor": 5
}
