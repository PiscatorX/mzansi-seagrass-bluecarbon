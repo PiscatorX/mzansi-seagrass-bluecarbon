{
 "cells": [
  {
   "cell_type": "code",
   "execution_count": 1,
   "id": "a89dce54-f8ae-498c-be8c-7e3f67955422",
   "metadata": {},
   "outputs": [
    {
     "name": "stderr",
     "output_type": "stream",
     "text": [
      "You can cite this package as:\n",
      "     Patil, I. (2021). Visualizations with statistical details: The 'ggstatsplot' approach.\n",
      "     Journal of Open Source Software, 6(61), 3167, doi:10.21105/joss.03167\n",
      "\n",
      "── \u001b[1mAttaching core tidyverse packages\u001b[22m ──────────────────────────────────────────────────────────────────────────────────────────────────────────────────────────────── tidyverse 2.0.0 ──\n",
      "\u001b[32m✔\u001b[39m \u001b[34mdplyr    \u001b[39m 1.1.4     \u001b[32m✔\u001b[39m \u001b[34mreadr    \u001b[39m 2.1.5\n",
      "\u001b[32m✔\u001b[39m \u001b[34mforcats  \u001b[39m 1.0.0     \u001b[32m✔\u001b[39m \u001b[34mstringr  \u001b[39m 1.5.1\n",
      "\u001b[32m✔\u001b[39m \u001b[34mggplot2  \u001b[39m 3.5.2     \u001b[32m✔\u001b[39m \u001b[34mtibble   \u001b[39m 3.3.0\n",
      "\u001b[32m✔\u001b[39m \u001b[34mlubridate\u001b[39m 1.9.4     \u001b[32m✔\u001b[39m \u001b[34mtidyr    \u001b[39m 1.3.1\n",
      "\u001b[32m✔\u001b[39m \u001b[34mpurrr    \u001b[39m 1.1.0     \n",
      "── \u001b[1mConflicts\u001b[22m ────────────────────────────────────────────────────────────────────────────────────────────────────────────────────────────────────────────────── tidyverse_conflicts() ──\n",
      "\u001b[31m✖\u001b[39m \u001b[34mdplyr\u001b[39m::\u001b[32mfilter()\u001b[39m masks \u001b[34mstats\u001b[39m::filter()\n",
      "\u001b[31m✖\u001b[39m \u001b[34mdplyr\u001b[39m::\u001b[32mlag()\u001b[39m    masks \u001b[34mstats\u001b[39m::lag()\n",
      "\u001b[36mℹ\u001b[39m Use the conflicted package (\u001b[3m\u001b[34m<http://conflicted.r-lib.org/>\u001b[39m\u001b[23m) to force all conflicts to become errors\n",
      "\n",
      "Attaching package: ‘reshape2’\n",
      "\n",
      "\n",
      "The following object is masked from ‘package:tidyr’:\n",
      "\n",
      "    smiths\n",
      "\n",
      "\n",
      "\n",
      "Attaching package: ‘rstatix’\n",
      "\n",
      "\n",
      "The following object is masked from ‘package:stats’:\n",
      "\n",
      "    filter\n",
      "\n",
      "\n",
      "Loading required package: lattice\n",
      "\n",
      "\n",
      "Attaching package: ‘caret’\n",
      "\n",
      "\n",
      "The following object is masked from ‘package:purrr’:\n",
      "\n",
      "    lift\n",
      "\n",
      "\n",
      "Loading required package: carData\n",
      "\n",
      "\n",
      "Attaching package: ‘car’\n",
      "\n",
      "\n",
      "The following object is masked from ‘package:dplyr’:\n",
      "\n",
      "    recode\n",
      "\n",
      "\n",
      "The following object is masked from ‘package:purrr’:\n",
      "\n",
      "    some\n",
      "\n",
      "\n"
     ]
    }
   ],
   "source": [
    "library(ggstatsplot)\n",
    "library(treemapify)\n",
    "library(inspectdf)\n",
    "library(tidyverse)\n",
    "library(reshape2)\n",
    "library(rstatix)\n",
    "library(treemap)\n",
    "library(ggplot2)\n",
    "library(ggpubr)\n",
    "library(ggsci)\n",
    "library(tibble)\n",
    "library(dplyr)\n",
    "library(caret)\n",
    "library(car)"
   ]
  },
  {
   "cell_type": "code",
   "execution_count": 2,
   "id": "8c8e7fdb-a4fd-4fc4-9077-01b23fcc969a",
   "metadata": {},
   "outputs": [],
   "source": [
    "Krause_database <- read_rds(\"../data/Krause_database.rds\")"
   ]
  },
  {
   "cell_type": "code",
   "execution_count": 3,
   "id": "b63fd731-97da-444d-9756-31de0eb55db2",
   "metadata": {},
   "outputs": [
    {
     "data": {
      "text/html": [
       "<style>\n",
       ".list-inline {list-style: none; margin:0; padding: 0}\n",
       ".list-inline>li {display: inline-block}\n",
       ".list-inline>li:not(:last-child)::after {content: \"\\00b7\"; padding: 0 .5ex}\n",
       "</style>\n",
       "<ol class=list-inline><li>2813</li><li>47</li></ol>\n"
      ],
      "text/latex": [
       "\\begin{enumerate*}\n",
       "\\item 2813\n",
       "\\item 47\n",
       "\\end{enumerate*}\n"
      ],
      "text/markdown": [
       "1. 2813\n",
       "2. 47\n",
       "\n",
       "\n"
      ],
      "text/plain": [
       "[1] 2813   47"
      ]
     },
     "metadata": {},
     "output_type": "display_data"
    }
   ],
   "source": [
    "dim(Krause_database)"
   ]
  },
  {
   "cell_type": "code",
   "execution_count": 4,
   "id": "9dc8bc37-a100-4c43-b942-ebb553b51ac3",
   "metadata": {},
   "outputs": [
    {
     "data": {
      "text/html": [
       "<style>\n",
       ".list-inline {list-style: none; margin:0; padding: 0}\n",
       ".list-inline>li {display: inline-block}\n",
       ".list-inline>li:not(:last-child)::after {content: \"\\00b7\"; padding: 0 .5ex}\n",
       "</style>\n",
       "<ol class=list-inline><li>'ï..Article.ID'</li><li>'Publication.year'</li><li>'Study.site'</li><li>'Country'</li><li>'Latitude'</li><li>'Longitude'</li><li>'Coastal.typology'</li><li>'Marine.ecoregion'</li><li>'Seagrass.bioregion'</li><li>'Seagrass.functionalmorphological.group'</li><li>'Seagrass.species'</li><li>'Seagrass.genus'</li><li>'Additional.identification'</li><li>'Above.ground.biomass'</li><li>'Below.ground.biomass'</li><li>'Total.biomass'</li><li>'Sampling.depth'</li><li>'Ctot.stock'</li><li>'Ctot.content'</li><li>'Corg.stock'</li><li>'Corg.content'</li><li>'Cinorg.stock'</li><li>'Cinorg.content'</li><li>'Ctot.stock.15cm'</li><li>'Corg.stock.15cm'</li><li>'Cinorg.stock.15cm'</li><li>'Ctot.stock.30cm'</li><li>'Corg.stock.30cm'</li><li>'Cinorg.stock.30cm'</li><li>'Ctot.stock.50cm'</li><li>'Corg.stock.50cm'</li><li>'Cinorg.stock.50cm'</li><li>'Ctot.stock.100cm'</li><li>'Corg.stock.100cm'</li><li>'Cinorg.stock.100cm'</li><li>'OM.content'</li><li>'Porosity'</li><li>'Dry.Bulk.Density'</li><li>'Grain.size'</li><li>'Fraction.mud'</li><li>'Notes'</li><li>'Pred.30cm.Corg'</li><li>'Pred.1m.Corg'</li><li>'Pred.flag.30'</li><li>'Pred.flag.100'</li><li>'row_id'</li><li>'data_type'</li></ol>\n"
      ],
      "text/latex": [
       "\\begin{enumerate*}\n",
       "\\item 'ï..Article.ID'\n",
       "\\item 'Publication.year'\n",
       "\\item 'Study.site'\n",
       "\\item 'Country'\n",
       "\\item 'Latitude'\n",
       "\\item 'Longitude'\n",
       "\\item 'Coastal.typology'\n",
       "\\item 'Marine.ecoregion'\n",
       "\\item 'Seagrass.bioregion'\n",
       "\\item 'Seagrass.functionalmorphological.group'\n",
       "\\item 'Seagrass.species'\n",
       "\\item 'Seagrass.genus'\n",
       "\\item 'Additional.identification'\n",
       "\\item 'Above.ground.biomass'\n",
       "\\item 'Below.ground.biomass'\n",
       "\\item 'Total.biomass'\n",
       "\\item 'Sampling.depth'\n",
       "\\item 'Ctot.stock'\n",
       "\\item 'Ctot.content'\n",
       "\\item 'Corg.stock'\n",
       "\\item 'Corg.content'\n",
       "\\item 'Cinorg.stock'\n",
       "\\item 'Cinorg.content'\n",
       "\\item 'Ctot.stock.15cm'\n",
       "\\item 'Corg.stock.15cm'\n",
       "\\item 'Cinorg.stock.15cm'\n",
       "\\item 'Ctot.stock.30cm'\n",
       "\\item 'Corg.stock.30cm'\n",
       "\\item 'Cinorg.stock.30cm'\n",
       "\\item 'Ctot.stock.50cm'\n",
       "\\item 'Corg.stock.50cm'\n",
       "\\item 'Cinorg.stock.50cm'\n",
       "\\item 'Ctot.stock.100cm'\n",
       "\\item 'Corg.stock.100cm'\n",
       "\\item 'Cinorg.stock.100cm'\n",
       "\\item 'OM.content'\n",
       "\\item 'Porosity'\n",
       "\\item 'Dry.Bulk.Density'\n",
       "\\item 'Grain.size'\n",
       "\\item 'Fraction.mud'\n",
       "\\item 'Notes'\n",
       "\\item 'Pred.30cm.Corg'\n",
       "\\item 'Pred.1m.Corg'\n",
       "\\item 'Pred.flag.30'\n",
       "\\item 'Pred.flag.100'\n",
       "\\item 'row\\_id'\n",
       "\\item 'data\\_type'\n",
       "\\end{enumerate*}\n"
      ],
      "text/markdown": [
       "1. 'ï..Article.ID'\n",
       "2. 'Publication.year'\n",
       "3. 'Study.site'\n",
       "4. 'Country'\n",
       "5. 'Latitude'\n",
       "6. 'Longitude'\n",
       "7. 'Coastal.typology'\n",
       "8. 'Marine.ecoregion'\n",
       "9. 'Seagrass.bioregion'\n",
       "10. 'Seagrass.functionalmorphological.group'\n",
       "11. 'Seagrass.species'\n",
       "12. 'Seagrass.genus'\n",
       "13. 'Additional.identification'\n",
       "14. 'Above.ground.biomass'\n",
       "15. 'Below.ground.biomass'\n",
       "16. 'Total.biomass'\n",
       "17. 'Sampling.depth'\n",
       "18. 'Ctot.stock'\n",
       "19. 'Ctot.content'\n",
       "20. 'Corg.stock'\n",
       "21. 'Corg.content'\n",
       "22. 'Cinorg.stock'\n",
       "23. 'Cinorg.content'\n",
       "24. 'Ctot.stock.15cm'\n",
       "25. 'Corg.stock.15cm'\n",
       "26. 'Cinorg.stock.15cm'\n",
       "27. 'Ctot.stock.30cm'\n",
       "28. 'Corg.stock.30cm'\n",
       "29. 'Cinorg.stock.30cm'\n",
       "30. 'Ctot.stock.50cm'\n",
       "31. 'Corg.stock.50cm'\n",
       "32. 'Cinorg.stock.50cm'\n",
       "33. 'Ctot.stock.100cm'\n",
       "34. 'Corg.stock.100cm'\n",
       "35. 'Cinorg.stock.100cm'\n",
       "36. 'OM.content'\n",
       "37. 'Porosity'\n",
       "38. 'Dry.Bulk.Density'\n",
       "39. 'Grain.size'\n",
       "40. 'Fraction.mud'\n",
       "41. 'Notes'\n",
       "42. 'Pred.30cm.Corg'\n",
       "43. 'Pred.1m.Corg'\n",
       "44. 'Pred.flag.30'\n",
       "45. 'Pred.flag.100'\n",
       "46. 'row_id'\n",
       "47. 'data_type'\n",
       "\n",
       "\n"
      ],
      "text/plain": [
       " [1] \"ï..Article.ID\"                         \n",
       " [2] \"Publication.year\"                      \n",
       " [3] \"Study.site\"                            \n",
       " [4] \"Country\"                               \n",
       " [5] \"Latitude\"                              \n",
       " [6] \"Longitude\"                             \n",
       " [7] \"Coastal.typology\"                      \n",
       " [8] \"Marine.ecoregion\"                      \n",
       " [9] \"Seagrass.bioregion\"                    \n",
       "[10] \"Seagrass.functionalmorphological.group\"\n",
       "[11] \"Seagrass.species\"                      \n",
       "[12] \"Seagrass.genus\"                        \n",
       "[13] \"Additional.identification\"             \n",
       "[14] \"Above.ground.biomass\"                  \n",
       "[15] \"Below.ground.biomass\"                  \n",
       "[16] \"Total.biomass\"                         \n",
       "[17] \"Sampling.depth\"                        \n",
       "[18] \"Ctot.stock\"                            \n",
       "[19] \"Ctot.content\"                          \n",
       "[20] \"Corg.stock\"                            \n",
       "[21] \"Corg.content\"                          \n",
       "[22] \"Cinorg.stock\"                          \n",
       "[23] \"Cinorg.content\"                        \n",
       "[24] \"Ctot.stock.15cm\"                       \n",
       "[25] \"Corg.stock.15cm\"                       \n",
       "[26] \"Cinorg.stock.15cm\"                     \n",
       "[27] \"Ctot.stock.30cm\"                       \n",
       "[28] \"Corg.stock.30cm\"                       \n",
       "[29] \"Cinorg.stock.30cm\"                     \n",
       "[30] \"Ctot.stock.50cm\"                       \n",
       "[31] \"Corg.stock.50cm\"                       \n",
       "[32] \"Cinorg.stock.50cm\"                     \n",
       "[33] \"Ctot.stock.100cm\"                      \n",
       "[34] \"Corg.stock.100cm\"                      \n",
       "[35] \"Cinorg.stock.100cm\"                    \n",
       "[36] \"OM.content\"                            \n",
       "[37] \"Porosity\"                              \n",
       "[38] \"Dry.Bulk.Density\"                      \n",
       "[39] \"Grain.size\"                            \n",
       "[40] \"Fraction.mud\"                          \n",
       "[41] \"Notes\"                                 \n",
       "[42] \"Pred.30cm.Corg\"                        \n",
       "[43] \"Pred.1m.Corg\"                          \n",
       "[44] \"Pred.flag.30\"                          \n",
       "[45] \"Pred.flag.100\"                         \n",
       "[46] \"row_id\"                                \n",
       "[47] \"data_type\"                             "
      ]
     },
     "metadata": {},
     "output_type": "display_data"
    }
   ],
   "source": [
    "colnames(Krause_database)"
   ]
  },
  {
   "cell_type": "code",
   "execution_count": 5,
   "id": "9ae22102-7a2f-4436-9af7-71e766bd2ea1",
   "metadata": {},
   "outputs": [
    {
     "data": {
      "text/html": [
       "<table class=\"dataframe\">\n",
       "<caption>A tibble: 16 × 2</caption>\n",
       "<thead>\n",
       "\t<tr><th scope=col>variable</th><th scope=col>n_unique</th></tr>\n",
       "\t<tr><th scope=col>&lt;chr&gt;</th><th scope=col>&lt;int&gt;</th></tr>\n",
       "</thead>\n",
       "<tbody>\n",
       "\t<tr><td>Additional.identification             </td><td>1742</td></tr>\n",
       "\t<tr><td>Longitude                             </td><td>1366</td></tr>\n",
       "\t<tr><td>Corg.content                          </td><td>1001</td></tr>\n",
       "\t<tr><td>Study.site                            </td><td> 951</td></tr>\n",
       "\t<tr><td>Notes                                 </td><td> 215</td></tr>\n",
       "\t<tr><td>ï..Article.ID                         </td><td> 150</td></tr>\n",
       "\t<tr><td>Country                               </td><td>  61</td></tr>\n",
       "\t<tr><td>Seagrass.species                      </td><td>  57</td></tr>\n",
       "\t<tr><td>Seagrass.genus                        </td><td>  14</td></tr>\n",
       "\t<tr><td>Marine.ecoregion                      </td><td>  11</td></tr>\n",
       "\t<tr><td>Coastal.typology                      </td><td>   8</td></tr>\n",
       "\t<tr><td>Seagrass.bioregion                    </td><td>   7</td></tr>\n",
       "\t<tr><td>Seagrass.functionalmorphological.group</td><td>   5</td></tr>\n",
       "\t<tr><td>Pred.flag.100                         </td><td>   5</td></tr>\n",
       "\t<tr><td>Pred.flag.30                          </td><td>   4</td></tr>\n",
       "\t<tr><td>data_type                             </td><td>   3</td></tr>\n",
       "</tbody>\n",
       "</table>\n"
      ],
      "text/latex": [
       "A tibble: 16 × 2\n",
       "\\begin{tabular}{ll}\n",
       " variable & n\\_unique\\\\\n",
       " <chr> & <int>\\\\\n",
       "\\hline\n",
       "\t Additional.identification              & 1742\\\\\n",
       "\t Longitude                              & 1366\\\\\n",
       "\t Corg.content                           & 1001\\\\\n",
       "\t Study.site                             &  951\\\\\n",
       "\t Notes                                  &  215\\\\\n",
       "\t ï..Article.ID                          &  150\\\\\n",
       "\t Country                                &   61\\\\\n",
       "\t Seagrass.species                       &   57\\\\\n",
       "\t Seagrass.genus                         &   14\\\\\n",
       "\t Marine.ecoregion                       &   11\\\\\n",
       "\t Coastal.typology                       &    8\\\\\n",
       "\t Seagrass.bioregion                     &    7\\\\\n",
       "\t Seagrass.functionalmorphological.group &    5\\\\\n",
       "\t Pred.flag.100                          &    5\\\\\n",
       "\t Pred.flag.30                           &    4\\\\\n",
       "\t data\\_type                              &    3\\\\\n",
       "\\end{tabular}\n"
      ],
      "text/markdown": [
       "\n",
       "A tibble: 16 × 2\n",
       "\n",
       "| variable &lt;chr&gt; | n_unique &lt;int&gt; |\n",
       "|---|---|\n",
       "| Additional.identification              | 1742 |\n",
       "| Longitude                              | 1366 |\n",
       "| Corg.content                           | 1001 |\n",
       "| Study.site                             |  951 |\n",
       "| Notes                                  |  215 |\n",
       "| ï..Article.ID                          |  150 |\n",
       "| Country                                |   61 |\n",
       "| Seagrass.species                       |   57 |\n",
       "| Seagrass.genus                         |   14 |\n",
       "| Marine.ecoregion                       |   11 |\n",
       "| Coastal.typology                       |    8 |\n",
       "| Seagrass.bioregion                     |    7 |\n",
       "| Seagrass.functionalmorphological.group |    5 |\n",
       "| Pred.flag.100                          |    5 |\n",
       "| Pred.flag.30                           |    4 |\n",
       "| data_type                              |    3 |\n",
       "\n"
      ],
      "text/plain": [
       "   variable                               n_unique\n",
       "1  Additional.identification              1742    \n",
       "2  Longitude                              1366    \n",
       "3  Corg.content                           1001    \n",
       "4  Study.site                              951    \n",
       "5  Notes                                   215    \n",
       "6  ï..Article.ID                           150    \n",
       "7  Country                                  61    \n",
       "8  Seagrass.species                         57    \n",
       "9  Seagrass.genus                           14    \n",
       "10 Marine.ecoregion                         11    \n",
       "11 Coastal.typology                          8    \n",
       "12 Seagrass.bioregion                        7    \n",
       "13 Seagrass.functionalmorphological.group    5    \n",
       "14 Pred.flag.100                             5    \n",
       "15 Pred.flag.30                              4    \n",
       "16 data_type                                 3    "
      ]
     },
     "metadata": {},
     "output_type": "display_data"
    }
   ],
   "source": [
    "Krause_database |>\n",
    "select(where(is.character)) |>\n",
    "dplyr::summarise(across(everything(), ~ n_distinct(.))) |>\n",
    "tidyr::pivot_longer(cols = everything(), names_to = \"variable\", values_to = \"n_unique\") |>\n",
    "arrange(desc(n_unique))"
   ]
  },
  {
   "cell_type": "code",
   "execution_count": 6,
   "id": "ee7eed72-337d-4f65-a6ef-c080dae72914",
   "metadata": {},
   "outputs": [
    {
     "data": {
      "text/html": [
       "<style>\n",
       ".list-inline {list-style: none; margin:0; padding: 0}\n",
       ".list-inline>li {display: inline-block}\n",
       ".list-inline>li:not(:last-child)::after {content: \"\\00b7\"; padding: 0 .5ex}\n",
       "</style>\n",
       "<ol class=list-inline><li>'Temperate Southern Oceans'</li><li>'Tropical Atlantic'</li><li>'Temperate North Pacific'</li><li>'Tropical Indo-Pacific'</li><li>'Mediterranean'</li><li>'Temperate North Atlantic'</li><li>''</li></ol>\n"
      ],
      "text/latex": [
       "\\begin{enumerate*}\n",
       "\\item 'Temperate Southern Oceans'\n",
       "\\item 'Tropical Atlantic'\n",
       "\\item 'Temperate North Pacific'\n",
       "\\item 'Tropical Indo-Pacific'\n",
       "\\item 'Mediterranean'\n",
       "\\item 'Temperate North Atlantic'\n",
       "\\item ''\n",
       "\\end{enumerate*}\n"
      ],
      "text/markdown": [
       "1. 'Temperate Southern Oceans'\n",
       "2. 'Tropical Atlantic'\n",
       "3. 'Temperate North Pacific'\n",
       "4. 'Tropical Indo-Pacific'\n",
       "5. 'Mediterranean'\n",
       "6. 'Temperate North Atlantic'\n",
       "7. ''\n",
       "\n",
       "\n"
      ],
      "text/plain": [
       "[1] \"Temperate Southern Oceans\" \"Tropical Atlantic\"        \n",
       "[3] \"Temperate North Pacific\"   \"Tropical Indo-Pacific\"    \n",
       "[5] \"Mediterranean\"             \"Temperate North Atlantic\" \n",
       "[7] \"\"                         "
      ]
     },
     "metadata": {},
     "output_type": "display_data"
    }
   ],
   "source": [
    "unique(Krause_database$Seagrass.bioregion)"
   ]
  },
  {
   "cell_type": "code",
   "execution_count": 7,
   "id": "31c3877e-29e1-4c8e-977a-1b1e36836fad",
   "metadata": {},
   "outputs": [
    {
     "data": {
      "text/html": [
       "<table class=\"dataframe\">\n",
       "<caption>A grouped_df: 3 × 2</caption>\n",
       "<thead>\n",
       "\t<tr><th scope=col>data_type</th><th scope=col>n</th></tr>\n",
       "\t<tr><th scope=col>&lt;chr&gt;</th><th scope=col>&lt;int&gt;</th></tr>\n",
       "</thead>\n",
       "<tbody>\n",
       "\t<tr><td>Measured 30cm                   </td><td>1022</td></tr>\n",
       "\t<tr><td><span style=white-space:pre-wrap>Predicted from &lt; 4 cm           </span></td><td> 638</td></tr>\n",
       "\t<tr><td>Predicted from &gt; 5 &lt; 14 &lt;= 15 cm</td><td>1153</td></tr>\n",
       "</tbody>\n",
       "</table>\n"
      ],
      "text/latex": [
       "A grouped\\_df: 3 × 2\n",
       "\\begin{tabular}{ll}\n",
       " data\\_type & n\\\\\n",
       " <chr> & <int>\\\\\n",
       "\\hline\n",
       "\t Measured 30cm                    & 1022\\\\\n",
       "\t Predicted from < 4 cm            &  638\\\\\n",
       "\t Predicted from > 5 < 14 <= 15 cm & 1153\\\\\n",
       "\\end{tabular}\n"
      ],
      "text/markdown": [
       "\n",
       "A grouped_df: 3 × 2\n",
       "\n",
       "| data_type &lt;chr&gt; | n &lt;int&gt; |\n",
       "|---|---|\n",
       "| Measured 30cm                    | 1022 |\n",
       "| Predicted from &lt; 4 cm            |  638 |\n",
       "| Predicted from &gt; 5 &lt; 14 &lt;= 15 cm | 1153 |\n",
       "\n"
      ],
      "text/plain": [
       "  data_type                        n   \n",
       "1 Measured 30cm                    1022\n",
       "2 Predicted from < 4 cm             638\n",
       "3 Predicted from > 5 < 14 <= 15 cm 1153"
      ]
     },
     "metadata": {},
     "output_type": "display_data"
    }
   ],
   "source": [
    "Krause_database |>\n",
    "dplyr::group_by(data_type) |>\n",
    "count()"
   ]
  },
  {
   "cell_type": "code",
   "execution_count": 8,
   "id": "48e99d45-1579-4df4-bbad-054e3070ec3f",
   "metadata": {},
   "outputs": [
    {
     "data": {
      "text/html": [
       "<table class=\"dataframe\">\n",
       "<caption>A tibble: 31 × 3</caption>\n",
       "<thead>\n",
       "\t<tr><th scope=col>col_name</th><th scope=col>cnt</th><th scope=col>pcnt</th></tr>\n",
       "\t<tr><th scope=col>&lt;chr&gt;</th><th scope=col>&lt;int&gt;</th><th scope=col>&lt;dbl&gt;</th></tr>\n",
       "</thead>\n",
       "<tbody>\n",
       "\t<tr><td>Cinorg.stock.100cm  </td><td>2742</td><td>97.476004</td></tr>\n",
       "\t<tr><td>Ctot.stock.100cm    </td><td>2733</td><td>97.156061</td></tr>\n",
       "\t<tr><td>Ctot.stock.50cm     </td><td>2678</td><td>95.200853</td></tr>\n",
       "\t<tr><td>Cinorg.stock.50cm   </td><td>2677</td><td>95.165304</td></tr>\n",
       "\t<tr><td>Fraction.mud        </td><td>2662</td><td>94.632065</td></tr>\n",
       "\t<tr><td>Porosity            </td><td>2638</td><td>93.778884</td></tr>\n",
       "\t<tr><td>Grain.size          </td><td>2614</td><td>92.925702</td></tr>\n",
       "\t<tr><td>Corg.stock.100cm    </td><td>2586</td><td>91.930323</td></tr>\n",
       "\t<tr><td>OM.content          </td><td>2570</td><td>91.361536</td></tr>\n",
       "\t<tr><td>Ctot.stock.30cm     </td><td>2535</td><td>90.117312</td></tr>\n",
       "\t<tr><td>Cinorg.stock.30cm   </td><td>2535</td><td>90.117312</td></tr>\n",
       "\t<tr><td>Ctot.stock.15cm     </td><td>2483</td><td>88.268752</td></tr>\n",
       "\t<tr><td>Cinorg.stock.15cm   </td><td>2483</td><td>88.268752</td></tr>\n",
       "\t<tr><td>Ctot.content        </td><td>2278</td><td>80.981159</td></tr>\n",
       "\t<tr><td>Cinorg.stock        </td><td>2233</td><td>79.381443</td></tr>\n",
       "\t<tr><td>Cinorg.content      </td><td>2227</td><td>79.168148</td></tr>\n",
       "\t<tr><td>Ctot.stock          </td><td>2222</td><td>78.990402</td></tr>\n",
       "\t<tr><td>Below.ground.biomass</td><td>2184</td><td>77.639531</td></tr>\n",
       "\t<tr><td>Corg.stock.50cm     </td><td>2179</td><td>77.461785</td></tr>\n",
       "\t<tr><td>Total.biomass       </td><td>2095</td><td>74.475649</td></tr>\n",
       "\t<tr><td>Above.ground.biomass</td><td>1915</td><td>68.076786</td></tr>\n",
       "\t<tr><td>Corg.stock.30cm     </td><td>1791</td><td>63.668681</td></tr>\n",
       "\t<tr><td>Corg.stock.15cm     </td><td>1193</td><td>42.410238</td></tr>\n",
       "\t<tr><td>Pred.1m.Corg        </td><td>1188</td><td>42.232492</td></tr>\n",
       "\t<tr><td>Dry.Bulk.Density    </td><td> 878</td><td>31.212229</td></tr>\n",
       "\t<tr><td>Pred.30cm.Corg      </td><td> 642</td><td>22.822609</td></tr>\n",
       "\t<tr><td>Corg.stock          </td><td> 463</td><td>16.459296</td></tr>\n",
       "\t<tr><td>Sampling.depth      </td><td> 375</td><td>13.330963</td></tr>\n",
       "\t<tr><td>Latitude            </td><td> 242</td><td> 8.602915</td></tr>\n",
       "\t<tr><td>Publication.year    </td><td> 230</td><td> 8.176324</td></tr>\n",
       "\t<tr><td>row_id              </td><td>   0</td><td> 0.000000</td></tr>\n",
       "</tbody>\n",
       "</table>\n"
      ],
      "text/latex": [
       "A tibble: 31 × 3\n",
       "\\begin{tabular}{lll}\n",
       " col\\_name & cnt & pcnt\\\\\n",
       " <chr> & <int> & <dbl>\\\\\n",
       "\\hline\n",
       "\t Cinorg.stock.100cm   & 2742 & 97.476004\\\\\n",
       "\t Ctot.stock.100cm     & 2733 & 97.156061\\\\\n",
       "\t Ctot.stock.50cm      & 2678 & 95.200853\\\\\n",
       "\t Cinorg.stock.50cm    & 2677 & 95.165304\\\\\n",
       "\t Fraction.mud         & 2662 & 94.632065\\\\\n",
       "\t Porosity             & 2638 & 93.778884\\\\\n",
       "\t Grain.size           & 2614 & 92.925702\\\\\n",
       "\t Corg.stock.100cm     & 2586 & 91.930323\\\\\n",
       "\t OM.content           & 2570 & 91.361536\\\\\n",
       "\t Ctot.stock.30cm      & 2535 & 90.117312\\\\\n",
       "\t Cinorg.stock.30cm    & 2535 & 90.117312\\\\\n",
       "\t Ctot.stock.15cm      & 2483 & 88.268752\\\\\n",
       "\t Cinorg.stock.15cm    & 2483 & 88.268752\\\\\n",
       "\t Ctot.content         & 2278 & 80.981159\\\\\n",
       "\t Cinorg.stock         & 2233 & 79.381443\\\\\n",
       "\t Cinorg.content       & 2227 & 79.168148\\\\\n",
       "\t Ctot.stock           & 2222 & 78.990402\\\\\n",
       "\t Below.ground.biomass & 2184 & 77.639531\\\\\n",
       "\t Corg.stock.50cm      & 2179 & 77.461785\\\\\n",
       "\t Total.biomass        & 2095 & 74.475649\\\\\n",
       "\t Above.ground.biomass & 1915 & 68.076786\\\\\n",
       "\t Corg.stock.30cm      & 1791 & 63.668681\\\\\n",
       "\t Corg.stock.15cm      & 1193 & 42.410238\\\\\n",
       "\t Pred.1m.Corg         & 1188 & 42.232492\\\\\n",
       "\t Dry.Bulk.Density     &  878 & 31.212229\\\\\n",
       "\t Pred.30cm.Corg       &  642 & 22.822609\\\\\n",
       "\t Corg.stock           &  463 & 16.459296\\\\\n",
       "\t Sampling.depth       &  375 & 13.330963\\\\\n",
       "\t Latitude             &  242 &  8.602915\\\\\n",
       "\t Publication.year     &  230 &  8.176324\\\\\n",
       "\t row\\_id               &    0 &  0.000000\\\\\n",
       "\\end{tabular}\n"
      ],
      "text/markdown": [
       "\n",
       "A tibble: 31 × 3\n",
       "\n",
       "| col_name &lt;chr&gt; | cnt &lt;int&gt; | pcnt &lt;dbl&gt; |\n",
       "|---|---|---|\n",
       "| Cinorg.stock.100cm   | 2742 | 97.476004 |\n",
       "| Ctot.stock.100cm     | 2733 | 97.156061 |\n",
       "| Ctot.stock.50cm      | 2678 | 95.200853 |\n",
       "| Cinorg.stock.50cm    | 2677 | 95.165304 |\n",
       "| Fraction.mud         | 2662 | 94.632065 |\n",
       "| Porosity             | 2638 | 93.778884 |\n",
       "| Grain.size           | 2614 | 92.925702 |\n",
       "| Corg.stock.100cm     | 2586 | 91.930323 |\n",
       "| OM.content           | 2570 | 91.361536 |\n",
       "| Ctot.stock.30cm      | 2535 | 90.117312 |\n",
       "| Cinorg.stock.30cm    | 2535 | 90.117312 |\n",
       "| Ctot.stock.15cm      | 2483 | 88.268752 |\n",
       "| Cinorg.stock.15cm    | 2483 | 88.268752 |\n",
       "| Ctot.content         | 2278 | 80.981159 |\n",
       "| Cinorg.stock         | 2233 | 79.381443 |\n",
       "| Cinorg.content       | 2227 | 79.168148 |\n",
       "| Ctot.stock           | 2222 | 78.990402 |\n",
       "| Below.ground.biomass | 2184 | 77.639531 |\n",
       "| Corg.stock.50cm      | 2179 | 77.461785 |\n",
       "| Total.biomass        | 2095 | 74.475649 |\n",
       "| Above.ground.biomass | 1915 | 68.076786 |\n",
       "| Corg.stock.30cm      | 1791 | 63.668681 |\n",
       "| Corg.stock.15cm      | 1193 | 42.410238 |\n",
       "| Pred.1m.Corg         | 1188 | 42.232492 |\n",
       "| Dry.Bulk.Density     |  878 | 31.212229 |\n",
       "| Pred.30cm.Corg       |  642 | 22.822609 |\n",
       "| Corg.stock           |  463 | 16.459296 |\n",
       "| Sampling.depth       |  375 | 13.330963 |\n",
       "| Latitude             |  242 |  8.602915 |\n",
       "| Publication.year     |  230 |  8.176324 |\n",
       "| row_id               |    0 |  0.000000 |\n",
       "\n"
      ],
      "text/plain": [
       "   col_name             cnt  pcnt     \n",
       "1  Cinorg.stock.100cm   2742 97.476004\n",
       "2  Ctot.stock.100cm     2733 97.156061\n",
       "3  Ctot.stock.50cm      2678 95.200853\n",
       "4  Cinorg.stock.50cm    2677 95.165304\n",
       "5  Fraction.mud         2662 94.632065\n",
       "6  Porosity             2638 93.778884\n",
       "7  Grain.size           2614 92.925702\n",
       "8  Corg.stock.100cm     2586 91.930323\n",
       "9  OM.content           2570 91.361536\n",
       "10 Ctot.stock.30cm      2535 90.117312\n",
       "11 Cinorg.stock.30cm    2535 90.117312\n",
       "12 Ctot.stock.15cm      2483 88.268752\n",
       "13 Cinorg.stock.15cm    2483 88.268752\n",
       "14 Ctot.content         2278 80.981159\n",
       "15 Cinorg.stock         2233 79.381443\n",
       "16 Cinorg.content       2227 79.168148\n",
       "17 Ctot.stock           2222 78.990402\n",
       "18 Below.ground.biomass 2184 77.639531\n",
       "19 Corg.stock.50cm      2179 77.461785\n",
       "20 Total.biomass        2095 74.475649\n",
       "21 Above.ground.biomass 1915 68.076786\n",
       "22 Corg.stock.30cm      1791 63.668681\n",
       "23 Corg.stock.15cm      1193 42.410238\n",
       "24 Pred.1m.Corg         1188 42.232492\n",
       "25 Dry.Bulk.Density      878 31.212229\n",
       "26 Pred.30cm.Corg        642 22.822609\n",
       "27 Corg.stock            463 16.459296\n",
       "28 Sampling.depth        375 13.330963\n",
       "29 Latitude              242  8.602915\n",
       "30 Publication.year      230  8.176324\n",
       "31 row_id                  0  0.000000"
      ]
     },
     "metadata": {},
     "output_type": "display_data"
    }
   ],
   "source": [
    "Krause_database |>\n",
    "dplyr::select(where(is.numeric)) |>\n",
    "inspectdf::inspect_na()"
   ]
  },
  {
   "cell_type": "code",
   "execution_count": 9,
   "id": "815eaf80-4c7c-4d01-8739-3ee1ec7ac182",
   "metadata": {},
   "outputs": [],
   "source": [
    "Corg_stock_30cm <- Krause_database |> dplyr::filter(!is.na(Corg.stock.30cm))\n",
    "Corg_stock_15cm <- Krause_database |> dplyr::filter(!is.na(Corg.stock.15cm))"
   ]
  },
  {
   "cell_type": "code",
   "execution_count": 10,
   "id": "00d511c9-764b-4a88-b3db-997b54c5eed6",
   "metadata": {},
   "outputs": [
    {
     "data": {
      "text/html": [
       "<table class=\"dataframe\">\n",
       "<caption>A tibble: 7 × 2</caption>\n",
       "<thead>\n",
       "\t<tr><th scope=col>Seagrass.bioregion</th><th scope=col>total_cores</th></tr>\n",
       "\t<tr><th scope=col>&lt;chr&gt;</th><th scope=col>&lt;int&gt;</th></tr>\n",
       "</thead>\n",
       "<tbody>\n",
       "\t<tr><td>Mediterranean            </td><td>282</td></tr>\n",
       "\t<tr><td>Temperate North Atlantic </td><td>437</td></tr>\n",
       "\t<tr><td>Temperate North Pacific  </td><td> 92</td></tr>\n",
       "\t<tr><td>Temperate Southern Oceans</td><td>518</td></tr>\n",
       "\t<tr><td>Tropical Atlantic        </td><td>352</td></tr>\n",
       "\t<tr><td>Tropical Indo-Pacific    </td><td>765</td></tr>\n",
       "\t<tr><td>Unspecified              </td><td>367</td></tr>\n",
       "</tbody>\n",
       "</table>\n"
      ],
      "text/latex": [
       "A tibble: 7 × 2\n",
       "\\begin{tabular}{ll}\n",
       " Seagrass.bioregion & total\\_cores\\\\\n",
       " <chr> & <int>\\\\\n",
       "\\hline\n",
       "\t Mediterranean             & 282\\\\\n",
       "\t Temperate North Atlantic  & 437\\\\\n",
       "\t Temperate North Pacific   &  92\\\\\n",
       "\t Temperate Southern Oceans & 518\\\\\n",
       "\t Tropical Atlantic         & 352\\\\\n",
       "\t Tropical Indo-Pacific     & 765\\\\\n",
       "\t Unspecified               & 367\\\\\n",
       "\\end{tabular}\n"
      ],
      "text/markdown": [
       "\n",
       "A tibble: 7 × 2\n",
       "\n",
       "| Seagrass.bioregion &lt;chr&gt; | total_cores &lt;int&gt; |\n",
       "|---|---|\n",
       "| Mediterranean             | 282 |\n",
       "| Temperate North Atlantic  | 437 |\n",
       "| Temperate North Pacific   |  92 |\n",
       "| Temperate Southern Oceans | 518 |\n",
       "| Tropical Atlantic         | 352 |\n",
       "| Tropical Indo-Pacific     | 765 |\n",
       "| Unspecified               | 367 |\n",
       "\n"
      ],
      "text/plain": [
       "  Seagrass.bioregion        total_cores\n",
       "1 Mediterranean             282        \n",
       "2 Temperate North Atlantic  437        \n",
       "3 Temperate North Pacific    92        \n",
       "4 Temperate Southern Oceans 518        \n",
       "5 Tropical Atlantic         352        \n",
       "6 Tropical Indo-Pacific     765        \n",
       "7 Unspecified               367        "
      ]
     },
     "metadata": {},
     "output_type": "display_data"
    }
   ],
   "source": [
    "(Krause_regions <- Krause_database |>\n",
    "                   dplyr::mutate(across(where(is.character), ~ ifelse(. == \"\", \"Unspecified\", .))) |>\n",
    "                   dplyr::group_by(Seagrass.bioregion) |>\n",
    "                   dplyr::summarise(total_cores = n()) \n",
    ")"
   ]
  },
  {
   "cell_type": "code",
   "execution_count": 11,
   "id": "1be7c5cd-7e7a-458b-ba64-27c87a2b8326",
   "metadata": {},
   "outputs": [
    {
     "data": {
      "text/html": [
       "<table class=\"dataframe\">\n",
       "<caption>A tibble: 5 × 2</caption>\n",
       "<thead>\n",
       "\t<tr><th scope=col>Country</th><th scope=col>total_cores</th></tr>\n",
       "\t<tr><th scope=col>&lt;chr&gt;</th><th scope=col>&lt;int&gt;</th></tr>\n",
       "</thead>\n",
       "<tbody>\n",
       "\t<tr><td>Australia   </td><td>439</td></tr>\n",
       "\t<tr><td>Brazil      </td><td> 34</td></tr>\n",
       "\t<tr><td>Chile       </td><td>  3</td></tr>\n",
       "\t<tr><td>New Zealand </td><td>  3</td></tr>\n",
       "\t<tr><td>South Africa</td><td> 39</td></tr>\n",
       "</tbody>\n",
       "</table>\n"
      ],
      "text/latex": [
       "A tibble: 5 × 2\n",
       "\\begin{tabular}{ll}\n",
       " Country & total\\_cores\\\\\n",
       " <chr> & <int>\\\\\n",
       "\\hline\n",
       "\t Australia    & 439\\\\\n",
       "\t Brazil       &  34\\\\\n",
       "\t Chile        &   3\\\\\n",
       "\t New Zealand  &   3\\\\\n",
       "\t South Africa &  39\\\\\n",
       "\\end{tabular}\n"
      ],
      "text/markdown": [
       "\n",
       "A tibble: 5 × 2\n",
       "\n",
       "| Country &lt;chr&gt; | total_cores &lt;int&gt; |\n",
       "|---|---|\n",
       "| Australia    | 439 |\n",
       "| Brazil       |  34 |\n",
       "| Chile        |   3 |\n",
       "| New Zealand  |   3 |\n",
       "| South Africa |  39 |\n",
       "\n"
      ],
      "text/plain": [
       "  Country      total_cores\n",
       "1 Australia    439        \n",
       "2 Brazil        34        \n",
       "3 Chile          3        \n",
       "4 New Zealand    3        \n",
       "5 South Africa  39        "
      ]
     },
     "metadata": {},
     "output_type": "display_data"
    }
   ],
   "source": [
    "Krause_database |>\n",
    "dplyr::filter(Seagrass.bioregion == \"Temperate Southern Oceans\") |>\n",
    "dplyr::mutate(across(where(is.character), ~ ifelse(. == \"\", \"Unspecified\", .))) |>\n",
    "dplyr::group_by(Country) |>\n",
    "dplyr::summarise(total_cores = n())"
   ]
  },
  {
   "cell_type": "code",
   "execution_count": 12,
   "id": "e043d34f-4046-4a7b-b7c6-76bf71612bdb",
   "metadata": {},
   "outputs": [
    {
     "data": {
      "text/html": [
       "<table class=\"dataframe\">\n",
       "<caption>A data.frame: 16 × 3</caption>\n",
       "<thead>\n",
       "\t<tr><th scope=col>ï..Article.ID</th><th scope=col>Study.site</th><th scope=col>n</th></tr>\n",
       "\t<tr><th scope=col>&lt;chr&gt;</th><th scope=col>&lt;chr&gt;</th><th scope=col>&lt;int&gt;</th></tr>\n",
       "</thead>\n",
       "<tbody>\n",
       "\t<tr><td>CC_006 </td><td>                               </td><td> 1</td></tr>\n",
       "\t<tr><td>CC_006 </td><td>Various South African estuaries</td><td> 1</td></tr>\n",
       "\t<tr><td>JF_171 </td><td>Berg lower                     </td><td> 1</td></tr>\n",
       "\t<tr><td>JF_171 </td><td>Berg upper                     </td><td> 1</td></tr>\n",
       "\t<tr><td>JF_171 </td><td>Breede upper                   </td><td> 1</td></tr>\n",
       "\t<tr><td>JK_185 </td><td>Berg                           </td><td> 2</td></tr>\n",
       "\t<tr><td>JK_185 </td><td>Breede                         </td><td> 2</td></tr>\n",
       "\t<tr><td>JK_185 </td><td>Knysna                         </td><td> 2</td></tr>\n",
       "\t<tr><td>JK_185 </td><td>Mngazana                       </td><td> 2</td></tr>\n",
       "\t<tr><td>JK_185 </td><td>Olifants                       </td><td> 2</td></tr>\n",
       "\t<tr><td>JK_185 </td><td>Swartkops                      </td><td> 2</td></tr>\n",
       "\t<tr><td>JK_187 </td><td>Knysna                         </td><td> 1</td></tr>\n",
       "\t<tr><td>JK_187 </td><td>Nxaxo                          </td><td> 1</td></tr>\n",
       "\t<tr><td>JK_187 </td><td>Swartkops                      </td><td> 1</td></tr>\n",
       "\t<tr><td>JK_194 </td><td>Swartkops                      </td><td> 6</td></tr>\n",
       "\t<tr><td>LKE_067</td><td>Swartkops Estuary, Gqeberha    </td><td>15</td></tr>\n",
       "</tbody>\n",
       "</table>\n"
      ],
      "text/latex": [
       "A data.frame: 16 × 3\n",
       "\\begin{tabular}{lll}\n",
       " ï..Article.ID & Study.site & n\\\\\n",
       " <chr> & <chr> & <int>\\\\\n",
       "\\hline\n",
       "\t CC\\_006  &                                 &  1\\\\\n",
       "\t CC\\_006  & Various South African estuaries &  1\\\\\n",
       "\t JF\\_171  & Berg lower                      &  1\\\\\n",
       "\t JF\\_171  & Berg upper                      &  1\\\\\n",
       "\t JF\\_171  & Breede upper                    &  1\\\\\n",
       "\t JK\\_185  & Berg                            &  2\\\\\n",
       "\t JK\\_185  & Breede                          &  2\\\\\n",
       "\t JK\\_185  & Knysna                          &  2\\\\\n",
       "\t JK\\_185  & Mngazana                        &  2\\\\\n",
       "\t JK\\_185  & Olifants                        &  2\\\\\n",
       "\t JK\\_185  & Swartkops                       &  2\\\\\n",
       "\t JK\\_187  & Knysna                          &  1\\\\\n",
       "\t JK\\_187  & Nxaxo                           &  1\\\\\n",
       "\t JK\\_187  & Swartkops                       &  1\\\\\n",
       "\t JK\\_194  & Swartkops                       &  6\\\\\n",
       "\t LKE\\_067 & Swartkops Estuary, Gqeberha     & 15\\\\\n",
       "\\end{tabular}\n"
      ],
      "text/markdown": [
       "\n",
       "A data.frame: 16 × 3\n",
       "\n",
       "| ï..Article.ID &lt;chr&gt; | Study.site &lt;chr&gt; | n &lt;int&gt; |\n",
       "|---|---|---|\n",
       "| CC_006  | <!----> |  1 |\n",
       "| CC_006  | Various South African estuaries |  1 |\n",
       "| JF_171  | Berg lower                      |  1 |\n",
       "| JF_171  | Berg upper                      |  1 |\n",
       "| JF_171  | Breede upper                    |  1 |\n",
       "| JK_185  | Berg                            |  2 |\n",
       "| JK_185  | Breede                          |  2 |\n",
       "| JK_185  | Knysna                          |  2 |\n",
       "| JK_185  | Mngazana                        |  2 |\n",
       "| JK_185  | Olifants                        |  2 |\n",
       "| JK_185  | Swartkops                       |  2 |\n",
       "| JK_187  | Knysna                          |  1 |\n",
       "| JK_187  | Nxaxo                           |  1 |\n",
       "| JK_187  | Swartkops                       |  1 |\n",
       "| JK_194  | Swartkops                       |  6 |\n",
       "| LKE_067 | Swartkops Estuary, Gqeberha     | 15 |\n",
       "\n"
      ],
      "text/plain": [
       "   ï..Article.ID Study.site                      n \n",
       "1  CC_006                                         1\n",
       "2  CC_006        Various South African estuaries  1\n",
       "3  JF_171        Berg lower                       1\n",
       "4  JF_171        Berg upper                       1\n",
       "5  JF_171        Breede upper                     1\n",
       "6  JK_185        Berg                             2\n",
       "7  JK_185        Breede                           2\n",
       "8  JK_185        Knysna                           2\n",
       "9  JK_185        Mngazana                         2\n",
       "10 JK_185        Olifants                         2\n",
       "11 JK_185        Swartkops                        2\n",
       "12 JK_187        Knysna                           1\n",
       "13 JK_187        Nxaxo                            1\n",
       "14 JK_187        Swartkops                        1\n",
       "15 JK_194        Swartkops                        6\n",
       "16 LKE_067       Swartkops Estuary, Gqeberha     15"
      ]
     },
     "metadata": {},
     "output_type": "display_data"
    }
   ],
   "source": [
    "Krause_database |>\n",
    "dplyr::filter(Country == \"South Africa\") |>\n",
    "dplyr::select(1:3) |> count(ï..Article.ID, Study.site)"
   ]
  },
  {
   "cell_type": "code",
   "execution_count": 13,
   "id": "2344ef4b-3afe-4b9d-bce7-b5a3fe060aef",
   "metadata": {},
   "outputs": [
    {
     "data": {
      "text/html": [
       "<style>\n",
       ".list-inline {list-style: none; margin:0; padding: 0}\n",
       ".list-inline>li {display: inline-block}\n",
       ".list-inline>li:not(:last-child)::after {content: \"\\00b7\"; padding: 0 .5ex}\n",
       "</style>\n",
       "<ol class=list-inline><li>2813</li><li>47</li></ol>\n"
      ],
      "text/latex": [
       "\\begin{enumerate*}\n",
       "\\item 2813\n",
       "\\item 47\n",
       "\\end{enumerate*}\n"
      ],
      "text/markdown": [
       "1. 2813\n",
       "2. 47\n",
       "\n",
       "\n"
      ],
      "text/plain": [
       "[1] 2813   47"
      ]
     },
     "metadata": {},
     "output_type": "display_data"
    }
   ],
   "source": [
    "dim(Krause_database)"
   ]
  },
  {
   "cell_type": "code",
   "execution_count": 14,
   "id": "0dde36f8-0363-4434-bbaf-bb2ac9b02990",
   "metadata": {},
   "outputs": [
    {
     "data": {
      "text/html": [
       "<table class=\"dataframe\">\n",
       "<caption>A data.frame: 7 × 3</caption>\n",
       "<thead>\n",
       "\t<tr><th scope=col>Seagrass.bioregion</th><th scope=col>n</th><th scope=col>Percent</th></tr>\n",
       "\t<tr><th scope=col>&lt;chr&gt;</th><th scope=col>&lt;int&gt;</th><th scope=col>&lt;dbl&gt;</th></tr>\n",
       "</thead>\n",
       "<tbody>\n",
       "\t<tr><td>Mediterranean            </td><td>282</td><td>10.02488</td></tr>\n",
       "\t<tr><td>Temperate North Atlantic </td><td>437</td><td>15.53502</td></tr>\n",
       "\t<tr><td>Temperate North Pacific  </td><td> 92</td><td> 3.27053</td></tr>\n",
       "\t<tr><td>Temperate Southern Oceans</td><td>518</td><td>18.41450</td></tr>\n",
       "\t<tr><td>Tropical Atlantic        </td><td>352</td><td>12.51333</td></tr>\n",
       "\t<tr><td>Tropical Indo-Pacific    </td><td>765</td><td>27.19517</td></tr>\n",
       "\t<tr><td>Unassigned               </td><td>367</td><td>13.04657</td></tr>\n",
       "</tbody>\n",
       "</table>\n"
      ],
      "text/latex": [
       "A data.frame: 7 × 3\n",
       "\\begin{tabular}{lll}\n",
       " Seagrass.bioregion & n & Percent\\\\\n",
       " <chr> & <int> & <dbl>\\\\\n",
       "\\hline\n",
       "\t Mediterranean             & 282 & 10.02488\\\\\n",
       "\t Temperate North Atlantic  & 437 & 15.53502\\\\\n",
       "\t Temperate North Pacific   &  92 &  3.27053\\\\\n",
       "\t Temperate Southern Oceans & 518 & 18.41450\\\\\n",
       "\t Tropical Atlantic         & 352 & 12.51333\\\\\n",
       "\t Tropical Indo-Pacific     & 765 & 27.19517\\\\\n",
       "\t Unassigned                & 367 & 13.04657\\\\\n",
       "\\end{tabular}\n"
      ],
      "text/markdown": [
       "\n",
       "A data.frame: 7 × 3\n",
       "\n",
       "| Seagrass.bioregion &lt;chr&gt; | n &lt;int&gt; | Percent &lt;dbl&gt; |\n",
       "|---|---|---|\n",
       "| Mediterranean             | 282 | 10.02488 |\n",
       "| Temperate North Atlantic  | 437 | 15.53502 |\n",
       "| Temperate North Pacific   |  92 |  3.27053 |\n",
       "| Temperate Southern Oceans | 518 | 18.41450 |\n",
       "| Tropical Atlantic         | 352 | 12.51333 |\n",
       "| Tropical Indo-Pacific     | 765 | 27.19517 |\n",
       "| Unassigned                | 367 | 13.04657 |\n",
       "\n"
      ],
      "text/plain": [
       "  Seagrass.bioregion        n   Percent \n",
       "1 Mediterranean             282 10.02488\n",
       "2 Temperate North Atlantic  437 15.53502\n",
       "3 Temperate North Pacific    92  3.27053\n",
       "4 Temperate Southern Oceans 518 18.41450\n",
       "5 Tropical Atlantic         352 12.51333\n",
       "6 Tropical Indo-Pacific     765 27.19517\n",
       "7 Unassigned                367 13.04657"
      ]
     },
     "metadata": {},
     "output_type": "display_data"
    },
    {
     "name": "stderr",
     "output_type": "stream",
     "text": [
      "\u001b[1m\u001b[22mSaving 6.67 x 6.67 in image\n"
     ]
    },
    {
     "data": {
      "image/png": "[encoded data removed]",
      "text/plain": [
       "plot without title"
      ]
     },
     "metadata": {
      "image/png": {
       "height": 420,
       "width": 420
      }
     },
     "output_type": "display_data"
    }
   ],
   "source": [
    "# Prepare data\n",
    "(cat_data <- Krause_database %>%\n",
    "             dplyr::mutate(Seagrass.bioregion = if_else(Seagrass.bioregion == \"\", \"Unassigned\", Seagrass.bioregion)) |>\n",
    "             dplyr::count(Seagrass.bioregion) |>\n",
    "             dplyr::mutate(Percent = n / sum(n) * 100))\n",
    "\n",
    "# Tree map\n",
    "tree_map <- ggplot(cat_data, aes(\n",
    "                  area = Percent,\n",
    "                  fill = Seagrass.bioregion,\n",
    "                  label = paste0(Seagrass.bioregion, \"\\n\", sprintf(\"%.1f%%\", Percent)))) +\n",
    "              geom_treemap() +\n",
    "              geom_treemap_text(\n",
    "                color = \"white\",\n",
    "                place = \"centre\",\n",
    "                grow = FALSE,\n",
    "                reflow = TRUE) +\n",
    "              theme_minimal() + theme(legend.position = \"none\") +\n",
    "              ggsci::scale_fill_flatui()\n",
    "\n",
    "tree_map\n",
    "ggsave(\"../plots/Krause_represation.pdf\")"
   ]
  },
  {
   "cell_type": "code",
   "execution_count": 15,
   "id": "8d8df4ca-5ec6-41b8-9a73-f6c99787bc63",
   "metadata": {},
   "outputs": [
    {
     "data": {
      "text/html": [
       "<table class=\"dataframe\">\n",
       "<caption>A data.frame: 6 × 8</caption>\n",
       "<thead>\n",
       "\t<tr><th></th><th scope=col>Country</th><th scope=col>Seagrass.genus</th><th scope=col>Seagrass.species</th><th scope=col>data_type</th><th scope=col>Corg.stock.15cm</th><th scope=col>Corg.stock.30cm</th><th scope=col>Corg.stock.50cm</th><th scope=col>Corg.stock.100cm</th></tr>\n",
       "\t<tr><th></th><th scope=col>&lt;chr&gt;</th><th scope=col>&lt;chr&gt;</th><th scope=col>&lt;chr&gt;</th><th scope=col>&lt;chr&gt;</th><th scope=col>&lt;dbl&gt;</th><th scope=col>&lt;dbl&gt;</th><th scope=col>&lt;dbl&gt;</th><th scope=col>&lt;dbl&gt;</th></tr>\n",
       "</thead>\n",
       "<tbody>\n",
       "\t<tr><th scope=row>1</th><td>Australia</td><td>Halophila sp.</td><td>Halophila sp.</td><td>Measured 30cm</td><td> 2.9567740</td><td> 6.291705</td><td>       NA</td><td>NA</td></tr>\n",
       "\t<tr><th scope=row>2</th><td>Australia</td><td>Halophila sp.</td><td>Halophila sp.</td><td>Measured 30cm</td><td> 0.8673796</td><td> 1.879624</td><td>       NA</td><td>NA</td></tr>\n",
       "\t<tr><th scope=row>3</th><td>Australia</td><td>Halophila sp.</td><td>Halophila sp.</td><td>Measured 30cm</td><td> 3.2429723</td><td> 5.137794</td><td> 7.426768</td><td>NA</td></tr>\n",
       "\t<tr><th scope=row>4</th><td>Australia</td><td>Halophila sp.</td><td>Halophila sp.</td><td>Measured 30cm</td><td> 2.9845344</td><td> 5.258088</td><td> 8.110421</td><td>NA</td></tr>\n",
       "\t<tr><th scope=row>5</th><td>Australia</td><td>Halophila sp.</td><td>Halophila sp.</td><td>Measured 30cm</td><td> 4.8648503</td><td> 6.810484</td><td>       NA</td><td>NA</td></tr>\n",
       "\t<tr><th scope=row>6</th><td>Australia</td><td>Halophila sp.</td><td>Halophila sp.</td><td>Measured 30cm</td><td>13.4128988</td><td>31.559847</td><td>56.192225</td><td>NA</td></tr>\n",
       "</tbody>\n",
       "</table>\n"
      ],
      "text/latex": [
       "A data.frame: 6 × 8\n",
       "\\begin{tabular}{r|llllllll}\n",
       "  & Country & Seagrass.genus & Seagrass.species & data\\_type & Corg.stock.15cm & Corg.stock.30cm & Corg.stock.50cm & Corg.stock.100cm\\\\\n",
       "  & <chr> & <chr> & <chr> & <chr> & <dbl> & <dbl> & <dbl> & <dbl>\\\\\n",
       "\\hline\n",
       "\t1 & Australia & Halophila sp. & Halophila sp. & Measured 30cm &  2.9567740 &  6.291705 &        NA & NA\\\\\n",
       "\t2 & Australia & Halophila sp. & Halophila sp. & Measured 30cm &  0.8673796 &  1.879624 &        NA & NA\\\\\n",
       "\t3 & Australia & Halophila sp. & Halophila sp. & Measured 30cm &  3.2429723 &  5.137794 &  7.426768 & NA\\\\\n",
       "\t4 & Australia & Halophila sp. & Halophila sp. & Measured 30cm &  2.9845344 &  5.258088 &  8.110421 & NA\\\\\n",
       "\t5 & Australia & Halophila sp. & Halophila sp. & Measured 30cm &  4.8648503 &  6.810484 &        NA & NA\\\\\n",
       "\t6 & Australia & Halophila sp. & Halophila sp. & Measured 30cm & 13.4128988 & 31.559847 & 56.192225 & NA\\\\\n",
       "\\end{tabular}\n"
      ],
      "text/markdown": [
       "\n",
       "A data.frame: 6 × 8\n",
       "\n",
       "| <!--/--> | Country &lt;chr&gt; | Seagrass.genus &lt;chr&gt; | Seagrass.species &lt;chr&gt; | data_type &lt;chr&gt; | Corg.stock.15cm &lt;dbl&gt; | Corg.stock.30cm &lt;dbl&gt; | Corg.stock.50cm &lt;dbl&gt; | Corg.stock.100cm &lt;dbl&gt; |\n",
       "|---|---|---|---|---|---|---|---|---|\n",
       "| 1 | Australia | Halophila sp. | Halophila sp. | Measured 30cm |  2.9567740 |  6.291705 |        NA | NA |\n",
       "| 2 | Australia | Halophila sp. | Halophila sp. | Measured 30cm |  0.8673796 |  1.879624 |        NA | NA |\n",
       "| 3 | Australia | Halophila sp. | Halophila sp. | Measured 30cm |  3.2429723 |  5.137794 |  7.426768 | NA |\n",
       "| 4 | Australia | Halophila sp. | Halophila sp. | Measured 30cm |  2.9845344 |  5.258088 |  8.110421 | NA |\n",
       "| 5 | Australia | Halophila sp. | Halophila sp. | Measured 30cm |  4.8648503 |  6.810484 |        NA | NA |\n",
       "| 6 | Australia | Halophila sp. | Halophila sp. | Measured 30cm | 13.4128988 | 31.559847 | 56.192225 | NA |\n",
       "\n"
      ],
      "text/plain": [
       "  Country   Seagrass.genus Seagrass.species data_type     Corg.stock.15cm\n",
       "1 Australia Halophila sp.  Halophila sp.    Measured 30cm  2.9567740     \n",
       "2 Australia Halophila sp.  Halophila sp.    Measured 30cm  0.8673796     \n",
       "3 Australia Halophila sp.  Halophila sp.    Measured 30cm  3.2429723     \n",
       "4 Australia Halophila sp.  Halophila sp.    Measured 30cm  2.9845344     \n",
       "5 Australia Halophila sp.  Halophila sp.    Measured 30cm  4.8648503     \n",
       "6 Australia Halophila sp.  Halophila sp.    Measured 30cm 13.4128988     \n",
       "  Corg.stock.30cm Corg.stock.50cm Corg.stock.100cm\n",
       "1  6.291705              NA       NA              \n",
       "2  1.879624              NA       NA              \n",
       "3  5.137794        7.426768       NA              \n",
       "4  5.258088        8.110421       NA              \n",
       "5  6.810484              NA       NA              \n",
       "6 31.559847       56.192225       NA              "
      ]
     },
     "metadata": {},
     "output_type": "display_data"
    }
   ],
   "source": [
    "(south_ocean <-  Krause_database |>\n",
    "                 dplyr::filter(Seagrass.bioregion == \"Temperate Southern Oceans\") |>\n",
    "                 dplyr::select(Country, Seagrass.genus, Seagrass.species, data_type, matches(\"Corg.stock\")) |>\n",
    "                 dplyr::filter(Country != \"New Zealand\") |>\n",
    "                 dplyr::select(-Corg.stock) \n",
    ") |>  head()"
   ]
  },
  {
   "cell_type": "code",
   "execution_count": 16,
   "id": "41209713-5bf6-4b8b-b90c-f46f3e5f6bf4",
   "metadata": {},
   "outputs": [
    {
     "data": {
      "text/html": [
       "<table class=\"dataframe\">\n",
       "<caption>A data.frame: 4 × 3</caption>\n",
       "<thead>\n",
       "\t<tr><th scope=col>Country</th><th scope=col>Freq</th><th scope=col>Perc</th></tr>\n",
       "\t<tr><th scope=col>&lt;fct&gt;</th><th scope=col>&lt;int&gt;</th><th scope=col>&lt;dbl&gt;</th></tr>\n",
       "</thead>\n",
       "<tbody>\n",
       "\t<tr><td>Australia   </td><td>439</td><td>85.2427184</td></tr>\n",
       "\t<tr><td>Brazil      </td><td> 34</td><td> 6.6019417</td></tr>\n",
       "\t<tr><td>Chile       </td><td>  3</td><td> 0.5825243</td></tr>\n",
       "\t<tr><td>South Africa</td><td> 39</td><td> 7.5728155</td></tr>\n",
       "</tbody>\n",
       "</table>\n"
      ],
      "text/latex": [
       "A data.frame: 4 × 3\n",
       "\\begin{tabular}{lll}\n",
       " Country & Freq & Perc\\\\\n",
       " <fct> & <int> & <dbl>\\\\\n",
       "\\hline\n",
       "\t Australia    & 439 & 85.2427184\\\\\n",
       "\t Brazil       &  34 &  6.6019417\\\\\n",
       "\t Chile        &   3 &  0.5825243\\\\\n",
       "\t South Africa &  39 &  7.5728155\\\\\n",
       "\\end{tabular}\n"
      ],
      "text/markdown": [
       "\n",
       "A data.frame: 4 × 3\n",
       "\n",
       "| Country &lt;fct&gt; | Freq &lt;int&gt; | Perc &lt;dbl&gt; |\n",
       "|---|---|---|\n",
       "| Australia    | 439 | 85.2427184 |\n",
       "| Brazil       |  34 |  6.6019417 |\n",
       "| Chile        |   3 |  0.5825243 |\n",
       "| South Africa |  39 |  7.5728155 |\n",
       "\n"
      ],
      "text/plain": [
       "  Country      Freq Perc      \n",
       "1 Australia    439  85.2427184\n",
       "2 Brazil        34   6.6019417\n",
       "3 Chile          3   0.5825243\n",
       "4 South Africa  39   7.5728155"
      ]
     },
     "metadata": {},
     "output_type": "display_data"
    }
   ],
   "source": [
    "xtabs(~Country, data = south_ocean) |> \n",
    "data.frame() |>\n",
    "mutate(Perc = 100*(Freq/(sum(Freq))))"
   ]
  },
  {
   "cell_type": "code",
   "execution_count": 17,
   "id": "cd98a922-56d6-4790-ad01-40e6602a3038",
   "metadata": {},
   "outputs": [
    {
     "data": {
      "text/html": [
       "<table class=\"dataframe\">\n",
       "<caption>A tibble: 4 × 8</caption>\n",
       "<thead>\n",
       "\t<tr><th scope=col>Country</th><th scope=col>NA_Seagrass.genus</th><th scope=col>NA_Seagrass.species</th><th scope=col>NA_data_type</th><th scope=col>NA_Corg.stock.15cm</th><th scope=col>NA_Corg.stock.30cm</th><th scope=col>NA_Corg.stock.50cm</th><th scope=col>NA_Corg.stock.100cm</th></tr>\n",
       "\t<tr><th scope=col>&lt;chr&gt;</th><th scope=col>&lt;int&gt;</th><th scope=col>&lt;int&gt;</th><th scope=col>&lt;int&gt;</th><th scope=col>&lt;int&gt;</th><th scope=col>&lt;int&gt;</th><th scope=col>&lt;int&gt;</th><th scope=col>&lt;int&gt;</th></tr>\n",
       "</thead>\n",
       "<tbody>\n",
       "\t<tr><td>Australia   </td><td>439</td><td>439</td><td>439</td><td>311</td><td>276</td><td>128</td><td>8</td></tr>\n",
       "\t<tr><td>Brazil      </td><td> 34</td><td> 34</td><td> 34</td><td> 34</td><td> 24</td><td> 23</td><td>1</td></tr>\n",
       "\t<tr><td>Chile       </td><td>  3</td><td>  3</td><td>  3</td><td>  1</td><td>  0</td><td>  0</td><td>0</td></tr>\n",
       "\t<tr><td>South Africa</td><td> 39</td><td> 39</td><td> 39</td><td> 35</td><td> 35</td><td> 35</td><td>9</td></tr>\n",
       "</tbody>\n",
       "</table>\n"
      ],
      "text/latex": [
       "A tibble: 4 × 8\n",
       "\\begin{tabular}{llllllll}\n",
       " Country & NA\\_Seagrass.genus & NA\\_Seagrass.species & NA\\_data\\_type & NA\\_Corg.stock.15cm & NA\\_Corg.stock.30cm & NA\\_Corg.stock.50cm & NA\\_Corg.stock.100cm\\\\\n",
       " <chr> & <int> & <int> & <int> & <int> & <int> & <int> & <int>\\\\\n",
       "\\hline\n",
       "\t Australia    & 439 & 439 & 439 & 311 & 276 & 128 & 8\\\\\n",
       "\t Brazil       &  34 &  34 &  34 &  34 &  24 &  23 & 1\\\\\n",
       "\t Chile        &   3 &   3 &   3 &   1 &   0 &   0 & 0\\\\\n",
       "\t South Africa &  39 &  39 &  39 &  35 &  35 &  35 & 9\\\\\n",
       "\\end{tabular}\n"
      ],
      "text/markdown": [
       "\n",
       "A tibble: 4 × 8\n",
       "\n",
       "| Country &lt;chr&gt; | NA_Seagrass.genus &lt;int&gt; | NA_Seagrass.species &lt;int&gt; | NA_data_type &lt;int&gt; | NA_Corg.stock.15cm &lt;int&gt; | NA_Corg.stock.30cm &lt;int&gt; | NA_Corg.stock.50cm &lt;int&gt; | NA_Corg.stock.100cm &lt;int&gt; |\n",
       "|---|---|---|---|---|---|---|---|\n",
       "| Australia    | 439 | 439 | 439 | 311 | 276 | 128 | 8 |\n",
       "| Brazil       |  34 |  34 |  34 |  34 |  24 |  23 | 1 |\n",
       "| Chile        |   3 |   3 |   3 |   1 |   0 |   0 | 0 |\n",
       "| South Africa |  39 |  39 |  39 |  35 |  35 |  35 | 9 |\n",
       "\n"
      ],
      "text/plain": [
       "  Country      NA_Seagrass.genus NA_Seagrass.species NA_data_type\n",
       "1 Australia    439               439                 439         \n",
       "2 Brazil        34                34                  34         \n",
       "3 Chile          3                 3                   3         \n",
       "4 South Africa  39                39                  39         \n",
       "  NA_Corg.stock.15cm NA_Corg.stock.30cm NA_Corg.stock.50cm NA_Corg.stock.100cm\n",
       "1 311                276                128                8                  \n",
       "2  34                 24                 23                1                  \n",
       "3   1                  0                  0                0                  \n",
       "4  35                 35                 35                9                  "
      ]
     },
     "metadata": {},
     "output_type": "display_data"
    }
   ],
   "source": [
    "south_ocean |>\n",
    "group_by(Country) |>\n",
    "summarise(across(everything(), ~sum(!is.na(.)), .names = \"NA_{.col}\"))"
   ]
  },
  {
   "cell_type": "code",
   "execution_count": 18,
   "id": "bcf05459-cdd7-4668-8e63-0384a97a286c",
   "metadata": {},
   "outputs": [
    {
     "name": "stdout",
     "output_type": "stream",
     "text": [
      "'data.frame':\t515 obs. of  8 variables:\n",
      " $ Country         : chr  \"Australia\" \"Australia\" \"Australia\" \"Australia\" ...\n",
      " $ Seagrass.genus  : chr  \"Halophila sp.\" \"Halophila sp.\" \"Halophila sp.\" \"Halophila sp.\" ...\n",
      " $ Seagrass.species: chr  \"Halophila sp.\" \"Halophila sp.\" \"Halophila sp.\" \"Halophila sp.\" ...\n",
      " $ data_type       : chr  \"Measured 30cm\" \"Measured 30cm\" \"Measured 30cm\" \"Measured 30cm\" ...\n",
      " $ Corg.stock.15cm : num  2.957 0.867 3.243 2.985 4.865 ...\n",
      " $ Corg.stock.30cm : num  6.29 1.88 5.14 5.26 6.81 ...\n",
      " $ Corg.stock.50cm : num  NA NA 7.43 8.11 NA ...\n",
      " $ Corg.stock.100cm: num  NA NA NA NA NA NA NA NA NA NA ...\n"
     ]
    }
   ],
   "source": [
    "str(south_ocean)"
   ]
  },
  {
   "cell_type": "code",
   "execution_count": 19,
   "id": "7f73bbe0-0ae1-43e3-8c91-c150f3ddaaac",
   "metadata": {},
   "outputs": [
    {
     "name": "stderr",
     "output_type": "stream",
     "text": [
      "\u001b[1m\u001b[22m`summarise()` has grouped output by 'data_type'. You can override using the `.groups` argument.\n"
     ]
    },
    {
     "data": {
      "text/html": [
       "<table class=\"dataframe\">\n",
       "<caption>A grouped_df: 15 × 7</caption>\n",
       "<thead>\n",
       "\t<tr><th scope=col>data_type</th><th scope=col>Country</th><th scope=col>Variable</th><th scope=col>Count</th><th scope=col>prefix</th><th scope=col>var</th><th scope=col>depth</th></tr>\n",
       "\t<tr><th scope=col>&lt;chr&gt;</th><th scope=col>&lt;chr&gt;</th><th scope=col>&lt;chr&gt;</th><th scope=col>&lt;int&gt;</th><th scope=col>&lt;chr&gt;</th><th scope=col>&lt;chr&gt;</th><th scope=col>&lt;fct&gt;</th></tr>\n",
       "</thead>\n",
       "<tbody>\n",
       "\t<tr><td>Measured 30cm                   </td><td>Australia   </td><td>Corg.stock.15cm </td><td>276</td><td>Corg</td><td>stock</td><td>15cm </td></tr>\n",
       "\t<tr><td>Measured 30cm                   </td><td>Australia   </td><td>Corg.stock.30cm </td><td>276</td><td>Corg</td><td>stock</td><td>30cm </td></tr>\n",
       "\t<tr><td>Measured 30cm                   </td><td>Australia   </td><td>Corg.stock.50cm </td><td>128</td><td>Corg</td><td>stock</td><td>50cm </td></tr>\n",
       "\t<tr><td>Measured 30cm                   </td><td>Australia   </td><td>Corg.stock.100cm</td><td>  8</td><td>Corg</td><td>stock</td><td>100cm</td></tr>\n",
       "\t<tr><td>Measured 30cm                   </td><td>Brazil      </td><td>Corg.stock.15cm </td><td> 24</td><td>Corg</td><td>stock</td><td>15cm </td></tr>\n",
       "\t<tr><td>Measured 30cm                   </td><td>Brazil      </td><td>Corg.stock.30cm </td><td> 24</td><td>Corg</td><td>stock</td><td>30cm </td></tr>\n",
       "\t<tr><td>Measured 30cm                   </td><td>Brazil      </td><td>Corg.stock.50cm </td><td> 23</td><td>Corg</td><td>stock</td><td>50cm </td></tr>\n",
       "\t<tr><td>Measured 30cm                   </td><td>Brazil      </td><td>Corg.stock.100cm</td><td>  1</td><td>Corg</td><td>stock</td><td>100cm</td></tr>\n",
       "\t<tr><td>Measured 30cm                   </td><td>South Africa</td><td>Corg.stock.15cm </td><td> 35</td><td>Corg</td><td>stock</td><td>15cm </td></tr>\n",
       "\t<tr><td>Measured 30cm                   </td><td>South Africa</td><td>Corg.stock.30cm </td><td> 35</td><td>Corg</td><td>stock</td><td>30cm </td></tr>\n",
       "\t<tr><td>Measured 30cm                   </td><td>South Africa</td><td>Corg.stock.50cm </td><td> 35</td><td>Corg</td><td>stock</td><td>50cm </td></tr>\n",
       "\t<tr><td>Measured 30cm                   </td><td>South Africa</td><td>Corg.stock.100cm</td><td>  9</td><td>Corg</td><td>stock</td><td>100cm</td></tr>\n",
       "\t<tr><td>Predicted from &gt; 5 &lt; 14 &lt;= 15 cm</td><td><span style=white-space:pre-wrap>Australia   </span></td><td>Corg.stock.15cm </td><td> 35</td><td>Corg</td><td>stock</td><td>15cm </td></tr>\n",
       "\t<tr><td>Predicted from &gt; 5 &lt; 14 &lt;= 15 cm</td><td><span style=white-space:pre-wrap>Brazil      </span></td><td>Corg.stock.15cm </td><td> 10</td><td>Corg</td><td>stock</td><td>15cm </td></tr>\n",
       "\t<tr><td>Predicted from &gt; 5 &lt; 14 &lt;= 15 cm</td><td><span style=white-space:pre-wrap>Chile       </span></td><td>Corg.stock.15cm </td><td><span style=white-space:pre-wrap>  1</span></td><td>Corg</td><td>stock</td><td>15cm </td></tr>\n",
       "</tbody>\n",
       "</table>\n"
      ],
      "text/latex": [
       "A grouped\\_df: 15 × 7\n",
       "\\begin{tabular}{lllllll}\n",
       " data\\_type & Country & Variable & Count & prefix & var & depth\\\\\n",
       " <chr> & <chr> & <chr> & <int> & <chr> & <chr> & <fct>\\\\\n",
       "\\hline\n",
       "\t Measured 30cm                    & Australia    & Corg.stock.15cm  & 276 & Corg & stock & 15cm \\\\\n",
       "\t Measured 30cm                    & Australia    & Corg.stock.30cm  & 276 & Corg & stock & 30cm \\\\\n",
       "\t Measured 30cm                    & Australia    & Corg.stock.50cm  & 128 & Corg & stock & 50cm \\\\\n",
       "\t Measured 30cm                    & Australia    & Corg.stock.100cm &   8 & Corg & stock & 100cm\\\\\n",
       "\t Measured 30cm                    & Brazil       & Corg.stock.15cm  &  24 & Corg & stock & 15cm \\\\\n",
       "\t Measured 30cm                    & Brazil       & Corg.stock.30cm  &  24 & Corg & stock & 30cm \\\\\n",
       "\t Measured 30cm                    & Brazil       & Corg.stock.50cm  &  23 & Corg & stock & 50cm \\\\\n",
       "\t Measured 30cm                    & Brazil       & Corg.stock.100cm &   1 & Corg & stock & 100cm\\\\\n",
       "\t Measured 30cm                    & South Africa & Corg.stock.15cm  &  35 & Corg & stock & 15cm \\\\\n",
       "\t Measured 30cm                    & South Africa & Corg.stock.30cm  &  35 & Corg & stock & 30cm \\\\\n",
       "\t Measured 30cm                    & South Africa & Corg.stock.50cm  &  35 & Corg & stock & 50cm \\\\\n",
       "\t Measured 30cm                    & South Africa & Corg.stock.100cm &   9 & Corg & stock & 100cm\\\\\n",
       "\t Predicted from > 5 < 14 <= 15 cm & Australia    & Corg.stock.15cm  &  35 & Corg & stock & 15cm \\\\\n",
       "\t Predicted from > 5 < 14 <= 15 cm & Brazil       & Corg.stock.15cm  &  10 & Corg & stock & 15cm \\\\\n",
       "\t Predicted from > 5 < 14 <= 15 cm & Chile        & Corg.stock.15cm  &   1 & Corg & stock & 15cm \\\\\n",
       "\\end{tabular}\n"
      ],
      "text/markdown": [
       "\n",
       "A grouped_df: 15 × 7\n",
       "\n",
       "| data_type &lt;chr&gt; | Country &lt;chr&gt; | Variable &lt;chr&gt; | Count &lt;int&gt; | prefix &lt;chr&gt; | var &lt;chr&gt; | depth &lt;fct&gt; |\n",
       "|---|---|---|---|---|---|---|\n",
       "| Measured 30cm                    | Australia    | Corg.stock.15cm  | 276 | Corg | stock | 15cm  |\n",
       "| Measured 30cm                    | Australia    | Corg.stock.30cm  | 276 | Corg | stock | 30cm  |\n",
       "| Measured 30cm                    | Australia    | Corg.stock.50cm  | 128 | Corg | stock | 50cm  |\n",
       "| Measured 30cm                    | Australia    | Corg.stock.100cm |   8 | Corg | stock | 100cm |\n",
       "| Measured 30cm                    | Brazil       | Corg.stock.15cm  |  24 | Corg | stock | 15cm  |\n",
       "| Measured 30cm                    | Brazil       | Corg.stock.30cm  |  24 | Corg | stock | 30cm  |\n",
       "| Measured 30cm                    | Brazil       | Corg.stock.50cm  |  23 | Corg | stock | 50cm  |\n",
       "| Measured 30cm                    | Brazil       | Corg.stock.100cm |   1 | Corg | stock | 100cm |\n",
       "| Measured 30cm                    | South Africa | Corg.stock.15cm  |  35 | Corg | stock | 15cm  |\n",
       "| Measured 30cm                    | South Africa | Corg.stock.30cm  |  35 | Corg | stock | 30cm  |\n",
       "| Measured 30cm                    | South Africa | Corg.stock.50cm  |  35 | Corg | stock | 50cm  |\n",
       "| Measured 30cm                    | South Africa | Corg.stock.100cm |   9 | Corg | stock | 100cm |\n",
       "| Predicted from &gt; 5 &lt; 14 &lt;= 15 cm | Australia    | Corg.stock.15cm  |  35 | Corg | stock | 15cm  |\n",
       "| Predicted from &gt; 5 &lt; 14 &lt;= 15 cm | Brazil       | Corg.stock.15cm  |  10 | Corg | stock | 15cm  |\n",
       "| Predicted from &gt; 5 &lt; 14 &lt;= 15 cm | Chile        | Corg.stock.15cm  |   1 | Corg | stock | 15cm  |\n",
       "\n"
      ],
      "text/plain": [
       "   data_type                        Country      Variable         Count prefix\n",
       "1  Measured 30cm                    Australia    Corg.stock.15cm  276   Corg  \n",
       "2  Measured 30cm                    Australia    Corg.stock.30cm  276   Corg  \n",
       "3  Measured 30cm                    Australia    Corg.stock.50cm  128   Corg  \n",
       "4  Measured 30cm                    Australia    Corg.stock.100cm   8   Corg  \n",
       "5  Measured 30cm                    Brazil       Corg.stock.15cm   24   Corg  \n",
       "6  Measured 30cm                    Brazil       Corg.stock.30cm   24   Corg  \n",
       "7  Measured 30cm                    Brazil       Corg.stock.50cm   23   Corg  \n",
       "8  Measured 30cm                    Brazil       Corg.stock.100cm   1   Corg  \n",
       "9  Measured 30cm                    South Africa Corg.stock.15cm   35   Corg  \n",
       "10 Measured 30cm                    South Africa Corg.stock.30cm   35   Corg  \n",
       "11 Measured 30cm                    South Africa Corg.stock.50cm   35   Corg  \n",
       "12 Measured 30cm                    South Africa Corg.stock.100cm   9   Corg  \n",
       "13 Predicted from > 5 < 14 <= 15 cm Australia    Corg.stock.15cm   35   Corg  \n",
       "14 Predicted from > 5 < 14 <= 15 cm Brazil       Corg.stock.15cm   10   Corg  \n",
       "15 Predicted from > 5 < 14 <= 15 cm Chile        Corg.stock.15cm    1   Corg  \n",
       "   var   depth\n",
       "1  stock 15cm \n",
       "2  stock 30cm \n",
       "3  stock 50cm \n",
       "4  stock 100cm\n",
       "5  stock 15cm \n",
       "6  stock 30cm \n",
       "7  stock 50cm \n",
       "8  stock 100cm\n",
       "9  stock 15cm \n",
       "10 stock 30cm \n",
       "11 stock 50cm \n",
       "12 stock 100cm\n",
       "13 stock 15cm \n",
       "14 stock 15cm \n",
       "15 stock 15cm "
      ]
     },
     "metadata": {},
     "output_type": "display_data"
    }
   ],
   "source": [
    "summary_counts <- group_by(south_ocean, data_type, Country) %>%\n",
    "                  summarise(across(where(is.numeric), ~sum(!is.na(.)), .names = \"{.col}\")) |>\n",
    "                  pivot_longer(cols = -c(Country, data_type), names_to = \"Variable\", values_to = \"Count\") |>\n",
    "                  dplyr::mutate(var = Variable) |>\n",
    "                  tidyr::separate(var, sep = \"[.]\", into = c(\"prefix\",\"var\",\"depth\")) |>\n",
    "                  dplyr::mutate(depth = factor(depth, levels = c(\"15cm\", \"30cm\", \"50cm\", \"100cm\")))\n",
    "\n",
    "summary_counts |>  filter(Count > 0)"
   ]
  },
  {
   "cell_type": "code",
   "execution_count": 20,
   "id": "2be48514-382d-4c49-b484-d3089e9d53f1",
   "metadata": {},
   "outputs": [
    {
     "data": {
      "text/html": [
       "<table class=\"dataframe\">\n",
       "<caption>A tibble: 4 × 2</caption>\n",
       "<thead>\n",
       "\t<tr><th scope=col>Country</th><th scope=col>total</th></tr>\n",
       "\t<tr><th scope=col>&lt;chr&gt;</th><th scope=col>&lt;int&gt;</th></tr>\n",
       "</thead>\n",
       "<tbody>\n",
       "\t<tr><td>Australia   </td><td>723</td></tr>\n",
       "\t<tr><td>Brazil      </td><td> 82</td></tr>\n",
       "\t<tr><td>Chile       </td><td>  1</td></tr>\n",
       "\t<tr><td>South Africa</td><td>114</td></tr>\n",
       "</tbody>\n",
       "</table>\n"
      ],
      "text/latex": [
       "A tibble: 4 × 2\n",
       "\\begin{tabular}{ll}\n",
       " Country & total\\\\\n",
       " <chr> & <int>\\\\\n",
       "\\hline\n",
       "\t Australia    & 723\\\\\n",
       "\t Brazil       &  82\\\\\n",
       "\t Chile        &   1\\\\\n",
       "\t South Africa & 114\\\\\n",
       "\\end{tabular}\n"
      ],
      "text/markdown": [
       "\n",
       "A tibble: 4 × 2\n",
       "\n",
       "| Country &lt;chr&gt; | total &lt;int&gt; |\n",
       "|---|---|\n",
       "| Australia    | 723 |\n",
       "| Brazil       |  82 |\n",
       "| Chile        |   1 |\n",
       "| South Africa | 114 |\n",
       "\n"
      ],
      "text/plain": [
       "  Country      total\n",
       "1 Australia    723  \n",
       "2 Brazil        82  \n",
       "3 Chile          1  \n",
       "4 South Africa 114  "
      ]
     },
     "metadata": {},
     "output_type": "display_data"
    }
   ],
   "source": [
    "summary_counts |>\n",
    "dplyr::group_by(Country) |>\n",
    "summarise(total = sum(Count))"
   ]
  },
  {
   "cell_type": "code",
   "execution_count": 21,
   "id": "2b0d7d8c-7758-4205-91f1-ad4db066e83d",
   "metadata": {},
   "outputs": [
    {
     "name": "stdout",
     "output_type": "stream",
     "text": [
      "c(\"Corg.stock.15cm\", \"Corg.stock.30cm\", \"Corg.stock.50cm\", \"Corg.stock.100cm\"\n",
      ")\n"
     ]
    }
   ],
   "source": [
    "dput(unique(summary_counts$Variable))"
   ]
  },
  {
   "cell_type": "code",
   "execution_count": 22,
   "id": "875665f2-5c97-45c4-af0a-ec9ffe7ae7c5",
   "metadata": {},
   "outputs": [
    {
     "data": {
      "image/png": "[encoded data removed]",
      "text/plain": [
       "plot without title"
      ]
     },
     "metadata": {
      "image/png": {
       "height": 420,
       "width": 420
      }
     },
     "output_type": "display_data"
    }
   ],
   "source": [
    "ggplot(summary_counts, aes(y = Count, x = Country)) +\n",
    "      geom_bar(stat = \"identity\", width = 0.9) +\n",
    "      labs(x = \"Stocks\", y = \"Count\") +\n",
    "      theme_minimal() +\n",
    "      theme_classic(base_size = 22, base_family = \"Helvetica\") +\n",
    "      theme(axis.title = element_text(size = 20, face = \"bold\"),\n",
    "            axis.text = element_text(size = 20, color = \"black\"),\n",
    "            legend.title = element_text(size = 22, face = \"bold\"),\n",
    "            legend.text = element_text(size = 20),\n",
    "            plot.title = element_text(size = 26, face = \"bold\", hjust = 0.5),\n",
    "            axis.ticks.length = unit(-0.3, \"cm\"),\n",
    "            axis.text.x = element_text(margin = margin(t = 12)),\n",
    "            axis.text.y = element_text(margin = margin(r = 12)),\n",
    "            #legend.key.size = unit(1.4, \"cm\"),\n",
    "            legend.position = \"right\",  # Or use c(0.8, 0.85) for in-plot positioning\n",
    "            legend.background = element_blank()) + \n",
    "   ggsci::scale_fill_uchicago() + facet_wrap(~depth, scale = \"free_x\", ncol = 4) + \n",
    "   coord_flip()"
   ]
  },
  {
   "cell_type": "code",
   "execution_count": 23,
   "id": "97b44948-3665-4849-a2cd-c9653ed4daed",
   "metadata": {},
   "outputs": [
    {
     "data": {
      "text/html": [
       "<table class=\"dataframe\">\n",
       "<caption>A data.frame: 10 × 1</caption>\n",
       "<thead>\n",
       "\t<tr><th scope=col>unique.south_ocean.Seagrass.genus.</th></tr>\n",
       "\t<tr><th scope=col>&lt;chr&gt;</th></tr>\n",
       "</thead>\n",
       "<tbody>\n",
       "\t<tr><td>Halophila sp. </td></tr>\n",
       "\t<tr><td>Ruppia sp.    </td></tr>\n",
       "\t<tr><td>Zostera sp.   </td></tr>\n",
       "\t<tr><td>Halodule sp.  </td></tr>\n",
       "\t<tr><td>Cymodocea sp. </td></tr>\n",
       "\t<tr><td>Posidonia sp. </td></tr>\n",
       "\t<tr><td>Amphibolis sp.</td></tr>\n",
       "\t<tr><td>Mixed sp.     </td></tr>\n",
       "\t<tr><td>Not specified </td></tr>\n",
       "\t<tr><td>Althenia sp.  </td></tr>\n",
       "</tbody>\n",
       "</table>\n"
      ],
      "text/latex": [
       "A data.frame: 10 × 1\n",
       "\\begin{tabular}{l}\n",
       " unique.south\\_ocean.Seagrass.genus.\\\\\n",
       " <chr>\\\\\n",
       "\\hline\n",
       "\t Halophila sp. \\\\\n",
       "\t Ruppia sp.    \\\\\n",
       "\t Zostera sp.   \\\\\n",
       "\t Halodule sp.  \\\\\n",
       "\t Cymodocea sp. \\\\\n",
       "\t Posidonia sp. \\\\\n",
       "\t Amphibolis sp.\\\\\n",
       "\t Mixed sp.     \\\\\n",
       "\t Not specified \\\\\n",
       "\t Althenia sp.  \\\\\n",
       "\\end{tabular}\n"
      ],
      "text/markdown": [
       "\n",
       "A data.frame: 10 × 1\n",
       "\n",
       "| unique.south_ocean.Seagrass.genus. &lt;chr&gt; |\n",
       "|---|\n",
       "| Halophila sp.  |\n",
       "| Ruppia sp.     |\n",
       "| Zostera sp.    |\n",
       "| Halodule sp.   |\n",
       "| Cymodocea sp.  |\n",
       "| Posidonia sp.  |\n",
       "| Amphibolis sp. |\n",
       "| Mixed sp.      |\n",
       "| Not specified  |\n",
       "| Althenia sp.   |\n",
       "\n"
      ],
      "text/plain": [
       "   unique.south_ocean.Seagrass.genus.\n",
       "1  Halophila sp.                     \n",
       "2  Ruppia sp.                        \n",
       "3  Zostera sp.                       \n",
       "4  Halodule sp.                      \n",
       "5  Cymodocea sp.                     \n",
       "6  Posidonia sp.                     \n",
       "7  Amphibolis sp.                    \n",
       "8  Mixed sp.                         \n",
       "9  Not specified                     \n",
       "10 Althenia sp.                      "
      ]
     },
     "metadata": {},
     "output_type": "display_data"
    }
   ],
   "source": [
    "data.frame(unique(south_ocean$Seagrass.genus))"
   ]
  },
  {
   "cell_type": "code",
   "execution_count": 248,
   "id": "8673d514-f0fa-453a-bc8b-736b1e5d861f",
   "metadata": {},
   "outputs": [
    {
     "data": {
      "text/html": [
       "<table class=\"dataframe\">\n",
       "<caption>A tibble: 6 × 11</caption>\n",
       "<thead>\n",
       "\t<tr><th scope=col>Country</th><th scope=col>Seagrass.genus</th><th scope=col>Seagrass.species</th><th scope=col>data_type</th><th scope=col>name</th><th scope=col>value</th><th scope=col>log10value</th><th scope=col>prefix</th><th scope=col>var</th><th scope=col>depth</th><th scope=col>Seagrass.genus_mkup</th></tr>\n",
       "\t<tr><th scope=col>&lt;chr&gt;</th><th scope=col>&lt;chr&gt;</th><th scope=col>&lt;chr&gt;</th><th scope=col>&lt;chr&gt;</th><th scope=col>&lt;chr&gt;</th><th scope=col>&lt;dbl&gt;</th><th scope=col>&lt;dbl&gt;</th><th scope=col>&lt;chr&gt;</th><th scope=col>&lt;chr&gt;</th><th scope=col>&lt;fct&gt;</th><th scope=col>&lt;chr&gt;</th></tr>\n",
       "</thead>\n",
       "<tbody>\n",
       "\t<tr><td>Australia</td><td>Halophila sp.</td><td>Halophila sp.</td><td>Measured 30cm</td><td>Corg.stock.15cm </td><td>2.9567740</td><td> 0.47081814</td><td>Corg</td><td>stock</td><td>15cm </td><td>&lt;i&gt;Halophila&lt;/i&gt;sp.</td></tr>\n",
       "\t<tr><td>Australia</td><td>Halophila sp.</td><td>Halophila sp.</td><td>Measured 30cm</td><td>Corg.stock.30cm </td><td>6.2917054</td><td> 0.79876838</td><td>Corg</td><td>stock</td><td>30cm </td><td>&lt;i&gt;Halophila&lt;/i&gt;sp.</td></tr>\n",
       "\t<tr><td>Australia</td><td>Halophila sp.</td><td>Halophila sp.</td><td>Measured 30cm</td><td>Corg.stock.50cm </td><td><span style=white-space:pre-wrap>       NA</span></td><td><span style=white-space:pre-wrap>         NA</span></td><td>Corg</td><td>stock</td><td>50cm </td><td>&lt;i&gt;Halophila&lt;/i&gt;sp.</td></tr>\n",
       "\t<tr><td>Australia</td><td>Halophila sp.</td><td>Halophila sp.</td><td>Measured 30cm</td><td>Corg.stock.100cm</td><td><span style=white-space:pre-wrap>       NA</span></td><td><span style=white-space:pre-wrap>         NA</span></td><td>Corg</td><td>stock</td><td>100cm</td><td>&lt;i&gt;Halophila&lt;/i&gt;sp.</td></tr>\n",
       "\t<tr><td>Australia</td><td>Halophila sp.</td><td>Halophila sp.</td><td>Measured 30cm</td><td>Corg.stock.15cm </td><td>0.8673796</td><td>-0.06179082</td><td>Corg</td><td>stock</td><td>15cm </td><td>&lt;i&gt;Halophila&lt;/i&gt;sp.</td></tr>\n",
       "\t<tr><td>Australia</td><td>Halophila sp.</td><td>Halophila sp.</td><td>Measured 30cm</td><td>Corg.stock.30cm </td><td>1.8796240</td><td> 0.27407097</td><td>Corg</td><td>stock</td><td>30cm </td><td>&lt;i&gt;Halophila&lt;/i&gt;sp.</td></tr>\n",
       "</tbody>\n",
       "</table>\n"
      ],
      "text/latex": [
       "A tibble: 6 × 11\n",
       "\\begin{tabular}{lllllllllll}\n",
       " Country & Seagrass.genus & Seagrass.species & data\\_type & name & value & log10value & prefix & var & depth & Seagrass.genus\\_mkup\\\\\n",
       " <chr> & <chr> & <chr> & <chr> & <chr> & <dbl> & <dbl> & <chr> & <chr> & <fct> & <chr>\\\\\n",
       "\\hline\n",
       "\t Australia & Halophila sp. & Halophila sp. & Measured 30cm & Corg.stock.15cm  & 2.9567740 &  0.47081814 & Corg & stock & 15cm  & <i>Halophila</i>sp.\\\\\n",
       "\t Australia & Halophila sp. & Halophila sp. & Measured 30cm & Corg.stock.30cm  & 6.2917054 &  0.79876838 & Corg & stock & 30cm  & <i>Halophila</i>sp.\\\\\n",
       "\t Australia & Halophila sp. & Halophila sp. & Measured 30cm & Corg.stock.50cm  &        NA &          NA & Corg & stock & 50cm  & <i>Halophila</i>sp.\\\\\n",
       "\t Australia & Halophila sp. & Halophila sp. & Measured 30cm & Corg.stock.100cm &        NA &          NA & Corg & stock & 100cm & <i>Halophila</i>sp.\\\\\n",
       "\t Australia & Halophila sp. & Halophila sp. & Measured 30cm & Corg.stock.15cm  & 0.8673796 & -0.06179082 & Corg & stock & 15cm  & <i>Halophila</i>sp.\\\\\n",
       "\t Australia & Halophila sp. & Halophila sp. & Measured 30cm & Corg.stock.30cm  & 1.8796240 &  0.27407097 & Corg & stock & 30cm  & <i>Halophila</i>sp.\\\\\n",
       "\\end{tabular}\n"
      ],
      "text/markdown": [
       "\n",
       "A tibble: 6 × 11\n",
       "\n",
       "| Country &lt;chr&gt; | Seagrass.genus &lt;chr&gt; | Seagrass.species &lt;chr&gt; | data_type &lt;chr&gt; | name &lt;chr&gt; | value &lt;dbl&gt; | log10value &lt;dbl&gt; | prefix &lt;chr&gt; | var &lt;chr&gt; | depth &lt;fct&gt; | Seagrass.genus_mkup &lt;chr&gt; |\n",
       "|---|---|---|---|---|---|---|---|---|---|---|\n",
       "| Australia | Halophila sp. | Halophila sp. | Measured 30cm | Corg.stock.15cm  | 2.9567740 |  0.47081814 | Corg | stock | 15cm  | &lt;i&gt;Halophila&lt;/i&gt;sp. |\n",
       "| Australia | Halophila sp. | Halophila sp. | Measured 30cm | Corg.stock.30cm  | 6.2917054 |  0.79876838 | Corg | stock | 30cm  | &lt;i&gt;Halophila&lt;/i&gt;sp. |\n",
       "| Australia | Halophila sp. | Halophila sp. | Measured 30cm | Corg.stock.50cm  |        NA |          NA | Corg | stock | 50cm  | &lt;i&gt;Halophila&lt;/i&gt;sp. |\n",
       "| Australia | Halophila sp. | Halophila sp. | Measured 30cm | Corg.stock.100cm |        NA |          NA | Corg | stock | 100cm | &lt;i&gt;Halophila&lt;/i&gt;sp. |\n",
       "| Australia | Halophila sp. | Halophila sp. | Measured 30cm | Corg.stock.15cm  | 0.8673796 | -0.06179082 | Corg | stock | 15cm  | &lt;i&gt;Halophila&lt;/i&gt;sp. |\n",
       "| Australia | Halophila sp. | Halophila sp. | Measured 30cm | Corg.stock.30cm  | 1.8796240 |  0.27407097 | Corg | stock | 30cm  | &lt;i&gt;Halophila&lt;/i&gt;sp. |\n",
       "\n"
      ],
      "text/plain": [
       "  Country   Seagrass.genus Seagrass.species data_type     name            \n",
       "1 Australia Halophila sp.  Halophila sp.    Measured 30cm Corg.stock.15cm \n",
       "2 Australia Halophila sp.  Halophila sp.    Measured 30cm Corg.stock.30cm \n",
       "3 Australia Halophila sp.  Halophila sp.    Measured 30cm Corg.stock.50cm \n",
       "4 Australia Halophila sp.  Halophila sp.    Measured 30cm Corg.stock.100cm\n",
       "5 Australia Halophila sp.  Halophila sp.    Measured 30cm Corg.stock.15cm \n",
       "6 Australia Halophila sp.  Halophila sp.    Measured 30cm Corg.stock.30cm \n",
       "  value     log10value  prefix var   depth Seagrass.genus_mkup\n",
       "1 2.9567740  0.47081814 Corg   stock 15cm  <i>Halophila</i>sp.\n",
       "2 6.2917054  0.79876838 Corg   stock 30cm  <i>Halophila</i>sp.\n",
       "3        NA          NA Corg   stock 50cm  <i>Halophila</i>sp.\n",
       "4        NA          NA Corg   stock 100cm <i>Halophila</i>sp.\n",
       "5 0.8673796 -0.06179082 Corg   stock 15cm  <i>Halophila</i>sp.\n",
       "6 1.8796240  0.27407097 Corg   stock 30cm  <i>Halophila</i>sp."
      ]
     },
     "metadata": {},
     "output_type": "display_data"
    }
   ],
   "source": [
    "(melt_south_ocean <- pivot_longer(cols = where(is.numeric), south_ocean) |>\n",
    "                     dplyr::mutate(log10value = log10(value)) |>\n",
    "                     plyr::mutate(var = name) |>\n",
    "                     tidyr::separate(var, sep = \"[.]\", into = c(\"prefix\",\"var\",\"depth\")) |>\n",
    "                     dplyr::mutate(depth = factor(depth, levels = c(\"15cm\", \"30cm\", \"50cm\", \"100cm\"))) |>\n",
    "                     dplyr::mutate(Seagrass.genus_mkup = str_replace(Seagrass.genus, \" sp.\",\"</i>sp.\")) |>\n",
    "                     dplyr::mutate(Seagrass.genus_mkup = paste0(\"<i>\", Seagrass.genus_mkup)) |>\n",
    "                     dplyr::mutate(Seagrass.genus_mkup = case_when(Seagrass.genus_mkup == '<i>Mixed</i> sp.' ~ 'Mixed sp.',\n",
    "                                   Seagrass.genus_mkup == '<i>Not</i> specified' ~ 'Not specified',\n",
    "                                   TRUE ~ Seagrass.genus_mkup))\n",
    ") |>  head()"
   ]
  },
  {
   "cell_type": "code",
   "execution_count": 252,
   "id": "9dd94261-79a4-46f6-8285-f2b80eeb37dd",
   "metadata": {},
   "outputs": [
    {
     "data": {
      "text/html": [
       "<style>\n",
       ".list-inline {list-style: none; margin:0; padding: 0}\n",
       ".list-inline>li {display: inline-block}\n",
       ".list-inline>li:not(:last-child)::after {content: \"\\00b7\"; padding: 0 .5ex}\n",
       "</style>\n",
       "<ol class=list-inline><li>'&lt;i&gt;Halophila&lt;/i&gt;sp.'</li><li>'&lt;i&gt;Ruppia&lt;/i&gt;sp.'</li><li>'&lt;i&gt;Zostera&lt;/i&gt;sp.'</li><li>'&lt;i&gt;Halodule&lt;/i&gt;sp.'</li><li>'&lt;i&gt;Cymodocea&lt;/i&gt;sp.'</li><li>'&lt;i&gt;Posidonia&lt;/i&gt;sp.'</li><li>'&lt;i&gt;Amphibolis&lt;/i&gt;sp.'</li><li>'&lt;i&gt;Mixed&lt;/i&gt;sp.'</li><li>'&lt;i&gt;Not&lt;/i&gt;sp.cified'</li><li>'&lt;i&gt;Althenia&lt;/i&gt;sp.'</li></ol>\n"
      ],
      "text/latex": [
       "\\begin{enumerate*}\n",
       "\\item '<i>Halophila</i>sp.'\n",
       "\\item '<i>Ruppia</i>sp.'\n",
       "\\item '<i>Zostera</i>sp.'\n",
       "\\item '<i>Halodule</i>sp.'\n",
       "\\item '<i>Cymodocea</i>sp.'\n",
       "\\item '<i>Posidonia</i>sp.'\n",
       "\\item '<i>Amphibolis</i>sp.'\n",
       "\\item '<i>Mixed</i>sp.'\n",
       "\\item '<i>Not</i>sp.cified'\n",
       "\\item '<i>Althenia</i>sp.'\n",
       "\\end{enumerate*}\n"
      ],
      "text/markdown": [
       "1. '&lt;i&gt;Halophila&lt;/i&gt;sp.'\n",
       "2. '&lt;i&gt;Ruppia&lt;/i&gt;sp.'\n",
       "3. '&lt;i&gt;Zostera&lt;/i&gt;sp.'\n",
       "4. '&lt;i&gt;Halodule&lt;/i&gt;sp.'\n",
       "5. '&lt;i&gt;Cymodocea&lt;/i&gt;sp.'\n",
       "6. '&lt;i&gt;Posidonia&lt;/i&gt;sp.'\n",
       "7. '&lt;i&gt;Amphibolis&lt;/i&gt;sp.'\n",
       "8. '&lt;i&gt;Mixed&lt;/i&gt;sp.'\n",
       "9. '&lt;i&gt;Not&lt;/i&gt;sp.cified'\n",
       "10. '&lt;i&gt;Althenia&lt;/i&gt;sp.'\n",
       "\n",
       "\n"
      ],
      "text/plain": [
       " [1] \"<i>Halophila</i>sp.\"  \"<i>Ruppia</i>sp.\"     \"<i>Zostera</i>sp.\"   \n",
       " [4] \"<i>Halodule</i>sp.\"   \"<i>Cymodocea</i>sp.\"  \"<i>Posidonia</i>sp.\" \n",
       " [7] \"<i>Amphibolis</i>sp.\" \"<i>Mixed</i>sp.\"      \"<i>Not</i>sp.cified\" \n",
       "[10] \"<i>Althenia</i>sp.\"  "
      ]
     },
     "metadata": {},
     "output_type": "display_data"
    }
   ],
   "source": [
    "unique(melt_south_ocean$Seagrass.genus_mkup)"
   ]
  },
  {
   "cell_type": "code",
   "execution_count": 244,
   "id": "03579be2-7063-4ff0-a806-7bf3dee6aa13",
   "metadata": {},
   "outputs": [
    {
     "data": {
      "text/html": [
       "'&lt;i&gt;Mixed&lt;/i&gt;sp.'"
      ],
      "text/latex": [
       "'<i>Mixed</i>sp.'"
      ],
      "text/markdown": [
       "'&lt;i&gt;Mixed&lt;/i&gt;sp.'"
      ],
      "text/plain": [
       "[1] \"<i>Mixed</i>sp.\""
      ]
     },
     "metadata": {},
     "output_type": "display_data"
    }
   ],
   "source": [
    "c('<i>Mixed</i>sp.','<i>Not</i>sp.cified')"
   ]
  },
  {
   "cell_type": "code",
   "execution_count": 249,
   "id": "93a2f2f3-7e77-4078-b6a3-4dbfe0b994bd",
   "metadata": {},
   "outputs": [
    {
     "name": "stderr",
     "output_type": "stream",
     "text": [
      "Warning message:\n",
      "“\u001b[1m\u001b[22mThere were 3 warnings in `dplyr::summarise()`.\n",
      "The first warning was:\n",
      "\u001b[1m\u001b[22m\u001b[36mℹ\u001b[39m In argument: `y = max(value, na.rm = TRUE)`.\n",
      "\u001b[36mℹ\u001b[39m In group 10: `Country = \"Chile\"` `depth = 30cm`.\n",
      "Caused by warning in `max()`:\n",
      "\u001b[33m!\u001b[39m no non-missing arguments to max; returning -Inf\n",
      "\u001b[1m\u001b[22m\u001b[36mℹ\u001b[39m Run `dplyr::last_dplyr_warnings()` to see the 2 remaining warnings.”\n",
      "\u001b[1m\u001b[22m`summarise()` has grouped output by 'Country'. You can override using the `.groups` argument.\n"
     ]
    }
   ],
   "source": [
    "Country_count <-  dplyr::group_by(melt_south_ocean, Country, depth) |>\n",
    "                  dplyr::summarise(count = sum(!is.na(value)), y = max(value, na.rm = TRUE)) |>\n",
    "                  dplyr::ungroup() |>\n",
    "                  dplyr::mutate(y_max = y*2) |>\n",
    "                  dplyr::filter(count != 0)"
   ]
  },
  {
   "cell_type": "code",
   "execution_count": 250,
   "id": "6f33aeb1-3905-4128-931f-b6d106399fb8",
   "metadata": {},
   "outputs": [
    {
     "data": {
      "text/html": [
       "<table class=\"dataframe\">\n",
       "<caption>A tibble: 6 × 5</caption>\n",
       "<thead>\n",
       "\t<tr><th scope=col>Country</th><th scope=col>depth</th><th scope=col>count</th><th scope=col>y</th><th scope=col>y_max</th></tr>\n",
       "\t<tr><th scope=col>&lt;chr&gt;</th><th scope=col>&lt;fct&gt;</th><th scope=col>&lt;int&gt;</th><th scope=col>&lt;dbl&gt;</th><th scope=col>&lt;dbl&gt;</th></tr>\n",
       "</thead>\n",
       "<tbody>\n",
       "\t<tr><td>Australia</td><td>15cm </td><td>311</td><td>142.40020</td><td>284.80041</td></tr>\n",
       "\t<tr><td>Australia</td><td>30cm </td><td>276</td><td>145.66345</td><td>291.32689</td></tr>\n",
       "\t<tr><td>Australia</td><td>50cm </td><td>128</td><td>173.37688</td><td>346.75376</td></tr>\n",
       "\t<tr><td>Australia</td><td>100cm</td><td>  8</td><td>291.46000</td><td>582.92000</td></tr>\n",
       "\t<tr><td>Brazil   </td><td>15cm </td><td> 34</td><td> 75.74620</td><td>151.49240</td></tr>\n",
       "\t<tr><td>Brazil   </td><td>30cm </td><td> 24</td><td> 37.63455</td><td> 75.26911</td></tr>\n",
       "</tbody>\n",
       "</table>\n"
      ],
      "text/latex": [
       "A tibble: 6 × 5\n",
       "\\begin{tabular}{lllll}\n",
       " Country & depth & count & y & y\\_max\\\\\n",
       " <chr> & <fct> & <int> & <dbl> & <dbl>\\\\\n",
       "\\hline\n",
       "\t Australia & 15cm  & 311 & 142.40020 & 284.80041\\\\\n",
       "\t Australia & 30cm  & 276 & 145.66345 & 291.32689\\\\\n",
       "\t Australia & 50cm  & 128 & 173.37688 & 346.75376\\\\\n",
       "\t Australia & 100cm &   8 & 291.46000 & 582.92000\\\\\n",
       "\t Brazil    & 15cm  &  34 &  75.74620 & 151.49240\\\\\n",
       "\t Brazil    & 30cm  &  24 &  37.63455 &  75.26911\\\\\n",
       "\\end{tabular}\n"
      ],
      "text/markdown": [
       "\n",
       "A tibble: 6 × 5\n",
       "\n",
       "| Country &lt;chr&gt; | depth &lt;fct&gt; | count &lt;int&gt; | y &lt;dbl&gt; | y_max &lt;dbl&gt; |\n",
       "|---|---|---|---|---|\n",
       "| Australia | 15cm  | 311 | 142.40020 | 284.80041 |\n",
       "| Australia | 30cm  | 276 | 145.66345 | 291.32689 |\n",
       "| Australia | 50cm  | 128 | 173.37688 | 346.75376 |\n",
       "| Australia | 100cm |   8 | 291.46000 | 582.92000 |\n",
       "| Brazil    | 15cm  |  34 |  75.74620 | 151.49240 |\n",
       "| Brazil    | 30cm  |  24 |  37.63455 |  75.26911 |\n",
       "\n"
      ],
      "text/plain": [
       "  Country   depth count y         y_max    \n",
       "1 Australia 15cm  311   142.40020 284.80041\n",
       "2 Australia 30cm  276   145.66345 291.32689\n",
       "3 Australia 50cm  128   173.37688 346.75376\n",
       "4 Australia 100cm   8   291.46000 582.92000\n",
       "5 Brazil    15cm   34    75.74620 151.49240\n",
       "6 Brazil    30cm   24    37.63455  75.26911"
      ]
     },
     "metadata": {},
     "output_type": "display_data"
    }
   ],
   "source": [
    "head(Country_count)"
   ]
  },
  {
   "cell_type": "code",
   "execution_count": 260,
   "id": "cdf2b2ed-be7b-4371-b0fb-ac51ce1bf220",
   "metadata": {},
   "outputs": [
    {
     "name": "stderr",
     "output_type": "stream",
     "text": [
      "Warning message:\n",
      "“\u001b[1m\u001b[22mRemoved 1140 rows containing non-finite outside the scale range (`stat_boxplot()`).”\n",
      "Warning message:\n",
      "“\u001b[1m\u001b[22mRemoved 1140 rows containing non-finite outside the scale range (`stat_summary()`).”\n",
      "Warning message:\n",
      "“\u001b[1m\u001b[22mRemoved 1140 rows containing missing values or values outside the scale range (`geom_point()`).”\n"
     ]
    },
    {
     "data": {
      "image/png": "[encoded data removed]",
      "text/plain": [
       "plot without title"
      ]
     },
     "metadata": {
      "image/png": {
       "height": 420,
       "width": 420
      }
     },
     "output_type": "display_data"
    }
   ],
   "source": [
    "genus <-  ggplot(melt_south_ocean, aes(x = Country, y = value)) +\n",
    "          geom_jitter(aes(colour = Seagrass.genus_mkup), width = 0.2, size = 1, alpha = 0.75) +\n",
    "          geom_boxplot(outlier.shape = NA, fill=NA, linewidth = 0.5,  width = 0.9) +\n",
    "          scale_y_continuous(trans = \"log10\", label = scales::number) +\n",
    "          geom_text(data = Country_count, aes(x = Country, y = y_max, label = count), colour = \"#525252\") +\n",
    "          stat_summary(fun = mean, geom = \"point\", \n",
    "                       shape = 23, size = 3.5, fill = \"red\", color = \"black\") +\n",
    "                       ggsci::scale_color_observable(name = \"Seagrass genus\") + facet_wrap(~depth, ncol = 2) +\n",
    "                       theme_bw() +\n",
    "                       theme(legend.text = ggtext::element_markdown())\n",
    "genus"
   ]
  },
  {
   "cell_type": "code",
   "execution_count": null,
   "id": "8e88fcee-d258-450c-a080-38352184c773",
   "metadata": {},
   "outputs": [],
   "source": []
  }
 ],
 "metadata": {
  "kernelspec": {
   "display_name": "R",
   "language": "R",
   "name": "ir"
  },
  "language_info": {
   "codemirror_mode": "r",
   "file_extension": ".r",
   "mimetype": "text/x-r-source",
   "name": "R",
   "pygments_lexer": "r",
   "version": "4.4.3"
  }
 },
 "nbformat": 4,
 "nbformat_minor": 5
}
